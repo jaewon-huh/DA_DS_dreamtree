{
  "nbformat": 4,
  "nbformat_minor": 0,
  "metadata": {
    "colab": {
      "name": "Numpy 기초 연습 ",
      "provenance": [],
      "collapsed_sections": [],
      "authorship_tag": "ABX9TyO3xIWwra6FJiWQ33hkEiiZ",
      "include_colab_link": true
    },
    "kernelspec": {
      "name": "python3",
      "display_name": "Python 3"
    },
    "language_info": {
      "name": "python"
    }
  },
  "cells": [
    {
      "cell_type": "markdown",
      "metadata": {
        "id": "view-in-github",
        "colab_type": "text"
      },
      "source": [
        "<a href=\"https://colab.research.google.com/github/jaewon-huh/DA_DS_dreamtree/blob/main/Numpy_%EA%B8%B0%EC%B4%88.ipynb\" target=\"_parent\"><img src=\"https://colab.research.google.com/assets/colab-badge.svg\" alt=\"Open In Colab\"/></a>"
      ]
    },
    {
      "cell_type": "markdown",
      "source": [
        "## ※ 참고교재  : 파이썬 라이브러리를 활용한 데이터 분석 "
      ],
      "metadata": {
        "id": "ClICG1kHkYvj"
      }
    },
    {
      "cell_type": "markdown",
      "source": [
        "# Numpy"
      ],
      "metadata": {
        "id": "k1_VakepGlRZ"
      }
    },
    {
      "cell_type": "markdown",
      "source": [
        "numpy는 대용량 데이터 배열을 효율적으로 다룰수 있다 . "
      ],
      "metadata": {
        "id": "OYG4tD9UG0nW"
      }
    },
    {
      "cell_type": "code",
      "source": [
        "import numpy as np\n",
        "my_arr = np.arange(1000000)\n",
        "my_list =list(range(1000000))"
      ],
      "metadata": {
        "id": "jqWSwbq4HAPP"
      },
      "execution_count": 2,
      "outputs": []
    },
    {
      "cell_type": "code",
      "source": [
        "%time for _ in range(10) : my_arr2 = my_arr *2 \n",
        "%time for _ in range(10) : my_list2 = [x *2 for x in my_list]"
      ],
      "metadata": {
        "colab": {
          "base_uri": "https://localhost:8080/"
        },
        "id": "E2uZcQsNHJsw",
        "outputId": "81bfaa44-63f0-4f99-b3a2-9d896d440cea"
      },
      "execution_count": null,
      "outputs": [
        {
          "output_type": "stream",
          "name": "stdout",
          "text": [
            "CPU times: user 15.4 ms, sys: 966 µs, total: 16.4 ms\n",
            "Wall time: 19 ms\n",
            "CPU times: user 722 ms, sys: 170 ms, total: 892 ms\n",
            "Wall time: 897 ms\n"
          ]
        }
      ]
    },
    {
      "cell_type": "markdown",
      "source": [
        "### 1. ndarray : 다차원 배열 객체\n"
      ],
      "metadata": {
        "id": "Enemn1QbHcIt"
      }
    },
    {
      "cell_type": "markdown",
      "source": [
        "np.random.randn(tuple)  : 표준정규분포 따르는 배열 ,행렬 생성 "
      ],
      "metadata": {
        "id": "qNc5XMwur8bJ"
      }
    },
    {
      "cell_type": "code",
      "source": [
        "import numpy as np \n",
        "data = np.random.randn(2,3)    # 2행 3열 \n",
        "data"
      ],
      "metadata": {
        "colab": {
          "base_uri": "https://localhost:8080/"
        },
        "id": "F5UCLjp5HwQq",
        "outputId": "c84f03ec-a05c-46a5-90fc-8f7f7ca2b7c8"
      },
      "execution_count": null,
      "outputs": [
        {
          "output_type": "execute_result",
          "data": {
            "text/plain": [
              "array([[ 0.53810462,  0.10900383, -0.70458048],\n",
              "       [ 0.06906274,  0.27126223, -0.56315269]])"
            ]
          },
          "metadata": {},
          "execution_count": 7
        }
      ]
    },
    {
      "cell_type": "code",
      "source": [
        "# 산술연산\n",
        "data *10"
      ],
      "metadata": {
        "colab": {
          "base_uri": "https://localhost:8080/"
        },
        "id": "786TnYCYH4Cg",
        "outputId": "33e81efe-f979-4bec-861c-d1eecaea9cdf"
      },
      "execution_count": null,
      "outputs": [
        {
          "output_type": "execute_result",
          "data": {
            "text/plain": [
              "array([[ 5.3810462 ,  1.09003825, -7.0458048 ],\n",
              "       [ 0.69062737,  2.71262227, -5.63152685]])"
            ]
          },
          "metadata": {},
          "execution_count": 8
        }
      ]
    },
    {
      "cell_type": "code",
      "source": [
        "data + data"
      ],
      "metadata": {
        "colab": {
          "base_uri": "https://localhost:8080/"
        },
        "id": "cti2J53BH_e7",
        "outputId": "6c7295de-3725-42fe-b752-5a1a451253a6"
      },
      "execution_count": null,
      "outputs": [
        {
          "output_type": "execute_result",
          "data": {
            "text/plain": [
              "array([[ 1.07620924,  0.21800765, -1.40916096],\n",
              "       [ 0.13812547,  0.54252445, -1.12630537]])"
            ]
          },
          "metadata": {},
          "execution_count": 9
        }
      ]
    },
    {
      "cell_type": "markdown",
      "source": [
        ": ndarray의 몯든 원소는 같은 자료형이어야 한다."
      ],
      "metadata": {
        "id": "I24lvyC9IAxM"
      }
    },
    {
      "cell_type": "code",
      "source": [
        "# shape 라는 튜플과 dtype이라는 객체를 가지고 있다 .\n",
        "data.shape"
      ],
      "metadata": {
        "colab": {
          "base_uri": "https://localhost:8080/"
        },
        "id": "V1TNe3A3IMAt",
        "outputId": "cd285968-ec50-4d24-a173-c672bcf00ad2"
      },
      "execution_count": null,
      "outputs": [
        {
          "output_type": "execute_result",
          "data": {
            "text/plain": [
              "(2, 3)"
            ]
          },
          "metadata": {},
          "execution_count": 11
        }
      ]
    },
    {
      "cell_type": "code",
      "source": [
        "data.dtype  # 자료형을 반환 "
      ],
      "metadata": {
        "colab": {
          "base_uri": "https://localhost:8080/"
        },
        "id": "kvWGIO7sIb8c",
        "outputId": "3ace6af2-6225-4d99-e5c3-918ed4a253b2"
      },
      "execution_count": null,
      "outputs": [
        {
          "output_type": "execute_result",
          "data": {
            "text/plain": [
              "dtype('float64')"
            ]
          },
          "metadata": {},
          "execution_count": 13
        }
      ]
    },
    {
      "cell_type": "markdown",
      "source": [
        "#### 1.1. ndarray 생성"
      ],
      "metadata": {
        "id": "-no8OxklIewF"
      }
    },
    {
      "cell_type": "code",
      "source": [
        "# array(iter 객체 ) 함수  \n",
        "data1 = [6 ,7.5 ,8, 0 ,1]\n",
        "arr1 = np.array(data1)\n",
        "arr1"
      ],
      "metadata": {
        "colab": {
          "base_uri": "https://localhost:8080/"
        },
        "id": "hC_YNO_jIsBZ",
        "outputId": "570efc6e-3dc0-4528-cb45-829ec435c3e9"
      },
      "execution_count": null,
      "outputs": [
        {
          "output_type": "execute_result",
          "data": {
            "text/plain": [
              "array([6. , 7.5, 8. , 0. , 1. ])"
            ]
          },
          "metadata": {},
          "execution_count": 16
        }
      ]
    },
    {
      "cell_type": "markdown",
      "source": [
        "같은 길이를 가지는 리스트를 내포하고 있는 순차데이터는 다차원 배열로 변환"
      ],
      "metadata": {
        "id": "36hGK3PwI9lk"
      }
    },
    {
      "cell_type": "code",
      "source": [
        "data2 = [[1,2,3,4] , [ 5,6,7,8]]\n",
        "arr2 = np.array(data2)\n",
        "arr2"
      ],
      "metadata": {
        "colab": {
          "base_uri": "https://localhost:8080/"
        },
        "id": "0Mltp6tVJJqP",
        "outputId": "fbf835e6-c5f5-4674-db7f-b66624966537"
      },
      "execution_count": null,
      "outputs": [
        {
          "output_type": "execute_result",
          "data": {
            "text/plain": [
              "array([[1, 2, 3, 4],\n",
              "       [5, 6, 7, 8]])"
            ]
          },
          "metadata": {},
          "execution_count": 18
        }
      ]
    },
    {
      "cell_type": "code",
      "source": [
        "arr2.ndim , arr2.shape"
      ],
      "metadata": {
        "colab": {
          "base_uri": "https://localhost:8080/"
        },
        "id": "Q8YSTdkKJuXj",
        "outputId": "a3f27993-f99d-4a76-a1d0-879d65be0222"
      },
      "execution_count": null,
      "outputs": [
        {
          "output_type": "execute_result",
          "data": {
            "text/plain": [
              "(2, (2, 4))"
            ]
          },
          "metadata": {},
          "execution_count": 21
        }
      ]
    },
    {
      "cell_type": "code",
      "source": [
        "# zeros() , ones() 함수 \n",
        "np.zeros(10)"
      ],
      "metadata": {
        "colab": {
          "base_uri": "https://localhost:8080/"
        },
        "id": "PGj18FuRJxWQ",
        "outputId": "e2221cdb-0ef8-47e8-de8d-a50ab6fd2517"
      },
      "execution_count": null,
      "outputs": [
        {
          "output_type": "execute_result",
          "data": {
            "text/plain": [
              "array([0., 0., 0., 0., 0., 0., 0., 0., 0., 0.])"
            ]
          },
          "metadata": {},
          "execution_count": 22
        }
      ]
    },
    {
      "cell_type": "code",
      "source": [
        "np.ones(10)"
      ],
      "metadata": {
        "colab": {
          "base_uri": "https://localhost:8080/"
        },
        "id": "-BPL8weaKBin",
        "outputId": "9d9e54b1-52e1-456a-bba8-fe62cb7612ca"
      },
      "execution_count": null,
      "outputs": [
        {
          "output_type": "execute_result",
          "data": {
            "text/plain": [
              "array([1., 1., 1., 1., 1., 1., 1., 1., 1., 1.])"
            ]
          },
          "metadata": {},
          "execution_count": 23
        }
      ]
    },
    {
      "cell_type": "code",
      "source": [
        "# 다차원 배열 생성 : 튜플입력\n",
        "np.zeros((3,6))  # 3행 6열 "
      ],
      "metadata": {
        "colab": {
          "base_uri": "https://localhost:8080/"
        },
        "id": "c27Uai8kKDwh",
        "outputId": "11febe8e-e598-4af4-9ca8-a3a90398541f"
      },
      "execution_count": null,
      "outputs": [
        {
          "output_type": "execute_result",
          "data": {
            "text/plain": [
              "array([[0., 0., 0., 0., 0., 0.],\n",
              "       [0., 0., 0., 0., 0., 0.],\n",
              "       [0., 0., 0., 0., 0., 0.]])"
            ]
          },
          "metadata": {},
          "execution_count": 25
        }
      ]
    },
    {
      "cell_type": "markdown",
      "source": [
        "np.arange : 파이썬 range함수의 배열 버전   \n",
        " = range(15)"
      ],
      "metadata": {
        "id": "FMbXw93lKImR"
      }
    },
    {
      "cell_type": "code",
      "source": [
        "np.arange(15)"
      ],
      "metadata": {
        "colab": {
          "base_uri": "https://localhost:8080/"
        },
        "id": "4250PQ0LKcoI",
        "outputId": "3e6371e4-8604-43a1-b834-3bd8f0936de1"
      },
      "execution_count": null,
      "outputs": [
        {
          "output_type": "execute_result",
          "data": {
            "text/plain": [
              "array([ 0,  1,  2,  3,  4,  5,  6,  7,  8,  9, 10, 11, 12, 13, 14])"
            ]
          },
          "metadata": {},
          "execution_count": 26
        }
      ]
    },
    {
      "cell_type": "markdown",
      "source": [
        "#### 1.2 ndarray의 dtype"
      ],
      "metadata": {
        "id": "RBgrxRIWKe7w"
      }
    },
    {
      "cell_type": "markdown",
      "source": [
        ": dtype은 ndarray가 메모리에 있는 특정 데이터를 해석하기 위해 필요한 정보를 담고 있는 특수한 객체임"
      ],
      "metadata": {
        "id": "lWGstkncKmBq"
      }
    },
    {
      "cell_type": "code",
      "source": [
        "arr1 = np.array([1,2,3], dtype = np.float64)  # 실수형\n",
        "arr2 = np.array([1,2,3], dtype = np.int32)  # 정수형\n",
        "arr3 = np.array([1,2,3], dtype = np.string_) # 문자형"
      ],
      "metadata": {
        "id": "mc5xGTY6LA3H"
      },
      "execution_count": null,
      "outputs": []
    },
    {
      "cell_type": "code",
      "source": [
        "arr1.dtype"
      ],
      "metadata": {
        "colab": {
          "base_uri": "https://localhost:8080/"
        },
        "id": "WGL8tay9LIB2",
        "outputId": "c0223446-77e6-497c-8493-953a2f8001fa"
      },
      "execution_count": null,
      "outputs": [
        {
          "output_type": "execute_result",
          "data": {
            "text/plain": [
              "dtype('float64')"
            ]
          },
          "metadata": {},
          "execution_count": 48
        }
      ]
    },
    {
      "cell_type": "code",
      "source": [
        "arr2.dtype"
      ],
      "metadata": {
        "colab": {
          "base_uri": "https://localhost:8080/"
        },
        "id": "-nuGNEqCLOOW",
        "outputId": "420dfa9e-68d7-4b94-aebc-cdf233ab3a77"
      },
      "execution_count": null,
      "outputs": [
        {
          "output_type": "execute_result",
          "data": {
            "text/plain": [
              "dtype('int32')"
            ]
          },
          "metadata": {},
          "execution_count": 49
        }
      ]
    },
    {
      "cell_type": "code",
      "source": [
        "arr3"
      ],
      "metadata": {
        "colab": {
          "base_uri": "https://localhost:8080/"
        },
        "id": "MvTKMYMhLPIV",
        "outputId": "2e4efcf2-1cce-4160-8e26-e789913c26cc"
      },
      "execution_count": null,
      "outputs": [
        {
          "output_type": "execute_result",
          "data": {
            "text/plain": [
              "array([b'1', b'2', b'3'], dtype='|S1')"
            ]
          },
          "metadata": {},
          "execution_count": 50
        }
      ]
    },
    {
      "cell_type": "code",
      "source": [
        "# astype 메서드로 자료형 변경 \n",
        "float_arr = arr2.astype(np.float64)\n",
        "float_arr.dtype"
      ],
      "metadata": {
        "colab": {
          "base_uri": "https://localhost:8080/"
        },
        "id": "ZRXUawYOLf64",
        "outputId": "a66201a1-c828-4af8-a214-a22fa5d165a8"
      },
      "execution_count": null,
      "outputs": [
        {
          "output_type": "execute_result",
          "data": {
            "text/plain": [
              "dtype('float64')"
            ]
          },
          "metadata": {},
          "execution_count": 51
        }
      ]
    },
    {
      "cell_type": "code",
      "source": [
        "# 문자열 -> 숫자\n",
        "num_str = np.array(['1.3', '-9.2' , '3'] , dtype =np.string_)\n",
        "num_str.astype(np.float64)\n"
      ],
      "metadata": {
        "colab": {
          "base_uri": "https://localhost:8080/"
        },
        "id": "1wpNU5JQL_Qm",
        "outputId": "c56083cf-0802-4ae2-f9cf-0b62d4d5039f"
      },
      "execution_count": null,
      "outputs": [
        {
          "output_type": "execute_result",
          "data": {
            "text/plain": [
              "array([ 1.3, -9.2,  3. ])"
            ]
          },
          "metadata": {},
          "execution_count": 53
        }
      ]
    },
    {
      "cell_type": "markdown",
      "source": [
        "#### 1.3numpy 배열의 산술 연산 "
      ],
      "metadata": {
        "id": "iY16pvU-MKf6"
      }
    },
    {
      "cell_type": "markdown",
      "source": [
        ": 배열 - > for문 작성 없이 데이터 일괄 처리 가능함 (벡터화)"
      ],
      "metadata": {
        "id": "14lAwxKyNCzp"
      }
    },
    {
      "cell_type": "code",
      "source": [
        "arr = np.array([[1,2,3] , [4,5,6]])\n",
        "arr"
      ],
      "metadata": {
        "colab": {
          "base_uri": "https://localhost:8080/"
        },
        "id": "TgSqhS8KNQSU",
        "outputId": "7c7e2537-fc2c-42bc-9051-dc537b376567"
      },
      "execution_count": null,
      "outputs": [
        {
          "output_type": "execute_result",
          "data": {
            "text/plain": [
              "array([[1, 2, 3],\n",
              "       [4, 5, 6]])"
            ]
          },
          "metadata": {},
          "execution_count": 55
        }
      ]
    },
    {
      "cell_type": "code",
      "source": [
        "arr * arr"
      ],
      "metadata": {
        "colab": {
          "base_uri": "https://localhost:8080/"
        },
        "id": "F5G5bMOtNay1",
        "outputId": "a0fbfbb3-b725-4262-9d8f-c07f4625e430"
      },
      "execution_count": null,
      "outputs": [
        {
          "output_type": "execute_result",
          "data": {
            "text/plain": [
              "array([[ 1,  4,  9],\n",
              "       [16, 25, 36]])"
            ]
          },
          "metadata": {},
          "execution_count": 56
        }
      ]
    },
    {
      "cell_type": "code",
      "source": [
        "arr - arr"
      ],
      "metadata": {
        "colab": {
          "base_uri": "https://localhost:8080/"
        },
        "id": "Up1ynrcENdyg",
        "outputId": "5f6dac61-3340-4168-8353-e4d3b2dac9ed"
      },
      "execution_count": null,
      "outputs": [
        {
          "output_type": "execute_result",
          "data": {
            "text/plain": [
              "array([[0, 0, 0],\n",
              "       [0, 0, 0]])"
            ]
          },
          "metadata": {},
          "execution_count": 57
        }
      ]
    },
    {
      "cell_type": "code",
      "source": [
        "1 /arr  # 스칼라 산술 "
      ],
      "metadata": {
        "colab": {
          "base_uri": "https://localhost:8080/"
        },
        "id": "l6Tq3dhRNfik",
        "outputId": "d0176fed-db93-45a3-aeba-e2ce3317386a"
      },
      "execution_count": null,
      "outputs": [
        {
          "output_type": "execute_result",
          "data": {
            "text/plain": [
              "array([[1.        , 0.5       , 0.33333333],\n",
              "       [0.25      , 0.2       , 0.16666667]])"
            ]
          },
          "metadata": {},
          "execution_count": 59
        }
      ]
    },
    {
      "cell_type": "code",
      "source": [
        "arr ** 0.5"
      ],
      "metadata": {
        "colab": {
          "base_uri": "https://localhost:8080/"
        },
        "id": "HGqX6eNSNhPY",
        "outputId": "b44fb3a5-c507-487d-eb2a-7dbd014f9d5e"
      },
      "execution_count": null,
      "outputs": [
        {
          "output_type": "execute_result",
          "data": {
            "text/plain": [
              "array([[1.        , 1.41421356, 1.73205081],\n",
              "       [2.        , 2.23606798, 2.44948974]])"
            ]
          },
          "metadata": {},
          "execution_count": 61
        }
      ]
    },
    {
      "cell_type": "code",
      "source": [
        "# 같은 크기를 가지는 배열간의 비교 연산은 불리언 배열을 반환 \n",
        "arr1 > arr"
      ],
      "metadata": {
        "colab": {
          "base_uri": "https://localhost:8080/"
        },
        "id": "fpnO9bXVNmYt",
        "outputId": "1cf9ac3e-39e2-4f53-f62f-54d21a794ce3"
      },
      "execution_count": null,
      "outputs": [
        {
          "output_type": "execute_result",
          "data": {
            "text/plain": [
              "array([[False, False, False],\n",
              "       [False, False, False]])"
            ]
          },
          "metadata": {},
          "execution_count": 62
        }
      ]
    },
    {
      "cell_type": "markdown",
      "source": [
        "크기가 다른 배열간의 연산  : 브로드 캐스팅 "
      ],
      "metadata": {
        "id": "1rGmjY3vN2eQ"
      }
    },
    {
      "cell_type": "markdown",
      "source": [
        "#### 1.4 색인과 슬라이싱 기초 "
      ],
      "metadata": {
        "id": "oM2h1PGPODSi"
      }
    },
    {
      "cell_type": "code",
      "source": [
        "arr = np.arange(10)\n",
        "arr[4]"
      ],
      "metadata": {
        "colab": {
          "base_uri": "https://localhost:8080/"
        },
        "id": "Ph2NZIUtOLsg",
        "outputId": "44cb8541-7550-434a-811c-aa3d10068e85"
      },
      "execution_count": null,
      "outputs": [
        {
          "output_type": "execute_result",
          "data": {
            "text/plain": [
              "4"
            ]
          },
          "metadata": {},
          "execution_count": 68
        }
      ]
    },
    {
      "cell_type": "code",
      "source": [
        "arr[0:3]"
      ],
      "metadata": {
        "colab": {
          "base_uri": "https://localhost:8080/"
        },
        "id": "bzb65Fo8OPZu",
        "outputId": "58c78a37-fae7-4a45-d8d9-3d6f1d58e754"
      },
      "execution_count": null,
      "outputs": [
        {
          "output_type": "execute_result",
          "data": {
            "text/plain": [
              "array([0, 1, 2])"
            ]
          },
          "metadata": {},
          "execution_count": 70
        }
      ]
    },
    {
      "cell_type": "code",
      "source": [
        "arr[0:3] = 12 \n",
        "arr"
      ],
      "metadata": {
        "colab": {
          "base_uri": "https://localhost:8080/"
        },
        "id": "BwHHMDG7OUkl",
        "outputId": "40742df3-4b7b-4cfb-d287-1c8c8b2ac016"
      },
      "execution_count": null,
      "outputs": [
        {
          "output_type": "execute_result",
          "data": {
            "text/plain": [
              "array([12, 12, 12,  3,  4,  5,  6,  7,  8,  9])"
            ]
          },
          "metadata": {},
          "execution_count": 72
        }
      ]
    },
    {
      "cell_type": "code",
      "source": [
        "arr_slice = arr[0:3]\n",
        "arr_slice"
      ],
      "metadata": {
        "colab": {
          "base_uri": "https://localhost:8080/"
        },
        "id": "DSwT0HXsO0fN",
        "outputId": "9a40936c-67f7-41dd-ff7b-ddcabb0a2a2d"
      },
      "execution_count": null,
      "outputs": [
        {
          "output_type": "execute_result",
          "data": {
            "text/plain": [
              "array([12, 12, 12])"
            ]
          },
          "metadata": {},
          "execution_count": 73
        }
      ]
    },
    {
      "cell_type": "code",
      "source": [
        "arr_slice[1] = 12345\n",
        "# arr_slice = [ 12 , 12345 , 12] -> arr[0:3]\n",
        "arr"
      ],
      "metadata": {
        "colab": {
          "base_uri": "https://localhost:8080/"
        },
        "id": "LXcgw4uOO9_O",
        "outputId": "fae6af60-74df-4357-89a8-7b411206ab84"
      },
      "execution_count": null,
      "outputs": [
        {
          "output_type": "execute_result",
          "data": {
            "text/plain": [
              "array([   12, 12345,    12,     3,     4,     5,     6,     7,     8,\n",
              "           9])"
            ]
          },
          "metadata": {},
          "execution_count": 76
        }
      ]
    },
    {
      "cell_type": "markdown",
      "source": [
        ": arr_slice의 값을 변경하니 원래 배열 arr의 값도 바뀌었다."
      ],
      "metadata": {
        "id": "0OePGQWnPH8d"
      }
    },
    {
      "cell_type": "code",
      "source": [
        "arr_slice[:] = 64\n",
        "arr"
      ],
      "metadata": {
        "colab": {
          "base_uri": "https://localhost:8080/"
        },
        "id": "MqpPWeFnPH6n",
        "outputId": "da93424e-5407-431e-b7c3-3551a5145062"
      },
      "execution_count": null,
      "outputs": [
        {
          "output_type": "execute_result",
          "data": {
            "text/plain": [
              "array([64, 64, 64,  3,  4,  5,  6,  7,  8,  9])"
            ]
          },
          "metadata": {},
          "execution_count": 78
        }
      ]
    },
    {
      "cell_type": "code",
      "source": [
        "# 다차원 배열 -> 리스트 내포 비슷 \n",
        "arr2d = np.array([[1,2,3] , [4,5,6] , [7,8,9]])\n",
        "arr2d[0]"
      ],
      "metadata": {
        "colab": {
          "base_uri": "https://localhost:8080/"
        },
        "id": "r6jF6F5QPFQj",
        "outputId": "d330a04a-12dc-437e-a73f-bb312de42de6"
      },
      "execution_count": null,
      "outputs": [
        {
          "output_type": "execute_result",
          "data": {
            "text/plain": [
              "array([1, 2, 3])"
            ]
          },
          "metadata": {},
          "execution_count": 82
        }
      ]
    },
    {
      "cell_type": "code",
      "source": [
        "arr2d[0][1]  #행 렬 \n",
        "\n",
        "#    0  1  2 \n",
        "# 0  1  2  3 \n",
        "# 1  4  5  6 \n",
        "# 2  7  8  9 \n"
      ],
      "metadata": {
        "colab": {
          "base_uri": "https://localhost:8080/"
        },
        "id": "KA5sxlmRP7oI",
        "outputId": "a8368809-45d7-4dd8-e9cc-0562ee6d3656"
      },
      "execution_count": null,
      "outputs": [
        {
          "output_type": "execute_result",
          "data": {
            "text/plain": [
              "2"
            ]
          },
          "metadata": {},
          "execution_count": 85
        }
      ]
    },
    {
      "cell_type": "markdown",
      "source": [
        "다차원 배열 슬라이싱 "
      ],
      "metadata": {
        "id": "hGXwg5taQKFS"
      }
    },
    {
      "cell_type": "code",
      "source": [
        "arr2d[:2] \n",
        "# 0~1 행 가져오기 "
      ],
      "metadata": {
        "colab": {
          "base_uri": "https://localhost:8080/"
        },
        "id": "OOg7rXkhQ-Cd",
        "outputId": "b90e38ab-1506-4a24-baa0-1ac070a623d6"
      },
      "execution_count": null,
      "outputs": [
        {
          "output_type": "execute_result",
          "data": {
            "text/plain": [
              "array([[1, 2, 3],\n",
              "       [4, 5, 6]])"
            ]
          },
          "metadata": {},
          "execution_count": 124
        }
      ]
    },
    {
      "cell_type": "code",
      "source": [
        "arr2d[ :, :2]  # 0~1열 가져오기 "
      ],
      "metadata": {
        "colab": {
          "base_uri": "https://localhost:8080/"
        },
        "id": "FtzQiSZKRBOc",
        "outputId": "c6ddee0a-5a49-4e07-ed66-685d153448af"
      },
      "execution_count": null,
      "outputs": [
        {
          "output_type": "execute_result",
          "data": {
            "text/plain": [
              "array([[1, 2],\n",
              "       [4, 5],\n",
              "       [7, 8]])"
            ]
          },
          "metadata": {},
          "execution_count": 90
        }
      ]
    },
    {
      "cell_type": "code",
      "source": [
        "arr2d[ :2 , 1: ] \n",
        "# 0 , 1행 , 1 , 2 열 "
      ],
      "metadata": {
        "colab": {
          "base_uri": "https://localhost:8080/"
        },
        "id": "YpEBNbwKRKz7",
        "outputId": "5422149a-34ec-456a-b732-83e2e9429aac"
      },
      "execution_count": null,
      "outputs": [
        {
          "output_type": "execute_result",
          "data": {
            "text/plain": [
              "array([[2, 3],\n",
              "       [5, 6]])"
            ]
          },
          "metadata": {},
          "execution_count": 91
        }
      ]
    },
    {
      "cell_type": "markdown",
      "source": [
        "#### 1.5 불리언 값으로 선택하기 "
      ],
      "metadata": {
        "id": "0QKcQYxmRYmI"
      }
    },
    {
      "cell_type": "code",
      "source": [
        "names = np.array(['A', 'B' , 'C' , 'A', 'C', 'B', 'B'])\n",
        "data = np.random.randn(7,4)   # 7행 4열의 정규분포 따르는 랜덤 데이터 \n",
        "names"
      ],
      "metadata": {
        "colab": {
          "base_uri": "https://localhost:8080/"
        },
        "id": "x_pmxo60WUIE",
        "outputId": "cf679fe0-c3ab-47d5-d4ac-1359800595b7"
      },
      "execution_count": null,
      "outputs": [
        {
          "output_type": "execute_result",
          "data": {
            "text/plain": [
              "array(['A', 'B', 'C', 'A', 'C', 'B', 'B'], dtype='<U1')"
            ]
          },
          "metadata": {},
          "execution_count": 126
        }
      ]
    },
    {
      "cell_type": "code",
      "source": [
        "data"
      ],
      "metadata": {
        "colab": {
          "base_uri": "https://localhost:8080/"
        },
        "id": "ASUbfjvpW7aj",
        "outputId": "d1b3815c-1fbd-488b-80f8-f5bf40428c03"
      },
      "execution_count": null,
      "outputs": [
        {
          "output_type": "execute_result",
          "data": {
            "text/plain": [
              "array([[ 1.24244673,  0.11803357,  0.20966054, -0.34726174],\n",
              "       [ 1.29815768,  1.68093894, -2.00680907, -0.65505813],\n",
              "       [-1.19088765,  0.13514888,  0.85944291,  0.21142518],\n",
              "       [-0.08172143,  0.38188042, -0.65251037, -0.08124039],\n",
              "       [ 0.11118222, -2.06133923, -1.67097472,  1.44857164],\n",
              "       [-0.01514519, -1.50932542,  0.48880953, -0.40704965],\n",
              "       [-0.62372583,  0.40215571,  1.11116488,  0.77271474]])"
            ]
          },
          "metadata": {},
          "execution_count": 127
        }
      ]
    },
    {
      "cell_type": "markdown",
      "source": [
        ": 각각의 이름은 data 배열의 각 로우에 대응한다고 가정 . "
      ],
      "metadata": {
        "id": "9YLVnQvgW8nX"
      }
    },
    {
      "cell_type": "code",
      "source": [
        "names == 'A'\n",
        "# 불리언 배열을 반환 "
      ],
      "metadata": {
        "colab": {
          "base_uri": "https://localhost:8080/"
        },
        "id": "UPGKYRR5XC0s",
        "outputId": "de24bd72-4f25-4e28-aef9-8ef3b82bbaf5"
      },
      "execution_count": null,
      "outputs": [
        {
          "output_type": "execute_result",
          "data": {
            "text/plain": [
              "array([ True, False, False,  True, False, False, False])"
            ]
          },
          "metadata": {},
          "execution_count": 128
        }
      ]
    },
    {
      "cell_type": "code",
      "source": [
        "data[names == 'A'] # 0 3 행 "
      ],
      "metadata": {
        "colab": {
          "base_uri": "https://localhost:8080/"
        },
        "id": "ErqRO6ZeXEcW",
        "outputId": "fe5d5f88-8f25-4ce9-e548-20c246c624d1"
      },
      "execution_count": null,
      "outputs": [
        {
          "output_type": "execute_result",
          "data": {
            "text/plain": [
              "array([[ 1.24244673,  0.11803357,  0.20966054, -0.34726174],\n",
              "       [-0.08172143,  0.38188042, -0.65251037, -0.08124039]])"
            ]
          },
          "metadata": {},
          "execution_count": 129
        }
      ]
    },
    {
      "cell_type": "markdown",
      "source": [
        ": 불리언 배열은 반드시 색인하려는 축의 길이와 동일한 길이를 가져야한다 .  "
      ],
      "metadata": {
        "id": "m4IqOf4EXnD9"
      }
    },
    {
      "cell_type": "code",
      "source": [
        "data[names  == 'A', 2: ]"
      ],
      "metadata": {
        "colab": {
          "base_uri": "https://localhost:8080/"
        },
        "id": "gsg3TC-PX4Nr",
        "outputId": "5d14784c-b9fc-47b7-dbc5-8ac65a442b02"
      },
      "execution_count": null,
      "outputs": [
        {
          "output_type": "execute_result",
          "data": {
            "text/plain": [
              "array([[ 0.20966054, -0.34726174],\n",
              "       [-0.65251037, -0.08124039]])"
            ]
          },
          "metadata": {},
          "execution_count": 130
        }
      ]
    },
    {
      "cell_type": "code",
      "source": [
        "# != or ~ 로 부정 \n",
        "names != 'A'"
      ],
      "metadata": {
        "colab": {
          "base_uri": "https://localhost:8080/"
        },
        "id": "1Bsg9wOTYFSa",
        "outputId": "96a93e51-b9b5-473e-a687-691be0564adb"
      },
      "execution_count": null,
      "outputs": [
        {
          "output_type": "execute_result",
          "data": {
            "text/plain": [
              "array([False,  True,  True, False,  True,  True,  True])"
            ]
          },
          "metadata": {},
          "execution_count": 131
        }
      ]
    },
    {
      "cell_type": "code",
      "source": [
        "data[~ (names == 'A')] # 1 ,2 , 4~ 행 "
      ],
      "metadata": {
        "colab": {
          "base_uri": "https://localhost:8080/"
        },
        "id": "53uFcYorYYdW",
        "outputId": "34fb207f-2fde-4307-cdc9-bf30b3d2979b"
      },
      "execution_count": null,
      "outputs": [
        {
          "output_type": "execute_result",
          "data": {
            "text/plain": [
              "array([[ 1.29815768,  1.68093894, -2.00680907, -0.65505813],\n",
              "       [-1.19088765,  0.13514888,  0.85944291,  0.21142518],\n",
              "       [ 0.11118222, -2.06133923, -1.67097472,  1.44857164],\n",
              "       [-0.01514519, -1.50932542,  0.48880953, -0.40704965],\n",
              "       [-0.62372583,  0.40215571,  1.11116488,  0.77271474]])"
            ]
          },
          "metadata": {},
          "execution_count": 132
        }
      ]
    },
    {
      "cell_type": "code",
      "source": [
        "# 논리 연산자 & , | \n",
        "mask = (names == 'A') | (names == 'C')\n",
        "mask # 0 ,2 ,3,4"
      ],
      "metadata": {
        "colab": {
          "base_uri": "https://localhost:8080/"
        },
        "id": "O9povJvrYdEg",
        "outputId": "90035c46-0149-4523-e6e8-a7503ced8cb8"
      },
      "execution_count": null,
      "outputs": [
        {
          "output_type": "execute_result",
          "data": {
            "text/plain": [
              "array([ True, False,  True,  True,  True, False, False])"
            ]
          },
          "metadata": {},
          "execution_count": 133
        }
      ]
    },
    {
      "cell_type": "code",
      "source": [
        "data[mask]"
      ],
      "metadata": {
        "colab": {
          "base_uri": "https://localhost:8080/"
        },
        "id": "OzKokjdiY4es",
        "outputId": "11d8a222-af61-4b57-f02c-778f47933bca"
      },
      "execution_count": null,
      "outputs": [
        {
          "output_type": "execute_result",
          "data": {
            "text/plain": [
              "array([[ 1.24244673,  0.11803357,  0.20966054, -0.34726174],\n",
              "       [-1.19088765,  0.13514888,  0.85944291,  0.21142518],\n",
              "       [-0.08172143,  0.38188042, -0.65251037, -0.08124039],\n",
              "       [ 0.11118222, -2.06133923, -1.67097472,  1.44857164]])"
            ]
          },
          "metadata": {},
          "execution_count": 134
        }
      ]
    },
    {
      "cell_type": "code",
      "source": [
        "# 불리언 배열에 값을 대입\n",
        "data[data < 0] = 0  # 음수값은 0으로 변경 \n",
        "data"
      ],
      "metadata": {
        "colab": {
          "base_uri": "https://localhost:8080/"
        },
        "id": "R7coHuGYZAxT",
        "outputId": "ea4d7cd6-9d69-4b8f-d280-003f2ebc274a"
      },
      "execution_count": null,
      "outputs": [
        {
          "output_type": "execute_result",
          "data": {
            "text/plain": [
              "array([[1.24244673, 0.11803357, 0.20966054, 0.        ],\n",
              "       [1.29815768, 1.68093894, 0.        , 0.        ],\n",
              "       [0.        , 0.13514888, 0.85944291, 0.21142518],\n",
              "       [0.        , 0.38188042, 0.        , 0.        ],\n",
              "       [0.11118222, 0.        , 0.        , 1.44857164],\n",
              "       [0.        , 0.        , 0.48880953, 0.        ],\n",
              "       [0.        , 0.40215571, 1.11116488, 0.77271474]])"
            ]
          },
          "metadata": {},
          "execution_count": 135
        }
      ]
    },
    {
      "cell_type": "code",
      "source": [
        "# 불리언 사용해 선택 \n",
        "data[names != 'C'] = 7\n",
        "# 0 1 3 5 6\n",
        "data"
      ],
      "metadata": {
        "colab": {
          "base_uri": "https://localhost:8080/"
        },
        "id": "Swk7a-yrZFH1",
        "outputId": "89aa06dd-0a9f-4aa3-a4da-b92eec365cea"
      },
      "execution_count": null,
      "outputs": [
        {
          "output_type": "execute_result",
          "data": {
            "text/plain": [
              "array([[7.        , 7.        , 7.        , 7.        ],\n",
              "       [7.        , 7.        , 7.        , 7.        ],\n",
              "       [0.        , 0.13514888, 0.85944291, 0.21142518],\n",
              "       [7.        , 7.        , 7.        , 7.        ],\n",
              "       [0.11118222, 0.        , 0.        , 1.44857164],\n",
              "       [7.        , 7.        , 7.        , 7.        ],\n",
              "       [7.        , 7.        , 7.        , 7.        ]])"
            ]
          },
          "metadata": {},
          "execution_count": 136
        }
      ]
    },
    {
      "cell_type": "markdown",
      "source": [
        "#### 1.6 팬시색인  : 정수 배열을 사용한 색인"
      ],
      "metadata": {
        "id": "y3vCfoZOZaov"
      }
    },
    {
      "cell_type": "code",
      "source": [
        "arr = np.empty((8,4)) #8행 4열 빈 행렬 \n",
        "for i in range(8) : \n",
        "  arr[i] = i      # i행의 값을 i로 채우기\n",
        "arr"
      ],
      "metadata": {
        "colab": {
          "base_uri": "https://localhost:8080/"
        },
        "id": "TmQ42yb1aS-_",
        "outputId": "7bc284f5-d8ba-46bf-99da-fafb165bee23"
      },
      "execution_count": null,
      "outputs": [
        {
          "output_type": "execute_result",
          "data": {
            "text/plain": [
              "array([[0., 0., 0., 0.],\n",
              "       [1., 1., 1., 1.],\n",
              "       [2., 2., 2., 2.],\n",
              "       [3., 3., 3., 3.],\n",
              "       [4., 4., 4., 4.],\n",
              "       [5., 5., 5., 5.],\n",
              "       [6., 6., 6., 6.],\n",
              "       [7., 7., 7., 7.]])"
            ]
          },
          "metadata": {},
          "execution_count": 138
        }
      ]
    },
    {
      "cell_type": "code",
      "source": [
        "# 팬시색인 (정수 배열리스트 )\n",
        "arr[[1,2,3,4]]"
      ],
      "metadata": {
        "colab": {
          "base_uri": "https://localhost:8080/"
        },
        "id": "0Bw6-rQEaiZf",
        "outputId": "85ce1133-0fcd-4465-f3ba-9e215aea3799"
      },
      "execution_count": null,
      "outputs": [
        {
          "output_type": "execute_result",
          "data": {
            "text/plain": [
              "array([[1., 1., 1., 1.],\n",
              "       [2., 2., 2., 2.],\n",
              "       [3., 3., 3., 3.],\n",
              "       [4., 4., 4., 4.]])"
            ]
          },
          "metadata": {},
          "execution_count": 139
        }
      ]
    },
    {
      "cell_type": "code",
      "source": [
        "arr[[-1 , -7]]"
      ],
      "metadata": {
        "colab": {
          "base_uri": "https://localhost:8080/"
        },
        "id": "HZbRjjskapZi",
        "outputId": "ee92a22f-adc9-4200-f40d-e4a022369f0a"
      },
      "execution_count": null,
      "outputs": [
        {
          "output_type": "execute_result",
          "data": {
            "text/plain": [
              "array([[7., 7., 7., 7.],\n",
              "       [1., 1., 1., 1.]])"
            ]
          },
          "metadata": {},
          "execution_count": 142
        }
      ]
    },
    {
      "cell_type": "code",
      "source": [
        "# 다차원 색인 배열 넘기기 \n",
        "arr = np.arange(32).reshape((8,4))    \n",
        "# 0~ 32 까지 배열을 8행 4열로 \n",
        "arr"
      ],
      "metadata": {
        "colab": {
          "base_uri": "https://localhost:8080/"
        },
        "id": "I8EJ3XAVat7Z",
        "outputId": "530f6d3f-e7ab-43ab-af64-44c5c0fbf637"
      },
      "execution_count": null,
      "outputs": [
        {
          "output_type": "execute_result",
          "data": {
            "text/plain": [
              "array([[ 0,  1,  2,  3],\n",
              "       [ 4,  5,  6,  7],\n",
              "       [ 8,  9, 10, 11],\n",
              "       [12, 13, 14, 15],\n",
              "       [16, 17, 18, 19],\n",
              "       [20, 21, 22, 23],\n",
              "       [24, 25, 26, 27],\n",
              "       [28, 29, 30, 31]])"
            ]
          },
          "metadata": {},
          "execution_count": 143
        }
      ]
    },
    {
      "cell_type": "code",
      "source": [
        "arr[[1,5,7,2] , [0, 3, 1,2 ]]\n",
        "# 1행 0열 , 5행 3열 , 7행 1열 ,2행 2열 데이터 가져왔! (원소들)\n",
        "# 결과가 1차원 배열이다 ."
      ],
      "metadata": {
        "colab": {
          "base_uri": "https://localhost:8080/"
        },
        "id": "3u6mEXChbAjn",
        "outputId": "f756d0c3-d58e-4368-f4d1-6a52cb99808e"
      },
      "execution_count": null,
      "outputs": [
        {
          "output_type": "execute_result",
          "data": {
            "text/plain": [
              "array([ 4, 23, 29, 10])"
            ]
          },
          "metadata": {},
          "execution_count": 146
        }
      ]
    },
    {
      "cell_type": "code",
      "source": [
        "# 행과 열에 대응하는 사각형 모양의 값 \n",
        "arr[[1,5,7,2]][: , [0, 3, 1,2 ]] # 재귀사용 "
      ],
      "metadata": {
        "colab": {
          "base_uri": "https://localhost:8080/"
        },
        "id": "4avBzIxrbHre",
        "outputId": "05a79e26-8723-40bd-9b03-38f9f96676aa"
      },
      "execution_count": null,
      "outputs": [
        {
          "output_type": "execute_result",
          "data": {
            "text/plain": [
              "array([[ 4,  7,  5,  6],\n",
              "       [20, 23, 21, 22],\n",
              "       [28, 31, 29, 30],\n",
              "       [ 8, 11,  9, 10]])"
            ]
          },
          "metadata": {},
          "execution_count": 147
        }
      ]
    },
    {
      "cell_type": "markdown",
      "source": [
        "#### 1.7 행렬 전치와 축바꾸기 : arr.T , .transpose()"
      ],
      "metadata": {
        "id": "YykMCPyVbyvc"
      }
    },
    {
      "cell_type": "code",
      "source": [
        "# 행렬 전치는 행렬 계산에 자주 쓰인다. \n",
        "# 행렬 내적 np.dot()\n",
        "arr = np.random.randn(6,3)\n",
        "arr"
      ],
      "metadata": {
        "colab": {
          "base_uri": "https://localhost:8080/"
        },
        "id": "v28AU9Y_b63E",
        "outputId": "81957a50-501a-4348-e472-d59804d1d388"
      },
      "execution_count": 3,
      "outputs": [
        {
          "output_type": "execute_result",
          "data": {
            "text/plain": [
              "array([[-0.04171954, -0.41072199,  0.87049217],\n",
              "       [-0.50006741, -0.93444696,  1.45252453],\n",
              "       [-0.82691754, -0.3078581 ,  0.51074807],\n",
              "       [ 0.12373401, -0.50069474,  0.433024  ],\n",
              "       [ 1.52374475,  1.00152352,  0.70824994],\n",
              "       [-1.11170407, -0.01218153,  0.98114026]])"
            ]
          },
          "metadata": {},
          "execution_count": 3
        }
      ]
    },
    {
      "cell_type": "code",
      "source": [
        "np.dot(arr.T, arr)"
      ],
      "metadata": {
        "colab": {
          "base_uri": "https://localhost:8080/"
        },
        "id": "O3nwZsGicTsA",
        "outputId": "34dcac1c-97e2-4db3-8161-253e678553ff"
      },
      "execution_count": 4,
      "outputs": [
        {
          "output_type": "execute_result",
          "data": {
            "text/plain": [
              "array([[ 4.50859466,  2.21665038, -1.14298896],\n",
              "       [ 2.21665038,  2.39055326, -1.391511  ],\n",
              "       [-1.14298896, -1.391511  ,  4.7802117 ]])"
            ]
          },
          "metadata": {},
          "execution_count": 4
        }
      ]
    },
    {
      "cell_type": "code",
      "source": [
        "arr.T"
      ],
      "metadata": {
        "colab": {
          "base_uri": "https://localhost:8080/"
        },
        "id": "VwOVPGk6dyGg",
        "outputId": "5c8c2374-3bc6-4e50-d58a-e6d2fba366ca"
      },
      "execution_count": null,
      "outputs": [
        {
          "output_type": "execute_result",
          "data": {
            "text/plain": [
              "array([[ 1.95889114,  0.50600151,  0.76386539,  0.56682884, -0.51260622,\n",
              "         0.6571456 ],\n",
              "       [-0.70621798,  0.44693085,  1.25006964,  0.52750831, -1.61177949,\n",
              "         0.6572175 ],\n",
              "       [-0.22525484,  0.12372937, -0.02940504, -0.73628799, -1.483211  ,\n",
              "         1.9068437 ]])"
            ]
          },
          "metadata": {},
          "execution_count": 166
        }
      ]
    },
    {
      "cell_type": "code",
      "source": [
        "arr.transpose()"
      ],
      "metadata": {
        "colab": {
          "base_uri": "https://localhost:8080/"
        },
        "id": "yUoa64SGd-Bf",
        "outputId": "c74ea27e-7944-4c54-830d-9f5348aff733"
      },
      "execution_count": null,
      "outputs": [
        {
          "output_type": "execute_result",
          "data": {
            "text/plain": [
              "array([[ 1.95889114,  0.50600151,  0.76386539,  0.56682884, -0.51260622,\n",
              "         0.6571456 ],\n",
              "       [-0.70621798,  0.44693085,  1.25006964,  0.52750831, -1.61177949,\n",
              "         0.6572175 ],\n",
              "       [-0.22525484,  0.12372937, -0.02940504, -0.73628799, -1.483211  ,\n",
              "         1.9068437 ]])"
            ]
          },
          "metadata": {},
          "execution_count": 167
        }
      ]
    },
    {
      "cell_type": "code",
      "source": [
        "arr = np.arange(16).reshape((2, 2,4))   \n",
        "# (2, 2, 4) : 3차원 축 : 2  / 2차원 축 : 2 , 1차원 축 : 4\n",
        "# 3d array : 2행 4열이 두 층  \n",
        "arr"
      ],
      "metadata": {
        "colab": {
          "base_uri": "https://localhost:8080/"
        },
        "id": "M58-ZAIecW_m",
        "outputId": "b0eaf0eb-b995-405a-b6d9-291c93e78b95"
      },
      "execution_count": null,
      "outputs": [
        {
          "output_type": "execute_result",
          "data": {
            "text/plain": [
              "array([[[ 0,  1,  2,  3],\n",
              "        [ 4,  5,  6,  7]],\n",
              "\n",
              "       [[ 8,  9, 10, 11],\n",
              "        [12, 13, 14, 15]]])"
            ]
          },
          "metadata": {},
          "execution_count": 169
        }
      ]
    },
    {
      "cell_type": "markdown",
      "source": [
        "다차원 배열의 경우 transpose() 튜플로 축 번호를 받아서 치환한다.  \n",
        "ex) arr = 2 2 4  \n",
        "   axis =0 1 2  대응 "
      ],
      "metadata": {
        "id": "TgeZ4GGDdKsi"
      }
    },
    {
      "cell_type": "code",
      "source": [
        "arr.transpose((1, 0 ,2 ))       # axis -0 1 2 -> 1 0 2 로 바뀜\n",
        "# 첫번째와 두번째 축 순서가 뒤바뀜"
      ],
      "metadata": {
        "colab": {
          "base_uri": "https://localhost:8080/"
        },
        "id": "oVmxA4P0cmOj",
        "outputId": "b7c50b13-2367-45b2-d145-fa6a38c034c2"
      },
      "execution_count": null,
      "outputs": [
        {
          "output_type": "execute_result",
          "data": {
            "text/plain": [
              "array([[[ 0,  1,  2,  3],\n",
              "        [ 8,  9, 10, 11]],\n",
              "\n",
              "       [[ 4,  5,  6,  7],\n",
              "        [12, 13, 14, 15]]])"
            ]
          },
          "metadata": {},
          "execution_count": 177
        }
      ]
    },
    {
      "cell_type": "code",
      "source": [
        "arr.transpose((1, 0 ,2 )).shape"
      ],
      "metadata": {
        "colab": {
          "base_uri": "https://localhost:8080/"
        },
        "id": "LpO7BceZgNsk",
        "outputId": "1beb7d24-f897-4ebd-a877-0ef7910521e2"
      },
      "execution_count": null,
      "outputs": [
        {
          "output_type": "execute_result",
          "data": {
            "text/plain": [
              "(2, 2, 4)"
            ]
          },
          "metadata": {},
          "execution_count": 178
        }
      ]
    },
    {
      "cell_type": "code",
      "source": [
        "arr.T \n",
        "arr.T.shape # 전치하니 4층 2행 2열 "
      ],
      "metadata": {
        "colab": {
          "base_uri": "https://localhost:8080/"
        },
        "id": "3hg6BjfbfUsQ",
        "outputId": "5b64d972-4f3f-425f-a101-09a308c269f3"
      },
      "execution_count": null,
      "outputs": [
        {
          "output_type": "execute_result",
          "data": {
            "text/plain": [
              "(4, 2, 2)"
            ]
          },
          "metadata": {},
          "execution_count": 180
        }
      ]
    },
    {
      "cell_type": "code",
      "source": [
        "arr.swapaxes(1,2) # 2차원 축과 1차원 축을 바꿔라. "
      ],
      "metadata": {
        "colab": {
          "base_uri": "https://localhost:8080/"
        },
        "id": "fFwwruivc7Sl",
        "outputId": "b5ce3825-1632-4bc5-ec25-6ed3503a8728"
      },
      "execution_count": null,
      "outputs": [
        {
          "output_type": "execute_result",
          "data": {
            "text/plain": [
              "array([[[ 0,  4],\n",
              "        [ 1,  5],\n",
              "        [ 2,  6],\n",
              "        [ 3,  7]],\n",
              "\n",
              "       [[ 8, 12],\n",
              "        [ 9, 13],\n",
              "        [10, 14],\n",
              "        [11, 15]]])"
            ]
          },
          "metadata": {},
          "execution_count": 179
        }
      ]
    },
    {
      "cell_type": "code",
      "source": [
        "arr.swapaxes(1,2).shape\n",
        "2 2 4 - > 2 4 2 "
      ],
      "metadata": {
        "colab": {
          "base_uri": "https://localhost:8080/"
        },
        "id": "l1pcWY9Oez1X",
        "outputId": "bef91a50-fbf7-4b22-f40f-954c45477913"
      },
      "execution_count": null,
      "outputs": [
        {
          "output_type": "execute_result",
          "data": {
            "text/plain": [
              "(2, 4, 2)"
            ]
          },
          "metadata": {},
          "execution_count": 183
        }
      ]
    },
    {
      "cell_type": "code",
      "source": [
        "arr.swapaxes(0,2)  # 3차원 축과 1차원 축을 바꿔라 shpae(4 2 2 )\n"
      ],
      "metadata": {
        "colab": {
          "base_uri": "https://localhost:8080/"
        },
        "id": "bF_FzhVEgmDj",
        "outputId": "bb5610b6-a088-4fae-e514-0541b20d2151"
      },
      "execution_count": null,
      "outputs": [
        {
          "output_type": "execute_result",
          "data": {
            "text/plain": [
              "array([[[ 0,  8],\n",
              "        [ 4, 12]],\n",
              "\n",
              "       [[ 1,  9],\n",
              "        [ 5, 13]],\n",
              "\n",
              "       [[ 2, 10],\n",
              "        [ 6, 14]],\n",
              "\n",
              "       [[ 3, 11],\n",
              "        [ 7, 15]]])"
            ]
          },
          "metadata": {},
          "execution_count": 185
        }
      ]
    },
    {
      "cell_type": "markdown",
      "source": [
        "2. 유니버설 함수 : 배열의 각 원소를 빠르게 처리하는 함수 ufunc"
      ],
      "metadata": {
        "id": "g9TwU8I0hQ_k"
      }
    },
    {
      "cell_type": "code",
      "source": [
        "# np.sqrt() : 제곱근 \n",
        "# np.exp() : e배 \n",
        "arr = np.arange(10)\n",
        "arr"
      ],
      "metadata": {
        "colab": {
          "base_uri": "https://localhost:8080/"
        },
        "id": "pZ8j_1T3hd0U",
        "outputId": "67a3a018-555a-4586-bdd9-2867170fe12c"
      },
      "execution_count": null,
      "outputs": [
        {
          "output_type": "execute_result",
          "data": {
            "text/plain": [
              "array([0, 1, 2, 3, 4, 5, 6, 7, 8, 9])"
            ]
          },
          "metadata": {},
          "execution_count": 188
        }
      ]
    },
    {
      "cell_type": "code",
      "source": [
        "np.sqrt(arr)"
      ],
      "metadata": {
        "colab": {
          "base_uri": "https://localhost:8080/"
        },
        "id": "iIu5DR-1h6L2",
        "outputId": "45ad1fef-f2b0-4eac-a92c-ec76e3f3a877"
      },
      "execution_count": null,
      "outputs": [
        {
          "output_type": "execute_result",
          "data": {
            "text/plain": [
              "array([0.        , 1.        , 1.41421356, 1.73205081, 2.        ,\n",
              "       2.23606798, 2.44948974, 2.64575131, 2.82842712, 3.        ])"
            ]
          },
          "metadata": {},
          "execution_count": 189
        }
      ]
    },
    {
      "cell_type": "code",
      "source": [
        "np.exp(arr)"
      ],
      "metadata": {
        "colab": {
          "base_uri": "https://localhost:8080/"
        },
        "id": "BCZ9ovoXh1B5",
        "outputId": "0352d6d1-e2e4-44b7-b68f-27e67ad97f70"
      },
      "execution_count": null,
      "outputs": [
        {
          "output_type": "execute_result",
          "data": {
            "text/plain": [
              "array([1.00000000e+00, 2.71828183e+00, 7.38905610e+00, 2.00855369e+01,\n",
              "       5.45981500e+01, 1.48413159e+02, 4.03428793e+02, 1.09663316e+03,\n",
              "       2.98095799e+03, 8.10308393e+03])"
            ]
          },
          "metadata": {},
          "execution_count": 187
        }
      ]
    },
    {
      "cell_type": "markdown",
      "source": [
        "이항 유니버설 함수 (add, maximum) : 2개의 인자를 받아 단일 배열 반환 "
      ],
      "metadata": {
        "id": "GoZbi4Zch4Ae"
      }
    },
    {
      "cell_type": "code",
      "source": [
        "x = np.random.randn(8)\n",
        "y = np.random.randn(8)\n",
        "x"
      ],
      "metadata": {
        "colab": {
          "base_uri": "https://localhost:8080/"
        },
        "id": "lPdW7FjliGNJ",
        "outputId": "2cec98af-dd6f-4d87-8260-175b2f014114"
      },
      "execution_count": null,
      "outputs": [
        {
          "output_type": "execute_result",
          "data": {
            "text/plain": [
              "array([ 1.23384286,  0.06676142,  0.08569292,  1.11700361,  1.58167301,\n",
              "       -0.13402829, -0.60455976, -0.76586927])"
            ]
          },
          "metadata": {},
          "execution_count": 192
        }
      ]
    },
    {
      "cell_type": "code",
      "source": [
        "y"
      ],
      "metadata": {
        "colab": {
          "base_uri": "https://localhost:8080/"
        },
        "id": "PhjYACxviOHl",
        "outputId": "0c381c09-688e-4583-f483-31f0e3ba9931"
      },
      "execution_count": null,
      "outputs": [
        {
          "output_type": "execute_result",
          "data": {
            "text/plain": [
              "array([0.65266996, 1.23911177, 1.15197413, 0.09469162, 0.97748076,\n",
              "       1.15430623, 0.6675891 , 1.56520414])"
            ]
          },
          "metadata": {},
          "execution_count": 193
        }
      ]
    },
    {
      "cell_type": "code",
      "source": [
        "np.maximum(x,y)   # 원소별로 가장 큰값 계산 "
      ],
      "metadata": {
        "colab": {
          "base_uri": "https://localhost:8080/"
        },
        "id": "xBVV4zjJiS8Y",
        "outputId": "dd136ac0-2eb5-4d0b-ed5a-1557347a6010"
      },
      "execution_count": null,
      "outputs": [
        {
          "output_type": "execute_result",
          "data": {
            "text/plain": [
              "array([1.23384286, 1.23911177, 1.15197413, 1.11700361, 1.58167301,\n",
              "       1.15430623, 0.6675891 , 1.56520414])"
            ]
          },
          "metadata": {},
          "execution_count": 194
        }
      ]
    },
    {
      "cell_type": "markdown",
      "source": [
        "**유니버설 함수 종류 **   \n",
        "square(제곱), isnan(숫자인지 아닌지) ,  \n",
        "\n",
        "이항 : add() , subtract() ,multiply , divide ,maximum .. ."
      ],
      "metadata": {
        "id": "V_VyS0c6iZwd"
      }
    },
    {
      "cell_type": "markdown",
      "source": [
        "### 3. 배열을 이용한 배열지향 프로그래밍\n",
        "\n",
        "배열 연산을 사용해 반복문을 명시적으로 제거 (벡터화)"
      ],
      "metadata": {
        "id": "wtE-uL9fi4h0"
      }
    },
    {
      "cell_type": "code",
      "source": [
        " points = np.arange(-5, 5 ,0.01) # -5 부터 4.99 까지 0.01 씩 증가하는 배열 "
      ],
      "metadata": {
        "id": "wBovgkRmjI18"
      },
      "execution_count": null,
      "outputs": []
    },
    {
      "cell_type": "markdown",
      "source": [
        "np.meshgrid : 두개의 1차원 배열을 받아 가능한 모든 (x,y) 짝을 만들수 있는 2차원 배열 2개 반환 "
      ],
      "metadata": {
        "id": "UHtkor-QjvMv"
      }
    },
    {
      "cell_type": "code",
      "source": [
        "xs, ys =np.meshgrid( points , points )\n",
        "xs"
      ],
      "metadata": {
        "colab": {
          "base_uri": "https://localhost:8080/"
        },
        "id": "gBAR2t1YjzK2",
        "outputId": "15488295-a776-405b-fe03-db7058a11bd2"
      },
      "execution_count": null,
      "outputs": [
        {
          "output_type": "execute_result",
          "data": {
            "text/plain": [
              "array([[-5.  , -4.99, -4.98, ...,  4.97,  4.98,  4.99],\n",
              "       [-5.  , -4.99, -4.98, ...,  4.97,  4.98,  4.99],\n",
              "       [-5.  , -4.99, -4.98, ...,  4.97,  4.98,  4.99],\n",
              "       ...,\n",
              "       [-5.  , -4.99, -4.98, ...,  4.97,  4.98,  4.99],\n",
              "       [-5.  , -4.99, -4.98, ...,  4.97,  4.98,  4.99],\n",
              "       [-5.  , -4.99, -4.98, ...,  4.97,  4.98,  4.99]])"
            ]
          },
          "metadata": {},
          "execution_count": 197
        }
      ]
    },
    {
      "cell_type": "code",
      "source": [
        "ys"
      ],
      "metadata": {
        "colab": {
          "base_uri": "https://localhost:8080/"
        },
        "id": "x-oIdFGSj-bq",
        "outputId": "e4b1e31d-6462-495c-fa04-7f4fc8484355"
      },
      "execution_count": null,
      "outputs": [
        {
          "output_type": "execute_result",
          "data": {
            "text/plain": [
              "array([[-5.  , -5.  , -5.  , ..., -5.  , -5.  , -5.  ],\n",
              "       [-4.99, -4.99, -4.99, ..., -4.99, -4.99, -4.99],\n",
              "       [-4.98, -4.98, -4.98, ..., -4.98, -4.98, -4.98],\n",
              "       ...,\n",
              "       [ 4.97,  4.97,  4.97, ...,  4.97,  4.97,  4.97],\n",
              "       [ 4.98,  4.98,  4.98, ...,  4.98,  4.98,  4.98],\n",
              "       [ 4.99,  4.99,  4.99, ...,  4.99,  4.99,  4.99]])"
            ]
          },
          "metadata": {},
          "execution_count": 198
        }
      ]
    },
    {
      "cell_type": "code",
      "source": [
        "# Grid 에서 sqrt(x^2 +y^2 )을 계산\n",
        "z = np.sqrt(xs ** 2 + ys ** +2)\n",
        "z"
      ],
      "metadata": {
        "colab": {
          "base_uri": "https://localhost:8080/"
        },
        "id": "QSOaC2Chj--y",
        "outputId": "0ddcdbe0-cb87-48a2-f4f9-c25db45d4c8a"
      },
      "execution_count": null,
      "outputs": [
        {
          "output_type": "execute_result",
          "data": {
            "text/plain": [
              "array([[7.07106781, 7.06400028, 7.05693985, ..., 7.04988652, 7.05693985,\n",
              "        7.06400028],\n",
              "       [7.06400028, 7.05692568, 7.04985815, ..., 7.04279774, 7.04985815,\n",
              "        7.05692568],\n",
              "       [7.05693985, 7.04985815, 7.04278354, ..., 7.03571603, 7.04278354,\n",
              "        7.04985815],\n",
              "       ...,\n",
              "       [7.04988652, 7.04279774, 7.03571603, ..., 7.0286414 , 7.03571603,\n",
              "        7.04279774],\n",
              "       [7.05693985, 7.04985815, 7.04278354, ..., 7.03571603, 7.04278354,\n",
              "        7.04985815],\n",
              "       [7.06400028, 7.05692568, 7.04985815, ..., 7.04279774, 7.04985815,\n",
              "        7.05692568]])"
            ]
          },
          "metadata": {},
          "execution_count": 200
        }
      ]
    },
    {
      "cell_type": "code",
      "source": [
        "import matplotlib.pyplot as plt\n",
        "\n",
        "plt.imshow(z , cmap = plt.cm.gray) ; plt.colorbar()"
      ],
      "metadata": {
        "colab": {
          "base_uri": "https://localhost:8080/",
          "height": 287
        },
        "id": "q4Sgnjy0kp34",
        "outputId": "7148d2da-d737-4651-8fe8-a7d677fa1248"
      },
      "execution_count": null,
      "outputs": [
        {
          "output_type": "execute_result",
          "data": {
            "text/plain": [
              "<matplotlib.colorbar.Colorbar at 0x7fb6038b8510>"
            ]
          },
          "metadata": {},
          "execution_count": 201
        },
        {
          "output_type": "display_data",
          "data": {
            "image/png": "[encoded data removed]",
            "text/plain": [
              "<Figure size 432x288 with 2 Axes>"
            ]
          },
          "metadata": {
            "needs_background": "light"
          }
        }
      ]
    },
    {
      "cell_type": "markdown",
      "source": [
        "#### 3.1 배열 연산으로 조건절 표현하기   \n",
        "numpy.where 함수는 x it 조건 else y 삼항식의 벡터화된 버전이다 . "
      ],
      "metadata": {
        "id": "Y57Ml0wik52x"
      }
    },
    {
      "cell_type": "code",
      "source": [
        "# 두개의 배열 과 하나의 불리언 배열 \n",
        "xarr = np.array([1.1 , 1.2 , 1.3 , 1.4 , 1.5 ])\n",
        "yarr = np.array([2.1 , 2.2 , 2.3,  2.4 , 2.5 ])\n",
        "\n",
        "cond = np.array([True , False , True, True, False])"
      ],
      "metadata": {
        "id": "tOUUo6PTjJyt"
      },
      "execution_count": 5,
      "outputs": []
    },
    {
      "cell_type": "code",
      "source": [
        "# cond의 값이 T 일땐, xarr의 값을 취하고 F이면 yarr 의 값을 취하고 싶다 . \n",
        "# 조건문 \n",
        "result = [ (x if c else y) for x,y,c in zip (xarr , yarr , cond)]\n",
        "# if c : x , else y \n",
        "result"
      ],
      "metadata": {
        "colab": {
          "base_uri": "https://localhost:8080/"
        },
        "id": "I37ButGejpTt",
        "outputId": "ee0ae5a2-aa69-46cd-ec84-901e7212408e"
      },
      "execution_count": 7,
      "outputs": [
        {
          "output_type": "execute_result",
          "data": {
            "text/plain": [
              "[1.1, 2.2, 1.3, 1.4, 2.5]"
            ]
          },
          "metadata": {},
          "execution_count": 7
        }
      ]
    },
    {
      "cell_type": "markdown",
      "source": [
        ": 순수 파이썬 으로 수행되기 대문에 큰 배열 빠르게 처리 못하는 문제  + 다차원 배열시 실행 불가   \n",
        "-> np.where로 구현 np.where( 조건 , T 실행, Y 실행) "
      ],
      "metadata": {
        "id": "MkJIkuVtkJhy"
      }
    },
    {
      "cell_type": "code",
      "source": [
        "result = np.where(cond , xarr, yarr)\n",
        "result"
      ],
      "metadata": {
        "colab": {
          "base_uri": "https://localhost:8080/"
        },
        "id": "75zCrGjLkXmo",
        "outputId": "4ed11c7f-c088-4f73-9778-5a48eef10692"
      },
      "execution_count": 9,
      "outputs": [
        {
          "output_type": "execute_result",
          "data": {
            "text/plain": [
              "array([1.1, 2.2, 1.3, 1.4, 2.5])"
            ]
          },
          "metadata": {},
          "execution_count": 9
        }
      ]
    },
    {
      "cell_type": "code",
      "source": [
        "# 임의로 생선된 행렬에서 양수는 모두 2로 음수는 모두 -2로 바꾸어라 \n",
        "arr =np.random.randn(4,4)\n",
        "arr "
      ],
      "metadata": {
        "colab": {
          "base_uri": "https://localhost:8080/"
        },
        "id": "1lWq94llkl0V",
        "outputId": "5a441d57-17ec-42cb-9127-8fecfdb3ef3e"
      },
      "execution_count": 11,
      "outputs": [
        {
          "output_type": "execute_result",
          "data": {
            "text/plain": [
              "array([[ 1.50688407,  0.35220486,  0.24514403, -1.61192476],\n",
              "       [-0.37612145,  0.04314937, -0.88901137, -0.23452786],\n",
              "       [-0.30359657, -0.72490012, -0.8889763 , -0.96262449],\n",
              "       [ 1.07005863,  0.22781412, -0.10695183, -0.13527871]])"
            ]
          },
          "metadata": {},
          "execution_count": 11
        }
      ]
    },
    {
      "cell_type": "code",
      "source": [
        "result = np.where(arr > 0 , 2, -2 )\n",
        "result"
      ],
      "metadata": {
        "colab": {
          "base_uri": "https://localhost:8080/"
        },
        "id": "r4Rq9KiHlnEP",
        "outputId": "eda557fb-7314-4bad-d20a-aa28efefcd20"
      },
      "execution_count": 12,
      "outputs": [
        {
          "output_type": "execute_result",
          "data": {
            "text/plain": [
              "array([[ 2,  2,  2, -2],\n",
              "       [-2,  2, -2, -2],\n",
              "       [-2, -2, -2, -2],\n",
              "       [ 2,  2, -2, -2]])"
            ]
          },
          "metadata": {},
          "execution_count": 12
        }
      ]
    },
    {
      "cell_type": "code",
      "source": [
        "# np.where 사용시 스칼라값과 배열을 조합할 수도 있다. \n",
        "# arr의 모든 양수를 2로 바꾸어라 \n",
        "result2 = np.where(arr > 0 , 2 , arr)\n",
        "result2"
      ],
      "metadata": {
        "colab": {
          "base_uri": "https://localhost:8080/"
        },
        "id": "uWUtX8ESlnTy",
        "outputId": "757e16a5-6ff0-4f6a-acf4-1c8db2993f4c"
      },
      "execution_count": 15,
      "outputs": [
        {
          "output_type": "execute_result",
          "data": {
            "text/plain": [
              "array([[ 2.        ,  2.        ,  2.        , -1.61192476],\n",
              "       [-0.37612145,  2.        , -0.88901137, -0.23452786],\n",
              "       [-0.30359657, -0.72490012, -0.8889763 , -0.96262449],\n",
              "       [ 2.        ,  2.        , -0.10695183, -0.13527871]])"
            ]
          },
          "metadata": {},
          "execution_count": 15
        }
      ]
    },
    {
      "cell_type": "markdown",
      "source": [
        "#### 3.2 수학 메서드와 통계 메서드   \n",
        ": sum , mean ,std 는 Numpy의 최상위 함수를 이용하거나 배열의 인스턴스 메서드를 사용해 구할 수 있다."
      ],
      "metadata": {
        "id": "R1hZNFVdlnck"
      }
    },
    {
      "cell_type": "code",
      "source": [
        "arr = np.arange(20).reshape(5,4)\n",
        "arr"
      ],
      "metadata": {
        "colab": {
          "base_uri": "https://localhost:8080/"
        },
        "id": "fZJIny3bmcso",
        "outputId": "20d53ffa-8ac3-42b4-9627-5f5ca994d4ea"
      },
      "execution_count": 32,
      "outputs": [
        {
          "output_type": "execute_result",
          "data": {
            "text/plain": [
              "array([[ 0,  1,  2,  3],\n",
              "       [ 4,  5,  6,  7],\n",
              "       [ 8,  9, 10, 11],\n",
              "       [12, 13, 14, 15],\n",
              "       [16, 17, 18, 19]])"
            ]
          },
          "metadata": {},
          "execution_count": 32
        }
      ]
    },
    {
      "cell_type": "markdown",
      "source": [
        "배열 전체에 대해서 계산 "
      ],
      "metadata": {
        "id": "VZn_0D9ym3zZ"
      }
    },
    {
      "cell_type": "code",
      "source": [
        "# 평균\n",
        "arr.mean() , np.mean(arr)"
      ],
      "metadata": {
        "colab": {
          "base_uri": "https://localhost:8080/"
        },
        "id": "rMI_v3C4mg7U",
        "outputId": "c02a8c10-3fbb-4bd7-9773-d1419a120efd"
      },
      "execution_count": 33,
      "outputs": [
        {
          "output_type": "execute_result",
          "data": {
            "text/plain": [
              "(9.5, 9.5)"
            ]
          },
          "metadata": {},
          "execution_count": 33
        }
      ]
    },
    {
      "cell_type": "code",
      "source": [
        "# 총합 \n",
        "arr.sum() , np.sum(arr)"
      ],
      "metadata": {
        "colab": {
          "base_uri": "https://localhost:8080/"
        },
        "id": "Q1L39fEAmuzs",
        "outputId": "20da9096-5bbe-4bf1-fe86-66566e76adcf"
      },
      "execution_count": 34,
      "outputs": [
        {
          "output_type": "execute_result",
          "data": {
            "text/plain": [
              "(190, 190)"
            ]
          },
          "metadata": {},
          "execution_count": 34
        }
      ]
    },
    {
      "cell_type": "markdown",
      "source": [
        "선택적으로 axis 인자를 받아 해당 axis에 대한 통계를 계산 . (-> 1차원 낮은 배열 반환 )"
      ],
      "metadata": {
        "id": "t0HpOtwUmyry"
      }
    },
    {
      "cell_type": "code",
      "source": [
        "arr.mean(axis =1 )  # ( ,  , )  = axis 0 1 2 \n",
        "# 각 행 평균 배열 "
      ],
      "metadata": {
        "colab": {
          "base_uri": "https://localhost:8080/"
        },
        "id": "reQrNJAunDwA",
        "outputId": "7fea30ac-9180-4796-a3dd-d4f2c7e1f43c"
      },
      "execution_count": 35,
      "outputs": [
        {
          "output_type": "execute_result",
          "data": {
            "text/plain": [
              "array([ 1.5,  5.5,  9.5, 13.5, 17.5])"
            ]
          },
          "metadata": {},
          "execution_count": 35
        }
      ]
    },
    {
      "cell_type": "code",
      "source": [
        "arr.sum(axis = 1) , arr.sum(1)  #  각 행 합을 구하라 "
      ],
      "metadata": {
        "colab": {
          "base_uri": "https://localhost:8080/"
        },
        "id": "ZG2ShfxHohZ0",
        "outputId": "33526fa0-d154-4b1e-d4fd-c3dfedcf828f"
      },
      "execution_count": 36,
      "outputs": [
        {
          "output_type": "execute_result",
          "data": {
            "text/plain": [
              "(array([ 6, 22, 38, 54, 70]), array([ 6, 22, 38, 54, 70]))"
            ]
          },
          "metadata": {},
          "execution_count": 36
        }
      ]
    },
    {
      "cell_type": "code",
      "source": [
        "arr.sum(axis =0 )  # ( ,  , )  = axis 0 1 2 \n",
        "# 각 열 합배열 "
      ],
      "metadata": {
        "colab": {
          "base_uri": "https://localhost:8080/"
        },
        "id": "R4Np5vewnUMT",
        "outputId": "2c13c555-e13c-447b-e981-2c29fd955e6c"
      },
      "execution_count": 37,
      "outputs": [
        {
          "output_type": "execute_result",
          "data": {
            "text/plain": [
              "array([40, 45, 50, 55])"
            ]
          },
          "metadata": {},
          "execution_count": 37
        }
      ]
    },
    {
      "cell_type": "code",
      "source": [
        "arr.sum(0)  # 각 컬럼의 합을 구하라 "
      ],
      "metadata": {
        "colab": {
          "base_uri": "https://localhost:8080/"
        },
        "id": "Zp3tPBW6oETz",
        "outputId": "807b1717-010d-4dc5-a019-424073b5dd69"
      },
      "execution_count": 39,
      "outputs": [
        {
          "output_type": "execute_result",
          "data": {
            "text/plain": [
              "array([40, 45, 50, 55])"
            ]
          },
          "metadata": {},
          "execution_count": 39
        }
      ]
    },
    {
      "cell_type": "markdown",
      "source": [
        "cumsum과 cumprod : 중간 계산값을 담고있는 배열을 반환 "
      ],
      "metadata": {
        "id": "tYF5kRk6oOsj"
      }
    },
    {
      "cell_type": "code",
      "source": [
        "arr = np.arange(8)\n",
        "arr"
      ],
      "metadata": {
        "colab": {
          "base_uri": "https://localhost:8080/"
        },
        "id": "U8kt9NJBpodt",
        "outputId": "bb09d708-cf5a-4b88-98ff-c7483ddee201"
      },
      "execution_count": 41,
      "outputs": [
        {
          "output_type": "execute_result",
          "data": {
            "text/plain": [
              "array([0, 1, 2, 3, 4, 5, 6, 7])"
            ]
          },
          "metadata": {},
          "execution_count": 41
        }
      ]
    },
    {
      "cell_type": "code",
      "source": [
        "arr.cumsum() , arr.cumprod()\n",
        "# cumsum()  : 0 , 0+1 , 0+1+2 , 0+1+2+3 ... (누적 합 )\n",
        "# cumprod() : 누적 곱 production"
      ],
      "metadata": {
        "colab": {
          "base_uri": "https://localhost:8080/"
        },
        "id": "9EnC9kX8pxMh",
        "outputId": "3e5ff0ec-e64d-4bb8-e0c0-e7e3eba45399"
      },
      "execution_count": 43,
      "outputs": [
        {
          "output_type": "execute_result",
          "data": {
            "text/plain": [
              "(array([ 0,  1,  3,  6, 10, 15, 21, 28]), array([0, 0, 0, 0, 0, 0, 0, 0]))"
            ]
          },
          "metadata": {},
          "execution_count": 43
        }
      ]
    },
    {
      "cell_type": "code",
      "source": [
        "# 다차원 배열에서 cumsum()\n",
        "arr = np.array([[0,1,2], [3,4,5], [6,7,8]])\n",
        "arr"
      ],
      "metadata": {
        "colab": {
          "base_uri": "https://localhost:8080/"
        },
        "id": "jGz6_154p7uN",
        "outputId": "c9e8590d-63a5-4582-b978-73185c57fc04"
      },
      "execution_count": 44,
      "outputs": [
        {
          "output_type": "execute_result",
          "data": {
            "text/plain": [
              "array([[0, 1, 2],\n",
              "       [3, 4, 5],\n",
              "       [6, 7, 8]])"
            ]
          },
          "metadata": {},
          "execution_count": 44
        }
      ]
    },
    {
      "cell_type": "code",
      "source": [
        "arr.cumsum(axis = 0) # 열 기준 누적합 "
      ],
      "metadata": {
        "colab": {
          "base_uri": "https://localhost:8080/"
        },
        "id": "f3G5Zmu4qRuV",
        "outputId": "101f9b56-c1f6-4a50-aa1b-e403efacf437"
      },
      "execution_count": 45,
      "outputs": [
        {
          "output_type": "execute_result",
          "data": {
            "text/plain": [
              "array([[ 0,  1,  2],\n",
              "       [ 3,  5,  7],\n",
              "       [ 9, 12, 15]])"
            ]
          },
          "metadata": {},
          "execution_count": 45
        }
      ]
    },
    {
      "cell_type": "code",
      "source": [
        "arr.cumprod(axis = 1) # 행 기준 누적곱 "
      ],
      "metadata": {
        "colab": {
          "base_uri": "https://localhost:8080/"
        },
        "id": "vr2zwCW0qa3P",
        "outputId": "05b3ea60-4f87-4440-aa9e-4223b994dd9a"
      },
      "execution_count": 46,
      "outputs": [
        {
          "output_type": "execute_result",
          "data": {
            "text/plain": [
              "array([[  0,   0,   0],\n",
              "       [  3,  12,  60],\n",
              "       [  6,  42, 336]])"
            ]
          },
          "metadata": {},
          "execution_count": 46
        }
      ]
    },
    {
      "cell_type": "markdown",
      "source": [
        "**기본 배열 통계 메서드**   \n",
        "sum , mean, std, var(분산) ,   \n",
        "min , max  (최소 ,최대값)  \n",
        "argmin, argmax( 최소, 최대 원소의 색인값)   \n",
        "cumsum , cumprod (누적 합 ,누적 곱)  "
      ],
      "metadata": {
        "id": "gLwQnWYUqyuD"
      }
    },
    {
      "cell_type": "markdown",
      "source": [
        "#### 3.3 불리언 배열을 위한메서드 "
      ],
      "metadata": {
        "id": "QdB485Y-rUps"
      }
    },
    {
      "cell_type": "code",
      "source": [
        "arr = np.random.randn(100)  \n",
        "arr"
      ],
      "metadata": {
        "colab": {
          "base_uri": "https://localhost:8080/"
        },
        "id": "1KnPbw9Urym2",
        "outputId": "0980334a-b301-401f-def9-05d717a5b1b1"
      },
      "execution_count": 47,
      "outputs": [
        {
          "output_type": "execute_result",
          "data": {
            "text/plain": [
              "array([-0.31882204, -0.23471326, -1.07930009, -1.01367567, -0.24312672,\n",
              "        0.90348808,  1.33185505, -1.15704864,  0.7027506 , -1.05981666,\n",
              "        0.89712309, -0.40186749,  1.22602248,  0.82336594, -0.40576861,\n",
              "       -1.59308856,  2.01785396,  0.0127193 ,  0.08065475,  0.85679803,\n",
              "        0.57603992, -0.06786785,  0.52844101, -2.2266388 ,  0.08362027,\n",
              "        1.2995064 , -0.51703991, -1.43462076, -0.11383171,  0.19763839,\n",
              "       -0.04771926,  0.08611839, -1.14535762,  1.31027758,  2.70479604,\n",
              "        0.42801775,  0.36370347, -0.48697892,  0.2106378 , -0.46771322,\n",
              "        1.5490063 ,  1.08534935, -1.09216387, -0.04168911,  0.26707955,\n",
              "        0.5864493 ,  0.22487151,  0.8346416 ,  2.62443288,  0.55729203,\n",
              "        0.23878291,  0.45585572, -0.67791522, -0.48848825, -0.04961417,\n",
              "        1.38664585, -0.5672426 , -0.76850081,  0.49226204, -0.28392306,\n",
              "        0.07370582, -0.9038028 ,  0.8110464 , -0.86201986, -0.49890747,\n",
              "        0.39476629, -1.24904247,  0.76118673, -1.55732394,  0.19419609,\n",
              "        0.60318402, -0.81865096,  0.20410728, -0.20257441, -1.28523231,\n",
              "       -0.67506258,  0.39901285, -1.06836716,  0.33737984,  1.20933604,\n",
              "       -0.79007876,  0.39233422,  1.2402559 , -0.36679807,  0.74168256,\n",
              "        1.21267015, -0.69638335, -0.05797363,  0.47622257,  0.65644671,\n",
              "       -0.89812875, -0.19943678,  0.99540882,  1.20552578, -1.67355093,\n",
              "        0.26693856, -0.7566616 , -1.30672708, -0.85294114,  1.00243265])"
            ]
          },
          "metadata": {},
          "execution_count": 47
        }
      ]
    },
    {
      "cell_type": "code",
      "source": [
        "# 양수인 원소 개수 \n",
        "(arr>0).sum()"
      ],
      "metadata": {
        "colab": {
          "base_uri": "https://localhost:8080/"
        },
        "id": "LbuabuYDsMSZ",
        "outputId": "16152e9f-d128-4666-f4b1-dffb2830c0fd"
      },
      "execution_count": 48,
      "outputs": [
        {
          "output_type": "execute_result",
          "data": {
            "text/plain": [
              "53"
            ]
          },
          "metadata": {},
          "execution_count": 48
        }
      ]
    },
    {
      "cell_type": "markdown",
      "source": [
        "any와 all 메서드 -> 불린 배열에 유용"
      ],
      "metadata": {
        "id": "X0ban0UosSFZ"
      }
    },
    {
      "cell_type": "code",
      "source": [
        "bools = np.array([False , False, True , False])\n",
        "print(bools.any())   # 하나라도 T ? \n",
        "print(bools.all()) # 모두 T ?"
      ],
      "metadata": {
        "colab": {
          "base_uri": "https://localhost:8080/"
        },
        "id": "P-JX8T-DsbIR",
        "outputId": "4890e2b5-7f57-43f9-b00a-3cd4ef2e83ce"
      },
      "execution_count": 50,
      "outputs": [
        {
          "output_type": "stream",
          "name": "stdout",
          "text": [
            "True\n",
            "False\n"
          ]
        }
      ]
    },
    {
      "cell_type": "markdown",
      "source": [
        "#### 3.4 정렬 : sort 메서드 \n"
      ],
      "metadata": {
        "id": "NnfslAkhsoi6"
      }
    },
    {
      "cell_type": "code",
      "source": [
        "arr= np.random.rand(6)\n",
        "print(arr , '\\n')\n",
        "arr.sort()\n",
        "print(arr)"
      ],
      "metadata": {
        "colab": {
          "base_uri": "https://localhost:8080/"
        },
        "id": "VAxrZtDPs5z1",
        "outputId": "6c25b5c9-5734-483b-bb3e-a2017551c2bc"
      },
      "execution_count": 54,
      "outputs": [
        {
          "output_type": "stream",
          "name": "stdout",
          "text": [
            "[0.38795236 0.16972605 0.68535845 0.94603815 0.62375609 0.49701631] \n",
            "\n",
            "[0.16972605 0.38795236 0.49701631 0.62375609 0.68535845 0.94603815]\n"
          ]
        }
      ]
    },
    {
      "cell_type": "code",
      "source": [
        "arr = np.random.randn(5,3)\n",
        "arr "
      ],
      "metadata": {
        "colab": {
          "base_uri": "https://localhost:8080/"
        },
        "id": "32GnPpdfs6M3",
        "outputId": "268f590c-853e-4fda-9aa9-1f71eff088ea"
      },
      "execution_count": 60,
      "outputs": [
        {
          "output_type": "execute_result",
          "data": {
            "text/plain": [
              "array([[-1.34818421, -0.04619363, -0.30615289],\n",
              "       [-0.7121411 ,  0.96388828, -0.88520653],\n",
              "       [ 1.24202416,  1.13528965, -0.41525131],\n",
              "       [ 1.25953027,  2.23417623, -0.54796676],\n",
              "       [-0.12277171, -1.09406404,  1.42277183]])"
            ]
          },
          "metadata": {},
          "execution_count": 60
        }
      ]
    },
    {
      "cell_type": "markdown",
      "source": [
        "다차원 배열의 정렬은 sort() 인자에 넘긴 축의 값에 따라 1차원 부분을 정렬 ( axis = 0 , axis = 1 ...)   \n",
        "\n",
        "np.sort()는 배열을 직접 변경하지 않고 정렬된 결과를 가지고 있는 복사본 반환 "
      ],
      "metadata": {
        "id": "QpjwdUmQuFMW"
      }
    },
    {
      "cell_type": "code",
      "source": [
        "# 0 : axis = 0 (열 방향 수직 )\n",
        "arr.sort(0) \n",
        "arr"
      ],
      "metadata": {
        "colab": {
          "base_uri": "https://localhost:8080/"
        },
        "id": "v6bR1wP9tTny",
        "outputId": "9a777c46-57e7-4f3d-91ca-e4d1073200ab"
      },
      "execution_count": 62,
      "outputs": [
        {
          "output_type": "execute_result",
          "data": {
            "text/plain": [
              "array([[-1.34818421, -1.09406404, -0.88520653],\n",
              "       [-0.7121411 , -0.04619363, -0.54796676],\n",
              "       [-0.12277171,  0.96388828, -0.41525131],\n",
              "       [ 1.24202416,  1.13528965, -0.30615289],\n",
              "       [ 1.25953027,  2.23417623,  1.42277183]])"
            ]
          },
          "metadata": {},
          "execution_count": 62
        }
      ]
    },
    {
      "cell_type": "code",
      "source": [
        "large_arr = np.random.randn(100)\n",
        "large_arr.sort()"
      ],
      "metadata": {
        "id": "wEoQqAlyta86"
      },
      "execution_count": 63,
      "outputs": []
    },
    {
      "cell_type": "code",
      "source": [
        "large_arr[(int(0.05 * len(large_arr)))] # 5% 분위수 "
      ],
      "metadata": {
        "colab": {
          "base_uri": "https://localhost:8080/"
        },
        "id": "mOzbL5NRufOV",
        "outputId": "be36857d-b762-48fa-a911-848eeabb65c2"
      },
      "execution_count": 65,
      "outputs": [
        {
          "output_type": "execute_result",
          "data": {
            "text/plain": [
              "-1.4289222633598802"
            ]
          },
          "metadata": {},
          "execution_count": 65
        }
      ]
    },
    {
      "cell_type": "markdown",
      "source": [
        "#### 3.5 집합 관련 함수 np.unique() : 고유값"
      ],
      "metadata": {
        "id": "lpUaukFsupL1"
      }
    },
    {
      "cell_type": "code",
      "source": [
        "ints = np.array([3,3,3,2,2,1,1,0])\n",
        "np.unique(ints)"
      ],
      "metadata": {
        "colab": {
          "base_uri": "https://localhost:8080/"
        },
        "id": "kbGmsHdSu7ls",
        "outputId": "5792f374-6e89-41c0-cbec-d455dd3ff7ce"
      },
      "execution_count": 67,
      "outputs": [
        {
          "output_type": "execute_result",
          "data": {
            "text/plain": [
              "array([0, 1, 2, 3])"
            ]
          },
          "metadata": {},
          "execution_count": 67
        }
      ]
    },
    {
      "cell_type": "code",
      "source": [
        "# np.in1d( , ) : 두개의 배열을 인자로 받고 첫번째 배열의 원소가 두번재 배열의 원소를 포함하는지 불린\n",
        "\n",
        "values  = np.array([6, 0,0 ,3,2,5,6])\n",
        "np.in1d(values , [2,3,6]) # values 원소가 2,3,6 중 1 ? "
      ],
      "metadata": {
        "colab": {
          "base_uri": "https://localhost:8080/"
        },
        "id": "XBqHShL7vO82",
        "outputId": "5838d437-83c1-47ed-b2b4-0d90746fa549"
      },
      "execution_count": 69,
      "outputs": [
        {
          "output_type": "execute_result",
          "data": {
            "text/plain": [
              "array([ True, False, False,  True,  True, False,  True])"
            ]
          },
          "metadata": {},
          "execution_count": 69
        }
      ]
    },
    {
      "cell_type": "markdown",
      "source": [
        "### 4. **선형대수** ! "
      ],
      "metadata": {
        "id": "GCnL_LpTvZ-M"
      }
    },
    {
      "cell_type": "markdown",
      "source": [
        "'*' 는 행렬의 곱셈(내적) 이 아니라 대응하는 원소의 곱을 계산.   \n",
        "행렬의 곱(product)는 dot 함수를 이용"
      ],
      "metadata": {
        "id": "zVmSg8c1yzcp"
      }
    },
    {
      "cell_type": "code",
      "source": [
        "x = np.array([[1, 2, 3], [4,5,6]])\n",
        "y = np.array([[6, 23], [-1 ,7] , [ 8,9]])\n",
        "x"
      ],
      "metadata": {
        "colab": {
          "base_uri": "https://localhost:8080/"
        },
        "id": "LJspZXN1zJxG",
        "outputId": "dc0799a6-5369-46ab-c335-f34809f38cd9"
      },
      "execution_count": 71,
      "outputs": [
        {
          "output_type": "execute_result",
          "data": {
            "text/plain": [
              "array([[1, 2, 3],\n",
              "       [4, 5, 6]])"
            ]
          },
          "metadata": {},
          "execution_count": 71
        }
      ]
    },
    {
      "cell_type": "code",
      "source": [
        "y"
      ],
      "metadata": {
        "colab": {
          "base_uri": "https://localhost:8080/"
        },
        "id": "yvj1JTQ3zdDC",
        "outputId": "2ea6acff-53ce-4636-8bae-38330cfc1d3c"
      },
      "execution_count": 72,
      "outputs": [
        {
          "output_type": "execute_result",
          "data": {
            "text/plain": [
              "array([[ 6, 23],\n",
              "       [-1,  7],\n",
              "       [ 8,  9]])"
            ]
          },
          "metadata": {},
          "execution_count": 72
        }
      ]
    },
    {
      "cell_type": "code",
      "source": [
        "x.dot(y)"
      ],
      "metadata": {
        "colab": {
          "base_uri": "https://localhost:8080/"
        },
        "id": "RQNbVqNXzffM",
        "outputId": "cb55e3cf-df76-48d8-c268-6b0c2ccbfd63"
      },
      "execution_count": 74,
      "outputs": [
        {
          "output_type": "execute_result",
          "data": {
            "text/plain": [
              "array([[ 28,  64],\n",
              "       [ 67, 181]])"
            ]
          },
          "metadata": {},
          "execution_count": 74
        }
      ]
    },
    {
      "cell_type": "markdown",
      "source": [
        ": 행렬의 곱 (내적) 은 기하학적으로 한 변환을 적용하고 다른 변환을 적용한 것과 같다. (선형변환)"
      ],
      "metadata": {
        "id": "ULXrvwNuzlp8"
      }
    },
    {
      "cell_type": "code",
      "source": [
        "np.dot(x , np.ones(3))  \n",
        "# 2차원 배열과 1차원 배열간 행렬곱셈(내적) : 선형변환  - 기저의 위치 "
      ],
      "metadata": {
        "colab": {
          "base_uri": "https://localhost:8080/"
        },
        "id": "l9idx-3TzhKh",
        "outputId": "d706c57f-1df3-470c-9eae-404ddfaf8f84"
      },
      "execution_count": 76,
      "outputs": [
        {
          "output_type": "execute_result",
          "data": {
            "text/plain": [
              "array([ 6., 15.])"
            ]
          },
          "metadata": {},
          "execution_count": 76
        }
      ]
    },
    {
      "cell_type": "code",
      "source": [
        "x @ np.ones(3)"
      ],
      "metadata": {
        "colab": {
          "base_uri": "https://localhost:8080/"
        },
        "id": "4sGozK3d0Poz",
        "outputId": "05efb70e-bb0d-4c4c-af52-4e637aa2ae1b"
      },
      "execution_count": 77,
      "outputs": [
        {
          "output_type": "execute_result",
          "data": {
            "text/plain": [
              "array([ 6., 15.])"
            ]
          },
          "metadata": {},
          "execution_count": 77
        }
      ]
    },
    {
      "cell_type": "markdown",
      "source": [
        ": @ 기호는 행렬 곱셈을 수행하는 연산자"
      ],
      "metadata": {
        "id": "mLNaqaMv0fbl"
      }
    },
    {
      "cell_type": "markdown",
      "source": [
        "* numpy.linalg : 행렬의 분할 ,역행렬 inverse ,행렬식 det등 포함함 "
      ],
      "metadata": {
        "id": "CvGaNFQc0c9T"
      }
    },
    {
      "cell_type": "code",
      "source": [
        "from numpy.linalg import inv, qr  # 역행렬과 qr 분해 "
      ],
      "metadata": {
        "id": "FGtWL8C90uwC"
      },
      "execution_count": 79,
      "outputs": []
    },
    {
      "cell_type": "markdown",
      "source": [
        "### 5. 난수 생성 : numpy.random 모듈 "
      ],
      "metadata": {
        "id": "EfBJAsYF01sG"
      }
    },
    {
      "cell_type": "code",
      "source": [
        "samples = np.random.normal(size =(4,4))  # 표준 정규분포 \n",
        "samples"
      ],
      "metadata": {
        "colab": {
          "base_uri": "https://localhost:8080/"
        },
        "id": "HLKAKKl11Jim",
        "outputId": "9de2e5c1-dbd0-4e3d-e47e-20ffe61f1e12"
      },
      "execution_count": 82,
      "outputs": [
        {
          "output_type": "execute_result",
          "data": {
            "text/plain": [
              "array([[ 0.32797877,  0.06483307,  0.29729887,  0.69361547],\n",
              "       [-1.76822646,  1.70493929,  0.74587692,  0.690411  ],\n",
              "       [-0.38469543, -0.74857041, -0.75621982, -0.94874867],\n",
              "       [ 0.0482578 , -1.06946284, -0.76527066, -0.52657204]])"
            ]
          },
          "metadata": {},
          "execution_count": 82
        }
      ]
    },
    {
      "cell_type": "code",
      "source": [
        "np.random.seed(1234) # 시드 고정 "
      ],
      "metadata": {
        "id": "WVOWj9PQ1THL"
      },
      "execution_count": 83,
      "outputs": []
    },
    {
      "cell_type": "markdown",
      "source": [
        "* numpy.random 함수  \n",
        "seed(난수지정 ) , shuffle(리스트나 배열 순서 뒤섞기)  \n",
        "rand(균등분포에서 표본 추출) ,   \n",
        "randint() : 주어진 최소/최대 범위 내에서 난수 추출 \n",
        "randn : 0~ 1 정규분포에서 표본 추출 \n",
        ",,, "
      ],
      "metadata": {
        "id": "O43hFSKs3b9_"
      }
    },
    {
      "cell_type": "markdown",
      "source": [
        "### 6. 계단 오르내리기 예제   \n",
        ": 같은 확률로 한계단 올라가거나 내려간다고 가정. "
      ],
      "metadata": {
        "id": "Rj3V-ufA1emY"
      }
    },
    {
      "cell_type": "code",
      "source": [
        "import random \n",
        "position = 0 \n",
        "walk = [position]\n",
        "steps =1000 # 천번 오르내리기 시도 \n",
        "for i in range(steps) : \n",
        "  step = 1 if random.randint(0,1) else -1 \n",
        "  position += step\n",
        "  walk.append(position)"
      ],
      "metadata": {
        "id": "CqEwN5fJ2BmA"
      },
      "execution_count": 85,
      "outputs": []
    },
    {
      "cell_type": "code",
      "source": [
        "import matplotlib.pyplot as plt\n",
        "\n",
        "plt.plot(walk[:100])  #100 번의 시도 "
      ],
      "metadata": {
        "colab": {
          "base_uri": "https://localhost:8080/",
          "height": 283
        },
        "id": "rpg1sQ7a2tt4",
        "outputId": "5b2bf2d5-3ae2-498b-e415-e01651694d70"
      },
      "execution_count": 87,
      "outputs": [
        {
          "output_type": "execute_result",
          "data": {
            "text/plain": [
              "[<matplotlib.lines.Line2D at 0x7f817cb5a390>]"
            ]
          },
          "metadata": {},
          "execution_count": 87
        },
        {
          "output_type": "display_data",
          "data": {
            "image/png": "[encoded data removed]",
            "text/plain": [
              "<Figure size 432x288 with 1 Axes>"
            ]
          },
          "metadata": {
            "needs_background": "light"
          }
        }
      ]
    },
    {
      "cell_type": "markdown",
      "source": [
        "100 번 했더니 6임.   \n",
        "walk는 계단을 오르거나 내린 누적합(cumsum)"
      ],
      "metadata": {
        "id": "zdTZ1pc620rS"
      }
    },
    {
      "cell_type": "code",
      "source": [
        "nsteps = 1000 \n",
        "draws = np.random.randint(0 , 2 , size = nsteps) # [0 ,2) 범위 : 0 , 1 에서 정수 생성 1000번 \n",
        "steps = np.where(draws > 0 , 1 , -1 )\n",
        "walks = steps.cumsum()"
      ],
      "metadata": {
        "id": "gT2ghoqY2846"
      },
      "execution_count": 102,
      "outputs": []
    },
    {
      "cell_type": "code",
      "source": [
        "print('계단 최소값 위치 , 최대값 위치:' , (walks.min(), walks.max()))"
      ],
      "metadata": {
        "colab": {
          "base_uri": "https://localhost:8080/"
        },
        "id": "KY1P53TZ4GJg",
        "outputId": "d9094960-0d5c-45de-82a0-9e5273b23305"
      },
      "execution_count": 103,
      "outputs": [
        {
          "output_type": "stream",
          "name": "stdout",
          "text": [
            "계단 최소값 위치 , 최대값 위치: (-12, 31)\n"
          ]
        }
      ]
    },
    {
      "cell_type": "code",
      "source": [
        "# 계단에서 특정위치에 도달하기 까지의 시간 \n",
        "(np.abs(walks) >=10).argmax()"
      ],
      "metadata": {
        "colab": {
          "base_uri": "https://localhost:8080/"
        },
        "id": "OhYxD2Ur5N2N",
        "outputId": "35933959-b391-4037-87db-2d5192e2ace9"
      },
      "execution_count": 104,
      "outputs": [
        {
          "output_type": "execute_result",
          "data": {
            "text/plain": [
              "81"
            ]
          },
          "metadata": {},
          "execution_count": 104
        }
      ]
    },
    {
      "cell_type": "markdown",
      "source": [
        ": np.abs() - 절대값, argmax() : 배열 최대값의 처음 색인   \n",
        "계단 위치 10 or -10 에서 처음으로 10 위치 "
      ],
      "metadata": {
        "id": "ktlICUA65o3V"
      }
    },
    {
      "cell_type": "markdown",
      "source": [
        "#### 6.1 한번에 시뮬레이션   \n",
        ": 계단 오르내리기 시뮬레이션을 5000회 실시 ,  \n",
        " numpy.random 함수에 크기가 2인 튜플을 넘겨 2차원 배열을 생성 , 각 컬럼의 누적합을 구함."
      ],
      "metadata": {
        "id": "J0Uhdy2f5--Z"
      }
    },
    {
      "cell_type": "code",
      "source": [
        "nwalks = 5000 # 시뮬레이션 횟수\n",
        "nsteps = 1000 # 한 시뮬당 계단 1000번 오르내릴거임.\n",
        "draws = np.random.randint(0,2 , size = (nwalks, nsteps)) \n",
        "# size = 난수의 크기 (튜플) -> 행렬  : (5000행 , 1000열)\n",
        "steps = np.where(draws > 0 , 1, -1)\n",
        "walks = steps.cumsum(1) # axis 1 # 행 더함 \n",
        "\n",
        "walks"
      ],
      "metadata": {
        "colab": {
          "base_uri": "https://localhost:8080/"
        },
        "id": "LdlNpZXA6SWg",
        "outputId": "c4d4b659-94b7-4836-9bb5-68b6a7481639"
      },
      "execution_count": 110,
      "outputs": [
        {
          "output_type": "execute_result",
          "data": {
            "text/plain": [
              "array([[ -1,   0,   1, ...,  20,  21,  22],\n",
              "       [  1,   0,  -1, ...,  48,  47,  46],\n",
              "       [ -1,  -2,  -1, ..., -78, -79, -78],\n",
              "       ...,\n",
              "       [ -1,  -2,  -3, ..., -10,  -9, -10],\n",
              "       [ -1,   0,   1, ..., -26, -25, -24],\n",
              "       [ -1,   0,   1, ...,  -4,  -3,  -4]])"
            ]
          },
          "metadata": {},
          "execution_count": 110
        }
      ]
    },
    {
      "cell_type": "code",
      "source": [
        "len(walks)"
      ],
      "metadata": {
        "colab": {
          "base_uri": "https://localhost:8080/"
        },
        "id": "wVhv61L88AI_",
        "outputId": "872f2e81-31ae-40c7-fafb-a619930c4cae"
      },
      "execution_count": 111,
      "outputs": [
        {
          "output_type": "execute_result",
          "data": {
            "text/plain": [
              "5000"
            ]
          },
          "metadata": {},
          "execution_count": 111
        }
      ]
    },
    {
      "cell_type": "code",
      "source": [
        "print('시뮬레이션 5000 번중 최고 기록, 최저기록 ')\n",
        "walks.max() , walks.min()"
      ],
      "metadata": {
        "colab": {
          "base_uri": "https://localhost:8080/"
        },
        "id": "1Zk3ieXJ9ING",
        "outputId": "488b8fb8-5cc1-486f-d355-965fa4d1c4d2"
      },
      "execution_count": 112,
      "outputs": [
        {
          "output_type": "stream",
          "name": "stdout",
          "text": [
            "시뮬레이션 5000 번중 최고 기록, 최저기록 \n"
          ]
        },
        {
          "output_type": "execute_result",
          "data": {
            "text/plain": [
              "(109, -118)"
            ]
          },
          "metadata": {},
          "execution_count": 112
        }
      ]
    },
    {
      "cell_type": "markdown",
      "source": [
        "누적합이 30 or -30 이 되는 최소 시점을 계산 .(any)\n"
      ],
      "metadata": {
        "id": "XB8Zf1s593Mh"
      }
    },
    {
      "cell_type": "code",
      "source": [
        "hits30 = (np.abs(walks) >= 30).any(1) \n",
        "hits30"
      ],
      "metadata": {
        "colab": {
          "base_uri": "https://localhost:8080/"
        },
        "id": "TQfB9YsP9Rt2",
        "outputId": "81706cc0-37a0-47d4-eeaa-71dfed9e6aa5"
      },
      "execution_count": 113,
      "outputs": [
        {
          "output_type": "execute_result",
          "data": {
            "text/plain": [
              "array([False,  True,  True, ..., False,  True, False])"
            ]
          },
          "metadata": {},
          "execution_count": 113
        }
      ]
    },
    {
      "cell_type": "code",
      "source": [
        "hits30.sum()  # 누적합이 30 or -30이 되는 경우의 수"
      ],
      "metadata": {
        "colab": {
          "base_uri": "https://localhost:8080/"
        },
        "id": "5LpHnegI9nkY",
        "outputId": "f0705045-4e75-47e8-abde-b7f3e4ed7276"
      },
      "execution_count": 114,
      "outputs": [
        {
          "output_type": "execute_result",
          "data": {
            "text/plain": [
              "3338"
            ]
          },
          "metadata": {},
          "execution_count": 114
        }
      ]
    },
    {
      "cell_type": "code",
      "source": [
        "# 이 경우에 대해 축 1의 argmax 값을 구하면 처음 위치에서 30칸 이상 멀어지는 최소 시점 \n",
        "crossing_times = (np.abs(walks[hits30])>= 30).argmax(1)\n",
        "\n",
        "crossing_times.mean()"
      ],
      "metadata": {
        "colab": {
          "base_uri": "https://localhost:8080/"
        },
        "id": "2I5ikULI9yuU",
        "outputId": "d70763e5-237c-4c85-9ee0-068208517083"
      },
      "execution_count": 116,
      "outputs": [
        {
          "output_type": "execute_result",
          "data": {
            "text/plain": [
              "510.48292390653086"
            ]
          },
          "metadata": {},
          "execution_count": 116
        }
      ]
    },
    {
      "cell_type": "code",
      "source": [
        ""
      ],
      "metadata": {
        "id": "3gueCVJ2-KV7"
      },
      "execution_count": null,
      "outputs": []
    }
  ]
}