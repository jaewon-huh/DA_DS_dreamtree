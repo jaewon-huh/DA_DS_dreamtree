{
  "nbformat": 4,
  "nbformat_minor": 0,
  "metadata": {
    "colab": {
      "name": "혼공머신러닝2",
      "provenance": [],
      "collapsed_sections": [
        "SKqdqcRGNLKk"
      ],
      "authorship_tag": "ABX9TyNbR7I4ZXrrifBHcoeFxMvH",
      "include_colab_link": true
    },
    "kernelspec": {
      "name": "python3",
      "display_name": "Python 3"
    },
    "language_info": {
      "name": "python"
    }
  },
  "cells": [
    {
      "cell_type": "markdown",
      "metadata": {
        "id": "view-in-github",
        "colab_type": "text"
      },
      "source": [
        "<a href=\"https://colab.research.google.com/github/jaewon-huh/DA_DS_dreamtree/blob/main/%ED%98%BC%EA%B3%B5%EB%A8%B8%EC%8B%A0%EB%9F%AC%EB%8B%9D2.ipynb\" target=\"_parent\"><img src=\"https://colab.research.google.com/assets/colab-badge.svg\" alt=\"Open In Colab\"/></a>"
      ]
    },
    {
      "cell_type": "markdown",
      "source": [
        "## 03 회귀 알고리즘과 모델 규제"
      ],
      "metadata": {
        "id": "SKqdqcRGNLKk"
      }
    },
    {
      "cell_type": "markdown",
      "source": [
        "## K-최근접 이웃 회귀  \n",
        ": 샘플에 가장 가까운 샘플 k개 , k개의 샘플 -> 샘플  \n",
        " * 분류 - 샘플 클래스는 ? \n",
        " * 회귀-  샘플의 타겟이 임의의 수치 ( k개 샘플 수치들의 평균 -> 샘플)"
      ],
      "metadata": {
        "id": "dyswEJloOA29"
      }
    },
    {
      "cell_type": "markdown",
      "source": [
        "### 농어 무게 예측 \n",
        "http://bit.ly/perch_data"
      ],
      "metadata": {
        "id": "OLJUeNlkOK2b"
      }
    },
    {
      "cell_type": "code",
      "source": [
        "# 농어 길이 무게 \n",
        "import numpy as np\n",
        "\n",
        "perch_length = np.array([8.4, 13.7, 15.0, 16.2, 17.4, 18.0, 18.7, 19.0, 19.6, 20.0, 21.0,\n",
        "       21.0, 21.0, 21.3, 22.0, 22.0, 22.0, 22.0, 22.0, 22.5, 22.5, 22.7,\n",
        "       23.0, 23.5, 24.0, 24.0, 24.6, 25.0, 25.6, 26.5, 27.3, 27.5, 27.5,\n",
        "       27.5, 28.0, 28.7, 30.0, 32.8, 34.5, 35.0, 36.5, 36.0, 37.0, 37.0,\n",
        "       39.0, 39.0, 39.0, 40.0, 40.0, 40.0, 40.0, 42.0, 43.0, 43.0, 43.5,\n",
        "       44.0])\n",
        "perch_weight = np.array([5.9, 32.0, 40.0, 51.5, 70.0, 100.0, 78.0, 80.0, 85.0, 85.0, 110.0,\n",
        "       115.0, 125.0, 130.0, 120.0, 120.0, 130.0, 135.0, 110.0, 130.0,\n",
        "       150.0, 145.0, 150.0, 170.0, 225.0, 145.0, 188.0, 180.0, 197.0,\n",
        "       218.0, 300.0, 260.0, 265.0, 250.0, 250.0, 300.0, 320.0, 514.0,\n",
        "       556.0, 840.0, 685.0, 700.0, 700.0, 690.0, 900.0, 650.0, 820.0,\n",
        "       850.0, 900.0, 1015.0, 820.0, 1100.0, 1000.0, 1100.0, 1000.0,\n",
        "       1000.0])"
      ],
      "metadata": {
        "id": "JFwc2sssPCfs"
      },
      "execution_count": null,
      "outputs": []
    },
    {
      "cell_type": "code",
      "source": [
        "# 산점도 \n",
        "import matplotlib.pyplot as plt\n",
        "plt.scatter(x = perch_length, y = perch_weight)\n",
        "plt.xlabel('length')\n",
        "plt.ylabel('weight')"
      ],
      "metadata": {
        "colab": {
          "base_uri": "https://localhost:8080/",
          "height": 297
        },
        "id": "0p08yn0QPK-r",
        "outputId": "bd5c1c98-b52d-4d7f-8b5a-b7fc913df801"
      },
      "execution_count": null,
      "outputs": [
        {
          "output_type": "execute_result",
          "data": {
            "text/plain": [
              "Text(0, 0.5, 'weight')"
            ]
          },
          "metadata": {},
          "execution_count": 2
        },
        {
          "output_type": "display_data",
          "data": {
            "image/png": "[encoded data removed]",
            "text/plain": [
              "<Figure size 432x288 with 1 Axes>"
            ]
          },
          "metadata": {
            "needs_background": "light"
          }
        }
      ]
    },
    {
      "cell_type": "markdown",
      "source": [
        ": 농어의 길이와 무게가 비례 관계"
      ],
      "metadata": {
        "id": "uttY6IROPZdy"
      }
    },
    {
      "cell_type": "code",
      "source": [
        "# 학습 데이터 구분 \n",
        "from sklearn.model_selection import train_test_split\n",
        "train_input, test_input, train_target, test_target = train_test_split(perch_length, perch_weight,\n",
        "                                                                      random_state =42)"
      ],
      "metadata": {
        "id": "91tqMD79PgSF"
      },
      "execution_count": null,
      "outputs": []
    },
    {
      "cell_type": "markdown",
      "source": [
        "* 훈련 세트를 2차원 배열 array로 변환해야함: list -> array"
      ],
      "metadata": {
        "id": "HunBC96lQJi1"
      }
    },
    {
      "cell_type": "code",
      "source": [
        "train_input.shape\n",
        "# -> (42,1)"
      ],
      "metadata": {
        "colab": {
          "base_uri": "https://localhost:8080/"
        },
        "id": "JVqLJWPLQfKg",
        "outputId": "ab34c823-25dd-4dd8-de82-d5e478632eb0"
      },
      "execution_count": null,
      "outputs": [
        {
          "output_type": "execute_result",
          "data": {
            "text/plain": [
              "(42,)"
            ]
          },
          "metadata": {},
          "execution_count": 4
        }
      ]
    },
    {
      "cell_type": "markdown",
      "source": [
        "* reshape(행, 열) : reshape(-1, 1) - 나머지 원소개수 행, 1열  "
      ],
      "metadata": {
        "id": "WRmTQyz1Q8o0"
      }
    },
    {
      "cell_type": "code",
      "source": [
        "# 학습데이터\n",
        "train_input = train_input.reshape(-1,1)\n",
        "test_input = test_input.reshape(-1,1)\n",
        "print(train_input.shape, test_input.shape)"
      ],
      "metadata": {
        "colab": {
          "base_uri": "https://localhost:8080/"
        },
        "id": "eLyHEjn6Qr3Q",
        "outputId": "73eb4cec-d10f-4021-9b38-35f8176df1ee"
      },
      "execution_count": null,
      "outputs": [
        {
          "output_type": "stream",
          "name": "stdout",
          "text": [
            "(42, 1) (14, 1)\n"
          ]
        }
      ]
    },
    {
      "cell_type": "markdown",
      "source": [
        "* 최근접 이웃 회귀 알고리즘: KNeighborsRegressor   \n",
        " fit -> score : R^2  결정계수"
      ],
      "metadata": {
        "id": "ugIRZA3WRd6D"
      }
    },
    {
      "cell_type": "code",
      "source": [
        "from sklearn.neighbors import KNeighborsRegressor\n",
        "# 객체 생성\n",
        "knr = KNeighborsRegressor()\n",
        "\n",
        "# 훈련 \n",
        "knr.fit(train_input,train_target) # Train X-> y"
      ],
      "metadata": {
        "colab": {
          "base_uri": "https://localhost:8080/"
        },
        "id": "KiuWxS98R69V",
        "outputId": "38110a42-7bec-4678-be60-1420cf5a4c75"
      },
      "execution_count": null,
      "outputs": [
        {
          "output_type": "execute_result",
          "data": {
            "text/plain": [
              "KNeighborsRegressor()"
            ]
          },
          "metadata": {},
          "execution_count": 6
        }
      ]
    },
    {
      "cell_type": "code",
      "source": [
        "# 성능 평가 knr.score()\n",
        "knr.score(test_input, test_target) # test X ->y"
      ],
      "metadata": {
        "colab": {
          "base_uri": "https://localhost:8080/"
        },
        "id": "lnkAmPv0SOa4",
        "outputId": "61c7f1ac-9bd8-4557-dc44-3c6121209a50"
      },
      "execution_count": null,
      "outputs": [
        {
          "output_type": "execute_result",
          "data": {
            "text/plain": [
              "0.992809406101064"
            ]
          },
          "metadata": {},
          "execution_count": 7
        }
      ]
    },
    {
      "cell_type": "markdown",
      "source": [
        "* 예측 성능 평가 -> metrics 모듈 사용 (acurracy_score ... )  \n",
        "이번경우에는 mean_absolute_error : 타깃과 예측의 절대값 오차를 평균 "
      ],
      "metadata": {
        "id": "hdmMkgP8Spgz"
      }
    },
    {
      "cell_type": "code",
      "source": [
        "from sklearn.metrics import mean_absolute_error\n",
        "\n",
        "# 테스트 세트에 대한 예측 predict\n",
        "test_prediction = knr.predict(test_input) # X_test\n",
        "# 오차 게산 \n",
        "mae = mean_absolute_error(test_target, test_prediction)\n",
        "mae"
      ],
      "metadata": {
        "colab": {
          "base_uri": "https://localhost:8080/"
        },
        "id": "UAjZKwJyToqo",
        "outputId": "956aa900-feda-4be5-d68b-35cf822e0944"
      },
      "execution_count": null,
      "outputs": [
        {
          "output_type": "execute_result",
          "data": {
            "text/plain": [
              "19.157142857142862"
            ]
          },
          "metadata": {},
          "execution_count": 8
        }
      ]
    },
    {
      "cell_type": "markdown",
      "source": [
        ": 예측이 평균적으로 19g정도 타깃값과 다르다 "
      ],
      "metadata": {
        "id": "BgWXIIdrYbFI"
      }
    },
    {
      "cell_type": "markdown",
      "source": [
        "* 훈련세트를 가지고 평가 score(train_input, train_target)"
      ],
      "metadata": {
        "id": "ztxtJg_TYlpO"
      }
    },
    {
      "cell_type": "code",
      "source": [
        "knr.score(train_input, train_target)"
      ],
      "metadata": {
        "colab": {
          "base_uri": "https://localhost:8080/"
        },
        "id": "X3I-XYZfY8Ke",
        "outputId": "8356e705-5106-44f0-e7a1-a8b99a752b5d"
      },
      "execution_count": null,
      "outputs": [
        {
          "output_type": "execute_result",
          "data": {
            "text/plain": [
              "0.9698823289099254"
            ]
          },
          "metadata": {},
          "execution_count": 9
        }
      ]
    },
    {
      "cell_type": "markdown",
      "source": [
        "* 과소적합 문제 발생 ,   \n",
        "보통은 훈련세트 훈련 - 훈련세트 검증 하면 훈련세트 점수가 더 높음   \n",
        "과대적합 : 훈련세트 점수 >> 테스트 점수 , 훈련 세트에만 잘 맞는 모델   \n",
        "과소적합 : 훈련세트 점수 < 테스트 점수 or 둘다 low , 모델이 단순해 적절히 훈련되지 않음 "
      ],
      "metadata": {
        "id": "oBiI6urUZAx_"
      }
    },
    {
      "cell_type": "markdown",
      "source": [
        "* -> 모델을 더욱 복잡(민감)하게 만듬, k-nearest : 이웃의 개수 줄임( 민감)"
      ],
      "metadata": {
        "id": "JD2ssTgkZe7t"
      }
    },
    {
      "cell_type": "code",
      "source": [
        "knr.n_neighbors =3 \n",
        "# 다시 훈련 \n",
        "knr.fit(train_input, train_target)\n",
        "knr.score(test_input,test_target)"
      ],
      "metadata": {
        "colab": {
          "base_uri": "https://localhost:8080/"
        },
        "id": "pYRj_6kbZzk-",
        "outputId": "d8a6c1bf-b735-4593-a5c0-2d9255b13f5c"
      },
      "execution_count": null,
      "outputs": [
        {
          "output_type": "execute_result",
          "data": {
            "text/plain": [
              "0.9746459963987609"
            ]
          },
          "metadata": {},
          "execution_count": 10
        }
      ]
    },
    {
      "cell_type": "markdown",
      "source": [
        "## 선형회귀"
      ],
      "metadata": {
        "id": "TmTrziHyaDHB"
      }
    },
    {
      "cell_type": "markdown",
      "source": [
        "### K-최근접이웃의 한계"
      ],
      "metadata": {
        "id": "_3ciFGgLeSdx"
      }
    },
    {
      "cell_type": "code",
      "source": [
        "# 이웃 3, k이웃회귀 객체\n",
        "knr= KNeighborsRegressor(n_neighbors =3)\n",
        "knr.fit(train_input, train_target)"
      ],
      "metadata": {
        "colab": {
          "base_uri": "https://localhost:8080/"
        },
        "id": "KwKxGuVHeV71",
        "outputId": "6414e918-6bc3-4e5f-bc5f-e69653c3ebbb"
      },
      "execution_count": null,
      "outputs": [
        {
          "output_type": "execute_result",
          "data": {
            "text/plain": [
              "KNeighborsRegressor(n_neighbors=3)"
            ]
          },
          "metadata": {},
          "execution_count": 11
        }
      ]
    },
    {
      "cell_type": "code",
      "source": [
        "# 길이가 50인 농어의 무게는? \n",
        "knr.predict([[50]])"
      ],
      "metadata": {
        "colab": {
          "base_uri": "https://localhost:8080/"
        },
        "id": "L_T6Ipm9exgB",
        "outputId": "36f0f237-8d03-4930-b75c-f4e367c0f261"
      },
      "execution_count": null,
      "outputs": [
        {
          "output_type": "execute_result",
          "data": {
            "text/plain": [
              "array([1033.33333333])"
            ]
          },
          "metadata": {},
          "execution_count": 12
        }
      ]
    },
    {
      "cell_type": "markdown",
      "source": [
        "Problem : 1kg으로 예상했지만 실제로는 무게가 더 나감 (1.5kg)"
      ],
      "metadata": {
        "id": "dFHrkwaVe8jU"
      }
    },
    {
      "cell_type": "code",
      "source": [
        "# 산점도 표시 \n",
        "import matplotlib.pyplot as plt\n",
        "plt.figure(figsize=(10,5))\n",
        "# 50cm 농어의 이웃 \n",
        "distances, indexes = knr.kneighbors([[50]])\n",
        "\n",
        "# 산점도 \n",
        "plt.scatter(train_input, train_target)\n",
        "# 50cm 농어 \n",
        "plt.scatter(50,1033, marker='^')\n",
        "# 50cm 농어 이웃 샘플\n",
        "plt.scatter(train_input[indexes], train_target[indexes], marker = \"D\")\n",
        "\n",
        "plt.xlabel('length')\n",
        "plt.ylabel('weight')"
      ],
      "metadata": {
        "colab": {
          "base_uri": "https://localhost:8080/",
          "height": 352
        },
        "id": "nTfLRmLhfN8q",
        "outputId": "d20f8962-6bcb-424c-90dd-b7567ccb33f2"
      },
      "execution_count": null,
      "outputs": [
        {
          "output_type": "execute_result",
          "data": {
            "text/plain": [
              "Text(0, 0.5, 'weight')"
            ]
          },
          "metadata": {},
          "execution_count": 13
        },
        {
          "output_type": "display_data",
          "data": {
            "image/png": "[encoded data removed]",
            "text/plain": [
              "<Figure size 720x360 with 1 Axes>"
            ]
          },
          "metadata": {
            "needs_background": "light"
          }
        }
      ]
    },
    {
      "cell_type": "markdown",
      "source": [
        ": 50cm 의 농어가 이상치임 . 따라서 기존 45cm 농어들 무게의 평균인 1kg으로 평가함"
      ],
      "metadata": {
        "id": "TPmQsv_OgJzr"
      }
    },
    {
      "cell_type": "code",
      "source": [
        "# 100cm 농어 무게 \n",
        "knr.predict([[100]])"
      ],
      "metadata": {
        "colab": {
          "base_uri": "https://localhost:8080/"
        },
        "id": "KwTxXLMcgia4",
        "outputId": "5a1d7d03-43e1-4ec7-c9f8-a9cd8a201437"
      },
      "execution_count": null,
      "outputs": [
        {
          "output_type": "execute_result",
          "data": {
            "text/plain": [
              "array([1033.33333333])"
            ]
          },
          "metadata": {},
          "execution_count": 14
        }
      ]
    },
    {
      "cell_type": "code",
      "source": [
        "# 산점도 표시 \n",
        "plt.figure(figsize=(10,5))\n",
        "# 100cm 농어의 이웃 \n",
        "distances, indexes = knr.kneighbors([[100]])\n",
        "\n",
        "# 산점도 \n",
        "plt.scatter(train_input, train_target)\n",
        "# 100cm 농어 \n",
        "plt.scatter(100,1033, marker='^')\n",
        "# 100cm 농어 이웃 샘플\n",
        "plt.scatter(train_input[indexes], train_target[indexes], marker = \"D\")\n",
        "\n",
        "plt.xlabel('length')\n",
        "plt.ylabel('weight')"
      ],
      "metadata": {
        "colab": {
          "base_uri": "https://localhost:8080/",
          "height": 352
        },
        "id": "s_H88nlbgm0g",
        "outputId": "e534488d-0ebf-415e-ca65-b6497cbc1de3"
      },
      "execution_count": null,
      "outputs": [
        {
          "output_type": "execute_result",
          "data": {
            "text/plain": [
              "Text(0, 0.5, 'weight')"
            ]
          },
          "metadata": {},
          "execution_count": 15
        },
        {
          "output_type": "display_data",
          "data": {
            "image/png": "[encoded data removed]",
            "text/plain": [
              "<Figure size 720x360 with 1 Axes>"
            ]
          },
          "metadata": {
            "needs_background": "light"
          }
        }
      ]
    },
    {
      "cell_type": "markdown",
      "source": [
        "### 선형 회귀 : 직선을 학습 LinearRegression   \n",
        ": y = ax + b , coef & intercept"
      ],
      "metadata": {
        "id": "Z_kshC5Hg06a"
      }
    },
    {
      "cell_type": "code",
      "source": [
        "from sklearn.linear_model import LinearRegression\n",
        "lr = LinearRegression() # 객체 \n",
        "\n",
        "# 훈련 \n",
        "lr.fit(train_input, train_target)\n",
        "\n",
        "# 50cm 농어 예측 \n",
        "lr.predict([[50]])"
      ],
      "metadata": {
        "colab": {
          "base_uri": "https://localhost:8080/"
        },
        "id": "aWP_Fq-Ig_2c",
        "outputId": "f4d633c0-17a7-4d66-9e51-125f914d3f6a"
      },
      "execution_count": null,
      "outputs": [
        {
          "output_type": "execute_result",
          "data": {
            "text/plain": [
              "array([1241.83860323])"
            ]
          },
          "metadata": {},
          "execution_count": 16
        }
      ]
    },
    {
      "cell_type": "code",
      "source": [
        "# a와 b 파라미터 lr.coef_ , lr.intercept_\n",
        "print(lr.coef_, lr.intercept_)"
      ],
      "metadata": {
        "colab": {
          "base_uri": "https://localhost:8080/"
        },
        "id": "dOrr2so3hZGq",
        "outputId": "345b1281-f308-4f26-b720-f6aa6aa87eb8"
      },
      "execution_count": null,
      "outputs": [
        {
          "output_type": "stream",
          "name": "stdout",
          "text": [
            "[39.01714496] -709.0186449535477\n"
          ]
        }
      ]
    },
    {
      "cell_type": "markdown",
      "source": [
        "y = 39.01x -709.01 을 따름"
      ],
      "metadata": {
        "id": "Us0nQoa0ipNO"
      }
    },
    {
      "cell_type": "code",
      "source": [
        "# 산점도와 회귀선 \n",
        "plt.scatter(train_input, train_target)\n",
        "\n",
        "# 농어 길이 15 ~ 50 까지의 방정식 \n",
        "plt.plot([15,50] , [15*lr.coef_ +lr.intercept_, 50*lr.coef_ +lr.intercept_])\n",
        "\n",
        "# 50cm 농어 데이터 \n",
        "plt.scatter(50,1241.8 ,marker =\"^\")\n",
        "plt.xlabel('length')\n",
        "plt.ylabel('weight')"
      ],
      "metadata": {
        "colab": {
          "base_uri": "https://localhost:8080/",
          "height": 297
        },
        "id": "xKCpzQHriqRB",
        "outputId": "0cefee82-e7aa-4f76-e50a-d0dec17c0187"
      },
      "execution_count": null,
      "outputs": [
        {
          "output_type": "execute_result",
          "data": {
            "text/plain": [
              "Text(0, 0.5, 'weight')"
            ]
          },
          "metadata": {},
          "execution_count": 18
        },
        {
          "output_type": "display_data",
          "data": {
            "image/png": "[encoded data removed]",
            "text/plain": [
              "<Figure size 432x288 with 1 Axes>"
            ]
          },
          "metadata": {
            "needs_background": "light"
          }
        }
      ]
    },
    {
      "cell_type": "code",
      "source": [
        "# score -> R^2 결정계수 확인 \n",
        "print('훈련세트 :',lr.score(train_input, train_target))\n",
        "print('테스트 세트 :', lr.score(test_input, test_target))\n"
      ],
      "metadata": {
        "colab": {
          "base_uri": "https://localhost:8080/"
        },
        "id": "aZNvOjyoiqPa",
        "outputId": "bf608c00-a4a8-4dfc-e65e-11f803a0a31e"
      },
      "execution_count": null,
      "outputs": [
        {
          "output_type": "stream",
          "name": "stdout",
          "text": [
            "훈련세트 : 0.939846333997604\n",
            "테스트 세트 : 0.8247503123313558\n"
          ]
        }
      ]
    },
    {
      "cell_type": "markdown",
      "source": [
        ": 무게가 0이하인 값도 회귀선에 표시 & 실제 농어 길이,무게 산점도는 곡선형태"
      ],
      "metadata": {
        "id": "TAlqumgDAqGr"
      }
    },
    {
      "cell_type": "markdown",
      "source": [
        "### 다항회귀"
      ],
      "metadata": {
        "id": "4bpNjk8_ikQq"
      }
    },
    {
      "cell_type": "markdown",
      "source": [
        "* 최적의 곡선   \n",
        "무게 : a * 길이^2 + b* 길이 + c"
      ],
      "metadata": {
        "id": "epyeOBx4AxwK"
      }
    },
    {
      "cell_type": "code",
      "source": [
        "# numpy - column_stack()을 활용해 길이 제곱 항을 추가 \n",
        "import numpy as np\n",
        "train_poly = np.column_stack((train_input **2 , train_input))\n",
        "test_poly = np.column_stack((test_input **2 , test_input))"
      ],
      "metadata": {
        "id": "xjjZdlAdBA87"
      },
      "execution_count": null,
      "outputs": []
    },
    {
      "cell_type": "code",
      "source": [
        "train_poly.shape, test_poly.shape"
      ],
      "metadata": {
        "colab": {
          "base_uri": "https://localhost:8080/"
        },
        "id": "cvThCGN-BiPu",
        "outputId": "d4a08f38-c96e-4266-df66-2b3404819798"
      },
      "execution_count": null,
      "outputs": [
        {
          "output_type": "execute_result",
          "data": {
            "text/plain": [
              "((42, 2), (14, 2))"
            ]
          },
          "metadata": {},
          "execution_count": 21
        }
      ]
    },
    {
      "cell_type": "code",
      "source": [
        "# 선형 회귀 학습 \n",
        "lr = LinearRegression()\n",
        "lr.fit(train_poly, train_target)\n",
        "# 길이가 50인 농어 다항회귀 예측\n",
        "lr.predict([[50**2 ,50]])\n"
      ],
      "metadata": {
        "colab": {
          "base_uri": "https://localhost:8080/"
        },
        "id": "9uTvGx34Bqd9",
        "outputId": "5cc87266-2c95-499c-beb4-bf0803e87f2b"
      },
      "execution_count": null,
      "outputs": [
        {
          "output_type": "execute_result",
          "data": {
            "text/plain": [
              "array([1573.98423528])"
            ]
          },
          "metadata": {},
          "execution_count": 22
        }
      ]
    },
    {
      "cell_type": "markdown",
      "source": [
        "단항 회귀 값인 1241 값보다 다항 회귀 값이 더 높은 무게로 예측 "
      ],
      "metadata": {
        "id": "cD33OdZcCGSx"
      }
    },
    {
      "cell_type": "code",
      "source": [
        "# coef & intercept\n",
        "lr.coef_, lr.intercept_"
      ],
      "metadata": {
        "colab": {
          "base_uri": "https://localhost:8080/"
        },
        "id": "zs4LJcpSCQkb",
        "outputId": "a51a2be0-40c6-40ff-e028-66b64dd61fa1"
      },
      "execution_count": null,
      "outputs": [
        {
          "output_type": "execute_result",
          "data": {
            "text/plain": [
              "(array([  1.01433211, -21.55792498]), 116.0502107827827)"
            ]
          },
          "metadata": {},
          "execution_count": 23
        }
      ]
    },
    {
      "cell_type": "markdown",
      "source": [
        "무게 = 1.01 * 길이^2 - 21.55 * 길이 + 116"
      ],
      "metadata": {
        "id": "mcgkVAWkCX5F"
      }
    },
    {
      "cell_type": "markdown",
      "source": [
        "* 2차방정식 회귀선 : 짧은 직선을 이어서 곡선처럼 표현"
      ],
      "metadata": {
        "id": "N0IZ_u6ZCroa"
      }
    },
    {
      "cell_type": "code",
      "source": [
        "# 구간별 직선을 위해 정수배열 (길이)\n",
        "point = np.arange(15,50)\n",
        "\n",
        "# 산점도 \n",
        "plt.scatter(train_input, train_target)\n",
        "\n",
        "# 2차 방정식 그래프 (선)\n",
        "plt.plot(point, 1.01 * point**2 - 21.55 * point + 116.05)\n",
        "\n",
        "# 50cm의 농어 \n",
        "plt.scatter(50 , 1573 , marker= '^')\n",
        "\n",
        "plt.xlabel('length')\n",
        "plt.ylabel('weight')"
      ],
      "metadata": {
        "colab": {
          "base_uri": "https://localhost:8080/",
          "height": 297
        },
        "id": "FrQU3EGHC56E",
        "outputId": "e70f56f0-974c-43a6-fa42-f99c6b6b6992"
      },
      "execution_count": null,
      "outputs": [
        {
          "output_type": "execute_result",
          "data": {
            "text/plain": [
              "Text(0, 0.5, 'weight')"
            ]
          },
          "metadata": {},
          "execution_count": 24
        },
        {
          "output_type": "display_data",
          "data": {
            "image/png": "[encoded data removed]",
            "text/plain": [
              "<Figure size 432x288 with 1 Axes>"
            ]
          },
          "metadata": {
            "needs_background": "light"
          }
        }
      ]
    },
    {
      "cell_type": "code",
      "source": [
        "# score -> R^2 결정계수 확인 \n",
        "print('훈련세트 :',lr.score(train_poly, train_target))\n",
        "print('테스트 세트 :', lr.score(test_poly, test_target))\n"
      ],
      "metadata": {
        "colab": {
          "base_uri": "https://localhost:8080/"
        },
        "id": "4oI5d0BPDgAg",
        "outputId": "05ffdb41-3901-49d2-951a-c2cf7a6e1603"
      },
      "execution_count": null,
      "outputs": [
        {
          "output_type": "stream",
          "name": "stdout",
          "text": [
            "훈련세트 : 0.9706807451768623\n",
            "테스트 세트 : 0.9775935108325122\n"
          ]
        }
      ]
    },
    {
      "cell_type": "markdown",
      "source": [
        ": 과소적합 문제가 남아 있는 듯"
      ],
      "metadata": {
        "id": "TtujTVV3EESR"
      }
    },
    {
      "cell_type": "markdown",
      "source": [
        "## 특성 공학과 규제 "
      ],
      "metadata": {
        "id": "VxKtoXaGEImc"
      }
    },
    {
      "cell_type": "markdown",
      "source": [
        "* 농어의 길이 , 높이 , 두께 데이터 로드"
      ],
      "metadata": {
        "id": "ADSAA3GLLU1w"
      }
    },
    {
      "cell_type": "code",
      "source": [
        "# 웹 주소로 데이터를 가져오는 것 가능\n",
        "import pandas as pd \n",
        "df = pd.read_csv('http://bit.ly/perch_csv') \n",
        "perch_full = df.to_numpy() # 넘파이 배열로 반환 \n",
        "print(perch_full)"
      ],
      "metadata": {
        "colab": {
          "base_uri": "https://localhost:8080/"
        },
        "id": "w_5U4r1lKqLr",
        "outputId": "b33746a7-be9e-40a2-e801-a676022c27a5"
      },
      "execution_count": null,
      "outputs": [
        {
          "output_type": "stream",
          "name": "stdout",
          "text": [
            "[[ 8.4   2.11  1.41]\n",
            " [13.7   3.53  2.  ]\n",
            " [15.    3.82  2.43]\n",
            " [16.2   4.59  2.63]\n",
            " [17.4   4.59  2.94]\n",
            " [18.    5.22  3.32]\n",
            " [18.7   5.2   3.12]\n",
            " [19.    5.64  3.05]\n",
            " [19.6   5.14  3.04]\n",
            " [20.    5.08  2.77]\n",
            " [21.    5.69  3.56]\n",
            " [21.    5.92  3.31]\n",
            " [21.    5.69  3.67]\n",
            " [21.3   6.38  3.53]\n",
            " [22.    6.11  3.41]\n",
            " [22.    5.64  3.52]\n",
            " [22.    6.11  3.52]\n",
            " [22.    5.88  3.52]\n",
            " [22.    5.52  4.  ]\n",
            " [22.5   5.86  3.62]\n",
            " [22.5   6.79  3.62]\n",
            " [22.7   5.95  3.63]\n",
            " [23.    5.22  3.63]\n",
            " [23.5   6.28  3.72]\n",
            " [24.    7.29  3.72]\n",
            " [24.    6.38  3.82]\n",
            " [24.6   6.73  4.17]\n",
            " [25.    6.44  3.68]\n",
            " [25.6   6.56  4.24]\n",
            " [26.5   7.17  4.14]\n",
            " [27.3   8.32  5.14]\n",
            " [27.5   7.17  4.34]\n",
            " [27.5   7.05  4.34]\n",
            " [27.5   7.28  4.57]\n",
            " [28.    7.82  4.2 ]\n",
            " [28.7   7.59  4.64]\n",
            " [30.    7.62  4.77]\n",
            " [32.8  10.03  6.02]\n",
            " [34.5  10.26  6.39]\n",
            " [35.   11.49  7.8 ]\n",
            " [36.5  10.88  6.86]\n",
            " [36.   10.61  6.74]\n",
            " [37.   10.84  6.26]\n",
            " [37.   10.57  6.37]\n",
            " [39.   11.14  7.49]\n",
            " [39.   11.14  6.  ]\n",
            " [39.   12.43  7.35]\n",
            " [40.   11.93  7.11]\n",
            " [40.   11.73  7.22]\n",
            " [40.   12.38  7.46]\n",
            " [40.   11.14  6.63]\n",
            " [42.   12.8   6.87]\n",
            " [43.   11.93  7.28]\n",
            " [43.   12.51  7.42]\n",
            " [43.5  12.6   8.14]\n",
            " [44.   12.49  7.6 ]]\n"
          ]
        }
      ]
    },
    {
      "cell_type": "markdown",
      "source": [
        "* 농어의 무게 "
      ],
      "metadata": {
        "id": "2FWstwITK7jp"
      }
    },
    {
      "cell_type": "code",
      "source": [
        "perch_weight = np.array([5.9, 32.0, 40.0, 51.5, 70.0, 100.0, 78.0, 80.0, 85.0, 85.0, 110.0,\n",
        "       115.0, 125.0, 130.0, 120.0, 120.0, 130.0, 135.0, 110.0, 130.0,\n",
        "       150.0, 145.0, 150.0, 170.0, 225.0, 145.0, 188.0, 180.0, 197.0,\n",
        "       218.0, 300.0, 260.0, 265.0, 250.0, 250.0, 300.0, 320.0, 514.0,\n",
        "       556.0, 840.0, 685.0, 700.0, 700.0, 690.0, 900.0, 650.0, 820.0,\n",
        "       850.0, 900.0, 1015.0, 820.0, 1100.0, 1000.0, 1100.0, 1000.0,\n",
        "       1000.0])"
      ],
      "metadata": {
        "id": "JWGxl5MnLcsU"
      },
      "execution_count": null,
      "outputs": []
    },
    {
      "cell_type": "code",
      "source": [
        "# 데이터 분할 (훈련 / 테스트)\n",
        "from sklearn.model_selection import train_test_split\n",
        "train_input, test_input, train_target, test_target = train_test_split(perch_full, perch_weight, \n",
        "                                                                      random_state =42) "
      ],
      "metadata": {
        "id": "oCLTzF0KLh6S"
      },
      "execution_count": null,
      "outputs": []
    },
    {
      "cell_type": "markdown",
      "source": [
        "#### 새로운 특성 만들기 : 특성공학  \n",
        "변환기 transformer : 특성을 만들거나 전처리 위한 클래스 fit() & transform()  \n",
        "* PolynomialFeatures 클래스를 사용  "
      ],
      "metadata": {
        "id": "zWMPNYGbL-G3"
      }
    },
    {
      "cell_type": "code",
      "source": [
        "from sklearn.preprocessing import PolynomialFeatures"
      ],
      "metadata": {
        "id": "gmirY9IeMilf"
      },
      "execution_count": null,
      "outputs": []
    },
    {
      "cell_type": "markdown",
      "source": [
        "* fit() 메서드는 새롭게 만들 특성 조합을 찾고 (입력 데이터만 전달),   \n",
        "transform() 메서드는 실제로 데이터를 변환  \n",
        "기본적으로 각 특성을 제곱한 항 , 특성끼리 서로 곱한 항 추가    \n",
        "  +1 (절편* 1) 무게 = a* 길이 +b* 높이 +c * 두께 + d *1"
      ],
      "metadata": {
        "id": "9FPYyR96NRGx"
      }
    },
    {
      "cell_type": "code",
      "source": [
        "poly = PolynomialFeatures() # 객체 생성\n",
        "poly.fit([[2,3]]) # 2와 3 특성 2개로 이루어진 샘플 적용 \n",
        "poly.transform([[2,3]]) # 변환 "
      ],
      "metadata": {
        "colab": {
          "base_uri": "https://localhost:8080/"
        },
        "id": "mHz8mlzHMxOC",
        "outputId": "fd32b1df-1675-438a-8993-bf5594d8c241"
      },
      "execution_count": null,
      "outputs": [
        {
          "output_type": "execute_result",
          "data": {
            "text/plain": [
              "array([[1., 2., 3., 4., 6., 9.]])"
            ]
          },
          "metadata": {},
          "execution_count": 30
        }
      ]
    },
    {
      "cell_type": "code",
      "source": [
        "# 절편 특성은 제거 \n",
        "poly = PolynomialFeatures(include_bias = False)\n",
        "poly.fit([[2,3]]) # 2와 3 특성 2개로 이루어진 샘플 적용 \n",
        "poly.transform([[2,3]]) # 변환"
      ],
      "metadata": {
        "colab": {
          "base_uri": "https://localhost:8080/"
        },
        "id": "jxkRvfTwN7fz",
        "outputId": "5d034287-915b-4741-d8ce-28ec1d1d30e0"
      },
      "execution_count": null,
      "outputs": [
        {
          "output_type": "execute_result",
          "data": {
            "text/plain": [
              "array([[2., 3., 4., 6., 9.]])"
            ]
          },
          "metadata": {},
          "execution_count": 31
        }
      ]
    },
    {
      "cell_type": "code",
      "source": [
        "# 특성 공학 적용 \n",
        "poly = PolynomialFeatures(include_bias = False)\n",
        "# fit\n",
        "poly.fit(train_input)\n",
        "# transform\n",
        "train_poly = poly.transform(train_input)\n",
        "train_poly.shape"
      ],
      "metadata": {
        "colab": {
          "base_uri": "https://localhost:8080/"
        },
        "id": "xUN22nl9OXP9",
        "outputId": "5d2745af-5837-4d6e-f311-3194e98b9976"
      },
      "execution_count": null,
      "outputs": [
        {
          "output_type": "execute_result",
          "data": {
            "text/plain": [
              "(42, 9)"
            ]
          },
          "metadata": {},
          "execution_count": 32
        }
      ]
    },
    {
      "cell_type": "markdown",
      "source": [
        ": 3 개였던 특성이 9개로 "
      ],
      "metadata": {
        "id": "4xvamx3nMP1l"
      }
    },
    {
      "cell_type": "code",
      "source": [
        "# 각각의 특성 조합 확인 get_feautres_names()\n",
        "poly.get_feature_names()"
      ],
      "metadata": {
        "colab": {
          "base_uri": "https://localhost:8080/"
        },
        "id": "6YL7yqszPCrr",
        "outputId": "0f470783-d798-4a66-f7fd-d31804ee8024"
      },
      "execution_count": null,
      "outputs": [
        {
          "output_type": "stream",
          "name": "stderr",
          "text": [
            "/usr/local/lib/python3.7/dist-packages/sklearn/utils/deprecation.py:87: FutureWarning: Function get_feature_names is deprecated; get_feature_names is deprecated in 1.0 and will be removed in 1.2. Please use get_feature_names_out instead.\n",
            "  warnings.warn(msg, category=FutureWarning)\n"
          ]
        },
        {
          "output_type": "execute_result",
          "data": {
            "text/plain": [
              "['x0', 'x1', 'x2', 'x0^2', 'x0 x1', 'x0 x2', 'x1^2', 'x1 x2', 'x2^2']"
            ]
          },
          "metadata": {},
          "execution_count": 33
        }
      ]
    },
    {
      "cell_type": "code",
      "source": [
        "# 테스트 세트 변환 \n",
        "test_poly = poly.transform(test_input)"
      ],
      "metadata": {
        "id": "s1KFZLenPL_m"
      },
      "execution_count": null,
      "outputs": []
    },
    {
      "cell_type": "markdown",
      "source": [
        "#### 다중 회귀 모델 훈련하기 : 선형 회귀모델하고 똑같은 방식"
      ],
      "metadata": {
        "id": "cF0rO0NAPXEC"
      }
    },
    {
      "cell_type": "code",
      "source": [
        "from sklearn.linear_model import LinearRegression\n",
        "lr = LinearRegression()\n",
        "lr.fit(train_poly, train_target)\n",
        "# 훈련 세트를 평가\n",
        "lr.score(train_poly, train_target)"
      ],
      "metadata": {
        "colab": {
          "base_uri": "https://localhost:8080/"
        },
        "id": "BHEsNE94Pihh",
        "outputId": "fc035937-9b39-40f6-9bb1-1006d53814c1"
      },
      "execution_count": null,
      "outputs": [
        {
          "output_type": "execute_result",
          "data": {
            "text/plain": [
              "0.9903183436982124"
            ]
          },
          "metadata": {},
          "execution_count": 35
        }
      ]
    },
    {
      "cell_type": "code",
      "source": [
        "# 테스트 세트 평가 \n",
        "lr.score(test_poly, test_target)"
      ],
      "metadata": {
        "colab": {
          "base_uri": "https://localhost:8080/"
        },
        "id": "y9_4gL6tQE5X",
        "outputId": "ad2887e6-8d48-4872-d970-cf89d1e7a17f"
      },
      "execution_count": null,
      "outputs": [
        {
          "output_type": "execute_result",
          "data": {
            "text/plain": [
              "0.9714559911594134"
            ]
          },
          "metadata": {},
          "execution_count": 36
        }
      ]
    },
    {
      "cell_type": "markdown",
      "source": [
        ": 과소적합 문제는 해결 (훈련세트 평가 > 테스트 세트 평가)"
      ],
      "metadata": {
        "id": "Uw47OTcxQKNX"
      }
    },
    {
      "cell_type": "markdown",
      "source": [
        "* 특성을 더 많이 추가 : PolynomialFeatures(degree = n) , 고차항의 최대 차수 지정 "
      ],
      "metadata": {
        "id": "TRqKzan5QSl1"
      }
    },
    {
      "cell_type": "code",
      "source": [
        "# 객체 생성 \n",
        "poly =PolynomialFeatures(degree= 5, include_bias= False) # 5제곱 특성\n",
        "# fit\n",
        "poly.fit(train_input)\n",
        "# transform\n",
        "train_poly = poly.transform(train_input)\n",
        "test_poly = poly.transform(test_input)\n",
        "train_poly.shape"
      ],
      "metadata": {
        "colab": {
          "base_uri": "https://localhost:8080/"
        },
        "id": "kZGhiCI8QiD_",
        "outputId": "1fd86efd-7ee6-439d-f748-59847d408f19"
      },
      "execution_count": null,
      "outputs": [
        {
          "output_type": "execute_result",
          "data": {
            "text/plain": [
              "(42, 55)"
            ]
          },
          "metadata": {},
          "execution_count": 37
        }
      ]
    },
    {
      "cell_type": "markdown",
      "source": [
        ": 열 특성이 55개"
      ],
      "metadata": {
        "id": "uR9PIoG4RNVN"
      }
    },
    {
      "cell_type": "code",
      "source": [
        "# 선형 회귀 모델 훈련 \n",
        "lr.fit(train_poly, train_target)\n",
        "# 점수 훈련세트 \n",
        "lr.score(train_poly, train_target)"
      ],
      "metadata": {
        "colab": {
          "base_uri": "https://localhost:8080/"
        },
        "id": "--_9u3W8RUww",
        "outputId": "8eba574e-20ff-42b3-f6d1-168f1ee4e771"
      },
      "execution_count": null,
      "outputs": [
        {
          "output_type": "execute_result",
          "data": {
            "text/plain": [
              "0.9999999999991097"
            ]
          },
          "metadata": {},
          "execution_count": 38
        }
      ]
    },
    {
      "cell_type": "code",
      "source": [
        "# 테스트 셋 점수 \n",
        "lr.score(test_poly, test_target)"
      ],
      "metadata": {
        "colab": {
          "base_uri": "https://localhost:8080/"
        },
        "id": "qHdAwwq9RfFJ",
        "outputId": "39baa929-6cf6-4f73-856b-f8f003414d6e"
      },
      "execution_count": null,
      "outputs": [
        {
          "output_type": "execute_result",
          "data": {
            "text/plain": [
              "-144.40579242684848"
            ]
          },
          "metadata": {},
          "execution_count": 39
        }
      ]
    },
    {
      "cell_type": "markdown",
      "source": [
        ": 특성의 개수를 크게 늘리면 선형 모델 강력 ,  \n",
        "but 훈련세트에 너무 과대적합 -> 테스트셋 bad  \n",
        "--> 규제 !"
      ],
      "metadata": {
        "id": "aKkyzod4RoAf"
      }
    },
    {
      "cell_type": "markdown",
      "source": [
        "#### 규제 regularization :    \n",
        "머신러닝 모델이 훈련세트를 너무 과도하게 학습하지못하도록 , 과대적합 방지   \n",
        "선형 회귀 모델 경우 특성에 곱해지는 계수의 크기를 작게 함 "
      ],
      "metadata": {
        "id": "2rbWF9IxRzMU"
      }
    },
    {
      "cell_type": "markdown",
      "source": [
        "* 먼저 특성의 스케일 정규화 StandardScaler() 클래스 사용 "
      ],
      "metadata": {
        "id": "dgbnUa85SQqI"
      }
    },
    {
      "cell_type": "code",
      "source": [
        "from sklearn.preprocessing import StandardScaler \n",
        "# 객체 생성\n",
        "ss = StandardScaler()\n",
        "# 학습 \n",
        "ss.fit(train_poly)\n",
        "# 변환 : 훈련세트로 학습한 변환기를 사용해 테스트 세트까지 변환 \n",
        "train_scaled = ss.transform(train_poly)\n",
        "test_scaled = ss.transform(test_poly)"
      ],
      "metadata": {
        "id": "QgTyVLGhXDTK"
      },
      "execution_count": null,
      "outputs": []
    },
    {
      "cell_type": "markdown",
      "source": [
        "표준 점수로 변환한 train_scaled 와 test_scaled 준비 완료 "
      ],
      "metadata": {
        "id": "1_lQmbusXtHU"
      }
    },
    {
      "cell_type": "markdown",
      "source": [
        "##### 릿지회귀 :  \n",
        "'계수를 제곱한 값' 을 기준으로 규제 적용  , *sklearn*.linear_model 패키지 안 Ridge"
      ],
      "metadata": {
        "id": "EgfkXezCz3Cn"
      }
    },
    {
      "cell_type": "code",
      "source": [
        "from sklearn.linear_model import Ridge\n",
        "ridge = Ridge()\n",
        "# 훈련\n",
        "ridge.fit(train_scaled, train_target) \n",
        "# 학습 데이터셋 평가 \n",
        "ridge.score(train_scaled , train_target)"
      ],
      "metadata": {
        "colab": {
          "base_uri": "https://localhost:8080/"
        },
        "id": "y8ZLAOwc0G-0",
        "outputId": "e74f3d30-7fd5-437a-fc1e-0443c6c5dd25"
      },
      "execution_count": null,
      "outputs": [
        {
          "output_type": "execute_result",
          "data": {
            "text/plain": [
              "0.9896101671037343"
            ]
          },
          "metadata": {},
          "execution_count": 41
        }
      ]
    },
    {
      "cell_type": "code",
      "source": [
        "# 테스트 셋 점수 \n",
        "ridge.score(test_scaled, test_target)"
      ],
      "metadata": {
        "colab": {
          "base_uri": "https://localhost:8080/"
        },
        "id": "ZuCfLf9g0ee7",
        "outputId": "40ec8e7d-e178-442d-cfff-33724da5627e"
      },
      "execution_count": null,
      "outputs": [
        {
          "output_type": "execute_result",
          "data": {
            "text/plain": [
              "0.9790693977615397"
            ]
          },
          "metadata": {},
          "execution_count": 42
        }
      ]
    },
    {
      "cell_type": "markdown",
      "source": [
        ": 테스트 셋 점수가 정상으로 돌아옴 , 과대적합도 x "
      ],
      "metadata": {
        "id": "KTQyoY_i0pFw"
      }
    },
    {
      "cell_type": "markdown",
      "source": [
        "* 릿지와 라쏘 모델 규제의 양 조절 :  \n",
        "alpha 매개변수 크면 규제 강, 계수 값을 더 줄여 더 과소적합 하도록,  \n",
        "alpha 작으면 계수 값 조금 줄임\n",
        "\n",
        "* 적절한 alpha 값 : alpha 값에 대한 R^2 값의 그래프 ,   \n",
        "학습 데이터와 테스트 데이터의 점수가 가장 가까운 지점이 최적 alpha"
      ],
      "metadata": {
        "id": "1Z0g1Ojp0wgY"
      }
    },
    {
      "cell_type": "code",
      "source": [
        "import matplotlib.pyplot as plt\n",
        "train_score = []\n",
        "test_score = []"
      ],
      "metadata": {
        "id": "a0Hp2wP61KSD"
      },
      "execution_count": null,
      "outputs": []
    },
    {
      "cell_type": "code",
      "source": [
        "# 알파 값 조절 \n",
        "alpha_list = [0.001 , 0.01, 0.1 ,1  ,10 , 100]\n",
        "for alpha in alpha_list : \n",
        "  # 릿지 모델 \n",
        "  ridge = Ridge(alpha = alpha)\n",
        "  # 훈련 \n",
        "  ridge.fit(train_scaled, train_target)\n",
        "  # 점수를 train_score / test_score 리스트에 입력\n",
        "  train_score.append(ridge.score(train_scaled, train_target)) # 학습\n",
        "  test_score.append(ridge.score(test_scaled, test_target)) # 테스트 "
      ],
      "metadata": {
        "id": "noRqZ51J1dD2"
      },
      "execution_count": null,
      "outputs": []
    },
    {
      "cell_type": "code",
      "source": [
        "# 그래프 그리기 \n",
        "# 1 alpha 리스트 값이 10배씩 차이남 간격 너무 큼 -> 간격 조절 log함수 사용 \n",
        "plt.plot(np.log10(alpha_list), train_score) # x : alpha , y : train_score \n",
        "plt.plot(np.log10(alpha_list), test_score) \n",
        "\n",
        "plt.xlabel('alpha')\n",
        "plt.ylabel('R^2')"
      ],
      "metadata": {
        "colab": {
          "base_uri": "https://localhost:8080/",
          "height": 297
        },
        "id": "v9c_S4342QOR",
        "outputId": "bae34190-bee9-4490-e078-c7a6c30a6cef"
      },
      "execution_count": null,
      "outputs": [
        {
          "output_type": "execute_result",
          "data": {
            "text/plain": [
              "Text(0, 0.5, 'R^2')"
            ]
          },
          "metadata": {},
          "execution_count": 49
        },
        {
          "output_type": "display_data",
          "data": {
            "image/png": "[encoded data removed]",
            "text/plain": [
              "<Figure size 432x288 with 1 Axes>"
            ]
          },
          "metadata": {
            "needs_background": "light"
          }
        }
      ]
    },
    {
      "cell_type": "markdown",
      "source": [
        ": 왼쪽-  학습 셋과 테스트 셋의 점수 차이가 너무 큼 (과대적합) / 오른쪽 - 모두 낮음( 과소 적합) ,  \n",
        " 최적값 -1 : alpha 0.1 "
      ],
      "metadata": {
        "id": "5QAZMkgw2r9H"
      }
    },
    {
      "cell_type": "code",
      "source": [
        "# 최종 모델 훈련 및 평가 \n",
        "ridge = Ridge(alpha = 0.1)\n",
        "ridge.fit(train_scaled, train_target)\n",
        "print('학습:', ridge.score(train_scaled, train_target))\n",
        "print('테스트:', ridge.score(test_scaled, test_target))"
      ],
      "metadata": {
        "colab": {
          "base_uri": "https://localhost:8080/"
        },
        "id": "jUJO9GuG3yhP",
        "outputId": "c1a96d1f-85e5-4338-bdfc-3eeaf857f7cd"
      },
      "execution_count": null,
      "outputs": [
        {
          "output_type": "stream",
          "name": "stdout",
          "text": [
            "학습: 0.9903815817570366\n",
            "테스트: 0.9827976465386926\n"
          ]
        }
      ]
    },
    {
      "cell_type": "markdown",
      "source": [
        ": 학습/ 테스트 셋 점수 모두 높아지고 과대 적합 문제도 x "
      ],
      "metadata": {
        "id": "CujudzTs4MBy"
      }
    },
    {
      "cell_type": "markdown",
      "source": [
        "##### 라쏘회귀 :  \n",
        "'계수의 절대값' 을 기준으로 규제 적용  , *sklearn*.linear_model 패키지 안 Lasso"
      ],
      "metadata": {
        "id": "SBhQYdHH4UWJ"
      }
    },
    {
      "cell_type": "code",
      "source": [
        "from sklearn.linear_model import Lasso \n",
        "lasso = Lasso()\n",
        "lasso.fit(train_scaled, train_target)\n",
        "# 점수 \n",
        "print('학습:', lasso.score(train_scaled, train_target))\n",
        "print('테스트:', lasso.score(test_scaled, test_target))"
      ],
      "metadata": {
        "colab": {
          "base_uri": "https://localhost:8080/"
        },
        "id": "b2fnWnPB4maJ",
        "outputId": "f45473f8-3982-4304-9d11-5111f9a38301"
      },
      "execution_count": null,
      "outputs": [
        {
          "output_type": "stream",
          "name": "stdout",
          "text": [
            "학습: 0.989789897208096\n",
            "테스트: 0.9800593698421883\n"
          ]
        }
      ]
    },
    {
      "cell_type": "code",
      "source": [
        "# alpha 값 조절\n",
        "train_score = []\n",
        "test_score = []\n",
        "alpha_list = [0.001 , 0.01, 0.1 ,1  ,10 , 100]\n",
        "for alpha in alpha_list : \n",
        "  # 라쏘 모델 \n",
        "  lasso = Lasso(alpha = alpha , max_iter = 10000)\n",
        "  # 훈련 \n",
        "  lasso.fit(train_scaled, train_target)\n",
        "  # 점수를 train_score / test_score 리스트에 입력\n",
        "  train_score.append(lasso.score(train_scaled, train_target)) # 학습\n",
        "  test_score.append(lasso.score(test_scaled, test_target)) # 테스트 "
      ],
      "metadata": {
        "colab": {
          "base_uri": "https://localhost:8080/"
        },
        "id": "hV7qNq3C5LuW",
        "outputId": "b4686863-5b6b-4019-e02c-a98ce2cef28d"
      },
      "execution_count": null,
      "outputs": [
        {
          "output_type": "stream",
          "name": "stderr",
          "text": [
            "/usr/local/lib/python3.7/dist-packages/sklearn/linear_model/_coordinate_descent.py:648: ConvergenceWarning: Objective did not converge. You might want to increase the number of iterations, check the scale of the features or consider increasing regularisation. Duality gap: 1.878e+04, tolerance: 5.183e+02\n",
            "  coef_, l1_reg, l2_reg, X, y, max_iter, tol, rng, random, positive\n",
            "/usr/local/lib/python3.7/dist-packages/sklearn/linear_model/_coordinate_descent.py:648: ConvergenceWarning: Objective did not converge. You might want to increase the number of iterations, check the scale of the features or consider increasing regularisation. Duality gap: 1.297e+04, tolerance: 5.183e+02\n",
            "  coef_, l1_reg, l2_reg, X, y, max_iter, tol, rng, random, positive\n"
          ]
        }
      ]
    },
    {
      "cell_type": "code",
      "source": [
        "# 그래프 그리기 \n",
        "# 1 alpha 리스트 값이 10배씩 차이남 간격 너무 큼 -> 간격 조절 log함수 사용 \n",
        "plt.plot(np.log10(alpha_list), train_score) # x : alpha , y : train_score \n",
        "plt.plot(np.log10(alpha_list), test_score) \n",
        "\n",
        "plt.xlabel('alpha')\n",
        "plt.ylabel('R^2')"
      ],
      "metadata": {
        "colab": {
          "base_uri": "https://localhost:8080/",
          "height": 297
        },
        "id": "ZOefTsYY5h8U",
        "outputId": "03a39843-d332-4bef-dc92-3e54e2d4eb57"
      },
      "execution_count": null,
      "outputs": [
        {
          "output_type": "execute_result",
          "data": {
            "text/plain": [
              "Text(0, 0.5, 'R^2')"
            ]
          },
          "metadata": {},
          "execution_count": 58
        },
        {
          "output_type": "display_data",
          "data": {
            "image/png": "[encoded data removed]",
            "text/plain": [
              "<Figure size 432x288 with 1 Axes>"
            ]
          },
          "metadata": {
            "needs_background": "light"
          }
        }
      ]
    },
    {
      "cell_type": "markdown",
      "source": [
        ": 최적 알파값 1 : 10"
      ],
      "metadata": {
        "id": "XYhionN96EnW"
      }
    },
    {
      "cell_type": "code",
      "source": [
        "lasso = Lasso(alpha =10 )\n",
        "lasso.fit(train_scaled, train_target)\n",
        "print('학습:', lasso.score(train_scaled, train_target))\n",
        "print('테스트:', lasso.score(test_scaled, test_target))"
      ],
      "metadata": {
        "colab": {
          "base_uri": "https://localhost:8080/"
        },
        "id": "Bx2IOJhz6Rr4",
        "outputId": "fe389add-88ad-4ee5-f633-e00270da0c5c"
      },
      "execution_count": null,
      "outputs": [
        {
          "output_type": "stream",
          "name": "stdout",
          "text": [
            "학습: 0.9888067471131867\n",
            "테스트: 0.9824470598706695\n"
          ]
        }
      ]
    },
    {
      "cell_type": "markdown",
      "source": [
        "* lasso 모델은 계수 값을 아예 0으로 만들 수 있다 "
      ],
      "metadata": {
        "id": "dGgBNkCz6ew5"
      }
    },
    {
      "cell_type": "code",
      "source": [
        "# 계수가 0인 것 확인 \n",
        "np.sum(lasso.coef_ == 0)"
      ],
      "metadata": {
        "colab": {
          "base_uri": "https://localhost:8080/"
        },
        "id": "66r1KK5D6tpn",
        "outputId": "5261bc26-45ed-47b4-ce0f-223f245af233"
      },
      "execution_count": null,
      "outputs": [
        {
          "output_type": "execute_result",
          "data": {
            "text/plain": [
              "40"
            ]
          },
          "metadata": {},
          "execution_count": 60
        }
      ]
    },
    {
      "cell_type": "markdown",
      "source": [
        ": 55개 특성 중 40개 특성의 계수 0 , 사용 특성 15개 (유용한 특성)"
      ],
      "metadata": {
        "id": "fYlCu3md672l"
      }
    },
    {
      "cell_type": "code",
      "source": [
        ""
      ],
      "metadata": {
        "id": "TcTduFvX7FQW"
      },
      "execution_count": null,
      "outputs": []
    }
  ]
}