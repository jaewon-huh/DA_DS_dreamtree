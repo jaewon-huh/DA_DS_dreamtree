{
 "cells": [
  {
   "cell_type": "markdown",
   "id": "a77fcf3b",
   "metadata": {},
   "source": [
    "## 인스타 그램 크롤링 : 핫한 회기 맛집 ,카페\n"
   ]
  },
  {
   "cell_type": "code",
   "execution_count": 5,
   "id": "bcb6d7dc",
   "metadata": {},
   "outputs": [],
   "source": [
    "import pandas as pd \n",
    "import matplotlib.pyplot as plt\n",
    "import seaborn as sns"
   ]
  },
  {
   "cell_type": "code",
   "execution_count": 4,
   "id": "cf9da8ef",
   "metadata": {},
   "outputs": [
    {
     "name": "stderr",
     "output_type": "stream",
     "text": [
      "C:\\Users\\SAMSUNG\\AppData\\Local\\Temp/ipykernel_2252/69865118.py:4: DeprecationWarning: executable_path has been deprecated, please pass in a Service object\n",
      "  driver = webdriver.Chrome('c:/Users/SAMSUNG/chromedriver_win32/chromedriver.exe')\n"
     ]
    }
   ],
   "source": [
    "# 예제 5-1 chromedriver 열기\n",
    "from selenium import webdriver\n",
    "\n",
    "driver = webdriver.Chrome('c:/Users/SAMSUNG/chromedriver_win32/chromedriver.exe') "
   ]
  },
  {
   "cell_type": "markdown",
   "id": "d11b1ef6",
   "metadata": {},
   "source": [
    "* 크롤링 수행"
   ]
  },
  {
   "cell_type": "code",
   "execution_count": 6,
   "id": "2cadc099",
   "metadata": {},
   "outputs": [],
   "source": [
    "# 인스타그램 접속하기\n",
    "import time\n",
    "\n",
    "# 인스타그램 접속하기\n",
    "driver.get('https://www.instargram.com')\n",
    "time.sleep(2)"
   ]
  },
  {
   "cell_type": "code",
   "execution_count": 7,
   "id": "438b2b75",
   "metadata": {},
   "outputs": [],
   "source": [
    "# 인스타 검색결과 \n",
    "def insta_searching(word):\n",
    "    \n",
    "    url = 'https://www.instagram.com/explore/tags/' + word # 인스타 검색시 주소 형식\n",
    "    return url    "
   ]
  },
  {
   "cell_type": "code",
   "execution_count": 21,
   "id": "21d489b4",
   "metadata": {},
   "outputs": [],
   "source": [
    "word = '경희대맛집'\n",
    "url = insta_searching(word)\n",
    "driver.get(url)"
   ]
  },
  {
   "cell_type": "markdown",
   "id": "c709483e",
   "metadata": {},
   "source": [
    "* 첫번째 게시물 열기 "
   ]
  },
  {
   "cell_type": "code",
   "execution_count": 22,
   "id": "95f8188f",
   "metadata": {},
   "outputs": [],
   "source": [
    "# 함수로 구현 \n",
    "def select_first(driver) :\n",
    "    first = driver.find_element_by_css_selector('div._9AhH0')\n",
    "    first.click()\n",
    "    time.sleep(3)  # 3초간 대기 "
   ]
  },
  {
   "cell_type": "code",
   "execution_count": 24,
   "id": "714fbd4d",
   "metadata": {},
   "outputs": [
    {
     "name": "stderr",
     "output_type": "stream",
     "text": [
      "C:\\Users\\SAMSUNG\\AppData\\Local\\Temp/ipykernel_2252/2547080320.py:3: DeprecationWarning: find_element_by_* commands are deprecated. Please use find_element() instead\n",
      "  first = driver.find_element_by_css_selector('div._9AhH0')\n"
     ]
    }
   ],
   "source": [
    "select_first(driver)"
   ]
  },
  {
   "cell_type": "markdown",
   "id": "69420592",
   "metadata": {},
   "source": [
    "* 게시물 정보 가져오기 \n",
    ": 본문 내용 :( < div class = \"MOdxS\" > span)[0]     \n",
    "\n",
    "  해시태그 :( 본문 내에서 # )    \n",
    "  \n",
    "  작성일 :( < time class=\"_1o9PC Nzb55\" datetime=\"2022-02-18T03:08:24.000Z\" title=\"2022년 2월 18일\">4시간 전 < /time >    \n",
    "  \n",
    "  위치정보 :( < div class=\"M30cS\" >)   \n",
    "  \n",
    "  좋아요 수 :( < div class=\"_7UhW9   xLCgt        qyrsm KV-D4              fDxYl    T0kll \">좋아요 < span >1,409< /span>개< /div> )"
   ]
  },
  {
   "cell_type": "code",
   "execution_count": 25,
   "id": "476b8719",
   "metadata": {},
   "outputs": [],
   "source": [
    "from bs4 import BeautifulSoup\n",
    "import unicodedata"
   ]
  },
  {
   "cell_type": "code",
   "execution_count": 26,
   "id": "eabadd80",
   "metadata": {},
   "outputs": [],
   "source": [
    "# 게시물 정보를 가져오는 함수 \n",
    "import re  # re : 정규표현식\n",
    "\n",
    "def get_content(driver) : \n",
    "    # 현재 페이지 html 소스 가져오기 \n",
    "    html = driver.page_source \n",
    "    soup = BeautifulSoup(html, 'html.parser') # html 형식\n",
    "    \n",
    "    # 본문 내용 가져오기 \n",
    "    try:\n",
    "        content = soup.select('div.MOdxS > span')[0].text\n",
    "        content = unicodedata.normalize('NFC', content) \n",
    "    except:\n",
    "        content = ' '\n",
    "        \n",
    "    # 본문 내 해시태그 \n",
    "    tags = re.findall(r'#[^\\s#,\\\\]+', content)\n",
    "    \n",
    "    # 작성일자 \n",
    "    date = soup.select('time._1o9PC.Nzb55')[0]['datetime'][:10] #년-월-일\n",
    "    \n",
    "    # 좋아요 수 \n",
    "    try : \n",
    "        like = soup.select('div._7UhW9.xLCgt.qyrsm.KV-D4.fDxYl.T0kll >span')[0].text\n",
    "    except :\n",
    "        like = 0\n",
    "    \n",
    "    # 위치정보 \n",
    "    try : \n",
    "        place = soup.select('div.M30cS')[0].text\n",
    "    except :\n",
    "        place = ''\n",
    "\n",
    "    # 수집한 정보 저장\n",
    "    data = [content, date, like, place , tags]\n",
    "    return data\n",
    "        "
   ]
  },
  {
   "cell_type": "code",
   "execution_count": 27,
   "id": "5c31434c",
   "metadata": {},
   "outputs": [
    {
     "data": {
      "text/plain": [
       "['신당동 최고 맛집!!\\u2063\\u2063🧡신당동 찐 맛집 \"청춘상회\"🐖🥩\\u2063\\u2063냉삼의 추억을 제~대로 느끼게 해준 청춘상회!\\u2063그냥 삼겹살도 맛있지만 냉삼의 매력을 알게되는\\u2063순간부터 절대 못 빠져나온다구~~🤤🤤\\u2063\\u2063레트로 감성에 맛이 두 배가 되는 느낌 크~🥴\\u2063맛은 물론이고 가성비까지 좋다니,,,!!!\\u2063감동의 쓰나미 ㅜㅜㅜㅜㅜ🌊\\u2063\\u2063고기먹고 볶음밥 필수! 📌다들 국룰인거 알죵??\\u2063신당동하면 청춘상회! 기억하기 약속🤙🏻\\u2063오늘의 메뉴는 냉삼이다!\\u2063지금 바로 청춘상회로 go go~~!🚀🚀\\u2063\\u2063\\u2063•••••••••••information•••••••••••\\u2063\\u2063🏠 청춘상회 🏠\\u2063⏰ 영업시간 : 16:00~09:00\\u2063☎ 매장 번호 : 02-2231-3002\\u2063🛣 찾아오시는 길: 서울특별시 중구 다산로 232\\u2063*주차 가능\\u2063\\u2063#신당동맛집 #동대문맛집추천 #청량리맛집 #휘경동맛집 #이문동맛집\\u2063#외대맛집 #신당역맛집 #회기맛집추천 #경희대맛집',\n",
       " '2022-02-05',\n",
       " 0,\n",
       " '',\n",
       " ['#신당동맛집',\n",
       "  '#동대문맛집추천',\n",
       "  '#청량리맛집',\n",
       "  '#휘경동맛집',\n",
       "  '#이문동맛집\\u2063',\n",
       "  '#외대맛집',\n",
       "  '#신당역맛집',\n",
       "  '#회기맛집추천',\n",
       "  '#경희대맛집']]"
      ]
     },
     "execution_count": 27,
     "metadata": {},
     "output_type": "execute_result"
    }
   ],
   "source": [
    "get_content(driver)"
   ]
  },
  {
   "cell_type": "markdown",
   "id": "ad9ddbcf",
   "metadata": {},
   "source": [
    "* 다음 게시물 열기 : 우측 버튼 클릭  (div class l8mY4.feth3)\n"
   ]
  },
  {
   "cell_type": "code",
   "execution_count": 28,
   "id": "e78bbf2d",
   "metadata": {},
   "outputs": [],
   "source": [
    "def move_next(driver):\n",
    "\n",
    "    right = driver.find_element_by_css_selector('div.l8mY4.feth3')\n",
    "    right.click()\n",
    "    time.sleep(3)"
   ]
  },
  {
   "cell_type": "code",
   "execution_count": 30,
   "id": "af3dc944",
   "metadata": {},
   "outputs": [
    {
     "name": "stderr",
     "output_type": "stream",
     "text": [
      "C:\\Users\\SAMSUNG\\AppData\\Local\\Temp/ipykernel_2252/278784341.py:3: DeprecationWarning: find_element_by_* commands are deprecated. Please use find_element() instead\n",
      "  right = driver.find_element_by_css_selector('div.l8mY4.feth3')\n"
     ]
    }
   ],
   "source": [
    "move_next(driver)"
   ]
  },
  {
   "cell_type": "markdown",
   "id": "f525b184",
   "metadata": {},
   "source": [
    "### 여러 게시글 정보를 수집\n",
    "1. 크롬 브라우저 열기 \n",
    "2. 인스타 그램 검색 페이지 url 만들기\n",
    "3. 검색 페이지 접속  \n",
    "4. 첫번째 게시물 클릭 \n",
    "5. result [] 만들기 \n",
    "6. 게시물 정보 수집하기 \n",
    "7. 게시물 results에 추가하기 \n",
    "8. 다음 게시물 선택 \n",
    "9. 완료 (target) 횟수 지정"
   ]
  },
  {
   "cell_type": "markdown",
   "id": "58d7f8b5",
   "metadata": {},
   "source": [
    "* 함수로 구현"
   ]
  },
  {
   "cell_type": "code",
   "execution_count": 31,
   "id": "0afe29a6",
   "metadata": {},
   "outputs": [],
   "source": [
    "from selenium import webdriver \n",
    "from bs4 import BeautifulSoup\n",
    "import time \n",
    "import re"
   ]
  },
  {
   "cell_type": "code",
   "execution_count": 32,
   "id": "0c9a88a9",
   "metadata": {},
   "outputs": [
    {
     "name": "stderr",
     "output_type": "stream",
     "text": [
      "C:\\Users\\SAMSUNG\\AppData\\Local\\Temp/ipykernel_2252/1277785024.py:2: DeprecationWarning: executable_path has been deprecated, please pass in a Service object\n",
      "  driver = webdriver.Chrome('c:/Users/SAMSUNG/chromedriver_win32/chromedriver.exe')\n"
     ]
    }
   ],
   "source": [
    "#① 크롬 브라우저 열기\n",
    "driver = webdriver.Chrome('c:/Users/SAMSUNG/chromedriver_win32/chromedriver.exe') \n",
    "\n",
    "# 추가) 인스타그램 접속후, 로그인 하기  - \n",
    "driver.get('https://www.instargram.com')\n",
    "time.sleep(2)\n",
    "# 로그인 직접"
   ]
  },
  {
   "cell_type": "code",
   "execution_count": 35,
   "id": "4f3275fa",
   "metadata": {},
   "outputs": [
    {
     "name": "stderr",
     "output_type": "stream",
     "text": [
      "C:\\Users\\SAMSUNG\\AppData\\Local\\Temp/ipykernel_2252/2547080320.py:3: DeprecationWarning: find_element_by_* commands are deprecated. Please use find_element() instead\n",
      "  first = driver.find_element_by_css_selector('div._9AhH0')\n"
     ]
    }
   ],
   "source": [
    "word = \"경희대맛집\"    #검색어\n",
    "url = insta_searching(word)\n",
    "time.sleep(3)\n",
    "\n",
    "# ③ 검색페이지 접속하기\n",
    "driver.get(url)\n",
    "time.sleep(3)\n",
    "\n",
    "# ④ 첫 번째 게시글 열기\n",
    "select_first(driver)\n",
    "\n",
    "# ⑤ 비어있는 변수(results)만들기\n",
    "results = [ ]"
   ]
  },
  {
   "cell_type": "code",
   "execution_count": 36,
   "id": "62247916",
   "metadata": {},
   "outputs": [
    {
     "name": "stderr",
     "output_type": "stream",
     "text": [
      "C:\\Users\\SAMSUNG\\AppData\\Local\\Temp/ipykernel_2252/278784341.py:3: DeprecationWarning: find_element_by_* commands are deprecated. Please use find_element() instead\n",
      "  right = driver.find_element_by_css_selector('div.l8mY4.feth3')\n"
     ]
    }
   ],
   "source": [
    "# ⑥→⑦→⑧ 여러 게시물 수집하기\n",
    "target = 100     # 크롤링할 게시글 수\n",
    "for i in range(target):\n",
    "    # 게시글 수집에 오류 발생시(네트워크 문제 등의 이유로)  2초 대기 후, 다음 게시글로 넘어가도록 try, except 구문 활용\n",
    "    try:\n",
    "        data = get_content(driver)    # 게시글 정보 가져오기 함수 사용 \n",
    "        results.append(data)          # result 리스트에 추가 \n",
    "        move_next(driver)             # 다음게시물로\n",
    "    except:\n",
    "        time.sleep(2)                 # content가 없음.\n",
    "        move_next(driver)\n"
   ]
  },
  {
   "cell_type": "code",
   "execution_count": 37,
   "id": "0b6fab86",
   "metadata": {},
   "outputs": [
    {
     "data": {
      "text/html": [
       "<div>\n",
       "<style scoped>\n",
       "    .dataframe tbody tr th:only-of-type {\n",
       "        vertical-align: middle;\n",
       "    }\n",
       "\n",
       "    .dataframe tbody tr th {\n",
       "        vertical-align: top;\n",
       "    }\n",
       "\n",
       "    .dataframe thead th {\n",
       "        text-align: right;\n",
       "    }\n",
       "</style>\n",
       "<table border=\"1\" class=\"dataframe\">\n",
       "  <thead>\n",
       "    <tr style=\"text-align: right;\">\n",
       "      <th></th>\n",
       "      <th>content</th>\n",
       "      <th>date</th>\n",
       "      <th>like</th>\n",
       "      <th>place</th>\n",
       "      <th>tags</th>\n",
       "    </tr>\n",
       "  </thead>\n",
       "  <tbody>\n",
       "    <tr>\n",
       "      <th>0</th>\n",
       "      <td>신당동 최고 맛집!!⁣⁣🧡신당동 찐 맛집 \"청춘상회\"🐖🥩⁣⁣냉삼의 추억을 제~대로 ...</td>\n",
       "      <td>2022-02-05</td>\n",
       "      <td>0</td>\n",
       "      <td></td>\n",
       "      <td>[#신당동맛집, #동대문맛집추천, #청량리맛집, #휘경동맛집, #이문동맛집⁣, #외...</td>\n",
       "    </tr>\n",
       "    <tr>\n",
       "      <th>1</th>\n",
       "      <td>( 협찬 )회기 삼겹살 맛집은 어디~형~고깃집!!!!!고기종류도 여러가지! 찌개종류...</td>\n",
       "      <td>2022-02-20</td>\n",
       "      <td>116</td>\n",
       "      <td></td>\n",
       "      <td>[#회기맛집, #회기술집, #회기가볼만한곳, #회기데이트, #회기역맛집, #회기고기...</td>\n",
       "    </tr>\n",
       "    <tr>\n",
       "      <th>2</th>\n",
       "      <td>회기동 #시키카츠경희대생들이 사랑하는 카츠 전문점시키카츠를 친구가 밥 사준다길래 다...</td>\n",
       "      <td>2022-01-27</td>\n",
       "      <td>574</td>\n",
       "      <td>경희대학교 Kyung Hee Univ, South Korea</td>\n",
       "      <td>[#시키카츠경희대생들이, #회기맛집, #아가리회기]</td>\n",
       "    </tr>\n",
       "    <tr>\n",
       "      <th>3</th>\n",
       "      <td>단골집 목록중에 하나 쓰-윽 소개해줄라니까모여봐요!!..!!!!(속닥속닥) 형~고깃...</td>\n",
       "      <td>2022-02-18</td>\n",
       "      <td>117</td>\n",
       "      <td></td>\n",
       "      <td>[#회기맛집, #회기술집, #회기가볼만한곳, #회기데이트, #회기역맛집, #회기고기...</td>\n",
       "    </tr>\n",
       "    <tr>\n",
       "      <th>4</th>\n",
       "      <td>다시오자 우리♡#호랭이양식당 #회기맛집....#경희대맛집#회기역맛집#회기파스타#경희...</td>\n",
       "      <td>2022-02-03</td>\n",
       "      <td>117</td>\n",
       "      <td></td>\n",
       "      <td>[#호랭이양식당, #회기맛집...., #경희대맛집, #회기역맛집, #회기파스타, #...</td>\n",
       "    </tr>\n",
       "  </tbody>\n",
       "</table>\n",
       "</div>"
      ],
      "text/plain": [
       "                                             content        date like  \\\n",
       "0  신당동 최고 맛집!!⁣⁣🧡신당동 찐 맛집 \"청춘상회\"🐖🥩⁣⁣냉삼의 추억을 제~대로 ...  2022-02-05    0   \n",
       "1  ( 협찬 )회기 삼겹살 맛집은 어디~형~고깃집!!!!!고기종류도 여러가지! 찌개종류...  2022-02-20  116   \n",
       "2  회기동 #시키카츠경희대생들이 사랑하는 카츠 전문점시키카츠를 친구가 밥 사준다길래 다...  2022-01-27  574   \n",
       "3  단골집 목록중에 하나 쓰-윽 소개해줄라니까모여봐요!!..!!!!(속닥속닥) 형~고깃...  2022-02-18  117   \n",
       "4  다시오자 우리♡#호랭이양식당 #회기맛집....#경희대맛집#회기역맛집#회기파스타#경희...  2022-02-03  117   \n",
       "\n",
       "                               place  \\\n",
       "0                                      \n",
       "1                                      \n",
       "2  경희대학교 Kyung Hee Univ, South Korea   \n",
       "3                                      \n",
       "4                                      \n",
       "\n",
       "                                                tags  \n",
       "0  [#신당동맛집, #동대문맛집추천, #청량리맛집, #휘경동맛집, #이문동맛집⁣, #외...  \n",
       "1  [#회기맛집, #회기술집, #회기가볼만한곳, #회기데이트, #회기역맛집, #회기고기...  \n",
       "2                       [#시키카츠경희대생들이, #회기맛집, #아가리회기]  \n",
       "3  [#회기맛집, #회기술집, #회기가볼만한곳, #회기데이트, #회기역맛집, #회기고기...  \n",
       "4  [#호랭이양식당, #회기맛집...., #경희대맛집, #회기역맛집, #회기파스타, #...  "
      ]
     },
     "execution_count": 37,
     "metadata": {},
     "output_type": "execute_result"
    }
   ],
   "source": [
    "# 결과확인\n",
    "result_df = pd.DataFrame(results,\n",
    "                        columns = ['content', 'date','like','place','tags'])\n",
    "result_df.head()"
   ]
  },
  {
   "cell_type": "code",
   "execution_count": 38,
   "id": "823f8c30",
   "metadata": {},
   "outputs": [],
   "source": [
    "# 엑셀 파일화 \n",
    "result_df.to_excel('C:/Users/SAMSUNG/Desktop/파이썬 데이터 분석/데이터 분석 실무 파이썬/khu_food.xlsx')"
   ]
  },
  {
   "cell_type": "markdown",
   "id": "61d8adc6",
   "metadata": {},
   "source": [
    "* 키워드 : 경희대 카페"
   ]
  },
  {
   "cell_type": "code",
   "execution_count": 41,
   "id": "e1019b5b",
   "metadata": {},
   "outputs": [
    {
     "name": "stderr",
     "output_type": "stream",
     "text": [
      "C:\\Users\\SAMSUNG\\AppData\\Local\\Temp/ipykernel_2252/2547080320.py:3: DeprecationWarning: find_element_by_* commands are deprecated. Please use find_element() instead\n",
      "  first = driver.find_element_by_css_selector('div._9AhH0')\n"
     ]
    }
   ],
   "source": [
    "word = \"경희대카페\"    #검색어\n",
    "url = insta_searching(word)\n",
    "time.sleep(5)\n",
    "\n",
    "# ③ 검색페이지 접속하기\n",
    "driver.get(url)\n",
    "time.sleep(3)\n",
    "\n",
    "# ④ 첫 번째 게시글 열기\n",
    "select_first(driver)\n",
    "\n",
    "# ⑤ 비어있는 변수(results)만들기\n",
    "results = [ ]"
   ]
  },
  {
   "cell_type": "code",
   "execution_count": 42,
   "id": "b55cb3fb",
   "metadata": {},
   "outputs": [
    {
     "name": "stderr",
     "output_type": "stream",
     "text": [
      "C:\\Users\\SAMSUNG\\AppData\\Local\\Temp/ipykernel_2252/278784341.py:3: DeprecationWarning: find_element_by_* commands are deprecated. Please use find_element() instead\n",
      "  right = driver.find_element_by_css_selector('div.l8mY4.feth3')\n"
     ]
    }
   ],
   "source": [
    "# ⑥→⑦→⑧ 여러 게시물 수집하기\n",
    "target = 100     # 크롤링할 게시글 수\n",
    "for i in range(target):\n",
    "    # 게시글 수집에 오류 발생시(네트워크 문제 등의 이유로)  2초 대기 후, 다음 게시글로 넘어가도록 try, except 구문 활용\n",
    "    try:\n",
    "        data = get_content(driver)    # 게시글 정보 가져오기\n",
    "        results.append(data)\n",
    "        move_next(driver)\n",
    "    except:\n",
    "        time.sleep(2)\n",
    "        move_next(driver)\n"
   ]
  },
  {
   "cell_type": "code",
   "execution_count": 43,
   "id": "7fe60f28",
   "metadata": {},
   "outputs": [
    {
     "data": {
      "text/html": [
       "<div>\n",
       "<style scoped>\n",
       "    .dataframe tbody tr th:only-of-type {\n",
       "        vertical-align: middle;\n",
       "    }\n",
       "\n",
       "    .dataframe tbody tr th {\n",
       "        vertical-align: top;\n",
       "    }\n",
       "\n",
       "    .dataframe thead th {\n",
       "        text-align: right;\n",
       "    }\n",
       "</style>\n",
       "<table border=\"1\" class=\"dataframe\">\n",
       "  <thead>\n",
       "    <tr style=\"text-align: right;\">\n",
       "      <th></th>\n",
       "      <th>content</th>\n",
       "      <th>date</th>\n",
       "      <th>like</th>\n",
       "      <th>place</th>\n",
       "      <th>tags</th>\n",
       "    </tr>\n",
       "  </thead>\n",
       "  <tbody>\n",
       "    <tr>\n",
       "      <th>0</th>\n",
       "      <td>Big hand..</td>\n",
       "      <td>2022-02-18</td>\n",
       "      <td>357</td>\n",
       "      <td>Ourwave</td>\n",
       "      <td>[]</td>\n",
       "    </tr>\n",
       "    <tr>\n",
       "      <th>1</th>\n",
       "      <td>1월의 딸기를 이용한 쁘띠갸또, 샹그리아딸기타르트.어느 제품과도 잘 어울리는 무한 ...</td>\n",
       "      <td>2022-01-05</td>\n",
       "      <td>519</td>\n",
       "      <td></td>\n",
       "      <td>[#샹그리아딸기타르트, #1월의케이크, #딸기타르트, #strawberrytart]</td>\n",
       "    </tr>\n",
       "    <tr>\n",
       "      <th>2</th>\n",
       "      <td>🌟내 가게 노출과 방문을 늘리는 비결은 업스타그램🌟업계 1위의 비결 빅데이터!신뢰도...</td>\n",
       "      <td>2022-02-17</td>\n",
       "      <td>258</td>\n",
       "      <td></td>\n",
       "      <td>[#성남카페, #양양카페, #경희대카페, #상수동카페, #구로카페, #증평카페, #...</td>\n",
       "    </tr>\n",
       "    <tr>\n",
       "      <th>3</th>\n",
       "      <td>판나코타🤍진짜 한입거리얌#푸딩 #판나코타 #회기 #컴투레스트 #회기카페 #경희대카페</td>\n",
       "      <td>2022-02-19</td>\n",
       "      <td>150</td>\n",
       "      <td>컴투레스트</td>\n",
       "      <td>[#푸딩, #판나코타, #회기, #컴투레스트, #회기카페, #경희대카페]</td>\n",
       "    </tr>\n",
       "    <tr>\n",
       "      <th>4</th>\n",
       "      <td>주말에 좋아하는 카페 가는게 힐링 아니겠냐 이말이다!!</td>\n",
       "      <td>2022-01-29</td>\n",
       "      <td>497</td>\n",
       "      <td>오앤디</td>\n",
       "      <td>[]</td>\n",
       "    </tr>\n",
       "  </tbody>\n",
       "</table>\n",
       "</div>"
      ],
      "text/plain": [
       "                                             content        date like  \\\n",
       "0                                         Big hand..  2022-02-18  357   \n",
       "1  1월의 딸기를 이용한 쁘띠갸또, 샹그리아딸기타르트.어느 제품과도 잘 어울리는 무한 ...  2022-01-05  519   \n",
       "2  🌟내 가게 노출과 방문을 늘리는 비결은 업스타그램🌟업계 1위의 비결 빅데이터!신뢰도...  2022-02-17  258   \n",
       "3     판나코타🤍진짜 한입거리얌#푸딩 #판나코타 #회기 #컴투레스트 #회기카페 #경희대카페  2022-02-19  150   \n",
       "4                     주말에 좋아하는 카페 가는게 힐링 아니겠냐 이말이다!!  2022-01-29  497   \n",
       "\n",
       "     place                                               tags  \n",
       "0  Ourwave                                                 []  \n",
       "1              [#샹그리아딸기타르트, #1월의케이크, #딸기타르트, #strawberrytart]  \n",
       "2           [#성남카페, #양양카페, #경희대카페, #상수동카페, #구로카페, #증평카페, #...  \n",
       "3    컴투레스트           [#푸딩, #판나코타, #회기, #컴투레스트, #회기카페, #경희대카페]  \n",
       "4      오앤디                                                 []  "
      ]
     },
     "execution_count": 43,
     "metadata": {},
     "output_type": "execute_result"
    }
   ],
   "source": [
    "# 결과확인\n",
    "result_df = pd.DataFrame(results,\n",
    "                        columns = ['content', 'date','like','place','tags'])\n",
    "result_df.head()"
   ]
  },
  {
   "cell_type": "code",
   "execution_count": 44,
   "id": "487172f1",
   "metadata": {},
   "outputs": [],
   "source": [
    "\n",
    "# 엑셀 파일화 \n",
    "result_df.to_excel('C:/Users/SAMSUNG/Desktop/파이썬 데이터 분석/데이터 분석 실무 파이썬/khu_cafe.xlsx')"
   ]
  },
  {
   "cell_type": "markdown",
   "id": "1ecd297a",
   "metadata": {},
   "source": [
    "* 키워드 : 회기맛집"
   ]
  },
  {
   "cell_type": "code",
   "execution_count": 58,
   "id": "c184c509",
   "metadata": {},
   "outputs": [
    {
     "name": "stderr",
     "output_type": "stream",
     "text": [
      "C:\\Users\\SAMSUNG\\AppData\\Local\\Temp/ipykernel_2252/2547080320.py:3: DeprecationWarning: find_element_by_* commands are deprecated. Please use find_element() instead\n",
      "  first = driver.find_element_by_css_selector('div._9AhH0')\n"
     ]
    }
   ],
   "source": [
    "word = \"회기맛집\"    #검색어\n",
    "url = insta_searching(word)\n",
    "time.sleep(5)\n",
    "\n",
    "# ③ 검색페이지 접속하기\n",
    "driver.get(url)\n",
    "time.sleep(3)\n",
    "\n",
    "# ④ 첫 번째 게시글 열기\n",
    "select_first(driver)\n",
    "\n",
    "# ⑤ 비어있는 변수(results)만들기\n",
    "results = [ ]"
   ]
  },
  {
   "cell_type": "code",
   "execution_count": 59,
   "id": "98a955e4",
   "metadata": {},
   "outputs": [
    {
     "name": "stderr",
     "output_type": "stream",
     "text": [
      "C:\\Users\\SAMSUNG\\AppData\\Local\\Temp/ipykernel_2252/278784341.py:3: DeprecationWarning: find_element_by_* commands are deprecated. Please use find_element() instead\n",
      "  right = driver.find_element_by_css_selector('div.l8mY4.feth3')\n"
     ]
    }
   ],
   "source": [
    "# ⑥→⑦→⑧ 여러 게시물 수집하기\n",
    "target = 100     # 크롤링할 게시글 수\n",
    "for i in range(target):\n",
    "    # 게시글 수집에 오류 발생시(네트워크 문제 등의 이유로)  2초 대기 후, 다음 게시글로 넘어가도록 try, except 구문 활용\n",
    "    try:\n",
    "        data = get_content(driver)    # 게시글 정보 가져오기\n",
    "        results.append(data)\n",
    "        move_next(driver)\n",
    "    except:\n",
    "        time.sleep(2)\n",
    "        move_next(driver)\n"
   ]
  },
  {
   "cell_type": "code",
   "execution_count": 60,
   "id": "11f7afa5",
   "metadata": {},
   "outputs": [
    {
     "data": {
      "text/html": [
       "<div>\n",
       "<style scoped>\n",
       "    .dataframe tbody tr th:only-of-type {\n",
       "        vertical-align: middle;\n",
       "    }\n",
       "\n",
       "    .dataframe tbody tr th {\n",
       "        vertical-align: top;\n",
       "    }\n",
       "\n",
       "    .dataframe thead th {\n",
       "        text-align: right;\n",
       "    }\n",
       "</style>\n",
       "<table border=\"1\" class=\"dataframe\">\n",
       "  <thead>\n",
       "    <tr style=\"text-align: right;\">\n",
       "      <th></th>\n",
       "      <th>content</th>\n",
       "      <th>date</th>\n",
       "      <th>like</th>\n",
       "      <th>place</th>\n",
       "      <th>tags</th>\n",
       "    </tr>\n",
       "  </thead>\n",
       "  <tbody>\n",
       "    <tr>\n",
       "      <th>0</th>\n",
       "      <td>( 협찬 )단골집 목록중에 하나 쓰-윽 소개해줄라니까모여봐요!!..!!!!(속닥속닥...</td>\n",
       "      <td>2022-02-10</td>\n",
       "      <td>116</td>\n",
       "      <td></td>\n",
       "      <td>[#회기맛집, #회기술집, #회기가볼만한곳, #회기데이트, #회기역맛집, #회기고기...</td>\n",
       "    </tr>\n",
       "    <tr>\n",
       "      <th>1</th>\n",
       "      <td>경희대 숯불 닭갈비 끝판왕 맛집 🔥🔥📌 동대문구 회기동 60-65 #팔각도경희대점한...</td>\n",
       "      <td>2022-02-16</td>\n",
       "      <td>0</td>\n",
       "      <td></td>\n",
       "      <td>[#팔각도경희대점한상차림, #경희대맛집, #회기맛집, #청량리맛집, #고대맛집, #...</td>\n",
       "    </tr>\n",
       "    <tr>\n",
       "      <th>2</th>\n",
       "      <td>회기동 #시키카츠경희대생들이 사랑하는 카츠 전문점시키카츠를 친구가 밥 사준다길래 다...</td>\n",
       "      <td>2022-01-27</td>\n",
       "      <td>574</td>\n",
       "      <td>경희대학교 Kyung Hee Univ, South Korea</td>\n",
       "      <td>[#시키카츠경희대생들이, #회기맛집, #아가리회기]</td>\n",
       "    </tr>\n",
       "    <tr>\n",
       "      <th>3</th>\n",
       "      <td>단골집 목록중에 하나 쓰-윽 소개해줄라니까모여봐요!!..!!!!(속닥속닥) 형~고깃...</td>\n",
       "      <td>2022-02-17</td>\n",
       "      <td>119</td>\n",
       "      <td></td>\n",
       "      <td>[#회기맛집, #회기술집, #회기가볼만한곳, #회기데이트, #회기역맛집, #회기고기...</td>\n",
       "    </tr>\n",
       "    <tr>\n",
       "      <th>4</th>\n",
       "      <td>단골집 목록중에 하나 쓰-윽 소개해줄라니까모여봐요!!..!!!!(속닥속닥) 형~고깃...</td>\n",
       "      <td>2022-02-18</td>\n",
       "      <td>117</td>\n",
       "      <td></td>\n",
       "      <td>[#회기맛집, #회기술집, #회기가볼만한곳, #회기데이트, #회기역맛집, #회기고기...</td>\n",
       "    </tr>\n",
       "  </tbody>\n",
       "</table>\n",
       "</div>"
      ],
      "text/plain": [
       "                                             content        date like  \\\n",
       "0  ( 협찬 )단골집 목록중에 하나 쓰-윽 소개해줄라니까모여봐요!!..!!!!(속닥속닥...  2022-02-10  116   \n",
       "1  경희대 숯불 닭갈비 끝판왕 맛집 🔥🔥📌 동대문구 회기동 60-65 #팔각도경희대점한...  2022-02-16    0   \n",
       "2  회기동 #시키카츠경희대생들이 사랑하는 카츠 전문점시키카츠를 친구가 밥 사준다길래 다...  2022-01-27  574   \n",
       "3  단골집 목록중에 하나 쓰-윽 소개해줄라니까모여봐요!!..!!!!(속닥속닥) 형~고깃...  2022-02-17  119   \n",
       "4  단골집 목록중에 하나 쓰-윽 소개해줄라니까모여봐요!!..!!!!(속닥속닥) 형~고깃...  2022-02-18  117   \n",
       "\n",
       "                               place  \\\n",
       "0                                      \n",
       "1                                      \n",
       "2  경희대학교 Kyung Hee Univ, South Korea   \n",
       "3                                      \n",
       "4                                      \n",
       "\n",
       "                                                tags  \n",
       "0  [#회기맛집, #회기술집, #회기가볼만한곳, #회기데이트, #회기역맛집, #회기고기...  \n",
       "1  [#팔각도경희대점한상차림, #경희대맛집, #회기맛집, #청량리맛집, #고대맛집, #...  \n",
       "2                       [#시키카츠경희대생들이, #회기맛집, #아가리회기]  \n",
       "3  [#회기맛집, #회기술집, #회기가볼만한곳, #회기데이트, #회기역맛집, #회기고기...  \n",
       "4  [#회기맛집, #회기술집, #회기가볼만한곳, #회기데이트, #회기역맛집, #회기고기...  "
      ]
     },
     "execution_count": 60,
     "metadata": {},
     "output_type": "execute_result"
    }
   ],
   "source": [
    "# 결과확인\n",
    "result_df = pd.DataFrame(results,\n",
    "                        columns = ['content', 'date','like','place','tags'])\n",
    "result_df.head()"
   ]
  },
  {
   "cell_type": "code",
   "execution_count": 62,
   "id": "e27905ae",
   "metadata": {},
   "outputs": [],
   "source": [
    "# 엑셀 파일화 \n",
    "result_df.to_excel('C:/Users/SAMSUNG/Desktop/파이썬 데이터 분석/데이터 분석 실무 파이썬/khu_food2.xlsx')"
   ]
  },
  {
   "cell_type": "markdown",
   "id": "2d12f6f9",
   "metadata": {},
   "source": [
    "* 키워드 : 회기역맛집"
   ]
  },
  {
   "cell_type": "code",
   "execution_count": 49,
   "id": "59dc1e84",
   "metadata": {},
   "outputs": [
    {
     "name": "stderr",
     "output_type": "stream",
     "text": [
      "C:\\Users\\SAMSUNG\\AppData\\Local\\Temp/ipykernel_2252/2547080320.py:3: DeprecationWarning: find_element_by_* commands are deprecated. Please use find_element() instead\n",
      "  first = driver.find_element_by_css_selector('div._9AhH0')\n"
     ]
    }
   ],
   "source": [
    "word = \"회기역맛집\"    #검색어\n",
    "url = insta_searching(word)\n",
    "time.sleep(5)\n",
    "\n",
    "# ③ 검색페이지 접속하기\n",
    "driver.get(url)\n",
    "time.sleep(3)\n",
    "\n",
    "# ④ 첫 번째 게시글 열기\n",
    "select_first(driver)\n",
    "\n",
    "# ⑤ 비어있는 변수(results)만들기\n",
    "results = [ ]"
   ]
  },
  {
   "cell_type": "code",
   "execution_count": 50,
   "id": "45584387",
   "metadata": {},
   "outputs": [
    {
     "name": "stderr",
     "output_type": "stream",
     "text": [
      "C:\\Users\\SAMSUNG\\AppData\\Local\\Temp/ipykernel_2252/278784341.py:3: DeprecationWarning: find_element_by_* commands are deprecated. Please use find_element() instead\n",
      "  right = driver.find_element_by_css_selector('div.l8mY4.feth3')\n"
     ]
    }
   ],
   "source": [
    "# ⑥→⑦→⑧ 여러 게시물 수집하기\n",
    "target = 100     # 크롤링할 게시글 수\n",
    "for i in range(target):\n",
    "    # 게시글 수집에 오류 발생시(네트워크 문제 등의 이유로)  2초 대기 후, 다음 게시글로 넘어가도록 try, except 구문 활용\n",
    "    try:\n",
    "        data = get_content(driver)    # 게시글 정보 가져오기\n",
    "        results.append(data)\n",
    "        move_next(driver)\n",
    "    except:\n",
    "        time.sleep(2)\n",
    "        move_next(driver)\n"
   ]
  },
  {
   "cell_type": "code",
   "execution_count": 51,
   "id": "16f56388",
   "metadata": {},
   "outputs": [
    {
     "data": {
      "text/html": [
       "<div>\n",
       "<style scoped>\n",
       "    .dataframe tbody tr th:only-of-type {\n",
       "        vertical-align: middle;\n",
       "    }\n",
       "\n",
       "    .dataframe tbody tr th {\n",
       "        vertical-align: top;\n",
       "    }\n",
       "\n",
       "    .dataframe thead th {\n",
       "        text-align: right;\n",
       "    }\n",
       "</style>\n",
       "<table border=\"1\" class=\"dataframe\">\n",
       "  <thead>\n",
       "    <tr style=\"text-align: right;\">\n",
       "      <th></th>\n",
       "      <th>content</th>\n",
       "      <th>date</th>\n",
       "      <th>like</th>\n",
       "      <th>place</th>\n",
       "      <th>tags</th>\n",
       "    </tr>\n",
       "  </thead>\n",
       "  <tbody>\n",
       "    <tr>\n",
       "      <th>0</th>\n",
       "      <td>인〰️생〰️은〰️새옹지마</td>\n",
       "      <td>2022-02-18</td>\n",
       "      <td>180</td>\n",
       "      <td>Mtl Hanmam</td>\n",
       "      <td>[]</td>\n",
       "    </tr>\n",
       "    <tr>\n",
       "      <th>1</th>\n",
       "      <td>단골집 목록중에 하나 쓰-윽 소개해줄라니까모여봐요!!..!!!!(속닥속닥) 형~고깃...</td>\n",
       "      <td>2022-02-19</td>\n",
       "      <td>119</td>\n",
       "      <td></td>\n",
       "      <td>[#회기맛집, #회기술집, #회기가볼만한곳, #회기데이트, #회기역맛집, #회기고기...</td>\n",
       "    </tr>\n",
       "    <tr>\n",
       "      <th>2</th>\n",
       "      <td>저렴하지만 가성비좋은 #거복이식당#회기맛집#경희대맛집#회기역맛집#회기고기집#회기삼겹...</td>\n",
       "      <td>2022-02-19</td>\n",
       "      <td>151</td>\n",
       "      <td>회기동</td>\n",
       "      <td>[#거복이식당, #회기맛집, #경희대맛집, #회기역맛집, #회기고기집, #회기삼겹살...</td>\n",
       "    </tr>\n",
       "    <tr>\n",
       "      <th>3</th>\n",
       "      <td>회기에서 데이튜#호랭이양식당 분위기좋아....#회기맛집#고대술집#회기역맛집#시립대술...</td>\n",
       "      <td>2022-02-19</td>\n",
       "      <td>134</td>\n",
       "      <td>호랭이양식당</td>\n",
       "      <td>[#호랭이양식당, #회기맛집, #고대술집, #회기역맛집, #시립대술집, #경희대파스...</td>\n",
       "    </tr>\n",
       "    <tr>\n",
       "      <th>4</th>\n",
       "      <td>기념일ღ고마워❤❤❤#호랭이양식당...#경희대파스타#회기역맛집#경희대맛집#회기파스타#...</td>\n",
       "      <td>2022-02-18</td>\n",
       "      <td>111</td>\n",
       "      <td>호랭이양식당</td>\n",
       "      <td>[#호랭이양식당..., #경희대파스타, #회기역맛집, #경희대맛집, #회기파스타, ...</td>\n",
       "    </tr>\n",
       "  </tbody>\n",
       "</table>\n",
       "</div>"
      ],
      "text/plain": [
       "                                             content        date like  \\\n",
       "0                                      인〰️생〰️은〰️새옹지마  2022-02-18  180   \n",
       "1  단골집 목록중에 하나 쓰-윽 소개해줄라니까모여봐요!!..!!!!(속닥속닥) 형~고깃...  2022-02-19  119   \n",
       "2  저렴하지만 가성비좋은 #거복이식당#회기맛집#경희대맛집#회기역맛집#회기고기집#회기삼겹...  2022-02-19  151   \n",
       "3  회기에서 데이튜#호랭이양식당 분위기좋아....#회기맛집#고대술집#회기역맛집#시립대술...  2022-02-19  134   \n",
       "4  기념일ღ고마워❤❤❤#호랭이양식당...#경희대파스타#회기역맛집#경희대맛집#회기파스타#...  2022-02-18  111   \n",
       "\n",
       "        place                                               tags  \n",
       "0  Mtl Hanmam                                                 []  \n",
       "1              [#회기맛집, #회기술집, #회기가볼만한곳, #회기데이트, #회기역맛집, #회기고기...  \n",
       "2         회기동  [#거복이식당, #회기맛집, #경희대맛집, #회기역맛집, #회기고기집, #회기삼겹살...  \n",
       "3      호랭이양식당  [#호랭이양식당, #회기맛집, #고대술집, #회기역맛집, #시립대술집, #경희대파스...  \n",
       "4      호랭이양식당  [#호랭이양식당..., #경희대파스타, #회기역맛집, #경희대맛집, #회기파스타, ...  "
      ]
     },
     "execution_count": 51,
     "metadata": {},
     "output_type": "execute_result"
    }
   ],
   "source": [
    "# 결과확인\n",
    "result_df = pd.DataFrame(results,\n",
    "                        columns = ['content', 'date','like','place','tags'])\n",
    "result_df.head()"
   ]
  },
  {
   "cell_type": "code",
   "execution_count": 55,
   "id": "d00ea14f",
   "metadata": {},
   "outputs": [],
   "source": [
    "# 엑셀 파일화 \n",
    "result_df.to_excel('C:/Users/SAMSUNG/Desktop/파이썬 데이터 분석/데이터 분석 실무 파이썬/khu_food3.xlsx')"
   ]
  },
  {
   "cell_type": "markdown",
   "id": "92e5e6ae",
   "metadata": {},
   "source": [
    "###  여러 엑셀 파일 중복 제거 후 통합저장 "
   ]
  },
  {
   "cell_type": "code",
   "execution_count": 64,
   "id": "9b17052b",
   "metadata": {},
   "outputs": [],
   "source": [
    "#여러 개의 저장파일 통합하기\n",
    "khu_insta_df = pd.DataFrame( [ ] )\n",
    "\n",
    "folder = 'C:/Users/SAMSUNG/Desktop/파이썬 데이터 분석/데이터 분석 실무 파이썬/'\n",
    "f_list = ['khu_food.xlsx', 'khu_food2.xlsx','khu_food3.xlsx']\n",
    "for fname in f_list:\n",
    "    fpath = folder + fname\n",
    "    temp = pd.read_excel(fpath)\n",
    "    khu_insta_df = khu_insta_df.append(temp)\n",
    "\n",
    "khu_insta_df.columns =['index','content','date','like','place','tags']\n"
   ]
  },
  {
   "cell_type": "code",
   "execution_count": 66,
   "id": "1c786e6b",
   "metadata": {},
   "outputs": [],
   "source": [
    "# 중복제거\n",
    "khu_insta_df.drop_duplicates(subset = [\"content\"] , inplace = True)\n",
    "khu_insta_df.to_excel('C:/Users/SAMSUNG/Desktop/파이썬 데이터 분석/데이터 분석 실무 파이썬/khu_crawling_raw.xlsx', index = False)"
   ]
  },
  {
   "cell_type": "markdown",
   "id": "fc17bb84",
   "metadata": {},
   "source": [
    "### 워드 클라우드"
   ]
  },
  {
   "cell_type": "code",
   "execution_count": 67,
   "id": "17b10a6e",
   "metadata": {},
   "outputs": [
    {
     "data": {
      "text/plain": [
       "0    ['#신당동맛집', '#동대문맛집추천', '#청량리맛집', '#휘경동맛집', '#이...\n",
       "1    ['#회기맛집', '#회기술집', '#회기가볼만한곳', '#회기데이트', '#회기역...\n",
       "2                   ['#시키카츠경희대생들이', '#회기맛집', '#아가리회기']\n",
       "Name: tags, dtype: object"
      ]
     },
     "execution_count": 67,
     "metadata": {},
     "output_type": "execute_result"
    }
   ],
   "source": [
    "import pandas as pd \n",
    "raw_total = pd.read_excel('C:/Users/SAMSUNG/Desktop/파이썬 데이터 분석/데이터 분석 실무 파이썬/khu_crawling_raw.xlsx')\n",
    "raw_total['tags'][:3]"
   ]
  },
  {
   "cell_type": "code",
   "execution_count": 68,
   "id": "30b898d7",
   "metadata": {},
   "outputs": [
    {
     "name": "stdout",
     "output_type": "stream",
     "text": [
      "['#신당동맛집', '#동대문맛집추천', '#청량리맛집', '#휘경동맛집', '#이문동맛집\\u2063', '#외대맛집', '#신당역맛집', '#회기맛집추천', '#경희대맛집']\n",
      "['#회기맛집', '#회기술집', '#회기가볼만한곳', '#회기데이트', '#회기역맛집', '#회기고기집', '#회기역술집', '#경희대맛집', '#삼겹살맛집']\n",
      "['#시키카츠경희대생들이', '#회기맛집', '#아가리회기']\n",
      "['#회기맛집', '#회기술집', '#회기가볼만한곳', '#회기데이트', '#회기역맛집', '#회기고기집', '#회기역술집', '#경희대맛집', '#삼겹살맛집']\n",
      "['#호랭이양식당', '#회기맛집....', '#경희대맛집', '#회기역맛집', '#회기파스타', '#경희대파스타', '#회기맛집호랭이양식당', '#고대맛집', '#외대파스타', '#청량리파스타', '#청량리맛집', '#동대문구맛집', '#안암맛집']\n",
      "['#팔각도경희대점한상차림', '#경희대맛집', '#경희대카페', '#회기맛집', '#회기카페', '#청량리맛집', '#청량리카페', '#외대맛집', '#외대카페', '#고대맛집', '#고대카페', '#신당동맛집', '#휘경동맛집', '#이문동맛집', '#외대맛집']\n",
      "['#회기맛집', '#거복이식당....', '#회기고깃집', '#경희대고기집', '#경희대맛집', '#경희대맛집거복이식당', '#회기역맛집', '#회기고기집', '#회기삼겹살', '#경희대고깃집', '#경희대삼겹살']\n",
      "['#거복이식당고기도', '#회기고깃집', '#경희대고기집', '#회기맛집', '#경희대맛집', '#경희대맛집거복이식당', '#회기역맛집', '#회기고기집', '#회기삼겹살', '#경희대고깃집', '#경희대삼겹살']\n",
      "['#회기파스타', '#경희대파스타', '#고대양식', '#시립대양식', '#외대양식', '#청량리술집', '#회기맛집', '#경희대맛집', '#회기맛집호랭이양식당', '#회기역맛집', '#동대문구술집', '#안암양식', '#회기역양식']\n",
      "['#경희대맛집', '#회기삼겹살', '#회기역맛집', '#회기맛집', '#회기고기집', '#경희대맛집거복이식당', '#회기술집', '#회기역술집', '#경희대술집', '#회기회식', '#경희대회식']\n",
      "['#경희대파스타', '#회기역맛집', '#호랭이양식당.....', '#경희대맛집', '#회기파스타', '#회기맛집', '#고대파스타', '#시립대파스타', '#회기맛집호랭이양식당', '#시립대맛집', '#외대맛집', '#동대문구파스타', '#안암파스타', '#회기역파스타']\n",
      "['#낮술']\n",
      "['#경희대파스타', '#회기역맛집', '#경희대맛집', '#회기파스타', '#회기맛집', '#고대파스타', '#시립대파스타', '#회기맛집호랭이양식당', '#시립대맛집', '#외대맛집', '#동대문구파스타', '#안암파스타', '#회기역파스타']\n",
      "['#거복이식당', '#회기맛집', '#경희대맛집', '#회기역맛집', '#회기고기집', '#회기삼겹살', '#경희대맛집거복이식당', '#회기술집', '#외대맛집', '#시립대맛집', '#고대맛집', '#청량리맛집', '#동대문맛집', '#삼겹살맛집']\n",
      "['#회기', '#고급양식', '#리조또', '#연어스테이크&로제', '#리코타듬뿍샐러드']\n",
      "['#호랭이양식당....', '#회기파스타', '#경희대파스타', '#고대양식', '#시립대양식', '#외대양식', '#청량리술집', '#회기맛집', '#경희대맛집', '#회기맛집호랭이양식당', '#회기역맛집', '#동대문구술집', '#안암양식', '#회기역양식']\n",
      "['#도산공원맛집', '#수원역맛집', '#경희대맛집', '#압구정동맛집', '#동탄마카롱맛집', '#벌교맛집', '#용산맛집추천', '#연수맛집', '#강화맛집추천', '#신림사거리맛집', '#차이나타운맛집', '#괴정동맛집', '#영광맛집', '#대구여행코스', '#인천케이크맛집']\n",
      "[]\n",
      "['#호랭이양식당...', '#경희대파스타', '#회기역맛집', '#경희대맛집', '#회기파스타', '#회기맛집', '#고대파스타', '#시립대파스타', '#회기맛집호랭이양식당', '#시립대맛집', '#외대맛집', '#동대문구파스타', '#안암파스타', '#회기역파스타']\n",
      "[]\n",
      "['#거복이식당', '#경희대맛집', '#회기삼겹살', '#회기역맛집', '#회기맛집', '#회기고기집', '#경희대맛집거복이식당', '#회기술집', '#회기역술집', '#경희대술집', '#회기회식', '#경희대회식']\n",
      "['#신전떡볶이', '#블로그협찬받았으나인스타리뷰는내뜻', '#신전떡볶이회기점', '#신전로제떡볶이', '#신전치즈떡볶이', '#신전오뎅튀김', '#경희대맛집', '#회기맛집', '#푸디무디']\n",
      "['#회기고깃집', '#경희대고기집', '#회기맛집', '#경희대맛집', '#경희대맛집거복이식당', '#회기역맛집', '#회기고기집', '#회기삼겹살', '#경희대고깃집', '#경희대삼겹살']\n",
      "['#회기맛집', '#경희대맛집', '#회기역맛집', '#회기고기집', '#회기삼겹살', '#경희대맛집거복이식당', '#회기술집', '#외대맛집', '#시립대맛집', '#고대맛집', '#청량리맛집', '#동대문맛집', '#삼겹살맛집']\n",
      "['#회기파스타', '#경희대파스타', '#고대양식', '#시립대양식', '#외대양식', '#청량리술집', '#회기맛집', '#경희대맛집', '#회기맛집호랭이양식당', '#회기역맛집', '#동대문구술집', '#안암양식', '#회기역양식']\n",
      "['#경희대맛집', '#거복이식당.....', '#회기삼겹살', '#회기역맛집', '#회기맛집', '#회기고기집', '#경희대맛집거복이식당', '#회기술집', '#회기역술집', '#경희대술집', '#회기회식', '#경희대회식']\n",
      "['#호랭이양식당', '#회기맛집', '#경희대맛집...', '#회기역맛집', '#회기파스타', '#경희대파스타', '#회기맛집호랭이양식당', '#고대맛집', '#외대파스타', '#청량리파스타', '#청량리맛집', '#동대문구맛집', '#안암맛집']\n",
      "['#서울', '#경희대맛집', '#등촌샤브칼국수', '#칼국수못먹음', '#볶음밥이최고', '#소주맛집', '#안주맛집', '#하루', '#시간이', '#길다', '#뿌듯', '#여행', '#주말', '#운동', '#유산소운동', '#뿌셨다', '#라스트', '#서울3차', '#토욜', '#불토', '#쉬는날', '#역전할머니맥주', '#파인애플샤베트', '#최애안주', '#젤조아']\n",
      "['#회기맛집', '#경희대맛집', '#회기역맛집', '#회기고기집', '#회기삼겹살', '#경희대맛집거복이식당', '#회기술집', '#외대맛집', '#시립대맛집', '#고대맛집', '#청량리맛집', '#동대문맛집', '#삼겹살맛집']\n",
      "['#회기파스타', '#경희대파스타', '#고대양식', '#시립대양식', '#외대양식', '#청량리술집', '#회기맛집', '#경희대맛집', '#회기맛집호랭이양식당', '#회기역맛집', '#동대문구술집', '#안암양식', '#회기역양식']\n",
      "['#거복이식당매장도', '#거복이식당', '#동대문고기집', '#회기역맛집', '#청량리고기집', '#경희대맛집', '#동대문데이트', '#경희대맛집거복이식당', '#회기맛집', '#회기데이트', '#회기고기집', '#회기동맛집']\n",
      "['#회기파스타', '#경희대파스타', '#고대양식', '#시립대양식', '#외대양식', '#청량리술집', '#회기맛집', '#경희대맛집', '#회기맛집호랭이양식당', '#회기역맛집', '#동대문구술집', '#안암양식', '#회기역양식']\n",
      "['#경희대맛집', '#회기맛집', '#회기역맛집', '#회기고기집', '#회기삼겹살', '#경희대맛집거복이식당', '#회기술집', '#외대맛집', '#시립대맛집', '#고대맛집', '#청량리맛집', '#동대문맛집', '#삼겹살맛집']\n",
      "['#크치치킨', '#크치반반치킨콤보🚦', '#매콤크림파스타🚦', '#호가든로제', '#푸드캔버스', '#푸드페인터']\n",
      "['#수원맛집', '#영통맛집', '#경희대맛집', '#파스타맛집', '#카인드', '#카인드키친', '#수원파스타', '#영통파스타']\n",
      "['#거복이식당삽겹살', '#경희대맛집', '#회기삼겹살', '#회기역맛집', '#회기맛집', '#회기고기집', '#경희대맛집거복이식당', '#회기술집', '#회기역술집', '#경희대술집', '#회기회식', '#경희대회식']\n",
      "['#회기맛집', '#경희대맛집', '#회기역맛집', '#회기파스타', '#경희대파스타', '#회기맛집호랭이양식당', '#고대맛집', '#외대파스타', '#청량리파스타', '#청량리맛집', '#동대문구맛집', '#안암맛집']\n",
      "['#호랭이양식당전통주와', '#경희대파스타', '#회기역맛집', '#경희대맛집', '#회기파스타', '#회기맛집', '#고대파스타', '#시립대파스타', '#회기맛집호랭이양식당', '#시립대맛집', '#외대맛집', '#동대문구파스타', '#안암파스타', '#회기역파스타']\n",
      "['#호랭이양식당....', '#회기맛집', '#경희대맛집', '#회기역맛집', '#회기파스타', '#경희대파스타', '#회기맛집호랭이양식당', '#고대맛집', '#외대파스타', '#청량리파스타', '#청량리맛집', '#동대문구맛집', '#안암맛집']\n",
      "['#회기맛집거복이식당오늘도', '#회기고깃집', '#경희대고기집', '#회기맛집', '#경희대맛집', '#경희대맛집거복이식당', '#회기역맛집', '#회기고기집', '#회기삼겹살', '#경희대고깃집', '#경희대삼겹살']\n",
      "['#이달의아트', '#회기속눈썹', '#회기동네일', '#회기역네일', '#더예쁜네일', '#동대문속눈썹', '#회기네일', '#속눈썹펌', '#왕십리속눈썹', '#외대네일샵', '#청량리네일', '#회기동', '#왕십리네일샵', '#외대네일', '#청량리속눈썹', '#경희대맛집', '#경희대네일샵', '#일', '#경희대학교', '#골목식당', '#경희대속눈썹펌', '#경희대네일', '#네일샵', '#네일스타그램', '#회기시장', '#2021년', '#코로나19', '#어린이네일', '#크리스마스']\n",
      "['#거복이식당', '#회기고기집', '#회기동맛집', '#동대문고기집', '#회기역맛집', '#청량리고기집', '#경희대맛집', '#동대문데이트', '#경희대맛집거복이식당', '#회기맛집', '#회기데이트']\n",
      "['#호랭이양식당....', '#회기파스타', '#경희대파스타', '#고대양식', '#시립대양식', '#외대양식', '#청량리술집', '#회기맛집', '#경희대맛집', '#회기맛집호랭이양식당', '#회기역맛집', '#동대문구술집', '#안암양식', '#회기역양식']\n",
      "['#디저트카페', '#버터스콘...', '#오티알카페', '#회기카페', '#크로플', '#크로플맛집', '#외대카페', '#경희대카페', '#경희대카페', '#외대카페', '#공간', '#인테리어', '#외대맛집', '#경희대맛집', '#배달맛집.']\n",
      "['#마카롱', '#쁘띠마카롱', '#얼그레이', '#말차', '#초코', '#라즈베리...', '#디저트카페...', '#오티알카페', '#회기카페', '#크로플', '#크로플맛집', '#외대카페', '#경희대카페', '#경희대카페', '#외대카페', '#공간', '#인테리어', '#외대맛집', '#경희대맛집', '#배달맛집.']\n",
      "['#경희대맛집', '#윤자매', '#샐러드맛집', '#그린브로스']\n",
      "['#거복이식당', '#동대문고기집', '#회기역맛집', '#청량리고기집', '#경희대맛집', '#동대문데이트', '#경희대맛집거복이식당', '#회기맛집', '#회기데이트', '#회기고기집', '#회기동맛집']\n",
      "['#호랭이양식당------', '#회기맛집', '#경희대맛집', '#회기역맛집', '#회기파스타', '#경희대파스타', '#회기맛집호랭이양식당', '#고대맛집', '#외대파스타', '#청량리파스타', '#청량리맛집', '#동대문구맛집', '#안암맛집']\n",
      "[]\n",
      "[]\n",
      "['#맛스타그램', '#먹스타그램', '#식사', '#먹방', '#저녁', '#맛집', '#맛집', '#파전', '#떡볶이', '#파전', '#오뎅탕', '#옥수수콘', '#막걸리', '#이모', '#핫플레이스', '#경희대맛집', '#회기맛집', '#파전맛집', '#tv방영', '#추천', '#파전골목', '#맞팔', '#팔로워', '#좋아요', '#반사', '#좋반', '#이모네왕파전']\n",
      "[]\n",
      "[]\n",
      "['#월드비전', '#비전스토어', '#1만호점축하', '#타니예르']\n",
      "[]\n",
      "[]\n",
      "['#회기맛집', '#경희대맛집회기핫플', '#고기하다고깃집은', '#도모다찌', '#블랑']\n",
      "['#비스트로출출']\n",
      "['#히로시마오꼬노미야끼', '#백수씨심야식당', '#오꼬노미야끼', '#경희대맛집', '#회기맛집']\n",
      "['#신중동맛집', '#둔산동맛집', '#제주한림맛집', '#동문시장맛집', '#구미맛집', '#신제주맛집', '#이수역맛집', '#고현맛집', '#경희대맛집', '#마곡맛집', '#연남동맛집', '#서면맛집', '#제주공항맛집']\n",
      "['#경희대', '#장군집', '#경희대맛집', '#경희대장군집', '#갈매기살', '#뽈살', '#뽈살맛집', '#회기맛집', '#회기', '#먹팔']\n",
      "['#헤이즐넛버터여러']\n",
      "[]\n",
      "['#불토', '#졸업식']\n",
      "[]\n",
      "[]\n",
      "[]\n",
      "['#카카오그래놀라', '#수제그래놀라📍토요일은']\n",
      "[]\n",
      "['#notparisbaguette']\n",
      "['#레이어드c컬펌', '#레이어드펌', '#레이어드컷']\n",
      "['#청화월']\n",
      "[]\n",
      "[]\n",
      "['#2022', '#정시', '#경희대', '#목우미술학원', '#수원미술학원', '#수원입시미술학원', '#광교미술학원', '#오산미술학원', '#동탄미술학원', '#향남미술학원', '#호매실미술학원', '#분당미술학원', '#홍대미술학원', '#수원미대입시', '#수원예고입시', '#인체수채화', '#인체수채화과정', '#인체수채화학생작', '#입시', '#입시회화', '#입시미술', '#미술학원', '#watercolor', '#고3', '#재수생', '#편입', '#정시', '#서양화', '#drawing', '#illustration', '#경희대맛집']\n",
      "['#형고깃집으로고기맛집으로', '#회기맛집', '#회기술집', '#회기가볼만한곳', '#회기데이트', '#회기역맛집', '#회기고기집', '#회기역술집', '#경희대맛집', '#삼겹살맛집']\n",
      "['#회기맛집', '#회기술집', '#회기가볼만한곳', '#회기데이트', '#회기역맛집', '#회기고기집', '#회기역술집', '#경희대맛집', '#삼겹살맛집']\n",
      "['#팔각도경희대점한상차림', '#경희대맛집', '#회기맛집', '#청량리맛집', '#고대맛집', '#신당동맛집', '#휘경동맛집', '#이문동맛집', '#외대맛집']\n",
      "['#동대문맛집', '#동대문맛집추천', '#회기맛집', '#회기동맛집', '#동대문양식', '#회기양식', '#동대문스테이크', '#회기스테이크', '#회기파스타', '#동대문파스타', '#회기루프탑', '#회기루프탑스테이크', '#회기맛집추천', '#회기스테이크맛집', '#회기파스타맛집', '#굿갓레스토랑', '#회기굿갓레스토랑', '#굿갓레스토랑회기점']\n",
      "['#버거호', '#낮맥', '#수제버거영옥인', '#회기', '#회기맛집', '#수제버거맛집', '#해쉬브라운버거', '#베이컨치즈버거', '#칠리치즈프라이', '#맥주안주', '#데일리', '#휴무일상']\n",
      "['#호랭이양식당', '#회기맛집', '#고대술집', '#회기역맛집', '#시립대술집', '#경희대파스타', '#청량리양식', '#회기맛집호랭이양식당', '#동대문구양식', '#회기역맛집', '#외대술집', '#회기파스타', '#안암술집', '#회기역술집']\n",
      "['#청량리블루스']\n",
      "['#호랭이양식당맛집', '#회기맛집', '#고대술집', '#회기역맛집', '#시립대술집', '#경희대파스타', '#청량리양식', '#회기맛집호랭이양식당', '#동대문구양식', '#회기역맛집', '#외대술집', '#회기파스타', '#안암술집', '#회기역술집']\n",
      "['#작전밥집', '#여행병', '#칠곡운암밥집', '#방이카페', '#정평밥집', '#승부맛집', '#오목교맛집', '#진주맛집', '#녹번카페', '#제천조차장맛집', '#마포맛집', '#신내맛집', '#당고개맛집', '#금강카페', '#회기맛집']\n",
      "['#회기베이커리', '#용토끼', '#회기비건', '#회기비건베이커리', '#회기맛집']\n",
      "['#회기맛집', '#호랭이양식당....', '#고대술집', '#회기역맛집', '#시립대술집', '#경희대파스타', '#청량리양식', '#회기맛집호랭이양식당', '#동대문구양식', '#회기역맛집', '#외대술집', '#회기파스타', '#안암술집', '#회기역술집']\n",
      "['#일구구삼고기', '#회기맛집']\n",
      "['#신논현맛집', '#곽지해수욕장맛집', '#회기맛집', '#선정릉맛집', '#서천맛집', '#만년동맛집', '#민속촌맛집', '#광주첨단맛집', '#낫개맛집', '#글캠맛집', '#양산마카롱맛집', '#목동삼겹살맛집', '#대구갈비맛집', '#제주이색맛집', '#암사동맛집']\n",
      "['#회기맛집', '#고대술집', '#회기역맛집', '#시립대술집', '#경희대파스타', '#청량리양식', '#회기맛집호랭이양식당', '#동대문구양식', '#회기역맛집', '#외대술집', '#회기파스타', '#안암술집', '#회기역술집']\n",
      "['#계산맛집', '#회기맛집', '#노원맛집', '#호포맛집', '#일광맛집', '#두정밥집', '#봉화밥집', '#사리맛집', '#집밥', '#오수밥집', '#미전밥집', '#서울', '#고색맛집', '#호호', '#부천종합운동장밥집']\n",
      "[]\n",
      "['#회기맛집', '#고대술집', '#회기역맛집', '#시립대술집', '#경희대파스타', '#청량리양식', '#회기맛집호랭이양식당', '#동대문구양식', '#회기역맛집', '#외대술집', '#회기파스타', '#안암술집', '#회기역술집']\n",
      "['#카페양귀비', '#회기맛집', '#회기카페', '#회기역맛집', '#회기역카페', '#회기동맛집', '#회기동카페', '#동대문구맛집', '#동대문구카페', '#회기양귀비', '#카페양귀비', '#디저트', '#디저트맛집', '#수플레', '#딸기라떼', '#후식', '#먹팔', '#먹스타그램', '#머그로🍽']\n",
      "['#서울', '#경희대술집', '#회기맛집', '#경희대바이브']\n",
      "[]\n",
      "['#좋반사테러', '#단촌맛집', '#군산화물밥집', '#동대신맛집', '#동백카페', '#일상소통', '#남철송장밥집', '#삼례밥집', '#선평맛집', '#회기맛집', '#백마카페', '#지행밥집', '#송현맛집', '#월롱맛집', '#진상밥집']\n",
      "['#머플러', '#스카프', '#방도스카프', '#트윌리', '#봄나들이', '#선물', '#지인선물', '#봄날', '#봄봄', '#꽃구경', '#산책', '#패션그램', '#벚꽃', '#친구선물', '#패션코디', '#스카프패션', '#프로필사진', '#스카프코디', '#스카프선물', '#어버이날선물', '#선물추천', '#한남동카페추천', '#신당동카페', '#회기맛집']\n",
      "['#호랭이양식당....', '#회기맛집', '#고대술집', '#회기역맛집', '#시립대술집', '#경희대파스타', '#청량리양식', '#회기맛집호랭이양식당', '#동대문구양식', '#회기역맛집', '#외대술집', '#회기파스타', '#안암술집', '#회기역술집']\n",
      "['#신논현맛집', '#곽지해수욕장맛집', '#회기맛집', '#선정릉맛집', '#서천맛집', '#만년동맛집', '#민속촌맛집', '#광주첨단맛집', '#낫개맛집', '#글캠맛집', '#양산마카롱맛집', '#목동삼겹살맛집', '#대구갈비맛집', '#제주이색맛집', '#암사동맛집']\n",
      "['#브로우빈', '#Brow_vin', '#회기', '#경희대속눈썹', '#회기속눈썹', '#eyelash', '#waxing', '#속눈썹연장', '#회기속눈썹펌', '#노글루펌', '#여행', '#셀피', '#selfie', '#ootd', '#반려견', '#회기맛집', '#회기왁싱', '#눈썹왁싱', '#운동', '#자전거', '#로드', '#자덕', '#한강', '#자전거타는여자', '#자스타그램', '#라이딩', '#일상', '#데일리', '#데이딩', '#riding']\n",
      "[]\n",
      "['#남원카페', '#초지맛집', '#화명맛집', '#일상공감', '#일상샷', '#안국맛집', '#소태밥집', '#공단맛집', '#팔로워해요', '#소사맛집', '#수내밥집', '#충렬사맛집', '#덕두맛집', '#회기맛집', '#운천맛집']\n",
      "['#봉덕밥집', '#동암밥집', '#무악재맛집', '#봉정카페', '#선평밥집', '#한양대맛집', '#서천밥집', '#동대신밥집', '#달미맛집', '#우장산밥집', '#갑현맛집', '#마사맛집', '#회기맛집', '#솔밭공원카페', '#강남구청밥집']\n",
      "[]\n",
      "['#몸을만들고고치다', '#메이크픽스짐', '#운동맛집', '#운동하는직장인', '#운동하는여자', '#운동하는남자', '#회기헬스', '#다이어트', '#벌크업', '#회기피티', '#회기피티샵', '#외대헬스', '#외대피티', '#외대피티샵', '#청량리헬스', '#청량리피티', '#청량리피티샵', '#회기바디프로필', '#외대바디프로필', '#청량리바디프로필', '#운동하는직장인', '#회기맛집', '#회기카페', '#운동맛집', '#통증완화', '#수기', '#약손']\n",
      "['#몸을만들고고치다', '#메이크픽스짐', '#운동맛집', '#운동하는직장인', '#운동하는여자', '#운동하는남자', '#회기헬스', '#다이어트', '#벌크업', '#회기피티', '#회기피티샵', '#외대헬스', '#외대피티', '#외대피티샵', '#청량리헬스', '#청량리피티', '#청량리피티샵', '#회기바디프로필', '#외대바디프로필', '#청량리바디프로필', '#운동하는직장인', '#회기맛집', '#회기카페', '#운동맛집', '#통증완화', '#수기', '#약손']\n",
      "['#베이커리제온', '#제온베이커리-', '#청량리', '#청량리맛집', '#청량리카페', '#전농동', '#전농동맛집', '#전농동카페', '#답십리', '#답십리맛집', '#답십리카페', '#시립대', '#시립대맛집', '#시립대카페', '#회기', '#회기맛집', '#회기카페', '#장안동', '#장안동맛집', '#장안동카페', '#왕십리', '#왕십리맛집', '#왕십리카페', '#빵지순례', '#빵순이', '#빵맛집', '#베이커리', '#서울빵집', '#스콘맛집', '#식빵맛집']\n",
      "[]\n",
      "[]\n",
      "['#청량리블루스']\n",
      "['#여의도맛집', '#석촌호수맛집', '#중문관광단지맛집', '#신부동맛집', '#객리단길맛집', '#나주맛집', '#평리단길', '#신도림맛집', '#한경면맛집', '#회기맛집', '#부산맛집', '#강릉맛집', '#광안리맛집']\n",
      "['#소프트콤보눈썹', '#잔흔커버', '#여자눈썹맛집잔흔커버!', '#서울반영구', '#중랑구반영구', '#중랑구눈썹문신', '#중랑구속눈썹펌', '#중랑구맛집', '#회기반영구', '#회기눈썹문신', '#회기속눈썹펌', '#회기맛집', '#상봉반영구', '#상봉눈썹문신', '#상봉속눈썹펌', '#상봉맛집', '#소통']\n",
      "[]\n",
      "['#소프트콤보눈썹', '#여자눈썹', '#여자눈썹맛집자연스러우면서도', '#서울반영구', '#중랑구반영구', '#중랑구눈썹문신', '#중랑구속눈썹펌', '#중랑구맛집', '#회기반영구', '#회기눈썹문신', '#회기속눈썹펌', '#회기맛집', '#상봉반영구', '#상봉눈썹문신', '#상봉속눈썹펌', '#상봉맛집', '#소통']\n",
      "['#안녕하세요', '#카페웨이트', '#waitcoffee_tea', '#입니다', '#서울맛집', '#서울카페', '#카페투어', '#카페', '#카페스타그램', '#카페추천', '#회기카페', '#회기맛집', '#휘경동카페', '#휘경동맛집', '#데이트코스', '#조용한카페', '#데이트장소', '#주차장', '#달달구리', '#디저트', '#디저트카페', '#카페인충전', '#카페웨이트', '#수제초콜릿', '#방역수칙', '#변경', '#10시', '#놀러오세요', '#일상']\n",
      "['#스시맛집', '#회기맛집', '#주말', '#토요일']\n",
      "[]\n",
      "['#회기역맛집', '#동대문구맛집', '#곱분이곱창']\n",
      "['#거복이식당', '#회기역맛집', '#돼지고기맛집']\n",
      "['#마진거래', '#비트코인', '#재테크', '#재택부업', '#업비트', '#아리빗', '#비트맨', '#개인리딩', '#부업', '#코리아트레이딩:-)💓👌', '#육아일상그램', '#제2월급', '#맨투맨', '#산후다이어트', '#자매맘', '#셀프네일', '#회기역맛집', '#데일리', '#부업계끝판왕', '#필링젤', '#롱패딩', '#미아방지가방', '#맛집블로거', '#일상소통그램', '#라이프톡부업', '#화해어플']\n",
      "[]\n",
      "['#명동이발관', '#사케', '#술스타그램', '#조개술찜', '#먹방', '#먹방투어', '#치킨', '#맛집탐방', '#치킨난반', '#맛스타그램', '#타코와사비', '#청량리', '#회기맛집', '#조개', '#시립대맛집', '#타코', '#와사비', '#니혼슈', '#일상소통', '#일본소주', '#행복', '#단골', '#먹는즐거움', '#겨울', '#회기역맛집', '#청량리맛집', '#풋사과', '#달달']\n",
      "['#동대문고기집', '#회기역맛집', '#청량리고기집', '#경희대맛집', '#동대문데이트', '#경희대맛집거복이식당', '#회기맛집', '#회기데이트', '#회기고기집', '#회기동맛집']\n",
      "['#경희대파스타', '#회기역맛집', '#경희대맛집', '#회기파스타', '#회기맛집', '#고대파스타', '#시립대파스타', '#회기맛집호랭이양식당', '#시립대맛집', '#외대맛집', '#동대문구파스타', '#안암파스타', '#회기역파스타']\n",
      "['#마진거래', '#비트코인', '#재테크', '#재택부업', '#업비트', '#아리빗', '#비트맨', '#개인리딩', '#부업', '#코리아트레이딩💙😛', '#김쌤뷰티', '#맘코디', '#쇼핑몰모델', '#뷰티템', '#아기세제', '#앞산카페', '#아이폰케이스쇼핑몰', '#강남역미용실', '#웨딩케어', '#20대재테크', '#보냉병', '#회기역맛집', '#코디샷', '#아기악세서리', '#여행패션']\n",
      "['#스시', '#히노하루', '#스시히노하루', '#오마카세', '#런치오마카세', '#동대문구맛집', '#회기역맛집', '#경희대맛집']\n"
     ]
    }
   ],
   "source": [
    "# 해시태그를 통합 저장 \n",
    "# 딕 - A: n회 , B : n회 ... \n",
    "tags_total = []\n",
    "\n",
    "for tags in raw_total['tags'] :\n",
    "    print(tags)\n",
    "    tags_list = tags[2 :-2].split(\"', '\")   # tags 내용 형식 [ '#~'  ~'#태그 ' ]\n",
    "    for tag in tags_list :\n",
    "        tags_total.append(tag)              # tags_total 리스트에 추가 \n",
    "        "
   ]
  },
  {
   "cell_type": "code",
   "execution_count": 69,
   "id": "7e01e003",
   "metadata": {},
   "outputs": [
    {
     "data": {
      "text/plain": [
       "['#스시', '#히노하루', '#스시히노하루', '#오마카세', '#런치오마카세', '#동대문구맛집', '#회기역맛집', '#경희대맛집']"
      ]
     },
     "execution_count": 69,
     "metadata": {},
     "output_type": "execute_result"
    }
   ],
   "source": [
    "tags_list"
   ]
  },
  {
   "cell_type": "code",
   "execution_count": 70,
   "id": "97734298",
   "metadata": {},
   "outputs": [
    {
     "data": {
      "text/plain": [
       "'#경희대맛집'"
      ]
     },
     "execution_count": 70,
     "metadata": {},
     "output_type": "execute_result"
    }
   ],
   "source": [
    "tag"
   ]
  },
  {
   "cell_type": "code",
   "execution_count": 71,
   "id": "805d88d1",
   "metadata": {},
   "outputs": [
    {
     "data": {
      "text/plain": [
       "1299"
      ]
     },
     "execution_count": 71,
     "metadata": {},
     "output_type": "execute_result"
    }
   ],
   "source": [
    "len(tags_total)"
   ]
  },
  {
   "cell_type": "markdown",
   "id": "e73a63ad",
   "metadata": {},
   "source": [
    "* 해시태그 출현 빈도 집계 : Counter 함수 "
   ]
  },
  {
   "cell_type": "code",
   "execution_count": 72,
   "id": "f4cf6d19",
   "metadata": {},
   "outputs": [],
   "source": [
    "from collections import Counter \n",
    "tags_counts = Counter(tags_total)"
   ]
  },
  {
   "cell_type": "code",
   "execution_count": 77,
   "id": "f9d35694",
   "metadata": {},
   "outputs": [
    {
     "data": {
      "text/plain": [
       "[('#회기맛집', 73),\n",
       " ('#회기역맛집', 55),\n",
       " ('#경희대맛집', 52),\n",
       " ('', 24),\n",
       " ('#회기파스타', 23),\n",
       " ('#경희대파스타', 22),\n",
       " ('#회기맛집호랭이양식당', 22),\n",
       " ('#회기고기집', 20),\n",
       " ('#경희대맛집거복이식당', 16),\n",
       " ('#외대맛집', 15),\n",
       " ('#청량리맛집', 14),\n",
       " ('#회기역술집', 14),\n",
       " ('#회기술집', 12),\n",
       " ('#회기삼겹살', 12),\n",
       " ('#고대맛집', 11),\n",
       " ('#시립대맛집', 11),\n",
       " ('#회기데이트', 8),\n",
       " ('#삼겹살맛집', 8),\n",
       " ('#동대문구맛집', 8),\n",
       " ('#회기카페', 8),\n",
       " ('#고대양식', 6),\n",
       " ('#시립대양식', 6),\n",
       " ('#외대양식', 6),\n",
       " ('#청량리술집', 6),\n",
       " ('#동대문구술집', 6),\n",
       " ('#안암양식', 6),\n",
       " ('#회기역양식', 6),\n",
       " ('#거복이식당', 6),\n",
       " ('#회기동맛집', 6),\n",
       " ('#고대술집', 6),\n",
       " ('#시립대술집', 6),\n",
       " ('#청량리양식', 6),\n",
       " ('#동대문구양식', 6),\n",
       " ('#외대술집', 6),\n",
       " ('#안암술집', 6),\n",
       " ('#외대파스타', 5),\n",
       " ('#청량리파스타', 5),\n",
       " ('#안암맛집', 5),\n",
       " ('#경희대카페', 5),\n",
       " ('#외대카페', 5),\n",
       " ('#경희대술집', 5),\n",
       " ('#고대파스타', 5),\n",
       " ('#시립대파스타', 5),\n",
       " ('#동대문구파스타', 5),\n",
       " ('#안암파스타', 5),\n",
       " ('#회기역파스타', 5),\n",
       " ('#동대문맛집', 5),\n",
       " ('#회기', 5),\n",
       " ('#호랭이양식당....', 5),\n",
       " ('#휘경동맛집', 4)]"
      ]
     },
     "execution_count": 77,
     "metadata": {},
     "output_type": "execute_result"
    }
   ],
   "source": [
    "tags_counts.most_common(50)"
   ]
  },
  {
   "cell_type": "markdown",
   "id": "6bdeffb2",
   "metadata": {},
   "source": [
    ": 가장 많은 키워드는 회기맛집"
   ]
  },
  {
   "cell_type": "code",
   "execution_count": 78,
   "id": "5516f149",
   "metadata": {},
   "outputs": [],
   "source": [
    "most_common = tags_counts.most_common(50)"
   ]
  },
  {
   "cell_type": "markdown",
   "id": "4f1b50a4",
   "metadata": {},
   "source": [
    "* 막대차트로 해시태그 살펴보기 "
   ]
  },
  {
   "cell_type": "code",
   "execution_count": 74,
   "id": "6886dcf7",
   "metadata": {},
   "outputs": [],
   "source": [
    "import matplotlib.pyplot as plt\n",
    "import seaborn as sns\n",
    "from matplotlib import font_manager , rc # 한폰트 깨짐\n",
    "import sys \n",
    "\n",
    "if sys.platform in [\"win32\", \"win64\"]:\n",
    "    font_name = \"malgun gothic\"\n",
    "elif sys.platform == \"darwin\":\n",
    "    font_name = \"AppleGothic\"\n",
    "\n",
    "rc('font',family=font_name)"
   ]
  },
  {
   "cell_type": "code",
   "execution_count": 79,
   "id": "0f35589d",
   "metadata": {},
   "outputs": [],
   "source": [
    "tag_counts_df = pd.DataFrame(most_common)\n",
    "tag_counts_df.columns = ['tags', 'counts']"
   ]
  },
  {
   "cell_type": "code",
   "execution_count": 81,
   "id": "b3eb9271",
   "metadata": {},
   "outputs": [
    {
     "data": {
      "text/html": [
       "<div>\n",
       "<style scoped>\n",
       "    .dataframe tbody tr th:only-of-type {\n",
       "        vertical-align: middle;\n",
       "    }\n",
       "\n",
       "    .dataframe tbody tr th {\n",
       "        vertical-align: top;\n",
       "    }\n",
       "\n",
       "    .dataframe thead th {\n",
       "        text-align: right;\n",
       "    }\n",
       "</style>\n",
       "<table border=\"1\" class=\"dataframe\">\n",
       "  <thead>\n",
       "    <tr style=\"text-align: right;\">\n",
       "      <th></th>\n",
       "      <th>tags</th>\n",
       "      <th>counts</th>\n",
       "    </tr>\n",
       "  </thead>\n",
       "  <tbody>\n",
       "    <tr>\n",
       "      <th>0</th>\n",
       "      <td>#회기맛집</td>\n",
       "      <td>73</td>\n",
       "    </tr>\n",
       "    <tr>\n",
       "      <th>1</th>\n",
       "      <td>#회기역맛집</td>\n",
       "      <td>55</td>\n",
       "    </tr>\n",
       "    <tr>\n",
       "      <th>2</th>\n",
       "      <td>#경희대맛집</td>\n",
       "      <td>52</td>\n",
       "    </tr>\n",
       "    <tr>\n",
       "      <th>3</th>\n",
       "      <td></td>\n",
       "      <td>24</td>\n",
       "    </tr>\n",
       "    <tr>\n",
       "      <th>4</th>\n",
       "      <td>#회기파스타</td>\n",
       "      <td>23</td>\n",
       "    </tr>\n",
       "  </tbody>\n",
       "</table>\n",
       "</div>"
      ],
      "text/plain": [
       "     tags  counts\n",
       "0   #회기맛집      73\n",
       "1  #회기역맛집      55\n",
       "2  #경희대맛집      52\n",
       "3              24\n",
       "4  #회기파스타      23"
      ]
     },
     "execution_count": 81,
     "metadata": {},
     "output_type": "execute_result"
    }
   ],
   "source": [
    "tag_counts_df.head()"
   ]
  },
  {
   "cell_type": "code",
   "execution_count": 83,
   "id": "9c3d879c",
   "metadata": {},
   "outputs": [
    {
     "data": {
      "text/plain": [
       "<AxesSubplot:xlabel='counts', ylabel='tags'>"
      ]
     },
     "execution_count": 83,
     "metadata": {},
     "output_type": "execute_result"
    },
    {
     "data": {
      "image/png": "[encoded data removed]",
      "text/plain": [
       "<Figure size 720x576 with 1 Axes>"
      ]
     },
     "metadata": {
      "needs_background": "light"
     },
     "output_type": "display_data"
    }
   ],
   "source": [
    "plt.figure(figsize= (10,8))\n",
    "sns.barplot(data = tag_counts_df , x= 'counts', y ='tags')\n"
   ]
  },
  {
   "cell_type": "markdown",
   "id": "ce45c033",
   "metadata": {},
   "source": [
    "* 워드 클라우드 그리기 "
   ]
  },
  {
   "cell_type": "code",
   "execution_count": 84,
   "id": "b4890220",
   "metadata": {},
   "outputs": [],
   "source": [
    "from wordcloud import WordCloud\n",
    "   # 에러시  ! pip install wordcloud 실행\n",
    "import platform\n",
    "\n",
    "if platform.system() == 'Windows':   #윈도우의 경우\n",
    "    font_path = \"c:/Windows/Fonts/malgun.ttf\"\n",
    "elif platform.system() == \"Darwin\":   #Mac 의 경우\n",
    "    font_path = \"/Users/$USER/Library/Fonts/AppleGothic.ttf\""
   ]
  },
  {
   "cell_type": "code",
   "execution_count": 90,
   "id": "96fe1407",
   "metadata": {},
   "outputs": [
    {
     "data": {
      "image/png": "[encoded data removed]",
      "text/plain": [
       "<Figure size 1080x720 with 1 Axes>"
      ]
     },
     "metadata": {
      "needs_background": "light"
     },
     "output_type": "display_data"
    }
   ],
   "source": [
    "# 워드 클라우드 생성 \n",
    "wordcloud=WordCloud(font_path= font_path, \n",
    "                    background_color=\"white\",\n",
    "                    max_words = 100 , \n",
    "                    relative_scaling = 0.3,\n",
    "                    width = 800,\n",
    "                    height = 400).generate_from_frequencies(tags_counts)\n",
    "                    # .generate_from_frequecies(표현할 데이터)\n",
    "plt.figure(figsize= (15,10))\n",
    "plt.imshow(wordcloud)\n",
    "plt.axis('off')\n",
    "plt.savefig('C:/Users/SAMSUNG/Desktop/파이썬 데이터 분석/데이터 분석 실무 파이썬/khu_food_wordcloud.png')"
   ]
  },
  {
   "cell_type": "markdown",
   "id": "b20f9edc",
   "metadata": {},
   "source": [
    "## 지도 시각화 folium"
   ]
  },
  {
   "cell_type": "code",
   "execution_count": 91,
   "id": "932930ed",
   "metadata": {},
   "outputs": [
    {
     "data": {
      "text/html": [
       "<div>\n",
       "<style scoped>\n",
       "    .dataframe tbody tr th:only-of-type {\n",
       "        vertical-align: middle;\n",
       "    }\n",
       "\n",
       "    .dataframe tbody tr th {\n",
       "        vertical-align: top;\n",
       "    }\n",
       "\n",
       "    .dataframe thead th {\n",
       "        text-align: right;\n",
       "    }\n",
       "</style>\n",
       "<table border=\"1\" class=\"dataframe\">\n",
       "  <thead>\n",
       "    <tr style=\"text-align: right;\">\n",
       "      <th></th>\n",
       "      <th>index</th>\n",
       "      <th>content</th>\n",
       "      <th>date</th>\n",
       "      <th>like</th>\n",
       "      <th>place</th>\n",
       "      <th>tags</th>\n",
       "    </tr>\n",
       "  </thead>\n",
       "  <tbody>\n",
       "    <tr>\n",
       "      <th>0</th>\n",
       "      <td>0</td>\n",
       "      <td>신당동 최고 맛집!!⁣⁣🧡신당동 찐 맛집 \"청춘상회\"🐖🥩⁣⁣냉삼의 추억을 제~대로 ...</td>\n",
       "      <td>2022-02-05</td>\n",
       "      <td>0</td>\n",
       "      <td>NaN</td>\n",
       "      <td>['#신당동맛집', '#동대문맛집추천', '#청량리맛집', '#휘경동맛집', '#이...</td>\n",
       "    </tr>\n",
       "    <tr>\n",
       "      <th>1</th>\n",
       "      <td>1</td>\n",
       "      <td>( 협찬 )회기 삼겹살 맛집은 어디~형~고깃집!!!!!고기종류도 여러가지! 찌개종류...</td>\n",
       "      <td>2022-02-20</td>\n",
       "      <td>116</td>\n",
       "      <td>NaN</td>\n",
       "      <td>['#회기맛집', '#회기술집', '#회기가볼만한곳', '#회기데이트', '#회기역...</td>\n",
       "    </tr>\n",
       "    <tr>\n",
       "      <th>2</th>\n",
       "      <td>2</td>\n",
       "      <td>회기동 #시키카츠경희대생들이 사랑하는 카츠 전문점시키카츠를 친구가 밥 사준다길래 다...</td>\n",
       "      <td>2022-01-27</td>\n",
       "      <td>574</td>\n",
       "      <td>경희대학교 Kyung Hee Univ, South Korea</td>\n",
       "      <td>['#시키카츠경희대생들이', '#회기맛집', '#아가리회기']</td>\n",
       "    </tr>\n",
       "    <tr>\n",
       "      <th>3</th>\n",
       "      <td>3</td>\n",
       "      <td>단골집 목록중에 하나 쓰-윽 소개해줄라니까모여봐요!!..!!!!(속닥속닥) 형~고깃...</td>\n",
       "      <td>2022-02-18</td>\n",
       "      <td>117</td>\n",
       "      <td>NaN</td>\n",
       "      <td>['#회기맛집', '#회기술집', '#회기가볼만한곳', '#회기데이트', '#회기역...</td>\n",
       "    </tr>\n",
       "    <tr>\n",
       "      <th>4</th>\n",
       "      <td>4</td>\n",
       "      <td>다시오자 우리♡#호랭이양식당 #회기맛집....#경희대맛집#회기역맛집#회기파스타#경희...</td>\n",
       "      <td>2022-02-03</td>\n",
       "      <td>117</td>\n",
       "      <td>NaN</td>\n",
       "      <td>['#호랭이양식당', '#회기맛집....', '#경희대맛집', '#회기역맛집', '...</td>\n",
       "    </tr>\n",
       "  </tbody>\n",
       "</table>\n",
       "</div>"
      ],
      "text/plain": [
       "   index                                            content        date  like  \\\n",
       "0      0  신당동 최고 맛집!!⁣⁣🧡신당동 찐 맛집 \"청춘상회\"🐖🥩⁣⁣냉삼의 추억을 제~대로 ...  2022-02-05     0   \n",
       "1      1  ( 협찬 )회기 삼겹살 맛집은 어디~형~고깃집!!!!!고기종류도 여러가지! 찌개종류...  2022-02-20   116   \n",
       "2      2  회기동 #시키카츠경희대생들이 사랑하는 카츠 전문점시키카츠를 친구가 밥 사준다길래 다...  2022-01-27   574   \n",
       "3      3  단골집 목록중에 하나 쓰-윽 소개해줄라니까모여봐요!!..!!!!(속닥속닥) 형~고깃...  2022-02-18   117   \n",
       "4      4  다시오자 우리♡#호랭이양식당 #회기맛집....#경희대맛집#회기역맛집#회기파스타#경희...  2022-02-03   117   \n",
       "\n",
       "                               place  \\\n",
       "0                                NaN   \n",
       "1                                NaN   \n",
       "2  경희대학교 Kyung Hee Univ, South Korea   \n",
       "3                                NaN   \n",
       "4                                NaN   \n",
       "\n",
       "                                                tags  \n",
       "0  ['#신당동맛집', '#동대문맛집추천', '#청량리맛집', '#휘경동맛집', '#이...  \n",
       "1  ['#회기맛집', '#회기술집', '#회기가볼만한곳', '#회기데이트', '#회기역...  \n",
       "2                 ['#시키카츠경희대생들이', '#회기맛집', '#아가리회기']  \n",
       "3  ['#회기맛집', '#회기술집', '#회기가볼만한곳', '#회기데이트', '#회기역...  \n",
       "4  ['#호랭이양식당', '#회기맛집....', '#경희대맛집', '#회기역맛집', '...  "
      ]
     },
     "execution_count": 91,
     "metadata": {},
     "output_type": "execute_result"
    }
   ],
   "source": [
    "import pandas as pd \n",
    "raw_total = pd.read_excel('C:/Users/SAMSUNG/Desktop/파이썬 데이터 분석/데이터 분석 실무 파이썬/khu_crawling_raw.xlsx')\n",
    "raw_total.head()"
   ]
  },
  {
   "cell_type": "code",
   "execution_count": 92,
   "id": "83c1b942",
   "metadata": {},
   "outputs": [
    {
     "data": {
      "text/plain": [
       "호랭이양식당                               10\n",
       "회기동                                   4\n",
       "서울시립대로 27길40                          3\n",
       "서울                                    3\n",
       "OTR                                   2\n",
       "회기역                                   2\n",
       "플렉스빌                                  2\n",
       "청량리블루스                                2\n",
       "크치치킨 회기점                              2\n",
       "경희대앞                                  2\n",
       "팔청식당영통점                               2\n",
       "Mtl Hanmam                            1\n",
       "청량리동                                  1\n",
       "메이크픽스짐_makefixgym                     1\n",
       "Ond.                                  1\n",
       "카페양귀비                                 1\n",
       "경희대학교 Kyung Hee Univ, South Korea     1\n",
       "헤이즐넛버터                                1\n",
       "굿갓                                    1\n",
       "청화월                                   1\n",
       "광교 바나나테이블                             1\n",
       "비스트로 출출 Bistro chulchul               1\n",
       "울산성남동                                 1\n",
       "경기도 수원시                               1\n",
       "법조타운사거리                               1\n",
       "히노하루                                  1\n",
       "Name: place, dtype: int64"
      ]
     },
     "execution_count": 92,
     "metadata": {},
     "output_type": "execute_result"
    }
   ],
   "source": [
    "# place 위치 정보 \n",
    "location_counts = raw_total['place'].value_counts()\n",
    "location_counts"
   ]
  },
  {
   "cell_type": "code",
   "execution_count": 93,
   "id": "9ed9f73a",
   "metadata": {},
   "outputs": [
    {
     "data": {
      "text/html": [
       "<div>\n",
       "<style scoped>\n",
       "    .dataframe tbody tr th:only-of-type {\n",
       "        vertical-align: middle;\n",
       "    }\n",
       "\n",
       "    .dataframe tbody tr th {\n",
       "        vertical-align: top;\n",
       "    }\n",
       "\n",
       "    .dataframe thead th {\n",
       "        text-align: right;\n",
       "    }\n",
       "</style>\n",
       "<table border=\"1\" class=\"dataframe\">\n",
       "  <thead>\n",
       "    <tr style=\"text-align: right;\">\n",
       "      <th></th>\n",
       "      <th>place</th>\n",
       "    </tr>\n",
       "  </thead>\n",
       "  <tbody>\n",
       "    <tr>\n",
       "      <th>호랭이양식당</th>\n",
       "      <td>10</td>\n",
       "    </tr>\n",
       "    <tr>\n",
       "      <th>회기동</th>\n",
       "      <td>4</td>\n",
       "    </tr>\n",
       "    <tr>\n",
       "      <th>서울시립대로 27길40</th>\n",
       "      <td>3</td>\n",
       "    </tr>\n",
       "    <tr>\n",
       "      <th>서울</th>\n",
       "      <td>3</td>\n",
       "    </tr>\n",
       "    <tr>\n",
       "      <th>OTR</th>\n",
       "      <td>2</td>\n",
       "    </tr>\n",
       "  </tbody>\n",
       "</table>\n",
       "</div>"
      ],
      "text/plain": [
       "              place\n",
       "호랭이양식당           10\n",
       "회기동               4\n",
       "서울시립대로 27길40      3\n",
       "서울                3\n",
       "OTR               2"
      ]
     },
     "execution_count": 93,
     "metadata": {},
     "output_type": "execute_result"
    }
   ],
   "source": [
    "# df로 변환 \n",
    "location_counts_df = pd.DataFrame(location_counts)\n",
    "location_counts_df.head()"
   ]
  },
  {
   "cell_type": "code",
   "execution_count": 94,
   "id": "ddb81b2e",
   "metadata": {},
   "outputs": [
    {
     "data": {
      "text/plain": [
       "['호랭이양식당',\n",
       " '회기동',\n",
       " '서울시립대로 27길40',\n",
       " '서울',\n",
       " 'OTR',\n",
       " '회기역',\n",
       " '플렉스빌',\n",
       " '청량리블루스',\n",
       " '크치치킨 회기점',\n",
       " '경희대앞',\n",
       " '팔청식당영통점',\n",
       " 'Mtl Hanmam',\n",
       " '청량리동',\n",
       " '메이크픽스짐_makefixgym',\n",
       " 'Ond.',\n",
       " '카페양귀비',\n",
       " '경희대학교 Kyung Hee Univ, South Korea',\n",
       " '헤이즐넛버터',\n",
       " '굿갓',\n",
       " '청화월',\n",
       " '광교 바나나테이블',\n",
       " '비스트로 출출 Bistro chulchul',\n",
       " '울산성남동',\n",
       " '경기도 수원시',\n",
       " '법조타운사거리',\n",
       " '히노하루']"
      ]
     },
     "execution_count": 94,
     "metadata": {},
     "output_type": "execute_result"
    }
   ],
   "source": [
    "locations = list(location_counts.index)\n",
    "locations"
   ]
  },
  {
   "cell_type": "markdown",
   "id": "ce32070d",
   "metadata": {},
   "source": [
    "* 카카오 검색 API 사용 "
   ]
  },
  {
   "cell_type": "code",
   "execution_count": 97,
   "id": "be81a465",
   "metadata": {},
   "outputs": [],
   "source": [
    "# 예제 5-30 카카오 로컬 API를 활용한 장소 검색 함수 만들기\n",
    "import requests\n",
    "def find_places(searching):\n",
    "    # ① 접속URL 만들기\n",
    "    url = 'https://dapi.kakao.com/v2/local/search/keyword.json?query={}'.format(searching)\n",
    "    # ② headers 입력하기\n",
    "    headers = {\n",
    "    \"Authorization\": \"KakaoAK 6792a64da2e7c58ad57d5b7fb306b326\" # kakao API\n",
    "    }\n",
    "    # ③ API 요청&정보 받기\n",
    "    places = requests.get(url, headers = headers).json()['documents']\n",
    "    # ④ 필요한 정보 선택하기\n",
    "    place = places[0] \n",
    "    name = place['place_name']\n",
    "    x=place['x'] # 경도\n",
    "    y=place['y'] # 위도 \n",
    "    data = [name, x, y, searching] \n",
    "    \n",
    "    return data"
   ]
  },
  {
   "cell_type": "markdown",
   "id": "7f1e4040",
   "metadata": {},
   "source": [
    "* 경희대의 위치정보 "
   ]
  },
  {
   "cell_type": "code",
   "execution_count": 99,
   "id": "1dd19417",
   "metadata": {},
   "outputs": [
    {
     "data": {
      "text/plain": [
       "['경희대학교 서울캠퍼스', '127.05285401582', '37.5968011678013', '경희대학교']"
      ]
     },
     "execution_count": 99,
     "metadata": {},
     "output_type": "execute_result"
    }
   ],
   "source": [
    "data = find_places('경희대학교')\n",
    "data"
   ]
  },
  {
   "cell_type": "markdown",
   "id": "4a6ccdbe",
   "metadata": {},
   "source": [
    "* 경희대 맛집 인스타 결과에 대한 위치정보 : location_infrom 리스트"
   ]
  },
  {
   "cell_type": "code",
   "execution_count": 101,
   "id": "2b923b9f",
   "metadata": {},
   "outputs": [
    {
     "data": {
      "text/plain": [
       "[['호랭이양식당', '127.051225032878', '37.5925492059187', '호랭이양식당'],\n",
       " ['경희대학교 서울캠퍼스', '127.05285401582', '37.5968011678013', '회기동'],\n",
       " ['식생원 시립대본점', '127.05255538684749', '37.58436580720609', '서울시립대로 27길40'],\n",
       " ['북한산둘레길 구름정원길8구간', '126.93626843562683', '37.62612118319853', '서울'],\n",
       " ['otrcoffee', '126.91328823546', '37.5969757637819', 'OTR'],\n",
       " ['회기역 1호선', '127.058048369273', '37.5897962196601', '회기역'],\n",
       " ['플렉스빌', '127.053153839572', '37.5916716879211', '플렉스빌'],\n",
       " ['청량리블루스', '127.05483706185', '37.5832997953294', '청량리블루스'],\n",
       " ['크치치킨 경희대점', '127.050590311081', '37.5916088440804', '크치치킨 회기점'],\n",
       " ['경희대기숙사앞교차로', '127.081373958658', '37.2484262760478', '경희대앞'],\n",
       " ['팔청식당', '127.04950517713777', '37.26326424861792', '팔청식당영통점'],\n",
       " ['홍릉시험림', '127.04485106092139', '37.59396455518687', '청량리동'],\n",
       " ['OND커피', '129.45672569493271', '35.585531885001686', 'Ond.'],\n",
       " ['카페양귀비', '127.05748918359', '37.5929319456092', '카페양귀비'],\n",
       " ['헤이즐넛버터', '127.05096475131941', '37.59276375465423', '헤이즐넛버터'],\n",
       " ['굿갓레스토랑', '127.04863615625715', '37.73776857932088', '굿갓'],\n",
       " ['청화월', '127.078499381219', '37.2523792946054', '청화월'],\n",
       " ['바나나테이블 광교점', '127.050284249753', '37.2905005608387', '광교 바나나테이블'],\n",
       " ['성남동보세거리', '129.321145110852', '35.5547049486783', '울산성남동'],\n",
       " ['수원화성', '127.011795743342', '37.2869569586225', '경기도 수원시'],\n",
       " ['법조타운사거리', '127.066972205202', '37.2924457449946', '법조타운사거리'],\n",
       " ['히노하루', '127.056746441103', '37.5915024308825', '히노하루']]"
      ]
     },
     "execution_count": 101,
     "metadata": {},
     "output_type": "execute_result"
    }
   ],
   "source": [
    "import time\n",
    "\n",
    "location_inform = []\n",
    "for location in locations :\n",
    "    try :\n",
    "        data = find_places(location)\n",
    "        location_inform.append(data) # 이중리스트 ? \n",
    "        time.sleep(0.5)\n",
    "    except: \n",
    "        pass \n",
    "location_inform"
   ]
  },
  {
   "cell_type": "code",
   "execution_count": 103,
   "id": "c64ed4e7",
   "metadata": {},
   "outputs": [],
   "source": [
    "# 위치정보 df로 저장 \n",
    "location_inform_df =pd.DataFrame(location_inform,\n",
    "                                columns = ['카카오 위치명', '경도','위도','검색명'])\n",
    "# 맛집 위치정보 리스트를 엑셀파일로\n",
    "location_inform_df.to_excel('C:/Users/SAMSUNG/Desktop/파이썬 데이터 분석/데이터 분석 실무 파이썬/khu_food_location.xlsx' , index =False)"
   ]
  },
  {
   "cell_type": "markdown",
   "id": "94165f75",
   "metadata": {},
   "source": [
    "* 맛집 위치정보 df : location_inform_df"
   ]
  },
  {
   "cell_type": "code",
   "execution_count": 104,
   "id": "19c3c5c0",
   "metadata": {},
   "outputs": [
    {
     "data": {
      "text/html": [
       "<div>\n",
       "<style scoped>\n",
       "    .dataframe tbody tr th:only-of-type {\n",
       "        vertical-align: middle;\n",
       "    }\n",
       "\n",
       "    .dataframe tbody tr th {\n",
       "        vertical-align: top;\n",
       "    }\n",
       "\n",
       "    .dataframe thead th {\n",
       "        text-align: right;\n",
       "    }\n",
       "</style>\n",
       "<table border=\"1\" class=\"dataframe\">\n",
       "  <thead>\n",
       "    <tr style=\"text-align: right;\">\n",
       "      <th></th>\n",
       "      <th>카카오 위치명</th>\n",
       "      <th>경도</th>\n",
       "      <th>위도</th>\n",
       "      <th>검색명</th>\n",
       "    </tr>\n",
       "  </thead>\n",
       "  <tbody>\n",
       "    <tr>\n",
       "      <th>0</th>\n",
       "      <td>호랭이양식당</td>\n",
       "      <td>127.051225</td>\n",
       "      <td>37.592549</td>\n",
       "      <td>호랭이양식당</td>\n",
       "    </tr>\n",
       "    <tr>\n",
       "      <th>1</th>\n",
       "      <td>경희대학교 서울캠퍼스</td>\n",
       "      <td>127.052854</td>\n",
       "      <td>37.596801</td>\n",
       "      <td>회기동</td>\n",
       "    </tr>\n",
       "    <tr>\n",
       "      <th>2</th>\n",
       "      <td>식생원 시립대본점</td>\n",
       "      <td>127.052555</td>\n",
       "      <td>37.584366</td>\n",
       "      <td>서울시립대로 27길40</td>\n",
       "    </tr>\n",
       "    <tr>\n",
       "      <th>3</th>\n",
       "      <td>북한산둘레길 구름정원길8구간</td>\n",
       "      <td>126.936268</td>\n",
       "      <td>37.626121</td>\n",
       "      <td>서울</td>\n",
       "    </tr>\n",
       "    <tr>\n",
       "      <th>4</th>\n",
       "      <td>otrcoffee</td>\n",
       "      <td>126.913288</td>\n",
       "      <td>37.596976</td>\n",
       "      <td>OTR</td>\n",
       "    </tr>\n",
       "  </tbody>\n",
       "</table>\n",
       "</div>"
      ],
      "text/plain": [
       "           카카오 위치명          경도         위도           검색명\n",
       "0           호랭이양식당  127.051225  37.592549        호랭이양식당\n",
       "1      경희대학교 서울캠퍼스  127.052854  37.596801           회기동\n",
       "2        식생원 시립대본점  127.052555  37.584366  서울시립대로 27길40\n",
       "3  북한산둘레길 구름정원길8구간  126.936268  37.626121            서울\n",
       "4        otrcoffee  126.913288  37.596976           OTR"
      ]
     },
     "execution_count": 104,
     "metadata": {},
     "output_type": "execute_result"
    }
   ],
   "source": [
    "location_inform_df = pd.read_excel('C:/Users/SAMSUNG/Desktop/파이썬 데이터 분석/데이터 분석 실무 파이썬/khu_food_location.xlsx')\n",
    "location_inform_df.head()"
   ]
  },
  {
   "cell_type": "markdown",
   "id": "4bfa05a8",
   "metadata": {},
   "source": [
    "* location_counts_df : 위치정보의 태그 수  "
   ]
  },
  {
   "cell_type": "code",
   "execution_count": 105,
   "id": "38ab647a",
   "metadata": {},
   "outputs": [
    {
     "data": {
      "text/html": [
       "<div>\n",
       "<style scoped>\n",
       "    .dataframe tbody tr th:only-of-type {\n",
       "        vertical-align: middle;\n",
       "    }\n",
       "\n",
       "    .dataframe tbody tr th {\n",
       "        vertical-align: top;\n",
       "    }\n",
       "\n",
       "    .dataframe thead th {\n",
       "        text-align: right;\n",
       "    }\n",
       "</style>\n",
       "<table border=\"1\" class=\"dataframe\">\n",
       "  <thead>\n",
       "    <tr style=\"text-align: right;\">\n",
       "      <th></th>\n",
       "      <th>place</th>\n",
       "    </tr>\n",
       "  </thead>\n",
       "  <tbody>\n",
       "    <tr>\n",
       "      <th>호랭이양식당</th>\n",
       "      <td>10</td>\n",
       "    </tr>\n",
       "    <tr>\n",
       "      <th>회기동</th>\n",
       "      <td>4</td>\n",
       "    </tr>\n",
       "    <tr>\n",
       "      <th>서울시립대로 27길40</th>\n",
       "      <td>3</td>\n",
       "    </tr>\n",
       "    <tr>\n",
       "      <th>서울</th>\n",
       "      <td>3</td>\n",
       "    </tr>\n",
       "    <tr>\n",
       "      <th>OTR</th>\n",
       "      <td>2</td>\n",
       "    </tr>\n",
       "  </tbody>\n",
       "</table>\n",
       "</div>"
      ],
      "text/plain": [
       "              place\n",
       "호랭이양식당           10\n",
       "회기동               4\n",
       "서울시립대로 27길40      3\n",
       "서울                3\n",
       "OTR               2"
      ]
     },
     "execution_count": 105,
     "metadata": {},
     "output_type": "execute_result"
    }
   ],
   "source": [
    "location_counts_df.head()"
   ]
  },
  {
   "cell_type": "markdown",
   "id": "55e262e4",
   "metadata": {},
   "source": [
    "* 위치정보df 와 해시태그 횟수 df 를 합침 : 기준열 - 검색명   \n",
    ": how = 'inner'  교집합만 , left_on = 왼쪽 inform_df의 '검색명'을 기준키로 "
   ]
  },
  {
   "cell_type": "code",
   "execution_count": 106,
   "id": "58972a3a",
   "metadata": {},
   "outputs": [
    {
     "data": {
      "text/html": [
       "<div>\n",
       "<style scoped>\n",
       "    .dataframe tbody tr th:only-of-type {\n",
       "        vertical-align: middle;\n",
       "    }\n",
       "\n",
       "    .dataframe tbody tr th {\n",
       "        vertical-align: top;\n",
       "    }\n",
       "\n",
       "    .dataframe thead th {\n",
       "        text-align: right;\n",
       "    }\n",
       "</style>\n",
       "<table border=\"1\" class=\"dataframe\">\n",
       "  <thead>\n",
       "    <tr style=\"text-align: right;\">\n",
       "      <th></th>\n",
       "      <th>카카오 위치명</th>\n",
       "      <th>경도</th>\n",
       "      <th>위도</th>\n",
       "      <th>검색명</th>\n",
       "      <th>place</th>\n",
       "    </tr>\n",
       "  </thead>\n",
       "  <tbody>\n",
       "    <tr>\n",
       "      <th>0</th>\n",
       "      <td>호랭이양식당</td>\n",
       "      <td>127.051225</td>\n",
       "      <td>37.592549</td>\n",
       "      <td>호랭이양식당</td>\n",
       "      <td>10</td>\n",
       "    </tr>\n",
       "    <tr>\n",
       "      <th>1</th>\n",
       "      <td>경희대학교 서울캠퍼스</td>\n",
       "      <td>127.052854</td>\n",
       "      <td>37.596801</td>\n",
       "      <td>회기동</td>\n",
       "      <td>4</td>\n",
       "    </tr>\n",
       "    <tr>\n",
       "      <th>2</th>\n",
       "      <td>식생원 시립대본점</td>\n",
       "      <td>127.052555</td>\n",
       "      <td>37.584366</td>\n",
       "      <td>서울시립대로 27길40</td>\n",
       "      <td>3</td>\n",
       "    </tr>\n",
       "    <tr>\n",
       "      <th>3</th>\n",
       "      <td>북한산둘레길 구름정원길8구간</td>\n",
       "      <td>126.936268</td>\n",
       "      <td>37.626121</td>\n",
       "      <td>서울</td>\n",
       "      <td>3</td>\n",
       "    </tr>\n",
       "    <tr>\n",
       "      <th>4</th>\n",
       "      <td>otrcoffee</td>\n",
       "      <td>126.913288</td>\n",
       "      <td>37.596976</td>\n",
       "      <td>OTR</td>\n",
       "      <td>2</td>\n",
       "    </tr>\n",
       "  </tbody>\n",
       "</table>\n",
       "</div>"
      ],
      "text/plain": [
       "           카카오 위치명          경도         위도           검색명  place\n",
       "0           호랭이양식당  127.051225  37.592549        호랭이양식당     10\n",
       "1      경희대학교 서울캠퍼스  127.052854  37.596801           회기동      4\n",
       "2        식생원 시립대본점  127.052555  37.584366  서울시립대로 27길40      3\n",
       "3  북한산둘레길 구름정원길8구간  126.936268  37.626121            서울      3\n",
       "4        otrcoffee  126.913288  37.596976           OTR      2"
      ]
     },
     "execution_count": 106,
     "metadata": {},
     "output_type": "execute_result"
    }
   ],
   "source": [
    "location_data = pd.merge(location_inform_df, location_counts_df , \n",
    "                         left_on = '검색명', how ='inner', right_index = True)\n",
    "location_data.head()"
   ]
  },
  {
   "cell_type": "code",
   "execution_count": 107,
   "id": "3c19a25a",
   "metadata": {},
   "outputs": [],
   "source": [
    "# 엑셀로 저장 : khu_food_location_inform\n",
    "location_data.to_excel('C:/Users/SAMSUNG/Desktop/파이썬 데이터 분석/데이터 분석 실무 파이썬/khu_food_location_inform.xlsx', index = False)\n"
   ]
  },
  {
   "cell_type": "markdown",
   "id": "42d18243",
   "metadata": {},
   "source": [
    "### Folium 지도 시각화 "
   ]
  },
  {
   "cell_type": "code",
   "execution_count": 109,
   "id": "a289f61a",
   "metadata": {},
   "outputs": [
    {
     "name": "stdout",
     "output_type": "stream",
     "text": [
      "<class 'pandas.core.frame.DataFrame'>\n",
      "RangeIndex: 22 entries, 0 to 21\n",
      "Data columns (total 5 columns):\n",
      " #   Column   Non-Null Count  Dtype  \n",
      "---  ------   --------------  -----  \n",
      " 0   카카오 위치명  22 non-null     object \n",
      " 1   경도       22 non-null     float64\n",
      " 2   위도       22 non-null     float64\n",
      " 3   검색명      22 non-null     object \n",
      " 4   place    22 non-null     int64  \n",
      "dtypes: float64(2), int64(1), object(2)\n",
      "memory usage: 1008.0+ bytes\n"
     ]
    }
   ],
   "source": [
    "location_data = pd.read_excel('C:/Users/SAMSUNG/Desktop/파이썬 데이터 분석/데이터 분석 실무 파이썬/khu_food_location_inform.xlsx')\n",
    "location_data.info()"
   ]
  },
  {
   "cell_type": "code",
   "execution_count": 119,
   "id": "f951dcdb",
   "metadata": {},
   "outputs": [
    {
     "data": {
      "text/html": [
       "<div style=\"width:100%;\"><div style=\"position:relative;width:100%;height:0;padding-bottom:60%;\"><span style=\"color:#565656\">Make this Notebook Trusted to load map: File -> Trust Notebook</span><iframe src=\"about:blank\" style=\"position:absolute;width:100%;height:100%;left:0;top:0;border:none !important;\" data-html=%3C%21DOCTYPE%20html%3E%0A%3Chead%3E%20%20%20%20%0A%20%20%20%20%3Cmeta%20http-equiv%3D%22content-type%22%20content%3D%22text/html%3B%20charset%3DUTF-8%22%20/%3E%0A%20%20%20%20%0A%20%20%20%20%20%20%20%20%3Cscript%3E%0A%20%20%20%20%20%20%20%20%20%20%20%20L_NO_TOUCH%20%3D%20false%3B%0A%20%20%20%20%20%20%20%20%20%20%20%20L_DISABLE_3D%20%3D%20false%3B%0A%20%20%20%20%20%20%20%20%3C/script%3E%0A%20%20%20%20%0A%20%20%20%20%3Cstyle%3Ehtml%2C%20body%20%7Bwidth%3A%20100%25%3Bheight%3A%20100%25%3Bmargin%3A%200%3Bpadding%3A%200%3B%7D%3C/style%3E%0A%20%20%20%20%3Cstyle%3E%23map%20%7Bposition%3Aabsolute%3Btop%3A0%3Bbottom%3A0%3Bright%3A0%3Bleft%3A0%3B%7D%3C/style%3E%0A%20%20%20%20%3Cscript%20src%3D%22https%3A//cdn.jsdelivr.net/npm/leaflet%401.6.0/dist/leaflet.js%22%3E%3C/script%3E%0A%20%20%20%20%3Cscript%20src%3D%22https%3A//code.jquery.com/jquery-1.12.4.min.js%22%3E%3C/script%3E%0A%20%20%20%20%3Cscript%20src%3D%22https%3A//maxcdn.bootstrapcdn.com/bootstrap/3.2.0/js/bootstrap.min.js%22%3E%3C/script%3E%0A%20%20%20%20%3Cscript%20src%3D%22https%3A//cdnjs.cloudflare.com/ajax/libs/Leaflet.awesome-markers/2.0.2/leaflet.awesome-markers.js%22%3E%3C/script%3E%0A%20%20%20%20%3Clink%20rel%3D%22stylesheet%22%20href%3D%22https%3A//cdn.jsdelivr.net/npm/leaflet%401.6.0/dist/leaflet.css%22/%3E%0A%20%20%20%20%3Clink%20rel%3D%22stylesheet%22%20href%3D%22https%3A//maxcdn.bootstrapcdn.com/bootstrap/3.2.0/css/bootstrap.min.css%22/%3E%0A%20%20%20%20%3Clink%20rel%3D%22stylesheet%22%20href%3D%22https%3A//maxcdn.bootstrapcdn.com/bootstrap/3.2.0/css/bootstrap-theme.min.css%22/%3E%0A%20%20%20%20%3Clink%20rel%3D%22stylesheet%22%20href%3D%22https%3A//maxcdn.bootstrapcdn.com/font-awesome/4.6.3/css/font-awesome.min.css%22/%3E%0A%20%20%20%20%3Clink%20rel%3D%22stylesheet%22%20href%3D%22https%3A//cdnjs.cloudflare.com/ajax/libs/Leaflet.awesome-markers/2.0.2/leaflet.awesome-markers.css%22/%3E%0A%20%20%20%20%3Clink%20rel%3D%22stylesheet%22%20href%3D%22https%3A//cdn.jsdelivr.net/gh/python-visualization/folium/folium/templates/leaflet.awesome.rotate.min.css%22/%3E%0A%20%20%20%20%0A%20%20%20%20%20%20%20%20%20%20%20%20%3Cmeta%20name%3D%22viewport%22%20content%3D%22width%3Ddevice-width%2C%0A%20%20%20%20%20%20%20%20%20%20%20%20%20%20%20%20initial-scale%3D1.0%2C%20maximum-scale%3D1.0%2C%20user-scalable%3Dno%22%20/%3E%0A%20%20%20%20%20%20%20%20%20%20%20%20%3Cstyle%3E%0A%20%20%20%20%20%20%20%20%20%20%20%20%20%20%20%20%23map_3a2c440c12764cd5ba6e0dc8ca03cb0f%20%7B%0A%20%20%20%20%20%20%20%20%20%20%20%20%20%20%20%20%20%20%20%20position%3A%20relative%3B%0A%20%20%20%20%20%20%20%20%20%20%20%20%20%20%20%20%20%20%20%20width%3A%20100.0%25%3B%0A%20%20%20%20%20%20%20%20%20%20%20%20%20%20%20%20%20%20%20%20height%3A%20100.0%25%3B%0A%20%20%20%20%20%20%20%20%20%20%20%20%20%20%20%20%20%20%20%20left%3A%200.0%25%3B%0A%20%20%20%20%20%20%20%20%20%20%20%20%20%20%20%20%20%20%20%20top%3A%200.0%25%3B%0A%20%20%20%20%20%20%20%20%20%20%20%20%20%20%20%20%7D%0A%20%20%20%20%20%20%20%20%20%20%20%20%3C/style%3E%0A%20%20%20%20%20%20%20%20%0A%3C/head%3E%0A%3Cbody%3E%20%20%20%20%0A%20%20%20%20%0A%20%20%20%20%20%20%20%20%20%20%20%20%3Cdiv%20class%3D%22folium-map%22%20id%3D%22map_3a2c440c12764cd5ba6e0dc8ca03cb0f%22%20%3E%3C/div%3E%0A%20%20%20%20%20%20%20%20%0A%3C/body%3E%0A%3Cscript%3E%20%20%20%20%0A%20%20%20%20%0A%20%20%20%20%20%20%20%20%20%20%20%20var%20map_3a2c440c12764cd5ba6e0dc8ca03cb0f%20%3D%20L.map%28%0A%20%20%20%20%20%20%20%20%20%20%20%20%20%20%20%20%22map_3a2c440c12764cd5ba6e0dc8ca03cb0f%22%2C%0A%20%20%20%20%20%20%20%20%20%20%20%20%20%20%20%20%7B%0A%20%20%20%20%20%20%20%20%20%20%20%20%20%20%20%20%20%20%20%20center%3A%20%5B37.596801%2C%20127.052854%5D%2C%0A%20%20%20%20%20%20%20%20%20%20%20%20%20%20%20%20%20%20%20%20crs%3A%20L.CRS.EPSG3857%2C%0A%20%20%20%20%20%20%20%20%20%20%20%20%20%20%20%20%20%20%20%20zoom%3A%2013%2C%0A%20%20%20%20%20%20%20%20%20%20%20%20%20%20%20%20%20%20%20%20zoomControl%3A%20true%2C%0A%20%20%20%20%20%20%20%20%20%20%20%20%20%20%20%20%20%20%20%20preferCanvas%3A%20false%2C%0A%20%20%20%20%20%20%20%20%20%20%20%20%20%20%20%20%7D%0A%20%20%20%20%20%20%20%20%20%20%20%20%29%3B%0A%0A%20%20%20%20%20%20%20%20%20%20%20%20%0A%0A%20%20%20%20%20%20%20%20%0A%20%20%20%20%0A%20%20%20%20%20%20%20%20%20%20%20%20var%20tile_layer_7b446da1dcde4c8e8a4d5a567b7fdbeb%20%3D%20L.tileLayer%28%0A%20%20%20%20%20%20%20%20%20%20%20%20%20%20%20%20%22https%3A//%7Bs%7D.tile.openstreetmap.org/%7Bz%7D/%7Bx%7D/%7By%7D.png%22%2C%0A%20%20%20%20%20%20%20%20%20%20%20%20%20%20%20%20%7B%22attribution%22%3A%20%22Data%20by%20%5Cu0026copy%3B%20%5Cu003ca%20href%3D%5C%22http%3A//openstreetmap.org%5C%22%5Cu003eOpenStreetMap%5Cu003c/a%5Cu003e%2C%20under%20%5Cu003ca%20href%3D%5C%22http%3A//www.openstreetmap.org/copyright%5C%22%5Cu003eODbL%5Cu003c/a%5Cu003e.%22%2C%20%22detectRetina%22%3A%20false%2C%20%22maxNativeZoom%22%3A%2018%2C%20%22maxZoom%22%3A%2018%2C%20%22minZoom%22%3A%200%2C%20%22noWrap%22%3A%20false%2C%20%22opacity%22%3A%201%2C%20%22subdomains%22%3A%20%22abc%22%2C%20%22tms%22%3A%20false%7D%0A%20%20%20%20%20%20%20%20%20%20%20%20%29.addTo%28map_3a2c440c12764cd5ba6e0dc8ca03cb0f%29%3B%0A%20%20%20%20%20%20%20%20%0A%20%20%20%20%0A%20%20%20%20%20%20%20%20%20%20%20%20var%20circle_marker_1b0e6f28421e4d269630c5f4cf4e3bec%20%3D%20L.circleMarker%28%0A%20%20%20%20%20%20%20%20%20%20%20%20%20%20%20%20%5B37.5925492059187%2C%20127.051225032878%5D%2C%0A%20%20%20%20%20%20%20%20%20%20%20%20%20%20%20%20%7B%22bubblingMouseEvents%22%3A%20true%2C%20%22color%22%3A%20%22red%22%2C%20%22dashArray%22%3A%20null%2C%20%22dashOffset%22%3A%20null%2C%20%22fill%22%3A%20false%2C%20%22fillColor%22%3A%20%22red%22%2C%20%22fillOpacity%22%3A%200.2%2C%20%22fillRule%22%3A%20%22evenodd%22%2C%20%22lineCap%22%3A%20%22round%22%2C%20%22lineJoin%22%3A%20%22round%22%2C%20%22opacity%22%3A%201.0%2C%20%22radius%22%3A%2020%2C%20%22stroke%22%3A%20true%2C%20%22weight%22%3A%203%7D%0A%20%20%20%20%20%20%20%20%20%20%20%20%29.addTo%28map_3a2c440c12764cd5ba6e0dc8ca03cb0f%29%3B%0A%20%20%20%20%20%20%20%20%0A%20%20%20%20%0A%20%20%20%20%20%20%20%20var%20popup_519afcbedf5a4e1ea5c21eccb75737ba%20%3D%20L.popup%28%7B%22maxWidth%22%3A%20%22100%25%22%7D%29%3B%0A%0A%20%20%20%20%20%20%20%20%0A%20%20%20%20%20%20%20%20%20%20%20%20var%20html_73f8b49d6aec4c3e915e9e27f8db55bf%20%3D%20%24%28%60%3Cdiv%20id%3D%22html_73f8b49d6aec4c3e915e9e27f8db55bf%22%20style%3D%22width%3A%20100.0%25%3B%20height%3A%20100.0%25%3B%22%3E%ED%98%B8%EB%9E%AD%EC%9D%B4%EC%96%91%EC%8B%9D%EB%8B%B9%3C/div%3E%60%29%5B0%5D%3B%0A%20%20%20%20%20%20%20%20%20%20%20%20popup_519afcbedf5a4e1ea5c21eccb75737ba.setContent%28html_73f8b49d6aec4c3e915e9e27f8db55bf%29%3B%0A%20%20%20%20%20%20%20%20%0A%0A%20%20%20%20%20%20%20%20circle_marker_1b0e6f28421e4d269630c5f4cf4e3bec.bindPopup%28popup_519afcbedf5a4e1ea5c21eccb75737ba%29%0A%20%20%20%20%20%20%20%20%3B%0A%0A%20%20%20%20%20%20%20%20%0A%20%20%20%20%0A%20%20%20%20%0A%20%20%20%20%20%20%20%20%20%20%20%20var%20circle_marker_2e1f2ed20d004c03afa33bea11e0a541%20%3D%20L.circleMarker%28%0A%20%20%20%20%20%20%20%20%20%20%20%20%20%20%20%20%5B37.5968011678013%2C%20127.05285401582%5D%2C%0A%20%20%20%20%20%20%20%20%20%20%20%20%20%20%20%20%7B%22bubblingMouseEvents%22%3A%20true%2C%20%22color%22%3A%20%22red%22%2C%20%22dashArray%22%3A%20null%2C%20%22dashOffset%22%3A%20null%2C%20%22fill%22%3A%20false%2C%20%22fillColor%22%3A%20%22red%22%2C%20%22fillOpacity%22%3A%200.2%2C%20%22fillRule%22%3A%20%22evenodd%22%2C%20%22lineCap%22%3A%20%22round%22%2C%20%22lineJoin%22%3A%20%22round%22%2C%20%22opacity%22%3A%201.0%2C%20%22radius%22%3A%208%2C%20%22stroke%22%3A%20true%2C%20%22weight%22%3A%203%7D%0A%20%20%20%20%20%20%20%20%20%20%20%20%29.addTo%28map_3a2c440c12764cd5ba6e0dc8ca03cb0f%29%3B%0A%20%20%20%20%20%20%20%20%0A%20%20%20%20%0A%20%20%20%20%20%20%20%20var%20popup_f6d053ef616c4bdd8f374b97e56ddcfc%20%3D%20L.popup%28%7B%22maxWidth%22%3A%20%22100%25%22%7D%29%3B%0A%0A%20%20%20%20%20%20%20%20%0A%20%20%20%20%20%20%20%20%20%20%20%20var%20html_6fdd5fa3941349a6b633240b3c136ac0%20%3D%20%24%28%60%3Cdiv%20id%3D%22html_6fdd5fa3941349a6b633240b3c136ac0%22%20style%3D%22width%3A%20100.0%25%3B%20height%3A%20100.0%25%3B%22%3E%EA%B2%BD%ED%9D%AC%EB%8C%80%ED%95%99%EA%B5%90%20%EC%84%9C%EC%9A%B8%EC%BA%A0%ED%8D%BC%EC%8A%A4%3C/div%3E%60%29%5B0%5D%3B%0A%20%20%20%20%20%20%20%20%20%20%20%20popup_f6d053ef616c4bdd8f374b97e56ddcfc.setContent%28html_6fdd5fa3941349a6b633240b3c136ac0%29%3B%0A%20%20%20%20%20%20%20%20%0A%0A%20%20%20%20%20%20%20%20circle_marker_2e1f2ed20d004c03afa33bea11e0a541.bindPopup%28popup_f6d053ef616c4bdd8f374b97e56ddcfc%29%0A%20%20%20%20%20%20%20%20%3B%0A%0A%20%20%20%20%20%20%20%20%0A%20%20%20%20%0A%20%20%20%20%0A%20%20%20%20%20%20%20%20%20%20%20%20var%20circle_marker_d9c25c3702dd472f89bf2fa8da43982d%20%3D%20L.circleMarker%28%0A%20%20%20%20%20%20%20%20%20%20%20%20%20%20%20%20%5B37.58436580720609%2C%20127.0525553868475%5D%2C%0A%20%20%20%20%20%20%20%20%20%20%20%20%20%20%20%20%7B%22bubblingMouseEvents%22%3A%20true%2C%20%22color%22%3A%20%22red%22%2C%20%22dashArray%22%3A%20null%2C%20%22dashOffset%22%3A%20null%2C%20%22fill%22%3A%20false%2C%20%22fillColor%22%3A%20%22red%22%2C%20%22fillOpacity%22%3A%200.2%2C%20%22fillRule%22%3A%20%22evenodd%22%2C%20%22lineCap%22%3A%20%22round%22%2C%20%22lineJoin%22%3A%20%22round%22%2C%20%22opacity%22%3A%201.0%2C%20%22radius%22%3A%206%2C%20%22stroke%22%3A%20true%2C%20%22weight%22%3A%203%7D%0A%20%20%20%20%20%20%20%20%20%20%20%20%29.addTo%28map_3a2c440c12764cd5ba6e0dc8ca03cb0f%29%3B%0A%20%20%20%20%20%20%20%20%0A%20%20%20%20%0A%20%20%20%20%20%20%20%20var%20popup_44dc991716ab444d85e1fd1d21c960b1%20%3D%20L.popup%28%7B%22maxWidth%22%3A%20%22100%25%22%7D%29%3B%0A%0A%20%20%20%20%20%20%20%20%0A%20%20%20%20%20%20%20%20%20%20%20%20var%20html_1da038f9872c42259b2d3f3a4598893b%20%3D%20%24%28%60%3Cdiv%20id%3D%22html_1da038f9872c42259b2d3f3a4598893b%22%20style%3D%22width%3A%20100.0%25%3B%20height%3A%20100.0%25%3B%22%3E%EC%8B%9D%EC%83%9D%EC%9B%90%20%EC%8B%9C%EB%A6%BD%EB%8C%80%EB%B3%B8%EC%A0%90%3C/div%3E%60%29%5B0%5D%3B%0A%20%20%20%20%20%20%20%20%20%20%20%20popup_44dc991716ab444d85e1fd1d21c960b1.setContent%28html_1da038f9872c42259b2d3f3a4598893b%29%3B%0A%20%20%20%20%20%20%20%20%0A%0A%20%20%20%20%20%20%20%20circle_marker_d9c25c3702dd472f89bf2fa8da43982d.bindPopup%28popup_44dc991716ab444d85e1fd1d21c960b1%29%0A%20%20%20%20%20%20%20%20%3B%0A%0A%20%20%20%20%20%20%20%20%0A%20%20%20%20%0A%20%20%20%20%0A%20%20%20%20%20%20%20%20%20%20%20%20var%20circle_marker_d24772f5acca49ed8e7da813f79ea57c%20%3D%20L.circleMarker%28%0A%20%20%20%20%20%20%20%20%20%20%20%20%20%20%20%20%5B37.62612118319853%2C%20126.9362684356268%5D%2C%0A%20%20%20%20%20%20%20%20%20%20%20%20%20%20%20%20%7B%22bubblingMouseEvents%22%3A%20true%2C%20%22color%22%3A%20%22red%22%2C%20%22dashArray%22%3A%20null%2C%20%22dashOffset%22%3A%20null%2C%20%22fill%22%3A%20false%2C%20%22fillColor%22%3A%20%22red%22%2C%20%22fillOpacity%22%3A%200.2%2C%20%22fillRule%22%3A%20%22evenodd%22%2C%20%22lineCap%22%3A%20%22round%22%2C%20%22lineJoin%22%3A%20%22round%22%2C%20%22opacity%22%3A%201.0%2C%20%22radius%22%3A%206%2C%20%22stroke%22%3A%20true%2C%20%22weight%22%3A%203%7D%0A%20%20%20%20%20%20%20%20%20%20%20%20%29.addTo%28map_3a2c440c12764cd5ba6e0dc8ca03cb0f%29%3B%0A%20%20%20%20%20%20%20%20%0A%20%20%20%20%0A%20%20%20%20%20%20%20%20var%20popup_7656b0a6400b4d538778bd394095958b%20%3D%20L.popup%28%7B%22maxWidth%22%3A%20%22100%25%22%7D%29%3B%0A%0A%20%20%20%20%20%20%20%20%0A%20%20%20%20%20%20%20%20%20%20%20%20var%20html_fbc73f68bcbc4c55b58e926604f810f7%20%3D%20%24%28%60%3Cdiv%20id%3D%22html_fbc73f68bcbc4c55b58e926604f810f7%22%20style%3D%22width%3A%20100.0%25%3B%20height%3A%20100.0%25%3B%22%3E%EB%B6%81%ED%95%9C%EC%82%B0%EB%91%98%EB%A0%88%EA%B8%B8%20%EA%B5%AC%EB%A6%84%EC%A0%95%EC%9B%90%EA%B8%B88%EA%B5%AC%EA%B0%84%3C/div%3E%60%29%5B0%5D%3B%0A%20%20%20%20%20%20%20%20%20%20%20%20popup_7656b0a6400b4d538778bd394095958b.setContent%28html_fbc73f68bcbc4c55b58e926604f810f7%29%3B%0A%20%20%20%20%20%20%20%20%0A%0A%20%20%20%20%20%20%20%20circle_marker_d24772f5acca49ed8e7da813f79ea57c.bindPopup%28popup_7656b0a6400b4d538778bd394095958b%29%0A%20%20%20%20%20%20%20%20%3B%0A%0A%20%20%20%20%20%20%20%20%0A%20%20%20%20%0A%20%20%20%20%0A%20%20%20%20%20%20%20%20%20%20%20%20var%20circle_marker_ad873c549eea4b52a647cdce28113b7f%20%3D%20L.circleMarker%28%0A%20%20%20%20%20%20%20%20%20%20%20%20%20%20%20%20%5B37.5969757637819%2C%20126.91328823546%5D%2C%0A%20%20%20%20%20%20%20%20%20%20%20%20%20%20%20%20%7B%22bubblingMouseEvents%22%3A%20true%2C%20%22color%22%3A%20%22red%22%2C%20%22dashArray%22%3A%20null%2C%20%22dashOffset%22%3A%20null%2C%20%22fill%22%3A%20false%2C%20%22fillColor%22%3A%20%22red%22%2C%20%22fillOpacity%22%3A%200.2%2C%20%22fillRule%22%3A%20%22evenodd%22%2C%20%22lineCap%22%3A%20%22round%22%2C%20%22lineJoin%22%3A%20%22round%22%2C%20%22opacity%22%3A%201.0%2C%20%22radius%22%3A%204%2C%20%22stroke%22%3A%20true%2C%20%22weight%22%3A%203%7D%0A%20%20%20%20%20%20%20%20%20%20%20%20%29.addTo%28map_3a2c440c12764cd5ba6e0dc8ca03cb0f%29%3B%0A%20%20%20%20%20%20%20%20%0A%20%20%20%20%0A%20%20%20%20%20%20%20%20var%20popup_b45a49b7c7174a3591ecd807040d374f%20%3D%20L.popup%28%7B%22maxWidth%22%3A%20%22100%25%22%7D%29%3B%0A%0A%20%20%20%20%20%20%20%20%0A%20%20%20%20%20%20%20%20%20%20%20%20var%20html_8917f8e8b82c42eda65dbbbaa0a25485%20%3D%20%24%28%60%3Cdiv%20id%3D%22html_8917f8e8b82c42eda65dbbbaa0a25485%22%20style%3D%22width%3A%20100.0%25%3B%20height%3A%20100.0%25%3B%22%3Eotrcoffee%3C/div%3E%60%29%5B0%5D%3B%0A%20%20%20%20%20%20%20%20%20%20%20%20popup_b45a49b7c7174a3591ecd807040d374f.setContent%28html_8917f8e8b82c42eda65dbbbaa0a25485%29%3B%0A%20%20%20%20%20%20%20%20%0A%0A%20%20%20%20%20%20%20%20circle_marker_ad873c549eea4b52a647cdce28113b7f.bindPopup%28popup_b45a49b7c7174a3591ecd807040d374f%29%0A%20%20%20%20%20%20%20%20%3B%0A%0A%20%20%20%20%20%20%20%20%0A%20%20%20%20%0A%20%20%20%20%0A%20%20%20%20%20%20%20%20%20%20%20%20var%20circle_marker_7a920e5eeb75445299b8ff28dd3ecbf0%20%3D%20L.circleMarker%28%0A%20%20%20%20%20%20%20%20%20%20%20%20%20%20%20%20%5B37.5897962196601%2C%20127.058048369273%5D%2C%0A%20%20%20%20%20%20%20%20%20%20%20%20%20%20%20%20%7B%22bubblingMouseEvents%22%3A%20true%2C%20%22color%22%3A%20%22red%22%2C%20%22dashArray%22%3A%20null%2C%20%22dashOffset%22%3A%20null%2C%20%22fill%22%3A%20false%2C%20%22fillColor%22%3A%20%22red%22%2C%20%22fillOpacity%22%3A%200.2%2C%20%22fillRule%22%3A%20%22evenodd%22%2C%20%22lineCap%22%3A%20%22round%22%2C%20%22lineJoin%22%3A%20%22round%22%2C%20%22opacity%22%3A%201.0%2C%20%22radius%22%3A%204%2C%20%22stroke%22%3A%20true%2C%20%22weight%22%3A%203%7D%0A%20%20%20%20%20%20%20%20%20%20%20%20%29.addTo%28map_3a2c440c12764cd5ba6e0dc8ca03cb0f%29%3B%0A%20%20%20%20%20%20%20%20%0A%20%20%20%20%0A%20%20%20%20%20%20%20%20var%20popup_6e13e9c3ed434f32b869770ca70eb972%20%3D%20L.popup%28%7B%22maxWidth%22%3A%20%22100%25%22%7D%29%3B%0A%0A%20%20%20%20%20%20%20%20%0A%20%20%20%20%20%20%20%20%20%20%20%20var%20html_2f58a00c9a944736bd1506622d5959d3%20%3D%20%24%28%60%3Cdiv%20id%3D%22html_2f58a00c9a944736bd1506622d5959d3%22%20style%3D%22width%3A%20100.0%25%3B%20height%3A%20100.0%25%3B%22%3E%ED%9A%8C%EA%B8%B0%EC%97%AD%201%ED%98%B8%EC%84%A0%3C/div%3E%60%29%5B0%5D%3B%0A%20%20%20%20%20%20%20%20%20%20%20%20popup_6e13e9c3ed434f32b869770ca70eb972.setContent%28html_2f58a00c9a944736bd1506622d5959d3%29%3B%0A%20%20%20%20%20%20%20%20%0A%0A%20%20%20%20%20%20%20%20circle_marker_7a920e5eeb75445299b8ff28dd3ecbf0.bindPopup%28popup_6e13e9c3ed434f32b869770ca70eb972%29%0A%20%20%20%20%20%20%20%20%3B%0A%0A%20%20%20%20%20%20%20%20%0A%20%20%20%20%0A%20%20%20%20%0A%20%20%20%20%20%20%20%20%20%20%20%20var%20circle_marker_b891e194ccd84cb6ac9cad7c2883c569%20%3D%20L.circleMarker%28%0A%20%20%20%20%20%20%20%20%20%20%20%20%20%20%20%20%5B37.5916716879211%2C%20127.053153839572%5D%2C%0A%20%20%20%20%20%20%20%20%20%20%20%20%20%20%20%20%7B%22bubblingMouseEvents%22%3A%20true%2C%20%22color%22%3A%20%22red%22%2C%20%22dashArray%22%3A%20null%2C%20%22dashOffset%22%3A%20null%2C%20%22fill%22%3A%20false%2C%20%22fillColor%22%3A%20%22red%22%2C%20%22fillOpacity%22%3A%200.2%2C%20%22fillRule%22%3A%20%22evenodd%22%2C%20%22lineCap%22%3A%20%22round%22%2C%20%22lineJoin%22%3A%20%22round%22%2C%20%22opacity%22%3A%201.0%2C%20%22radius%22%3A%204%2C%20%22stroke%22%3A%20true%2C%20%22weight%22%3A%203%7D%0A%20%20%20%20%20%20%20%20%20%20%20%20%29.addTo%28map_3a2c440c12764cd5ba6e0dc8ca03cb0f%29%3B%0A%20%20%20%20%20%20%20%20%0A%20%20%20%20%0A%20%20%20%20%20%20%20%20var%20popup_8ed33d68feb04e619e8cc9af7e4bc04b%20%3D%20L.popup%28%7B%22maxWidth%22%3A%20%22100%25%22%7D%29%3B%0A%0A%20%20%20%20%20%20%20%20%0A%20%20%20%20%20%20%20%20%20%20%20%20var%20html_52fa312a733342778a0cdc98c243937c%20%3D%20%24%28%60%3Cdiv%20id%3D%22html_52fa312a733342778a0cdc98c243937c%22%20style%3D%22width%3A%20100.0%25%3B%20height%3A%20100.0%25%3B%22%3E%ED%94%8C%EB%A0%89%EC%8A%A4%EB%B9%8C%3C/div%3E%60%29%5B0%5D%3B%0A%20%20%20%20%20%20%20%20%20%20%20%20popup_8ed33d68feb04e619e8cc9af7e4bc04b.setContent%28html_52fa312a733342778a0cdc98c243937c%29%3B%0A%20%20%20%20%20%20%20%20%0A%0A%20%20%20%20%20%20%20%20circle_marker_b891e194ccd84cb6ac9cad7c2883c569.bindPopup%28popup_8ed33d68feb04e619e8cc9af7e4bc04b%29%0A%20%20%20%20%20%20%20%20%3B%0A%0A%20%20%20%20%20%20%20%20%0A%20%20%20%20%0A%20%20%20%20%0A%20%20%20%20%20%20%20%20%20%20%20%20var%20circle_marker_ee775e423c564b038b347549f47c607f%20%3D%20L.circleMarker%28%0A%20%20%20%20%20%20%20%20%20%20%20%20%20%20%20%20%5B37.5832997953294%2C%20127.05483706185%5D%2C%0A%20%20%20%20%20%20%20%20%20%20%20%20%20%20%20%20%7B%22bubblingMouseEvents%22%3A%20true%2C%20%22color%22%3A%20%22red%22%2C%20%22dashArray%22%3A%20null%2C%20%22dashOffset%22%3A%20null%2C%20%22fill%22%3A%20false%2C%20%22fillColor%22%3A%20%22red%22%2C%20%22fillOpacity%22%3A%200.2%2C%20%22fillRule%22%3A%20%22evenodd%22%2C%20%22lineCap%22%3A%20%22round%22%2C%20%22lineJoin%22%3A%20%22round%22%2C%20%22opacity%22%3A%201.0%2C%20%22radius%22%3A%204%2C%20%22stroke%22%3A%20true%2C%20%22weight%22%3A%203%7D%0A%20%20%20%20%20%20%20%20%20%20%20%20%29.addTo%28map_3a2c440c12764cd5ba6e0dc8ca03cb0f%29%3B%0A%20%20%20%20%20%20%20%20%0A%20%20%20%20%0A%20%20%20%20%20%20%20%20var%20popup_75e52e3c064d473e92d6f5cd74af0a38%20%3D%20L.popup%28%7B%22maxWidth%22%3A%20%22100%25%22%7D%29%3B%0A%0A%20%20%20%20%20%20%20%20%0A%20%20%20%20%20%20%20%20%20%20%20%20var%20html_a011cb77042040eba5c475bde55d2d56%20%3D%20%24%28%60%3Cdiv%20id%3D%22html_a011cb77042040eba5c475bde55d2d56%22%20style%3D%22width%3A%20100.0%25%3B%20height%3A%20100.0%25%3B%22%3E%EC%B2%AD%EB%9F%89%EB%A6%AC%EB%B8%94%EB%A3%A8%EC%8A%A4%3C/div%3E%60%29%5B0%5D%3B%0A%20%20%20%20%20%20%20%20%20%20%20%20popup_75e52e3c064d473e92d6f5cd74af0a38.setContent%28html_a011cb77042040eba5c475bde55d2d56%29%3B%0A%20%20%20%20%20%20%20%20%0A%0A%20%20%20%20%20%20%20%20circle_marker_ee775e423c564b038b347549f47c607f.bindPopup%28popup_75e52e3c064d473e92d6f5cd74af0a38%29%0A%20%20%20%20%20%20%20%20%3B%0A%0A%20%20%20%20%20%20%20%20%0A%20%20%20%20%0A%20%20%20%20%0A%20%20%20%20%20%20%20%20%20%20%20%20var%20circle_marker_d3a355de3d5b4b11907848d61165dffd%20%3D%20L.circleMarker%28%0A%20%20%20%20%20%20%20%20%20%20%20%20%20%20%20%20%5B37.5916088440804%2C%20127.050590311081%5D%2C%0A%20%20%20%20%20%20%20%20%20%20%20%20%20%20%20%20%7B%22bubblingMouseEvents%22%3A%20true%2C%20%22color%22%3A%20%22red%22%2C%20%22dashArray%22%3A%20null%2C%20%22dashOffset%22%3A%20null%2C%20%22fill%22%3A%20false%2C%20%22fillColor%22%3A%20%22red%22%2C%20%22fillOpacity%22%3A%200.2%2C%20%22fillRule%22%3A%20%22evenodd%22%2C%20%22lineCap%22%3A%20%22round%22%2C%20%22lineJoin%22%3A%20%22round%22%2C%20%22opacity%22%3A%201.0%2C%20%22radius%22%3A%204%2C%20%22stroke%22%3A%20true%2C%20%22weight%22%3A%203%7D%0A%20%20%20%20%20%20%20%20%20%20%20%20%29.addTo%28map_3a2c440c12764cd5ba6e0dc8ca03cb0f%29%3B%0A%20%20%20%20%20%20%20%20%0A%20%20%20%20%0A%20%20%20%20%20%20%20%20var%20popup_60c5bb0185df4ae48a692efc5309af6b%20%3D%20L.popup%28%7B%22maxWidth%22%3A%20%22100%25%22%7D%29%3B%0A%0A%20%20%20%20%20%20%20%20%0A%20%20%20%20%20%20%20%20%20%20%20%20var%20html_82821dd9b27144b7a78e5a1d5c6a1e6a%20%3D%20%24%28%60%3Cdiv%20id%3D%22html_82821dd9b27144b7a78e5a1d5c6a1e6a%22%20style%3D%22width%3A%20100.0%25%3B%20height%3A%20100.0%25%3B%22%3E%ED%81%AC%EC%B9%98%EC%B9%98%ED%82%A8%20%EA%B2%BD%ED%9D%AC%EB%8C%80%EC%A0%90%3C/div%3E%60%29%5B0%5D%3B%0A%20%20%20%20%20%20%20%20%20%20%20%20popup_60c5bb0185df4ae48a692efc5309af6b.setContent%28html_82821dd9b27144b7a78e5a1d5c6a1e6a%29%3B%0A%20%20%20%20%20%20%20%20%0A%0A%20%20%20%20%20%20%20%20circle_marker_d3a355de3d5b4b11907848d61165dffd.bindPopup%28popup_60c5bb0185df4ae48a692efc5309af6b%29%0A%20%20%20%20%20%20%20%20%3B%0A%0A%20%20%20%20%20%20%20%20%0A%20%20%20%20%0A%20%20%20%20%0A%20%20%20%20%20%20%20%20%20%20%20%20var%20circle_marker_4ac093821855456e840d7d775c85dce0%20%3D%20L.circleMarker%28%0A%20%20%20%20%20%20%20%20%20%20%20%20%20%20%20%20%5B37.2484262760478%2C%20127.081373958658%5D%2C%0A%20%20%20%20%20%20%20%20%20%20%20%20%20%20%20%20%7B%22bubblingMouseEvents%22%3A%20true%2C%20%22color%22%3A%20%22red%22%2C%20%22dashArray%22%3A%20null%2C%20%22dashOffset%22%3A%20null%2C%20%22fill%22%3A%20false%2C%20%22fillColor%22%3A%20%22red%22%2C%20%22fillOpacity%22%3A%200.2%2C%20%22fillRule%22%3A%20%22evenodd%22%2C%20%22lineCap%22%3A%20%22round%22%2C%20%22lineJoin%22%3A%20%22round%22%2C%20%22opacity%22%3A%201.0%2C%20%22radius%22%3A%204%2C%20%22stroke%22%3A%20true%2C%20%22weight%22%3A%203%7D%0A%20%20%20%20%20%20%20%20%20%20%20%20%29.addTo%28map_3a2c440c12764cd5ba6e0dc8ca03cb0f%29%3B%0A%20%20%20%20%20%20%20%20%0A%20%20%20%20%0A%20%20%20%20%20%20%20%20var%20popup_013528919bb446be94e8a82c4c98e1c3%20%3D%20L.popup%28%7B%22maxWidth%22%3A%20%22100%25%22%7D%29%3B%0A%0A%20%20%20%20%20%20%20%20%0A%20%20%20%20%20%20%20%20%20%20%20%20var%20html_3a40846d39ec462b9d6e76e96ba6c660%20%3D%20%24%28%60%3Cdiv%20id%3D%22html_3a40846d39ec462b9d6e76e96ba6c660%22%20style%3D%22width%3A%20100.0%25%3B%20height%3A%20100.0%25%3B%22%3E%EA%B2%BD%ED%9D%AC%EB%8C%80%EA%B8%B0%EC%88%99%EC%82%AC%EC%95%9E%EA%B5%90%EC%B0%A8%EB%A1%9C%3C/div%3E%60%29%5B0%5D%3B%0A%20%20%20%20%20%20%20%20%20%20%20%20popup_013528919bb446be94e8a82c4c98e1c3.setContent%28html_3a40846d39ec462b9d6e76e96ba6c660%29%3B%0A%20%20%20%20%20%20%20%20%0A%0A%20%20%20%20%20%20%20%20circle_marker_4ac093821855456e840d7d775c85dce0.bindPopup%28popup_013528919bb446be94e8a82c4c98e1c3%29%0A%20%20%20%20%20%20%20%20%3B%0A%0A%20%20%20%20%20%20%20%20%0A%20%20%20%20%0A%20%20%20%20%0A%20%20%20%20%20%20%20%20%20%20%20%20var%20circle_marker_0d2b9afc861c4d0392e6e0542f08b075%20%3D%20L.circleMarker%28%0A%20%20%20%20%20%20%20%20%20%20%20%20%20%20%20%20%5B37.26326424861792%2C%20127.0495051771378%5D%2C%0A%20%20%20%20%20%20%20%20%20%20%20%20%20%20%20%20%7B%22bubblingMouseEvents%22%3A%20true%2C%20%22color%22%3A%20%22red%22%2C%20%22dashArray%22%3A%20null%2C%20%22dashOffset%22%3A%20null%2C%20%22fill%22%3A%20false%2C%20%22fillColor%22%3A%20%22red%22%2C%20%22fillOpacity%22%3A%200.2%2C%20%22fillRule%22%3A%20%22evenodd%22%2C%20%22lineCap%22%3A%20%22round%22%2C%20%22lineJoin%22%3A%20%22round%22%2C%20%22opacity%22%3A%201.0%2C%20%22radius%22%3A%204%2C%20%22stroke%22%3A%20true%2C%20%22weight%22%3A%203%7D%0A%20%20%20%20%20%20%20%20%20%20%20%20%29.addTo%28map_3a2c440c12764cd5ba6e0dc8ca03cb0f%29%3B%0A%20%20%20%20%20%20%20%20%0A%20%20%20%20%0A%20%20%20%20%20%20%20%20var%20popup_7d97efc50edb41d3aadefd692d881952%20%3D%20L.popup%28%7B%22maxWidth%22%3A%20%22100%25%22%7D%29%3B%0A%0A%20%20%20%20%20%20%20%20%0A%20%20%20%20%20%20%20%20%20%20%20%20var%20html_6aad73a9aad4435399dd30939b8c76c6%20%3D%20%24%28%60%3Cdiv%20id%3D%22html_6aad73a9aad4435399dd30939b8c76c6%22%20style%3D%22width%3A%20100.0%25%3B%20height%3A%20100.0%25%3B%22%3E%ED%8C%94%EC%B2%AD%EC%8B%9D%EB%8B%B9%3C/div%3E%60%29%5B0%5D%3B%0A%20%20%20%20%20%20%20%20%20%20%20%20popup_7d97efc50edb41d3aadefd692d881952.setContent%28html_6aad73a9aad4435399dd30939b8c76c6%29%3B%0A%20%20%20%20%20%20%20%20%0A%0A%20%20%20%20%20%20%20%20circle_marker_0d2b9afc861c4d0392e6e0542f08b075.bindPopup%28popup_7d97efc50edb41d3aadefd692d881952%29%0A%20%20%20%20%20%20%20%20%3B%0A%0A%20%20%20%20%20%20%20%20%0A%20%20%20%20%0A%20%20%20%20%0A%20%20%20%20%20%20%20%20%20%20%20%20var%20circle_marker_83dded958c8041dfa2059e16fea78b7d%20%3D%20L.circleMarker%28%0A%20%20%20%20%20%20%20%20%20%20%20%20%20%20%20%20%5B37.59396455518687%2C%20127.0448510609214%5D%2C%0A%20%20%20%20%20%20%20%20%20%20%20%20%20%20%20%20%7B%22bubblingMouseEvents%22%3A%20true%2C%20%22color%22%3A%20%22red%22%2C%20%22dashArray%22%3A%20null%2C%20%22dashOffset%22%3A%20null%2C%20%22fill%22%3A%20false%2C%20%22fillColor%22%3A%20%22red%22%2C%20%22fillOpacity%22%3A%200.2%2C%20%22fillRule%22%3A%20%22evenodd%22%2C%20%22lineCap%22%3A%20%22round%22%2C%20%22lineJoin%22%3A%20%22round%22%2C%20%22opacity%22%3A%201.0%2C%20%22radius%22%3A%202%2C%20%22stroke%22%3A%20true%2C%20%22weight%22%3A%203%7D%0A%20%20%20%20%20%20%20%20%20%20%20%20%29.addTo%28map_3a2c440c12764cd5ba6e0dc8ca03cb0f%29%3B%0A%20%20%20%20%20%20%20%20%0A%20%20%20%20%0A%20%20%20%20%20%20%20%20var%20popup_e06137e41c984022bb728a1ba0883624%20%3D%20L.popup%28%7B%22maxWidth%22%3A%20%22100%25%22%7D%29%3B%0A%0A%20%20%20%20%20%20%20%20%0A%20%20%20%20%20%20%20%20%20%20%20%20var%20html_970e46a0bfa24cb58a6380306e3571a2%20%3D%20%24%28%60%3Cdiv%20id%3D%22html_970e46a0bfa24cb58a6380306e3571a2%22%20style%3D%22width%3A%20100.0%25%3B%20height%3A%20100.0%25%3B%22%3E%ED%99%8D%EB%A6%89%EC%8B%9C%ED%97%98%EB%A6%BC%3C/div%3E%60%29%5B0%5D%3B%0A%20%20%20%20%20%20%20%20%20%20%20%20popup_e06137e41c984022bb728a1ba0883624.setContent%28html_970e46a0bfa24cb58a6380306e3571a2%29%3B%0A%20%20%20%20%20%20%20%20%0A%0A%20%20%20%20%20%20%20%20circle_marker_83dded958c8041dfa2059e16fea78b7d.bindPopup%28popup_e06137e41c984022bb728a1ba0883624%29%0A%20%20%20%20%20%20%20%20%3B%0A%0A%20%20%20%20%20%20%20%20%0A%20%20%20%20%0A%20%20%20%20%0A%20%20%20%20%20%20%20%20%20%20%20%20var%20circle_marker_32cc349a1a9745dab8d7f8b893ab2ab1%20%3D%20L.circleMarker%28%0A%20%20%20%20%20%20%20%20%20%20%20%20%20%20%20%20%5B35.58553188500169%2C%20129.4567256949327%5D%2C%0A%20%20%20%20%20%20%20%20%20%20%20%20%20%20%20%20%7B%22bubblingMouseEvents%22%3A%20true%2C%20%22color%22%3A%20%22red%22%2C%20%22dashArray%22%3A%20null%2C%20%22dashOffset%22%3A%20null%2C%20%22fill%22%3A%20false%2C%20%22fillColor%22%3A%20%22red%22%2C%20%22fillOpacity%22%3A%200.2%2C%20%22fillRule%22%3A%20%22evenodd%22%2C%20%22lineCap%22%3A%20%22round%22%2C%20%22lineJoin%22%3A%20%22round%22%2C%20%22opacity%22%3A%201.0%2C%20%22radius%22%3A%202%2C%20%22stroke%22%3A%20true%2C%20%22weight%22%3A%203%7D%0A%20%20%20%20%20%20%20%20%20%20%20%20%29.addTo%28map_3a2c440c12764cd5ba6e0dc8ca03cb0f%29%3B%0A%20%20%20%20%20%20%20%20%0A%20%20%20%20%0A%20%20%20%20%20%20%20%20var%20popup_89497090281447edae498c050be4d867%20%3D%20L.popup%28%7B%22maxWidth%22%3A%20%22100%25%22%7D%29%3B%0A%0A%20%20%20%20%20%20%20%20%0A%20%20%20%20%20%20%20%20%20%20%20%20var%20html_3fa2c999323f4789ae6b8164ddb84c76%20%3D%20%24%28%60%3Cdiv%20id%3D%22html_3fa2c999323f4789ae6b8164ddb84c76%22%20style%3D%22width%3A%20100.0%25%3B%20height%3A%20100.0%25%3B%22%3EOND%EC%BB%A4%ED%94%BC%3C/div%3E%60%29%5B0%5D%3B%0A%20%20%20%20%20%20%20%20%20%20%20%20popup_89497090281447edae498c050be4d867.setContent%28html_3fa2c999323f4789ae6b8164ddb84c76%29%3B%0A%20%20%20%20%20%20%20%20%0A%0A%20%20%20%20%20%20%20%20circle_marker_32cc349a1a9745dab8d7f8b893ab2ab1.bindPopup%28popup_89497090281447edae498c050be4d867%29%0A%20%20%20%20%20%20%20%20%3B%0A%0A%20%20%20%20%20%20%20%20%0A%20%20%20%20%0A%20%20%20%20%0A%20%20%20%20%20%20%20%20%20%20%20%20var%20circle_marker_40f70af0addb4c3fa3dd8f844c5acc7c%20%3D%20L.circleMarker%28%0A%20%20%20%20%20%20%20%20%20%20%20%20%20%20%20%20%5B37.5929319456092%2C%20127.05748918359%5D%2C%0A%20%20%20%20%20%20%20%20%20%20%20%20%20%20%20%20%7B%22bubblingMouseEvents%22%3A%20true%2C%20%22color%22%3A%20%22red%22%2C%20%22dashArray%22%3A%20null%2C%20%22dashOffset%22%3A%20null%2C%20%22fill%22%3A%20false%2C%20%22fillColor%22%3A%20%22red%22%2C%20%22fillOpacity%22%3A%200.2%2C%20%22fillRule%22%3A%20%22evenodd%22%2C%20%22lineCap%22%3A%20%22round%22%2C%20%22lineJoin%22%3A%20%22round%22%2C%20%22opacity%22%3A%201.0%2C%20%22radius%22%3A%202%2C%20%22stroke%22%3A%20true%2C%20%22weight%22%3A%203%7D%0A%20%20%20%20%20%20%20%20%20%20%20%20%29.addTo%28map_3a2c440c12764cd5ba6e0dc8ca03cb0f%29%3B%0A%20%20%20%20%20%20%20%20%0A%20%20%20%20%0A%20%20%20%20%20%20%20%20var%20popup_0a6d0612faa9421a959dafc4317f9cdd%20%3D%20L.popup%28%7B%22maxWidth%22%3A%20%22100%25%22%7D%29%3B%0A%0A%20%20%20%20%20%20%20%20%0A%20%20%20%20%20%20%20%20%20%20%20%20var%20html_a7b9ed066a0443f08d558892703b378d%20%3D%20%24%28%60%3Cdiv%20id%3D%22html_a7b9ed066a0443f08d558892703b378d%22%20style%3D%22width%3A%20100.0%25%3B%20height%3A%20100.0%25%3B%22%3E%EC%B9%B4%ED%8E%98%EC%96%91%EA%B7%80%EB%B9%84%3C/div%3E%60%29%5B0%5D%3B%0A%20%20%20%20%20%20%20%20%20%20%20%20popup_0a6d0612faa9421a959dafc4317f9cdd.setContent%28html_a7b9ed066a0443f08d558892703b378d%29%3B%0A%20%20%20%20%20%20%20%20%0A%0A%20%20%20%20%20%20%20%20circle_marker_40f70af0addb4c3fa3dd8f844c5acc7c.bindPopup%28popup_0a6d0612faa9421a959dafc4317f9cdd%29%0A%20%20%20%20%20%20%20%20%3B%0A%0A%20%20%20%20%20%20%20%20%0A%20%20%20%20%0A%20%20%20%20%0A%20%20%20%20%20%20%20%20%20%20%20%20var%20circle_marker_c24f2e2f9e9443e2bae5575075e852da%20%3D%20L.circleMarker%28%0A%20%20%20%20%20%20%20%20%20%20%20%20%20%20%20%20%5B37.59276375465423%2C%20127.0509647513194%5D%2C%0A%20%20%20%20%20%20%20%20%20%20%20%20%20%20%20%20%7B%22bubblingMouseEvents%22%3A%20true%2C%20%22color%22%3A%20%22red%22%2C%20%22dashArray%22%3A%20null%2C%20%22dashOffset%22%3A%20null%2C%20%22fill%22%3A%20false%2C%20%22fillColor%22%3A%20%22red%22%2C%20%22fillOpacity%22%3A%200.2%2C%20%22fillRule%22%3A%20%22evenodd%22%2C%20%22lineCap%22%3A%20%22round%22%2C%20%22lineJoin%22%3A%20%22round%22%2C%20%22opacity%22%3A%201.0%2C%20%22radius%22%3A%202%2C%20%22stroke%22%3A%20true%2C%20%22weight%22%3A%203%7D%0A%20%20%20%20%20%20%20%20%20%20%20%20%29.addTo%28map_3a2c440c12764cd5ba6e0dc8ca03cb0f%29%3B%0A%20%20%20%20%20%20%20%20%0A%20%20%20%20%0A%20%20%20%20%20%20%20%20var%20popup_6208e646f13a4bc09cc613db13b8f1ed%20%3D%20L.popup%28%7B%22maxWidth%22%3A%20%22100%25%22%7D%29%3B%0A%0A%20%20%20%20%20%20%20%20%0A%20%20%20%20%20%20%20%20%20%20%20%20var%20html_2c92905675ba42b2ae334ef598f4c6fe%20%3D%20%24%28%60%3Cdiv%20id%3D%22html_2c92905675ba42b2ae334ef598f4c6fe%22%20style%3D%22width%3A%20100.0%25%3B%20height%3A%20100.0%25%3B%22%3E%ED%97%A4%EC%9D%B4%EC%A6%90%EB%84%9B%EB%B2%84%ED%84%B0%3C/div%3E%60%29%5B0%5D%3B%0A%20%20%20%20%20%20%20%20%20%20%20%20popup_6208e646f13a4bc09cc613db13b8f1ed.setContent%28html_2c92905675ba42b2ae334ef598f4c6fe%29%3B%0A%20%20%20%20%20%20%20%20%0A%0A%20%20%20%20%20%20%20%20circle_marker_c24f2e2f9e9443e2bae5575075e852da.bindPopup%28popup_6208e646f13a4bc09cc613db13b8f1ed%29%0A%20%20%20%20%20%20%20%20%3B%0A%0A%20%20%20%20%20%20%20%20%0A%20%20%20%20%0A%20%20%20%20%0A%20%20%20%20%20%20%20%20%20%20%20%20var%20circle_marker_bcad1b17a1ee439d9dc4b751c21456cb%20%3D%20L.circleMarker%28%0A%20%20%20%20%20%20%20%20%20%20%20%20%20%20%20%20%5B37.73776857932088%2C%20127.0486361562572%5D%2C%0A%20%20%20%20%20%20%20%20%20%20%20%20%20%20%20%20%7B%22bubblingMouseEvents%22%3A%20true%2C%20%22color%22%3A%20%22red%22%2C%20%22dashArray%22%3A%20null%2C%20%22dashOffset%22%3A%20null%2C%20%22fill%22%3A%20false%2C%20%22fillColor%22%3A%20%22red%22%2C%20%22fillOpacity%22%3A%200.2%2C%20%22fillRule%22%3A%20%22evenodd%22%2C%20%22lineCap%22%3A%20%22round%22%2C%20%22lineJoin%22%3A%20%22round%22%2C%20%22opacity%22%3A%201.0%2C%20%22radius%22%3A%202%2C%20%22stroke%22%3A%20true%2C%20%22weight%22%3A%203%7D%0A%20%20%20%20%20%20%20%20%20%20%20%20%29.addTo%28map_3a2c440c12764cd5ba6e0dc8ca03cb0f%29%3B%0A%20%20%20%20%20%20%20%20%0A%20%20%20%20%0A%20%20%20%20%20%20%20%20var%20popup_a29839528a5f4d9cb0fcc455bd33de07%20%3D%20L.popup%28%7B%22maxWidth%22%3A%20%22100%25%22%7D%29%3B%0A%0A%20%20%20%20%20%20%20%20%0A%20%20%20%20%20%20%20%20%20%20%20%20var%20html_87a786ff4dcf422f8e265e696857ce04%20%3D%20%24%28%60%3Cdiv%20id%3D%22html_87a786ff4dcf422f8e265e696857ce04%22%20style%3D%22width%3A%20100.0%25%3B%20height%3A%20100.0%25%3B%22%3E%EA%B5%BF%EA%B0%93%EB%A0%88%EC%8A%A4%ED%86%A0%EB%9E%91%3C/div%3E%60%29%5B0%5D%3B%0A%20%20%20%20%20%20%20%20%20%20%20%20popup_a29839528a5f4d9cb0fcc455bd33de07.setContent%28html_87a786ff4dcf422f8e265e696857ce04%29%3B%0A%20%20%20%20%20%20%20%20%0A%0A%20%20%20%20%20%20%20%20circle_marker_bcad1b17a1ee439d9dc4b751c21456cb.bindPopup%28popup_a29839528a5f4d9cb0fcc455bd33de07%29%0A%20%20%20%20%20%20%20%20%3B%0A%0A%20%20%20%20%20%20%20%20%0A%20%20%20%20%0A%20%20%20%20%0A%20%20%20%20%20%20%20%20%20%20%20%20var%20circle_marker_b6c1d8e6898a4be39bb1934adff8990f%20%3D%20L.circleMarker%28%0A%20%20%20%20%20%20%20%20%20%20%20%20%20%20%20%20%5B37.2523792946054%2C%20127.078499381219%5D%2C%0A%20%20%20%20%20%20%20%20%20%20%20%20%20%20%20%20%7B%22bubblingMouseEvents%22%3A%20true%2C%20%22color%22%3A%20%22red%22%2C%20%22dashArray%22%3A%20null%2C%20%22dashOffset%22%3A%20null%2C%20%22fill%22%3A%20false%2C%20%22fillColor%22%3A%20%22red%22%2C%20%22fillOpacity%22%3A%200.2%2C%20%22fillRule%22%3A%20%22evenodd%22%2C%20%22lineCap%22%3A%20%22round%22%2C%20%22lineJoin%22%3A%20%22round%22%2C%20%22opacity%22%3A%201.0%2C%20%22radius%22%3A%202%2C%20%22stroke%22%3A%20true%2C%20%22weight%22%3A%203%7D%0A%20%20%20%20%20%20%20%20%20%20%20%20%29.addTo%28map_3a2c440c12764cd5ba6e0dc8ca03cb0f%29%3B%0A%20%20%20%20%20%20%20%20%0A%20%20%20%20%0A%20%20%20%20%20%20%20%20var%20popup_a7ad58ef1eff4d55a3633e1a680f1f46%20%3D%20L.popup%28%7B%22maxWidth%22%3A%20%22100%25%22%7D%29%3B%0A%0A%20%20%20%20%20%20%20%20%0A%20%20%20%20%20%20%20%20%20%20%20%20var%20html_de7b66ceb96a4e36b932fc90b2457c10%20%3D%20%24%28%60%3Cdiv%20id%3D%22html_de7b66ceb96a4e36b932fc90b2457c10%22%20style%3D%22width%3A%20100.0%25%3B%20height%3A%20100.0%25%3B%22%3E%EC%B2%AD%ED%99%94%EC%9B%94%3C/div%3E%60%29%5B0%5D%3B%0A%20%20%20%20%20%20%20%20%20%20%20%20popup_a7ad58ef1eff4d55a3633e1a680f1f46.setContent%28html_de7b66ceb96a4e36b932fc90b2457c10%29%3B%0A%20%20%20%20%20%20%20%20%0A%0A%20%20%20%20%20%20%20%20circle_marker_b6c1d8e6898a4be39bb1934adff8990f.bindPopup%28popup_a7ad58ef1eff4d55a3633e1a680f1f46%29%0A%20%20%20%20%20%20%20%20%3B%0A%0A%20%20%20%20%20%20%20%20%0A%20%20%20%20%0A%20%20%20%20%0A%20%20%20%20%20%20%20%20%20%20%20%20var%20circle_marker_658d549c785a41d2b480aac265976226%20%3D%20L.circleMarker%28%0A%20%20%20%20%20%20%20%20%20%20%20%20%20%20%20%20%5B37.2905005608387%2C%20127.050284249753%5D%2C%0A%20%20%20%20%20%20%20%20%20%20%20%20%20%20%20%20%7B%22bubblingMouseEvents%22%3A%20true%2C%20%22color%22%3A%20%22red%22%2C%20%22dashArray%22%3A%20null%2C%20%22dashOffset%22%3A%20null%2C%20%22fill%22%3A%20false%2C%20%22fillColor%22%3A%20%22red%22%2C%20%22fillOpacity%22%3A%200.2%2C%20%22fillRule%22%3A%20%22evenodd%22%2C%20%22lineCap%22%3A%20%22round%22%2C%20%22lineJoin%22%3A%20%22round%22%2C%20%22opacity%22%3A%201.0%2C%20%22radius%22%3A%202%2C%20%22stroke%22%3A%20true%2C%20%22weight%22%3A%203%7D%0A%20%20%20%20%20%20%20%20%20%20%20%20%29.addTo%28map_3a2c440c12764cd5ba6e0dc8ca03cb0f%29%3B%0A%20%20%20%20%20%20%20%20%0A%20%20%20%20%0A%20%20%20%20%20%20%20%20var%20popup_1b878018b33d42c49e7ef17cd276c208%20%3D%20L.popup%28%7B%22maxWidth%22%3A%20%22100%25%22%7D%29%3B%0A%0A%20%20%20%20%20%20%20%20%0A%20%20%20%20%20%20%20%20%20%20%20%20var%20html_a12464959b3d443599c7ff988f872aa2%20%3D%20%24%28%60%3Cdiv%20id%3D%22html_a12464959b3d443599c7ff988f872aa2%22%20style%3D%22width%3A%20100.0%25%3B%20height%3A%20100.0%25%3B%22%3E%EB%B0%94%EB%82%98%EB%82%98%ED%85%8C%EC%9D%B4%EB%B8%94%20%EA%B4%91%EA%B5%90%EC%A0%90%3C/div%3E%60%29%5B0%5D%3B%0A%20%20%20%20%20%20%20%20%20%20%20%20popup_1b878018b33d42c49e7ef17cd276c208.setContent%28html_a12464959b3d443599c7ff988f872aa2%29%3B%0A%20%20%20%20%20%20%20%20%0A%0A%20%20%20%20%20%20%20%20circle_marker_658d549c785a41d2b480aac265976226.bindPopup%28popup_1b878018b33d42c49e7ef17cd276c208%29%0A%20%20%20%20%20%20%20%20%3B%0A%0A%20%20%20%20%20%20%20%20%0A%20%20%20%20%0A%20%20%20%20%0A%20%20%20%20%20%20%20%20%20%20%20%20var%20circle_marker_595a878b27664de885872fdd12c78ed5%20%3D%20L.circleMarker%28%0A%20%20%20%20%20%20%20%20%20%20%20%20%20%20%20%20%5B35.5547049486783%2C%20129.321145110852%5D%2C%0A%20%20%20%20%20%20%20%20%20%20%20%20%20%20%20%20%7B%22bubblingMouseEvents%22%3A%20true%2C%20%22color%22%3A%20%22red%22%2C%20%22dashArray%22%3A%20null%2C%20%22dashOffset%22%3A%20null%2C%20%22fill%22%3A%20false%2C%20%22fillColor%22%3A%20%22red%22%2C%20%22fillOpacity%22%3A%200.2%2C%20%22fillRule%22%3A%20%22evenodd%22%2C%20%22lineCap%22%3A%20%22round%22%2C%20%22lineJoin%22%3A%20%22round%22%2C%20%22opacity%22%3A%201.0%2C%20%22radius%22%3A%202%2C%20%22stroke%22%3A%20true%2C%20%22weight%22%3A%203%7D%0A%20%20%20%20%20%20%20%20%20%20%20%20%29.addTo%28map_3a2c440c12764cd5ba6e0dc8ca03cb0f%29%3B%0A%20%20%20%20%20%20%20%20%0A%20%20%20%20%0A%20%20%20%20%20%20%20%20var%20popup_48e2bb59175c44a992d53344c74ab9dc%20%3D%20L.popup%28%7B%22maxWidth%22%3A%20%22100%25%22%7D%29%3B%0A%0A%20%20%20%20%20%20%20%20%0A%20%20%20%20%20%20%20%20%20%20%20%20var%20html_5a7b75b562e948719fbd539d33b83ea0%20%3D%20%24%28%60%3Cdiv%20id%3D%22html_5a7b75b562e948719fbd539d33b83ea0%22%20style%3D%22width%3A%20100.0%25%3B%20height%3A%20100.0%25%3B%22%3E%EC%84%B1%EB%82%A8%EB%8F%99%EB%B3%B4%EC%84%B8%EA%B1%B0%EB%A6%AC%3C/div%3E%60%29%5B0%5D%3B%0A%20%20%20%20%20%20%20%20%20%20%20%20popup_48e2bb59175c44a992d53344c74ab9dc.setContent%28html_5a7b75b562e948719fbd539d33b83ea0%29%3B%0A%20%20%20%20%20%20%20%20%0A%0A%20%20%20%20%20%20%20%20circle_marker_595a878b27664de885872fdd12c78ed5.bindPopup%28popup_48e2bb59175c44a992d53344c74ab9dc%29%0A%20%20%20%20%20%20%20%20%3B%0A%0A%20%20%20%20%20%20%20%20%0A%20%20%20%20%0A%20%20%20%20%0A%20%20%20%20%20%20%20%20%20%20%20%20var%20circle_marker_bfccc67ebb224bbd845d6c7529969e2a%20%3D%20L.circleMarker%28%0A%20%20%20%20%20%20%20%20%20%20%20%20%20%20%20%20%5B37.2869569586225%2C%20127.011795743342%5D%2C%0A%20%20%20%20%20%20%20%20%20%20%20%20%20%20%20%20%7B%22bubblingMouseEvents%22%3A%20true%2C%20%22color%22%3A%20%22red%22%2C%20%22dashArray%22%3A%20null%2C%20%22dashOffset%22%3A%20null%2C%20%22fill%22%3A%20false%2C%20%22fillColor%22%3A%20%22red%22%2C%20%22fillOpacity%22%3A%200.2%2C%20%22fillRule%22%3A%20%22evenodd%22%2C%20%22lineCap%22%3A%20%22round%22%2C%20%22lineJoin%22%3A%20%22round%22%2C%20%22opacity%22%3A%201.0%2C%20%22radius%22%3A%202%2C%20%22stroke%22%3A%20true%2C%20%22weight%22%3A%203%7D%0A%20%20%20%20%20%20%20%20%20%20%20%20%29.addTo%28map_3a2c440c12764cd5ba6e0dc8ca03cb0f%29%3B%0A%20%20%20%20%20%20%20%20%0A%20%20%20%20%0A%20%20%20%20%20%20%20%20var%20popup_7e5babd2334947e987a39abe93028827%20%3D%20L.popup%28%7B%22maxWidth%22%3A%20%22100%25%22%7D%29%3B%0A%0A%20%20%20%20%20%20%20%20%0A%20%20%20%20%20%20%20%20%20%20%20%20var%20html_62ea992cde2548bd84b2af6ba6280f66%20%3D%20%24%28%60%3Cdiv%20id%3D%22html_62ea992cde2548bd84b2af6ba6280f66%22%20style%3D%22width%3A%20100.0%25%3B%20height%3A%20100.0%25%3B%22%3E%EC%88%98%EC%9B%90%ED%99%94%EC%84%B1%3C/div%3E%60%29%5B0%5D%3B%0A%20%20%20%20%20%20%20%20%20%20%20%20popup_7e5babd2334947e987a39abe93028827.setContent%28html_62ea992cde2548bd84b2af6ba6280f66%29%3B%0A%20%20%20%20%20%20%20%20%0A%0A%20%20%20%20%20%20%20%20circle_marker_bfccc67ebb224bbd845d6c7529969e2a.bindPopup%28popup_7e5babd2334947e987a39abe93028827%29%0A%20%20%20%20%20%20%20%20%3B%0A%0A%20%20%20%20%20%20%20%20%0A%20%20%20%20%0A%20%20%20%20%0A%20%20%20%20%20%20%20%20%20%20%20%20var%20circle_marker_5245d9211b5d420baf06f30833a4d88d%20%3D%20L.circleMarker%28%0A%20%20%20%20%20%20%20%20%20%20%20%20%20%20%20%20%5B37.2924457449946%2C%20127.066972205202%5D%2C%0A%20%20%20%20%20%20%20%20%20%20%20%20%20%20%20%20%7B%22bubblingMouseEvents%22%3A%20true%2C%20%22color%22%3A%20%22red%22%2C%20%22dashArray%22%3A%20null%2C%20%22dashOffset%22%3A%20null%2C%20%22fill%22%3A%20false%2C%20%22fillColor%22%3A%20%22red%22%2C%20%22fillOpacity%22%3A%200.2%2C%20%22fillRule%22%3A%20%22evenodd%22%2C%20%22lineCap%22%3A%20%22round%22%2C%20%22lineJoin%22%3A%20%22round%22%2C%20%22opacity%22%3A%201.0%2C%20%22radius%22%3A%202%2C%20%22stroke%22%3A%20true%2C%20%22weight%22%3A%203%7D%0A%20%20%20%20%20%20%20%20%20%20%20%20%29.addTo%28map_3a2c440c12764cd5ba6e0dc8ca03cb0f%29%3B%0A%20%20%20%20%20%20%20%20%0A%20%20%20%20%0A%20%20%20%20%20%20%20%20var%20popup_105aa617dae74788a6ba03d29c90f116%20%3D%20L.popup%28%7B%22maxWidth%22%3A%20%22100%25%22%7D%29%3B%0A%0A%20%20%20%20%20%20%20%20%0A%20%20%20%20%20%20%20%20%20%20%20%20var%20html_ffa82df32a9141f2a6e44f6a6a1879ca%20%3D%20%24%28%60%3Cdiv%20id%3D%22html_ffa82df32a9141f2a6e44f6a6a1879ca%22%20style%3D%22width%3A%20100.0%25%3B%20height%3A%20100.0%25%3B%22%3E%EB%B2%95%EC%A1%B0%ED%83%80%EC%9A%B4%EC%82%AC%EA%B1%B0%EB%A6%AC%3C/div%3E%60%29%5B0%5D%3B%0A%20%20%20%20%20%20%20%20%20%20%20%20popup_105aa617dae74788a6ba03d29c90f116.setContent%28html_ffa82df32a9141f2a6e44f6a6a1879ca%29%3B%0A%20%20%20%20%20%20%20%20%0A%0A%20%20%20%20%20%20%20%20circle_marker_5245d9211b5d420baf06f30833a4d88d.bindPopup%28popup_105aa617dae74788a6ba03d29c90f116%29%0A%20%20%20%20%20%20%20%20%3B%0A%0A%20%20%20%20%20%20%20%20%0A%20%20%20%20%0A%20%20%20%20%0A%20%20%20%20%20%20%20%20%20%20%20%20var%20circle_marker_094d9566ae2648e495fedbea8c789052%20%3D%20L.circleMarker%28%0A%20%20%20%20%20%20%20%20%20%20%20%20%20%20%20%20%5B37.5915024308825%2C%20127.056746441103%5D%2C%0A%20%20%20%20%20%20%20%20%20%20%20%20%20%20%20%20%7B%22bubblingMouseEvents%22%3A%20true%2C%20%22color%22%3A%20%22red%22%2C%20%22dashArray%22%3A%20null%2C%20%22dashOffset%22%3A%20null%2C%20%22fill%22%3A%20false%2C%20%22fillColor%22%3A%20%22red%22%2C%20%22fillOpacity%22%3A%200.2%2C%20%22fillRule%22%3A%20%22evenodd%22%2C%20%22lineCap%22%3A%20%22round%22%2C%20%22lineJoin%22%3A%20%22round%22%2C%20%22opacity%22%3A%201.0%2C%20%22radius%22%3A%202%2C%20%22stroke%22%3A%20true%2C%20%22weight%22%3A%203%7D%0A%20%20%20%20%20%20%20%20%20%20%20%20%29.addTo%28map_3a2c440c12764cd5ba6e0dc8ca03cb0f%29%3B%0A%20%20%20%20%20%20%20%20%0A%20%20%20%20%0A%20%20%20%20%20%20%20%20var%20popup_33e3ed8ef19d49b4bb64b313c28937fb%20%3D%20L.popup%28%7B%22maxWidth%22%3A%20%22100%25%22%7D%29%3B%0A%0A%20%20%20%20%20%20%20%20%0A%20%20%20%20%20%20%20%20%20%20%20%20var%20html_4d9acef2f5f943a18d4c195307fc2c79%20%3D%20%24%28%60%3Cdiv%20id%3D%22html_4d9acef2f5f943a18d4c195307fc2c79%22%20style%3D%22width%3A%20100.0%25%3B%20height%3A%20100.0%25%3B%22%3E%ED%9E%88%EB%85%B8%ED%95%98%EB%A3%A8%3C/div%3E%60%29%5B0%5D%3B%0A%20%20%20%20%20%20%20%20%20%20%20%20popup_33e3ed8ef19d49b4bb64b313c28937fb.setContent%28html_4d9acef2f5f943a18d4c195307fc2c79%29%3B%0A%20%20%20%20%20%20%20%20%0A%0A%20%20%20%20%20%20%20%20circle_marker_094d9566ae2648e495fedbea8c789052.bindPopup%28popup_33e3ed8ef19d49b4bb64b313c28937fb%29%0A%20%20%20%20%20%20%20%20%3B%0A%0A%20%20%20%20%20%20%20%20%0A%20%20%20%20%0A%3C/script%3E onload=\"this.contentDocument.open();this.contentDocument.write(    decodeURIComponent(this.getAttribute('data-html')));this.contentDocument.close();\" allowfullscreen webkitallowfullscreen mozallowfullscreen></iframe></div></div>"
      ],
      "text/plain": [
       "<folium.folium.Map at 0x198b400b4c0>"
      ]
     },
     "execution_count": 119,
     "metadata": {},
     "output_type": "execute_result"
    }
   ],
   "source": [
    "import folium\n",
    "# 지도 호출 \n",
    "Khu_univ =[37.596801, 127.052854] # 6자리만 위도 , 경도\n",
    "map_khu = folium.Map(location = Khu_univ, zoom_start = 13) # 지도데이터\n",
    "\n",
    "for i in range(len(location_data)):\n",
    "    name = location_data ['카카오 위치명'][i]    # 공식명칭\n",
    "    count = location_data ['place'][i]           # 게시글 개수\n",
    "    size = int(count)*2 \n",
    "    long = float(location_data['위도'][i])      #위도\n",
    "    lat = float(location_data['경도'][i])       # 경도\n",
    "    \n",
    "    folium.CircleMarker((long,lat), radius = size, color='red', popup=name).add_to(map_khu)\n",
    "    \n",
    "map_khu\n"
   ]
  },
  {
   "cell_type": "markdown",
   "id": "dbaf6816",
   "metadata": {},
   "source": [
    "* 그룹으로 표시 (서클 마커 집합)"
   ]
  },
  {
   "cell_type": "code",
   "execution_count": 120,
   "id": "4b8b4f33",
   "metadata": {},
   "outputs": [],
   "source": [
    "# 맛집 정보들을 리스트에 넣기 \n",
    "from folium.plugins import MarkerCluster \n",
    "locations = [] \n",
    "names = []\n",
    "\n",
    "for i in range(len(location_data)):\n",
    "    data = location_data.iloc[i] #  한 레코드 씩 \n",
    "    locations.append((float(data['위도']),float(data['경도']))) # 리스트에 맛집 별 위도,경도 튜플로 추가 \n",
    "    names.append(data['검색명'])\n"
   ]
  },
  {
   "cell_type": "code",
   "execution_count": 121,
   "id": "27d97a4e",
   "metadata": {},
   "outputs": [
    {
     "data": {
      "text/plain": [
       "[(37.5925492059187, 127.051225032878),\n",
       " (37.5968011678013, 127.05285401582),\n",
       " (37.58436580720609, 127.0525553868475),\n",
       " (37.62612118319853, 126.9362684356268),\n",
       " (37.5969757637819, 126.91328823546)]"
      ]
     },
     "execution_count": 121,
     "metadata": {},
     "output_type": "execute_result"
    }
   ],
   "source": [
    "locations[:5]"
   ]
  },
  {
   "cell_type": "code",
   "execution_count": 122,
   "id": "46313701",
   "metadata": {},
   "outputs": [
    {
     "data": {
      "text/plain": [
       "['호랭이양식당', '회기동', '서울시립대로 27길40', '서울', 'OTR']"
      ]
     },
     "execution_count": 122,
     "metadata": {},
     "output_type": "execute_result"
    }
   ],
   "source": [
    "names[:5]"
   ]
  },
  {
   "cell_type": "code",
   "execution_count": 125,
   "id": "85859c63",
   "metadata": {},
   "outputs": [
    {
     "data": {
      "text/html": [
       "<div style=\"width:100%;\"><div style=\"position:relative;width:100%;height:0;padding-bottom:60%;\"><span style=\"color:#565656\">Make this Notebook Trusted to load map: File -> Trust Notebook</span><iframe src=\"about:blank\" style=\"position:absolute;width:100%;height:100%;left:0;top:0;border:none !important;\" data-html=%3C%21DOCTYPE%20html%3E%0A%3Chead%3E%20%20%20%20%0A%20%20%20%20%3Cmeta%20http-equiv%3D%22content-type%22%20content%3D%22text/html%3B%20charset%3DUTF-8%22%20/%3E%0A%20%20%20%20%0A%20%20%20%20%20%20%20%20%3Cscript%3E%0A%20%20%20%20%20%20%20%20%20%20%20%20L_NO_TOUCH%20%3D%20false%3B%0A%20%20%20%20%20%20%20%20%20%20%20%20L_DISABLE_3D%20%3D%20false%3B%0A%20%20%20%20%20%20%20%20%3C/script%3E%0A%20%20%20%20%0A%20%20%20%20%3Cstyle%3Ehtml%2C%20body%20%7Bwidth%3A%20100%25%3Bheight%3A%20100%25%3Bmargin%3A%200%3Bpadding%3A%200%3B%7D%3C/style%3E%0A%20%20%20%20%3Cstyle%3E%23map%20%7Bposition%3Aabsolute%3Btop%3A0%3Bbottom%3A0%3Bright%3A0%3Bleft%3A0%3B%7D%3C/style%3E%0A%20%20%20%20%3Cscript%20src%3D%22https%3A//cdn.jsdelivr.net/npm/leaflet%401.6.0/dist/leaflet.js%22%3E%3C/script%3E%0A%20%20%20%20%3Cscript%20src%3D%22https%3A//code.jquery.com/jquery-1.12.4.min.js%22%3E%3C/script%3E%0A%20%20%20%20%3Cscript%20src%3D%22https%3A//maxcdn.bootstrapcdn.com/bootstrap/3.2.0/js/bootstrap.min.js%22%3E%3C/script%3E%0A%20%20%20%20%3Cscript%20src%3D%22https%3A//cdnjs.cloudflare.com/ajax/libs/Leaflet.awesome-markers/2.0.2/leaflet.awesome-markers.js%22%3E%3C/script%3E%0A%20%20%20%20%3Clink%20rel%3D%22stylesheet%22%20href%3D%22https%3A//cdn.jsdelivr.net/npm/leaflet%401.6.0/dist/leaflet.css%22/%3E%0A%20%20%20%20%3Clink%20rel%3D%22stylesheet%22%20href%3D%22https%3A//maxcdn.bootstrapcdn.com/bootstrap/3.2.0/css/bootstrap.min.css%22/%3E%0A%20%20%20%20%3Clink%20rel%3D%22stylesheet%22%20href%3D%22https%3A//maxcdn.bootstrapcdn.com/bootstrap/3.2.0/css/bootstrap-theme.min.css%22/%3E%0A%20%20%20%20%3Clink%20rel%3D%22stylesheet%22%20href%3D%22https%3A//maxcdn.bootstrapcdn.com/font-awesome/4.6.3/css/font-awesome.min.css%22/%3E%0A%20%20%20%20%3Clink%20rel%3D%22stylesheet%22%20href%3D%22https%3A//cdnjs.cloudflare.com/ajax/libs/Leaflet.awesome-markers/2.0.2/leaflet.awesome-markers.css%22/%3E%0A%20%20%20%20%3Clink%20rel%3D%22stylesheet%22%20href%3D%22https%3A//cdn.jsdelivr.net/gh/python-visualization/folium/folium/templates/leaflet.awesome.rotate.min.css%22/%3E%0A%20%20%20%20%0A%20%20%20%20%20%20%20%20%20%20%20%20%3Cmeta%20name%3D%22viewport%22%20content%3D%22width%3Ddevice-width%2C%0A%20%20%20%20%20%20%20%20%20%20%20%20%20%20%20%20initial-scale%3D1.0%2C%20maximum-scale%3D1.0%2C%20user-scalable%3Dno%22%20/%3E%0A%20%20%20%20%20%20%20%20%20%20%20%20%3Cstyle%3E%0A%20%20%20%20%20%20%20%20%20%20%20%20%20%20%20%20%23map_beb3cd3c77774501a6aaa8e69af741f7%20%7B%0A%20%20%20%20%20%20%20%20%20%20%20%20%20%20%20%20%20%20%20%20position%3A%20relative%3B%0A%20%20%20%20%20%20%20%20%20%20%20%20%20%20%20%20%20%20%20%20width%3A%20100.0%25%3B%0A%20%20%20%20%20%20%20%20%20%20%20%20%20%20%20%20%20%20%20%20height%3A%20100.0%25%3B%0A%20%20%20%20%20%20%20%20%20%20%20%20%20%20%20%20%20%20%20%20left%3A%200.0%25%3B%0A%20%20%20%20%20%20%20%20%20%20%20%20%20%20%20%20%20%20%20%20top%3A%200.0%25%3B%0A%20%20%20%20%20%20%20%20%20%20%20%20%20%20%20%20%7D%0A%20%20%20%20%20%20%20%20%20%20%20%20%3C/style%3E%0A%20%20%20%20%20%20%20%20%0A%20%20%20%20%3Cscript%20src%3D%22https%3A//cdnjs.cloudflare.com/ajax/libs/leaflet.markercluster/1.1.0/leaflet.markercluster.js%22%3E%3C/script%3E%0A%20%20%20%20%3Clink%20rel%3D%22stylesheet%22%20href%3D%22https%3A//cdnjs.cloudflare.com/ajax/libs/leaflet.markercluster/1.1.0/MarkerCluster.css%22/%3E%0A%20%20%20%20%3Clink%20rel%3D%22stylesheet%22%20href%3D%22https%3A//cdnjs.cloudflare.com/ajax/libs/leaflet.markercluster/1.1.0/MarkerCluster.Default.css%22/%3E%0A%3C/head%3E%0A%3Cbody%3E%20%20%20%20%0A%20%20%20%20%0A%20%20%20%20%20%20%20%20%20%20%20%20%3Cdiv%20class%3D%22folium-map%22%20id%3D%22map_beb3cd3c77774501a6aaa8e69af741f7%22%20%3E%3C/div%3E%0A%20%20%20%20%20%20%20%20%0A%3C/body%3E%0A%3Cscript%3E%20%20%20%20%0A%20%20%20%20%0A%20%20%20%20%20%20%20%20%20%20%20%20var%20map_beb3cd3c77774501a6aaa8e69af741f7%20%3D%20L.map%28%0A%20%20%20%20%20%20%20%20%20%20%20%20%20%20%20%20%22map_beb3cd3c77774501a6aaa8e69af741f7%22%2C%0A%20%20%20%20%20%20%20%20%20%20%20%20%20%20%20%20%7B%0A%20%20%20%20%20%20%20%20%20%20%20%20%20%20%20%20%20%20%20%20center%3A%20%5B37.596801%2C%20127.052854%5D%2C%0A%20%20%20%20%20%20%20%20%20%20%20%20%20%20%20%20%20%20%20%20crs%3A%20L.CRS.EPSG3857%2C%0A%20%20%20%20%20%20%20%20%20%20%20%20%20%20%20%20%20%20%20%20zoom%3A%2013%2C%0A%20%20%20%20%20%20%20%20%20%20%20%20%20%20%20%20%20%20%20%20zoomControl%3A%20true%2C%0A%20%20%20%20%20%20%20%20%20%20%20%20%20%20%20%20%20%20%20%20preferCanvas%3A%20false%2C%0A%20%20%20%20%20%20%20%20%20%20%20%20%20%20%20%20%7D%0A%20%20%20%20%20%20%20%20%20%20%20%20%29%3B%0A%0A%20%20%20%20%20%20%20%20%20%20%20%20%0A%0A%20%20%20%20%20%20%20%20%0A%20%20%20%20%0A%20%20%20%20%20%20%20%20%20%20%20%20var%20tile_layer_41997afd29c24e9d88e6ca01fe48affd%20%3D%20L.tileLayer%28%0A%20%20%20%20%20%20%20%20%20%20%20%20%20%20%20%20%22https%3A//%7Bs%7D.tile.openstreetmap.org/%7Bz%7D/%7Bx%7D/%7By%7D.png%22%2C%0A%20%20%20%20%20%20%20%20%20%20%20%20%20%20%20%20%7B%22attribution%22%3A%20%22Data%20by%20%5Cu0026copy%3B%20%5Cu003ca%20href%3D%5C%22http%3A//openstreetmap.org%5C%22%5Cu003eOpenStreetMap%5Cu003c/a%5Cu003e%2C%20under%20%5Cu003ca%20href%3D%5C%22http%3A//www.openstreetmap.org/copyright%5C%22%5Cu003eODbL%5Cu003c/a%5Cu003e.%22%2C%20%22detectRetina%22%3A%20false%2C%20%22maxNativeZoom%22%3A%2018%2C%20%22maxZoom%22%3A%2018%2C%20%22minZoom%22%3A%200%2C%20%22noWrap%22%3A%20false%2C%20%22opacity%22%3A%201%2C%20%22subdomains%22%3A%20%22abc%22%2C%20%22tms%22%3A%20false%7D%0A%20%20%20%20%20%20%20%20%20%20%20%20%29.addTo%28map_beb3cd3c77774501a6aaa8e69af741f7%29%3B%0A%20%20%20%20%20%20%20%20%0A%20%20%20%20%0A%20%20%20%20%20%20%20%20%20%20%20%20var%20marker_cluster_425a27f5f2184cd289ef67f8361d798f%20%3D%20L.markerClusterGroup%28%0A%20%20%20%20%20%20%20%20%20%20%20%20%20%20%20%20%7B%7D%0A%20%20%20%20%20%20%20%20%20%20%20%20%29%3B%0A%20%20%20%20%20%20%20%20%20%20%20%20marker_cluster_425a27f5f2184cd289ef67f8361d798f.options.iconCreateFunction%20%3D%0A%20%20%20%20%20%20%20%20%20%20%20%20%20%20%20%20function%28cluster%29%20%7B%0A%20%20%20%20return%20L.divIcon%28%7B%0A%20%20%20%20html%20%3A%20%27%3Cb%3E%27%20%2B%20cluster.getChildCount%28%29%20%2B%20%27%3C/b%3E%27%2C%0A%20%20%20%20className%20%3A%20%27marker-cluster%20marker-cluster-large%27%2C%0A%20%20%20%20iconsize%20%3A%20new%20L.Point%2830%2C30%29%0A%20%20%20%20%7D%29%3B%20%0A%7D%3B%0A%20%20%20%20%20%20%20%20%20%20%20%20map_beb3cd3c77774501a6aaa8e69af741f7.addLayer%28marker_cluster_425a27f5f2184cd289ef67f8361d798f%29%3B%0A%20%20%20%20%20%20%20%20%0A%20%20%20%20%0A%20%20%20%20%20%20%20%20%20%20%20%20var%20marker_1adb5b1650e74c93ad6226ac0e713dc1%20%3D%20L.marker%28%0A%20%20%20%20%20%20%20%20%20%20%20%20%20%20%20%20%5B37.5925492059187%2C%20127.051225032878%5D%2C%0A%20%20%20%20%20%20%20%20%20%20%20%20%20%20%20%20%7B%7D%0A%20%20%20%20%20%20%20%20%20%20%20%20%29.addTo%28marker_cluster_425a27f5f2184cd289ef67f8361d798f%29%3B%0A%20%20%20%20%20%20%20%20%0A%20%20%20%20%0A%20%20%20%20%20%20%20%20var%20popup_031ced851df94a51850b834a38116b9b%20%3D%20L.popup%28%7B%22maxWidth%22%3A%20%22100%25%22%7D%29%3B%0A%0A%20%20%20%20%20%20%20%20%0A%20%20%20%20%20%20%20%20%20%20%20%20var%20html_b9cf674ff3c741cfb7fefb7c5f02ba10%20%3D%20%24%28%60%3Cdiv%20id%3D%22html_b9cf674ff3c741cfb7fefb7c5f02ba10%22%20style%3D%22width%3A%20100.0%25%3B%20height%3A%20100.0%25%3B%22%3E%ED%98%B8%EB%9E%AD%EC%9D%B4%EC%96%91%EC%8B%9D%EB%8B%B9%3C/div%3E%60%29%5B0%5D%3B%0A%20%20%20%20%20%20%20%20%20%20%20%20popup_031ced851df94a51850b834a38116b9b.setContent%28html_b9cf674ff3c741cfb7fefb7c5f02ba10%29%3B%0A%20%20%20%20%20%20%20%20%0A%0A%20%20%20%20%20%20%20%20marker_1adb5b1650e74c93ad6226ac0e713dc1.bindPopup%28popup_031ced851df94a51850b834a38116b9b%29%0A%20%20%20%20%20%20%20%20%3B%0A%0A%20%20%20%20%20%20%20%20%0A%20%20%20%20%0A%20%20%20%20%0A%20%20%20%20%20%20%20%20%20%20%20%20var%20marker_09b5e6d712ec4347be45d9e2c9e68c7a%20%3D%20L.marker%28%0A%20%20%20%20%20%20%20%20%20%20%20%20%20%20%20%20%5B37.5968011678013%2C%20127.05285401582%5D%2C%0A%20%20%20%20%20%20%20%20%20%20%20%20%20%20%20%20%7B%7D%0A%20%20%20%20%20%20%20%20%20%20%20%20%29.addTo%28marker_cluster_425a27f5f2184cd289ef67f8361d798f%29%3B%0A%20%20%20%20%20%20%20%20%0A%20%20%20%20%0A%20%20%20%20%20%20%20%20var%20popup_066fd08549434bea878e61d94e55a0c4%20%3D%20L.popup%28%7B%22maxWidth%22%3A%20%22100%25%22%7D%29%3B%0A%0A%20%20%20%20%20%20%20%20%0A%20%20%20%20%20%20%20%20%20%20%20%20var%20html_ae43c7c9ed7844a4ad2906e50e646a78%20%3D%20%24%28%60%3Cdiv%20id%3D%22html_ae43c7c9ed7844a4ad2906e50e646a78%22%20style%3D%22width%3A%20100.0%25%3B%20height%3A%20100.0%25%3B%22%3E%ED%9A%8C%EA%B8%B0%EB%8F%99%3C/div%3E%60%29%5B0%5D%3B%0A%20%20%20%20%20%20%20%20%20%20%20%20popup_066fd08549434bea878e61d94e55a0c4.setContent%28html_ae43c7c9ed7844a4ad2906e50e646a78%29%3B%0A%20%20%20%20%20%20%20%20%0A%0A%20%20%20%20%20%20%20%20marker_09b5e6d712ec4347be45d9e2c9e68c7a.bindPopup%28popup_066fd08549434bea878e61d94e55a0c4%29%0A%20%20%20%20%20%20%20%20%3B%0A%0A%20%20%20%20%20%20%20%20%0A%20%20%20%20%0A%20%20%20%20%0A%20%20%20%20%20%20%20%20%20%20%20%20var%20marker_5988224988944918905f88b6e93c6061%20%3D%20L.marker%28%0A%20%20%20%20%20%20%20%20%20%20%20%20%20%20%20%20%5B37.58436580720609%2C%20127.0525553868475%5D%2C%0A%20%20%20%20%20%20%20%20%20%20%20%20%20%20%20%20%7B%7D%0A%20%20%20%20%20%20%20%20%20%20%20%20%29.addTo%28marker_cluster_425a27f5f2184cd289ef67f8361d798f%29%3B%0A%20%20%20%20%20%20%20%20%0A%20%20%20%20%0A%20%20%20%20%20%20%20%20var%20popup_6b1c6363f95a49adbde9f6792f9aaf39%20%3D%20L.popup%28%7B%22maxWidth%22%3A%20%22100%25%22%7D%29%3B%0A%0A%20%20%20%20%20%20%20%20%0A%20%20%20%20%20%20%20%20%20%20%20%20var%20html_3b87b3c246fb48e9a5bedddec6fb503f%20%3D%20%24%28%60%3Cdiv%20id%3D%22html_3b87b3c246fb48e9a5bedddec6fb503f%22%20style%3D%22width%3A%20100.0%25%3B%20height%3A%20100.0%25%3B%22%3E%EC%84%9C%EC%9A%B8%EC%8B%9C%EB%A6%BD%EB%8C%80%EB%A1%9C%2027%EA%B8%B840%3C/div%3E%60%29%5B0%5D%3B%0A%20%20%20%20%20%20%20%20%20%20%20%20popup_6b1c6363f95a49adbde9f6792f9aaf39.setContent%28html_3b87b3c246fb48e9a5bedddec6fb503f%29%3B%0A%20%20%20%20%20%20%20%20%0A%0A%20%20%20%20%20%20%20%20marker_5988224988944918905f88b6e93c6061.bindPopup%28popup_6b1c6363f95a49adbde9f6792f9aaf39%29%0A%20%20%20%20%20%20%20%20%3B%0A%0A%20%20%20%20%20%20%20%20%0A%20%20%20%20%0A%20%20%20%20%0A%20%20%20%20%20%20%20%20%20%20%20%20var%20marker_63c926e70f294c988bace7a6b41c7545%20%3D%20L.marker%28%0A%20%20%20%20%20%20%20%20%20%20%20%20%20%20%20%20%5B37.62612118319853%2C%20126.9362684356268%5D%2C%0A%20%20%20%20%20%20%20%20%20%20%20%20%20%20%20%20%7B%7D%0A%20%20%20%20%20%20%20%20%20%20%20%20%29.addTo%28marker_cluster_425a27f5f2184cd289ef67f8361d798f%29%3B%0A%20%20%20%20%20%20%20%20%0A%20%20%20%20%0A%20%20%20%20%20%20%20%20var%20popup_7d8fd777efeb4b9691ee56dfe579950f%20%3D%20L.popup%28%7B%22maxWidth%22%3A%20%22100%25%22%7D%29%3B%0A%0A%20%20%20%20%20%20%20%20%0A%20%20%20%20%20%20%20%20%20%20%20%20var%20html_412755eb439e46fe9335b1a515988ede%20%3D%20%24%28%60%3Cdiv%20id%3D%22html_412755eb439e46fe9335b1a515988ede%22%20style%3D%22width%3A%20100.0%25%3B%20height%3A%20100.0%25%3B%22%3E%EC%84%9C%EC%9A%B8%3C/div%3E%60%29%5B0%5D%3B%0A%20%20%20%20%20%20%20%20%20%20%20%20popup_7d8fd777efeb4b9691ee56dfe579950f.setContent%28html_412755eb439e46fe9335b1a515988ede%29%3B%0A%20%20%20%20%20%20%20%20%0A%0A%20%20%20%20%20%20%20%20marker_63c926e70f294c988bace7a6b41c7545.bindPopup%28popup_7d8fd777efeb4b9691ee56dfe579950f%29%0A%20%20%20%20%20%20%20%20%3B%0A%0A%20%20%20%20%20%20%20%20%0A%20%20%20%20%0A%20%20%20%20%0A%20%20%20%20%20%20%20%20%20%20%20%20var%20marker_381a2b5415694c41b2cee4f3c59aa924%20%3D%20L.marker%28%0A%20%20%20%20%20%20%20%20%20%20%20%20%20%20%20%20%5B37.5969757637819%2C%20126.91328823546%5D%2C%0A%20%20%20%20%20%20%20%20%20%20%20%20%20%20%20%20%7B%7D%0A%20%20%20%20%20%20%20%20%20%20%20%20%29.addTo%28marker_cluster_425a27f5f2184cd289ef67f8361d798f%29%3B%0A%20%20%20%20%20%20%20%20%0A%20%20%20%20%0A%20%20%20%20%20%20%20%20var%20popup_8e28fa75e45543428f294d408ff06439%20%3D%20L.popup%28%7B%22maxWidth%22%3A%20%22100%25%22%7D%29%3B%0A%0A%20%20%20%20%20%20%20%20%0A%20%20%20%20%20%20%20%20%20%20%20%20var%20html_fda4ff300b2441b88f8aeb583e800067%20%3D%20%24%28%60%3Cdiv%20id%3D%22html_fda4ff300b2441b88f8aeb583e800067%22%20style%3D%22width%3A%20100.0%25%3B%20height%3A%20100.0%25%3B%22%3EOTR%3C/div%3E%60%29%5B0%5D%3B%0A%20%20%20%20%20%20%20%20%20%20%20%20popup_8e28fa75e45543428f294d408ff06439.setContent%28html_fda4ff300b2441b88f8aeb583e800067%29%3B%0A%20%20%20%20%20%20%20%20%0A%0A%20%20%20%20%20%20%20%20marker_381a2b5415694c41b2cee4f3c59aa924.bindPopup%28popup_8e28fa75e45543428f294d408ff06439%29%0A%20%20%20%20%20%20%20%20%3B%0A%0A%20%20%20%20%20%20%20%20%0A%20%20%20%20%0A%20%20%20%20%0A%20%20%20%20%20%20%20%20%20%20%20%20var%20marker_4fa47853c3034918b597488eaa775e97%20%3D%20L.marker%28%0A%20%20%20%20%20%20%20%20%20%20%20%20%20%20%20%20%5B37.5897962196601%2C%20127.058048369273%5D%2C%0A%20%20%20%20%20%20%20%20%20%20%20%20%20%20%20%20%7B%7D%0A%20%20%20%20%20%20%20%20%20%20%20%20%29.addTo%28marker_cluster_425a27f5f2184cd289ef67f8361d798f%29%3B%0A%20%20%20%20%20%20%20%20%0A%20%20%20%20%0A%20%20%20%20%20%20%20%20var%20popup_1f0c7968b399408a8d3363f42ed1bf1f%20%3D%20L.popup%28%7B%22maxWidth%22%3A%20%22100%25%22%7D%29%3B%0A%0A%20%20%20%20%20%20%20%20%0A%20%20%20%20%20%20%20%20%20%20%20%20var%20html_acea464ede9d4316b04c79d717cd9f28%20%3D%20%24%28%60%3Cdiv%20id%3D%22html_acea464ede9d4316b04c79d717cd9f28%22%20style%3D%22width%3A%20100.0%25%3B%20height%3A%20100.0%25%3B%22%3E%ED%9A%8C%EA%B8%B0%EC%97%AD%3C/div%3E%60%29%5B0%5D%3B%0A%20%20%20%20%20%20%20%20%20%20%20%20popup_1f0c7968b399408a8d3363f42ed1bf1f.setContent%28html_acea464ede9d4316b04c79d717cd9f28%29%3B%0A%20%20%20%20%20%20%20%20%0A%0A%20%20%20%20%20%20%20%20marker_4fa47853c3034918b597488eaa775e97.bindPopup%28popup_1f0c7968b399408a8d3363f42ed1bf1f%29%0A%20%20%20%20%20%20%20%20%3B%0A%0A%20%20%20%20%20%20%20%20%0A%20%20%20%20%0A%20%20%20%20%0A%20%20%20%20%20%20%20%20%20%20%20%20var%20marker_18964ef173344fb2bc2effbcfec400a3%20%3D%20L.marker%28%0A%20%20%20%20%20%20%20%20%20%20%20%20%20%20%20%20%5B37.5916716879211%2C%20127.053153839572%5D%2C%0A%20%20%20%20%20%20%20%20%20%20%20%20%20%20%20%20%7B%7D%0A%20%20%20%20%20%20%20%20%20%20%20%20%29.addTo%28marker_cluster_425a27f5f2184cd289ef67f8361d798f%29%3B%0A%20%20%20%20%20%20%20%20%0A%20%20%20%20%0A%20%20%20%20%20%20%20%20var%20popup_21ac1fd2a3da42aa8c0cea3da3e5ec48%20%3D%20L.popup%28%7B%22maxWidth%22%3A%20%22100%25%22%7D%29%3B%0A%0A%20%20%20%20%20%20%20%20%0A%20%20%20%20%20%20%20%20%20%20%20%20var%20html_436dfa9c722b45b4b8d06cd66579d5bd%20%3D%20%24%28%60%3Cdiv%20id%3D%22html_436dfa9c722b45b4b8d06cd66579d5bd%22%20style%3D%22width%3A%20100.0%25%3B%20height%3A%20100.0%25%3B%22%3E%ED%94%8C%EB%A0%89%EC%8A%A4%EB%B9%8C%3C/div%3E%60%29%5B0%5D%3B%0A%20%20%20%20%20%20%20%20%20%20%20%20popup_21ac1fd2a3da42aa8c0cea3da3e5ec48.setContent%28html_436dfa9c722b45b4b8d06cd66579d5bd%29%3B%0A%20%20%20%20%20%20%20%20%0A%0A%20%20%20%20%20%20%20%20marker_18964ef173344fb2bc2effbcfec400a3.bindPopup%28popup_21ac1fd2a3da42aa8c0cea3da3e5ec48%29%0A%20%20%20%20%20%20%20%20%3B%0A%0A%20%20%20%20%20%20%20%20%0A%20%20%20%20%0A%20%20%20%20%0A%20%20%20%20%20%20%20%20%20%20%20%20var%20marker_db425e58f7824b85ae26b3be3ff4e8db%20%3D%20L.marker%28%0A%20%20%20%20%20%20%20%20%20%20%20%20%20%20%20%20%5B37.5832997953294%2C%20127.05483706185%5D%2C%0A%20%20%20%20%20%20%20%20%20%20%20%20%20%20%20%20%7B%7D%0A%20%20%20%20%20%20%20%20%20%20%20%20%29.addTo%28marker_cluster_425a27f5f2184cd289ef67f8361d798f%29%3B%0A%20%20%20%20%20%20%20%20%0A%20%20%20%20%0A%20%20%20%20%20%20%20%20var%20popup_50f45d6e640343f792dd003026aae1d2%20%3D%20L.popup%28%7B%22maxWidth%22%3A%20%22100%25%22%7D%29%3B%0A%0A%20%20%20%20%20%20%20%20%0A%20%20%20%20%20%20%20%20%20%20%20%20var%20html_5961729757b74403afc7896fbbd5f408%20%3D%20%24%28%60%3Cdiv%20id%3D%22html_5961729757b74403afc7896fbbd5f408%22%20style%3D%22width%3A%20100.0%25%3B%20height%3A%20100.0%25%3B%22%3E%EC%B2%AD%EB%9F%89%EB%A6%AC%EB%B8%94%EB%A3%A8%EC%8A%A4%3C/div%3E%60%29%5B0%5D%3B%0A%20%20%20%20%20%20%20%20%20%20%20%20popup_50f45d6e640343f792dd003026aae1d2.setContent%28html_5961729757b74403afc7896fbbd5f408%29%3B%0A%20%20%20%20%20%20%20%20%0A%0A%20%20%20%20%20%20%20%20marker_db425e58f7824b85ae26b3be3ff4e8db.bindPopup%28popup_50f45d6e640343f792dd003026aae1d2%29%0A%20%20%20%20%20%20%20%20%3B%0A%0A%20%20%20%20%20%20%20%20%0A%20%20%20%20%0A%20%20%20%20%0A%20%20%20%20%20%20%20%20%20%20%20%20var%20marker_ef8e26be9e054c13b6c2defcedf6b774%20%3D%20L.marker%28%0A%20%20%20%20%20%20%20%20%20%20%20%20%20%20%20%20%5B37.5916088440804%2C%20127.050590311081%5D%2C%0A%20%20%20%20%20%20%20%20%20%20%20%20%20%20%20%20%7B%7D%0A%20%20%20%20%20%20%20%20%20%20%20%20%29.addTo%28marker_cluster_425a27f5f2184cd289ef67f8361d798f%29%3B%0A%20%20%20%20%20%20%20%20%0A%20%20%20%20%0A%20%20%20%20%20%20%20%20var%20popup_7026926f6f794ca3b3a2f9c9f77249fd%20%3D%20L.popup%28%7B%22maxWidth%22%3A%20%22100%25%22%7D%29%3B%0A%0A%20%20%20%20%20%20%20%20%0A%20%20%20%20%20%20%20%20%20%20%20%20var%20html_2d19f93d395c42e995beed190c4bf874%20%3D%20%24%28%60%3Cdiv%20id%3D%22html_2d19f93d395c42e995beed190c4bf874%22%20style%3D%22width%3A%20100.0%25%3B%20height%3A%20100.0%25%3B%22%3E%ED%81%AC%EC%B9%98%EC%B9%98%ED%82%A8%20%ED%9A%8C%EA%B8%B0%EC%A0%90%3C/div%3E%60%29%5B0%5D%3B%0A%20%20%20%20%20%20%20%20%20%20%20%20popup_7026926f6f794ca3b3a2f9c9f77249fd.setContent%28html_2d19f93d395c42e995beed190c4bf874%29%3B%0A%20%20%20%20%20%20%20%20%0A%0A%20%20%20%20%20%20%20%20marker_ef8e26be9e054c13b6c2defcedf6b774.bindPopup%28popup_7026926f6f794ca3b3a2f9c9f77249fd%29%0A%20%20%20%20%20%20%20%20%3B%0A%0A%20%20%20%20%20%20%20%20%0A%20%20%20%20%0A%20%20%20%20%0A%20%20%20%20%20%20%20%20%20%20%20%20var%20marker_d81442202f9b401eada7ddf17e9f933a%20%3D%20L.marker%28%0A%20%20%20%20%20%20%20%20%20%20%20%20%20%20%20%20%5B37.2484262760478%2C%20127.081373958658%5D%2C%0A%20%20%20%20%20%20%20%20%20%20%20%20%20%20%20%20%7B%7D%0A%20%20%20%20%20%20%20%20%20%20%20%20%29.addTo%28marker_cluster_425a27f5f2184cd289ef67f8361d798f%29%3B%0A%20%20%20%20%20%20%20%20%0A%20%20%20%20%0A%20%20%20%20%20%20%20%20var%20popup_dcde01ac25b64df7aceb9737d06b84b9%20%3D%20L.popup%28%7B%22maxWidth%22%3A%20%22100%25%22%7D%29%3B%0A%0A%20%20%20%20%20%20%20%20%0A%20%20%20%20%20%20%20%20%20%20%20%20var%20html_5a4a0636d79245e38c6d7398e9233bb1%20%3D%20%24%28%60%3Cdiv%20id%3D%22html_5a4a0636d79245e38c6d7398e9233bb1%22%20style%3D%22width%3A%20100.0%25%3B%20height%3A%20100.0%25%3B%22%3E%EA%B2%BD%ED%9D%AC%EB%8C%80%EC%95%9E%3C/div%3E%60%29%5B0%5D%3B%0A%20%20%20%20%20%20%20%20%20%20%20%20popup_dcde01ac25b64df7aceb9737d06b84b9.setContent%28html_5a4a0636d79245e38c6d7398e9233bb1%29%3B%0A%20%20%20%20%20%20%20%20%0A%0A%20%20%20%20%20%20%20%20marker_d81442202f9b401eada7ddf17e9f933a.bindPopup%28popup_dcde01ac25b64df7aceb9737d06b84b9%29%0A%20%20%20%20%20%20%20%20%3B%0A%0A%20%20%20%20%20%20%20%20%0A%20%20%20%20%0A%20%20%20%20%0A%20%20%20%20%20%20%20%20%20%20%20%20var%20marker_e8b426aa9a514531b277f4dfee20dfa6%20%3D%20L.marker%28%0A%20%20%20%20%20%20%20%20%20%20%20%20%20%20%20%20%5B37.26326424861792%2C%20127.0495051771378%5D%2C%0A%20%20%20%20%20%20%20%20%20%20%20%20%20%20%20%20%7B%7D%0A%20%20%20%20%20%20%20%20%20%20%20%20%29.addTo%28marker_cluster_425a27f5f2184cd289ef67f8361d798f%29%3B%0A%20%20%20%20%20%20%20%20%0A%20%20%20%20%0A%20%20%20%20%20%20%20%20var%20popup_a627a3439e604b93a891218021541405%20%3D%20L.popup%28%7B%22maxWidth%22%3A%20%22100%25%22%7D%29%3B%0A%0A%20%20%20%20%20%20%20%20%0A%20%20%20%20%20%20%20%20%20%20%20%20var%20html_87cf4e18b4a8454886f941a94e24ae7f%20%3D%20%24%28%60%3Cdiv%20id%3D%22html_87cf4e18b4a8454886f941a94e24ae7f%22%20style%3D%22width%3A%20100.0%25%3B%20height%3A%20100.0%25%3B%22%3E%ED%8C%94%EC%B2%AD%EC%8B%9D%EB%8B%B9%EC%98%81%ED%86%B5%EC%A0%90%3C/div%3E%60%29%5B0%5D%3B%0A%20%20%20%20%20%20%20%20%20%20%20%20popup_a627a3439e604b93a891218021541405.setContent%28html_87cf4e18b4a8454886f941a94e24ae7f%29%3B%0A%20%20%20%20%20%20%20%20%0A%0A%20%20%20%20%20%20%20%20marker_e8b426aa9a514531b277f4dfee20dfa6.bindPopup%28popup_a627a3439e604b93a891218021541405%29%0A%20%20%20%20%20%20%20%20%3B%0A%0A%20%20%20%20%20%20%20%20%0A%20%20%20%20%0A%20%20%20%20%0A%20%20%20%20%20%20%20%20%20%20%20%20var%20marker_7154fc8d12c04700a5f03769ca6732bf%20%3D%20L.marker%28%0A%20%20%20%20%20%20%20%20%20%20%20%20%20%20%20%20%5B37.59396455518687%2C%20127.0448510609214%5D%2C%0A%20%20%20%20%20%20%20%20%20%20%20%20%20%20%20%20%7B%7D%0A%20%20%20%20%20%20%20%20%20%20%20%20%29.addTo%28marker_cluster_425a27f5f2184cd289ef67f8361d798f%29%3B%0A%20%20%20%20%20%20%20%20%0A%20%20%20%20%0A%20%20%20%20%20%20%20%20var%20popup_83a22692d15b4b78854e7664acca65d6%20%3D%20L.popup%28%7B%22maxWidth%22%3A%20%22100%25%22%7D%29%3B%0A%0A%20%20%20%20%20%20%20%20%0A%20%20%20%20%20%20%20%20%20%20%20%20var%20html_0d0b6af9db3645f2887b9a913405ae7c%20%3D%20%24%28%60%3Cdiv%20id%3D%22html_0d0b6af9db3645f2887b9a913405ae7c%22%20style%3D%22width%3A%20100.0%25%3B%20height%3A%20100.0%25%3B%22%3E%EC%B2%AD%EB%9F%89%EB%A6%AC%EB%8F%99%3C/div%3E%60%29%5B0%5D%3B%0A%20%20%20%20%20%20%20%20%20%20%20%20popup_83a22692d15b4b78854e7664acca65d6.setContent%28html_0d0b6af9db3645f2887b9a913405ae7c%29%3B%0A%20%20%20%20%20%20%20%20%0A%0A%20%20%20%20%20%20%20%20marker_7154fc8d12c04700a5f03769ca6732bf.bindPopup%28popup_83a22692d15b4b78854e7664acca65d6%29%0A%20%20%20%20%20%20%20%20%3B%0A%0A%20%20%20%20%20%20%20%20%0A%20%20%20%20%0A%20%20%20%20%0A%20%20%20%20%20%20%20%20%20%20%20%20var%20marker_db396dcf959449e285475cd66035967b%20%3D%20L.marker%28%0A%20%20%20%20%20%20%20%20%20%20%20%20%20%20%20%20%5B35.58553188500169%2C%20129.4567256949327%5D%2C%0A%20%20%20%20%20%20%20%20%20%20%20%20%20%20%20%20%7B%7D%0A%20%20%20%20%20%20%20%20%20%20%20%20%29.addTo%28marker_cluster_425a27f5f2184cd289ef67f8361d798f%29%3B%0A%20%20%20%20%20%20%20%20%0A%20%20%20%20%0A%20%20%20%20%20%20%20%20var%20popup_23155af82ff1453e8d2e195313d512aa%20%3D%20L.popup%28%7B%22maxWidth%22%3A%20%22100%25%22%7D%29%3B%0A%0A%20%20%20%20%20%20%20%20%0A%20%20%20%20%20%20%20%20%20%20%20%20var%20html_a0479c0253e24098bda0eae2da02efbc%20%3D%20%24%28%60%3Cdiv%20id%3D%22html_a0479c0253e24098bda0eae2da02efbc%22%20style%3D%22width%3A%20100.0%25%3B%20height%3A%20100.0%25%3B%22%3EOnd.%3C/div%3E%60%29%5B0%5D%3B%0A%20%20%20%20%20%20%20%20%20%20%20%20popup_23155af82ff1453e8d2e195313d512aa.setContent%28html_a0479c0253e24098bda0eae2da02efbc%29%3B%0A%20%20%20%20%20%20%20%20%0A%0A%20%20%20%20%20%20%20%20marker_db396dcf959449e285475cd66035967b.bindPopup%28popup_23155af82ff1453e8d2e195313d512aa%29%0A%20%20%20%20%20%20%20%20%3B%0A%0A%20%20%20%20%20%20%20%20%0A%20%20%20%20%0A%20%20%20%20%0A%20%20%20%20%20%20%20%20%20%20%20%20var%20marker_b94ff4edc46b4505aad430540957e9c0%20%3D%20L.marker%28%0A%20%20%20%20%20%20%20%20%20%20%20%20%20%20%20%20%5B37.5929319456092%2C%20127.05748918359%5D%2C%0A%20%20%20%20%20%20%20%20%20%20%20%20%20%20%20%20%7B%7D%0A%20%20%20%20%20%20%20%20%20%20%20%20%29.addTo%28marker_cluster_425a27f5f2184cd289ef67f8361d798f%29%3B%0A%20%20%20%20%20%20%20%20%0A%20%20%20%20%0A%20%20%20%20%20%20%20%20var%20popup_dde324cc2b7042f68e853f5c1e13d3d9%20%3D%20L.popup%28%7B%22maxWidth%22%3A%20%22100%25%22%7D%29%3B%0A%0A%20%20%20%20%20%20%20%20%0A%20%20%20%20%20%20%20%20%20%20%20%20var%20html_24f7918427fc4d02bd0d18ed2322d6ec%20%3D%20%24%28%60%3Cdiv%20id%3D%22html_24f7918427fc4d02bd0d18ed2322d6ec%22%20style%3D%22width%3A%20100.0%25%3B%20height%3A%20100.0%25%3B%22%3E%EC%B9%B4%ED%8E%98%EC%96%91%EA%B7%80%EB%B9%84%3C/div%3E%60%29%5B0%5D%3B%0A%20%20%20%20%20%20%20%20%20%20%20%20popup_dde324cc2b7042f68e853f5c1e13d3d9.setContent%28html_24f7918427fc4d02bd0d18ed2322d6ec%29%3B%0A%20%20%20%20%20%20%20%20%0A%0A%20%20%20%20%20%20%20%20marker_b94ff4edc46b4505aad430540957e9c0.bindPopup%28popup_dde324cc2b7042f68e853f5c1e13d3d9%29%0A%20%20%20%20%20%20%20%20%3B%0A%0A%20%20%20%20%20%20%20%20%0A%20%20%20%20%0A%20%20%20%20%0A%20%20%20%20%20%20%20%20%20%20%20%20var%20marker_489a740384ec49d58ea355b121ae1bd8%20%3D%20L.marker%28%0A%20%20%20%20%20%20%20%20%20%20%20%20%20%20%20%20%5B37.59276375465423%2C%20127.0509647513194%5D%2C%0A%20%20%20%20%20%20%20%20%20%20%20%20%20%20%20%20%7B%7D%0A%20%20%20%20%20%20%20%20%20%20%20%20%29.addTo%28marker_cluster_425a27f5f2184cd289ef67f8361d798f%29%3B%0A%20%20%20%20%20%20%20%20%0A%20%20%20%20%0A%20%20%20%20%20%20%20%20var%20popup_7530b3bcea93436aaa76021dce0f27d9%20%3D%20L.popup%28%7B%22maxWidth%22%3A%20%22100%25%22%7D%29%3B%0A%0A%20%20%20%20%20%20%20%20%0A%20%20%20%20%20%20%20%20%20%20%20%20var%20html_bb81876c584d44bd972964f669cd67b8%20%3D%20%24%28%60%3Cdiv%20id%3D%22html_bb81876c584d44bd972964f669cd67b8%22%20style%3D%22width%3A%20100.0%25%3B%20height%3A%20100.0%25%3B%22%3E%ED%97%A4%EC%9D%B4%EC%A6%90%EB%84%9B%EB%B2%84%ED%84%B0%3C/div%3E%60%29%5B0%5D%3B%0A%20%20%20%20%20%20%20%20%20%20%20%20popup_7530b3bcea93436aaa76021dce0f27d9.setContent%28html_bb81876c584d44bd972964f669cd67b8%29%3B%0A%20%20%20%20%20%20%20%20%0A%0A%20%20%20%20%20%20%20%20marker_489a740384ec49d58ea355b121ae1bd8.bindPopup%28popup_7530b3bcea93436aaa76021dce0f27d9%29%0A%20%20%20%20%20%20%20%20%3B%0A%0A%20%20%20%20%20%20%20%20%0A%20%20%20%20%0A%20%20%20%20%0A%20%20%20%20%20%20%20%20%20%20%20%20var%20marker_5f684bdc7b504fd1bd604214fa3dbaf5%20%3D%20L.marker%28%0A%20%20%20%20%20%20%20%20%20%20%20%20%20%20%20%20%5B37.73776857932088%2C%20127.0486361562572%5D%2C%0A%20%20%20%20%20%20%20%20%20%20%20%20%20%20%20%20%7B%7D%0A%20%20%20%20%20%20%20%20%20%20%20%20%29.addTo%28marker_cluster_425a27f5f2184cd289ef67f8361d798f%29%3B%0A%20%20%20%20%20%20%20%20%0A%20%20%20%20%0A%20%20%20%20%20%20%20%20var%20popup_92dd092f053a4fcbaee1fd6502672901%20%3D%20L.popup%28%7B%22maxWidth%22%3A%20%22100%25%22%7D%29%3B%0A%0A%20%20%20%20%20%20%20%20%0A%20%20%20%20%20%20%20%20%20%20%20%20var%20html_48cd8aafb02f4d41941d317855a83564%20%3D%20%24%28%60%3Cdiv%20id%3D%22html_48cd8aafb02f4d41941d317855a83564%22%20style%3D%22width%3A%20100.0%25%3B%20height%3A%20100.0%25%3B%22%3E%EA%B5%BF%EA%B0%93%3C/div%3E%60%29%5B0%5D%3B%0A%20%20%20%20%20%20%20%20%20%20%20%20popup_92dd092f053a4fcbaee1fd6502672901.setContent%28html_48cd8aafb02f4d41941d317855a83564%29%3B%0A%20%20%20%20%20%20%20%20%0A%0A%20%20%20%20%20%20%20%20marker_5f684bdc7b504fd1bd604214fa3dbaf5.bindPopup%28popup_92dd092f053a4fcbaee1fd6502672901%29%0A%20%20%20%20%20%20%20%20%3B%0A%0A%20%20%20%20%20%20%20%20%0A%20%20%20%20%0A%20%20%20%20%0A%20%20%20%20%20%20%20%20%20%20%20%20var%20marker_46842d91742e42e2ad6beaa77c3896ca%20%3D%20L.marker%28%0A%20%20%20%20%20%20%20%20%20%20%20%20%20%20%20%20%5B37.2523792946054%2C%20127.078499381219%5D%2C%0A%20%20%20%20%20%20%20%20%20%20%20%20%20%20%20%20%7B%7D%0A%20%20%20%20%20%20%20%20%20%20%20%20%29.addTo%28marker_cluster_425a27f5f2184cd289ef67f8361d798f%29%3B%0A%20%20%20%20%20%20%20%20%0A%20%20%20%20%0A%20%20%20%20%20%20%20%20var%20popup_33e77949e911406a91c066ecafed3c8b%20%3D%20L.popup%28%7B%22maxWidth%22%3A%20%22100%25%22%7D%29%3B%0A%0A%20%20%20%20%20%20%20%20%0A%20%20%20%20%20%20%20%20%20%20%20%20var%20html_7a896e3b05284449975492f8c1aa3bdc%20%3D%20%24%28%60%3Cdiv%20id%3D%22html_7a896e3b05284449975492f8c1aa3bdc%22%20style%3D%22width%3A%20100.0%25%3B%20height%3A%20100.0%25%3B%22%3E%EC%B2%AD%ED%99%94%EC%9B%94%3C/div%3E%60%29%5B0%5D%3B%0A%20%20%20%20%20%20%20%20%20%20%20%20popup_33e77949e911406a91c066ecafed3c8b.setContent%28html_7a896e3b05284449975492f8c1aa3bdc%29%3B%0A%20%20%20%20%20%20%20%20%0A%0A%20%20%20%20%20%20%20%20marker_46842d91742e42e2ad6beaa77c3896ca.bindPopup%28popup_33e77949e911406a91c066ecafed3c8b%29%0A%20%20%20%20%20%20%20%20%3B%0A%0A%20%20%20%20%20%20%20%20%0A%20%20%20%20%0A%20%20%20%20%0A%20%20%20%20%20%20%20%20%20%20%20%20var%20marker_5996f2ccfd3541d4a9b8bb5e2081e1d4%20%3D%20L.marker%28%0A%20%20%20%20%20%20%20%20%20%20%20%20%20%20%20%20%5B37.2905005608387%2C%20127.050284249753%5D%2C%0A%20%20%20%20%20%20%20%20%20%20%20%20%20%20%20%20%7B%7D%0A%20%20%20%20%20%20%20%20%20%20%20%20%29.addTo%28marker_cluster_425a27f5f2184cd289ef67f8361d798f%29%3B%0A%20%20%20%20%20%20%20%20%0A%20%20%20%20%0A%20%20%20%20%20%20%20%20var%20popup_6d3cf76ee84446ce9483d3894ba40556%20%3D%20L.popup%28%7B%22maxWidth%22%3A%20%22100%25%22%7D%29%3B%0A%0A%20%20%20%20%20%20%20%20%0A%20%20%20%20%20%20%20%20%20%20%20%20var%20html_1ff127360be04adfb37d4b9d3194ced2%20%3D%20%24%28%60%3Cdiv%20id%3D%22html_1ff127360be04adfb37d4b9d3194ced2%22%20style%3D%22width%3A%20100.0%25%3B%20height%3A%20100.0%25%3B%22%3E%EA%B4%91%EA%B5%90%20%EB%B0%94%EB%82%98%EB%82%98%ED%85%8C%EC%9D%B4%EB%B8%94%3C/div%3E%60%29%5B0%5D%3B%0A%20%20%20%20%20%20%20%20%20%20%20%20popup_6d3cf76ee84446ce9483d3894ba40556.setContent%28html_1ff127360be04adfb37d4b9d3194ced2%29%3B%0A%20%20%20%20%20%20%20%20%0A%0A%20%20%20%20%20%20%20%20marker_5996f2ccfd3541d4a9b8bb5e2081e1d4.bindPopup%28popup_6d3cf76ee84446ce9483d3894ba40556%29%0A%20%20%20%20%20%20%20%20%3B%0A%0A%20%20%20%20%20%20%20%20%0A%20%20%20%20%0A%20%20%20%20%0A%20%20%20%20%20%20%20%20%20%20%20%20var%20marker_79dde877338d4d8785473916b697d4bf%20%3D%20L.marker%28%0A%20%20%20%20%20%20%20%20%20%20%20%20%20%20%20%20%5B35.5547049486783%2C%20129.321145110852%5D%2C%0A%20%20%20%20%20%20%20%20%20%20%20%20%20%20%20%20%7B%7D%0A%20%20%20%20%20%20%20%20%20%20%20%20%29.addTo%28marker_cluster_425a27f5f2184cd289ef67f8361d798f%29%3B%0A%20%20%20%20%20%20%20%20%0A%20%20%20%20%0A%20%20%20%20%20%20%20%20var%20popup_58610691fc164131ad3456db5f68670d%20%3D%20L.popup%28%7B%22maxWidth%22%3A%20%22100%25%22%7D%29%3B%0A%0A%20%20%20%20%20%20%20%20%0A%20%20%20%20%20%20%20%20%20%20%20%20var%20html_af68824fa12c49efa3270756ac69ae75%20%3D%20%24%28%60%3Cdiv%20id%3D%22html_af68824fa12c49efa3270756ac69ae75%22%20style%3D%22width%3A%20100.0%25%3B%20height%3A%20100.0%25%3B%22%3E%EC%9A%B8%EC%82%B0%EC%84%B1%EB%82%A8%EB%8F%99%3C/div%3E%60%29%5B0%5D%3B%0A%20%20%20%20%20%20%20%20%20%20%20%20popup_58610691fc164131ad3456db5f68670d.setContent%28html_af68824fa12c49efa3270756ac69ae75%29%3B%0A%20%20%20%20%20%20%20%20%0A%0A%20%20%20%20%20%20%20%20marker_79dde877338d4d8785473916b697d4bf.bindPopup%28popup_58610691fc164131ad3456db5f68670d%29%0A%20%20%20%20%20%20%20%20%3B%0A%0A%20%20%20%20%20%20%20%20%0A%20%20%20%20%0A%20%20%20%20%0A%20%20%20%20%20%20%20%20%20%20%20%20var%20marker_3ec789344e5f4875a3ef94cf3a8ef3d8%20%3D%20L.marker%28%0A%20%20%20%20%20%20%20%20%20%20%20%20%20%20%20%20%5B37.2869569586225%2C%20127.011795743342%5D%2C%0A%20%20%20%20%20%20%20%20%20%20%20%20%20%20%20%20%7B%7D%0A%20%20%20%20%20%20%20%20%20%20%20%20%29.addTo%28marker_cluster_425a27f5f2184cd289ef67f8361d798f%29%3B%0A%20%20%20%20%20%20%20%20%0A%20%20%20%20%0A%20%20%20%20%20%20%20%20var%20popup_3d90b572637b4e7faabb83a7ba250e17%20%3D%20L.popup%28%7B%22maxWidth%22%3A%20%22100%25%22%7D%29%3B%0A%0A%20%20%20%20%20%20%20%20%0A%20%20%20%20%20%20%20%20%20%20%20%20var%20html_8b784bd710db493388f55a12f6861cac%20%3D%20%24%28%60%3Cdiv%20id%3D%22html_8b784bd710db493388f55a12f6861cac%22%20style%3D%22width%3A%20100.0%25%3B%20height%3A%20100.0%25%3B%22%3E%EA%B2%BD%EA%B8%B0%EB%8F%84%20%EC%88%98%EC%9B%90%EC%8B%9C%3C/div%3E%60%29%5B0%5D%3B%0A%20%20%20%20%20%20%20%20%20%20%20%20popup_3d90b572637b4e7faabb83a7ba250e17.setContent%28html_8b784bd710db493388f55a12f6861cac%29%3B%0A%20%20%20%20%20%20%20%20%0A%0A%20%20%20%20%20%20%20%20marker_3ec789344e5f4875a3ef94cf3a8ef3d8.bindPopup%28popup_3d90b572637b4e7faabb83a7ba250e17%29%0A%20%20%20%20%20%20%20%20%3B%0A%0A%20%20%20%20%20%20%20%20%0A%20%20%20%20%0A%20%20%20%20%0A%20%20%20%20%20%20%20%20%20%20%20%20var%20marker_058f94c3510a4873b2344e154a820451%20%3D%20L.marker%28%0A%20%20%20%20%20%20%20%20%20%20%20%20%20%20%20%20%5B37.2924457449946%2C%20127.066972205202%5D%2C%0A%20%20%20%20%20%20%20%20%20%20%20%20%20%20%20%20%7B%7D%0A%20%20%20%20%20%20%20%20%20%20%20%20%29.addTo%28marker_cluster_425a27f5f2184cd289ef67f8361d798f%29%3B%0A%20%20%20%20%20%20%20%20%0A%20%20%20%20%0A%20%20%20%20%20%20%20%20var%20popup_db6f474c9ce449168e03feb602c00c83%20%3D%20L.popup%28%7B%22maxWidth%22%3A%20%22100%25%22%7D%29%3B%0A%0A%20%20%20%20%20%20%20%20%0A%20%20%20%20%20%20%20%20%20%20%20%20var%20html_ae8a6c6909364d2ba21b0c9bd91cb40e%20%3D%20%24%28%60%3Cdiv%20id%3D%22html_ae8a6c6909364d2ba21b0c9bd91cb40e%22%20style%3D%22width%3A%20100.0%25%3B%20height%3A%20100.0%25%3B%22%3E%EB%B2%95%EC%A1%B0%ED%83%80%EC%9A%B4%EC%82%AC%EA%B1%B0%EB%A6%AC%3C/div%3E%60%29%5B0%5D%3B%0A%20%20%20%20%20%20%20%20%20%20%20%20popup_db6f474c9ce449168e03feb602c00c83.setContent%28html_ae8a6c6909364d2ba21b0c9bd91cb40e%29%3B%0A%20%20%20%20%20%20%20%20%0A%0A%20%20%20%20%20%20%20%20marker_058f94c3510a4873b2344e154a820451.bindPopup%28popup_db6f474c9ce449168e03feb602c00c83%29%0A%20%20%20%20%20%20%20%20%3B%0A%0A%20%20%20%20%20%20%20%20%0A%20%20%20%20%0A%20%20%20%20%0A%20%20%20%20%20%20%20%20%20%20%20%20var%20marker_004837efebe94697aad475663ab0f05e%20%3D%20L.marker%28%0A%20%20%20%20%20%20%20%20%20%20%20%20%20%20%20%20%5B37.5915024308825%2C%20127.056746441103%5D%2C%0A%20%20%20%20%20%20%20%20%20%20%20%20%20%20%20%20%7B%7D%0A%20%20%20%20%20%20%20%20%20%20%20%20%29.addTo%28marker_cluster_425a27f5f2184cd289ef67f8361d798f%29%3B%0A%20%20%20%20%20%20%20%20%0A%20%20%20%20%0A%20%20%20%20%20%20%20%20var%20popup_fa5cf67a927e4e439929cd6d2cda9a49%20%3D%20L.popup%28%7B%22maxWidth%22%3A%20%22100%25%22%7D%29%3B%0A%0A%20%20%20%20%20%20%20%20%0A%20%20%20%20%20%20%20%20%20%20%20%20var%20html_d5d73eceae83403c947cceac634ee97c%20%3D%20%24%28%60%3Cdiv%20id%3D%22html_d5d73eceae83403c947cceac634ee97c%22%20style%3D%22width%3A%20100.0%25%3B%20height%3A%20100.0%25%3B%22%3E%ED%9E%88%EB%85%B8%ED%95%98%EB%A3%A8%3C/div%3E%60%29%5B0%5D%3B%0A%20%20%20%20%20%20%20%20%20%20%20%20popup_fa5cf67a927e4e439929cd6d2cda9a49.setContent%28html_d5d73eceae83403c947cceac634ee97c%29%3B%0A%20%20%20%20%20%20%20%20%0A%0A%20%20%20%20%20%20%20%20marker_004837efebe94697aad475663ab0f05e.bindPopup%28popup_fa5cf67a927e4e439929cd6d2cda9a49%29%0A%20%20%20%20%20%20%20%20%3B%0A%0A%20%20%20%20%20%20%20%20%0A%20%20%20%20%0A%20%20%20%20%0A%20%20%20%20%20%20%20%20%20%20%20%20var%20layer_control_3c6203653e7b4a98a75897d504e8d024%20%3D%20%7B%0A%20%20%20%20%20%20%20%20%20%20%20%20%20%20%20%20base_layers%20%3A%20%7B%0A%20%20%20%20%20%20%20%20%20%20%20%20%20%20%20%20%20%20%20%20%22openstreetmap%22%20%3A%20tile_layer_41997afd29c24e9d88e6ca01fe48affd%2C%0A%20%20%20%20%20%20%20%20%20%20%20%20%20%20%20%20%7D%2C%0A%20%20%20%20%20%20%20%20%20%20%20%20%20%20%20%20overlays%20%3A%20%20%7B%0A%20%20%20%20%20%20%20%20%20%20%20%20%20%20%20%20%20%20%20%20%22Jeju%22%20%3A%20marker_cluster_425a27f5f2184cd289ef67f8361d798f%2C%0A%20%20%20%20%20%20%20%20%20%20%20%20%20%20%20%20%7D%2C%0A%20%20%20%20%20%20%20%20%20%20%20%20%7D%3B%0A%20%20%20%20%20%20%20%20%20%20%20%20L.control.layers%28%0A%20%20%20%20%20%20%20%20%20%20%20%20%20%20%20%20layer_control_3c6203653e7b4a98a75897d504e8d024.base_layers%2C%0A%20%20%20%20%20%20%20%20%20%20%20%20%20%20%20%20layer_control_3c6203653e7b4a98a75897d504e8d024.overlays%2C%0A%20%20%20%20%20%20%20%20%20%20%20%20%20%20%20%20%7B%22autoZIndex%22%3A%20true%2C%20%22collapsed%22%3A%20true%2C%20%22position%22%3A%20%22topright%22%7D%0A%20%20%20%20%20%20%20%20%20%20%20%20%29.addTo%28map_beb3cd3c77774501a6aaa8e69af741f7%29%3B%0A%20%20%20%20%20%20%20%20%0A%3C/script%3E onload=\"this.contentDocument.open();this.contentDocument.write(    decodeURIComponent(this.getAttribute('data-html')));this.contentDocument.close();\" allowfullscreen webkitallowfullscreen mozallowfullscreen></iframe></div></div>"
      ],
      "text/plain": [
       "<folium.folium.Map at 0x198b40841f0>"
      ]
     },
     "execution_count": 125,
     "metadata": {},
     "output_type": "execute_result"
    }
   ],
   "source": [
    "icon_create_function = \"\"\"\\\n",
    "function(cluster) {\n",
    "    return L.divIcon({\n",
    "    html : '<b>' + cluster.getChildCount() + '</b>',\n",
    "    className : 'marker-cluster marker-cluster-large',\n",
    "    iconsize : new L.Point(30,30)\n",
    "    }); \n",
    "}\"\"\"\n",
    "\n",
    "Khu_univ =[37.596801, 127.052854] # 6자리만 위도 , 경도\n",
    "map_khu2 = folium.Map(location = Khu_univ, zoom_start = 13) # 지도데이터\n",
    "\n",
    "marker_cluster = MarkerCluster(\n",
    "    locations = locations , popups = names,\n",
    "    name = 'Jeju',\n",
    "    overlay = True,\n",
    "    control = True,\n",
    "    icon_create_function = icon_create_function)\n",
    "\n",
    "marker_cluster.add_to(map_khu2)\n",
    "folium.LayerControl().add_to(map_khu2)\n",
    "\n",
    "map_khu2"
   ]
  },
  {
   "cell_type": "code",
   "execution_count": null,
   "id": "980b5f70",
   "metadata": {},
   "outputs": [],
   "source": []
  }
 ],
 "metadata": {
  "kernelspec": {
   "display_name": "Python 3 (ipykernel)",
   "language": "python",
   "name": "python3"
  },
  "language_info": {
   "codemirror_mode": {
    "name": "ipython",
    "version": 3
   },
   "file_extension": ".py",
   "mimetype": "text/x-python",
   "name": "python",
   "nbconvert_exporter": "python",
   "pygments_lexer": "ipython3",
   "version": "3.9.7"
  }
 },
 "nbformat": 4,
 "nbformat_minor": 5
}
