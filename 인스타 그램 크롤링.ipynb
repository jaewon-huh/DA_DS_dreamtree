{
 "cells": [
  {
   "cell_type": "markdown",
   "id": "03b74d3f",
   "metadata": {},
   "source": [
    "## 인스타 그램 크롤링 : 제일 뜨는 제주도 맛집"
   ]
  },
  {
   "cell_type": "markdown",
   "id": "cafc8bd4",
   "metadata": {},
   "source": [
    "* 참조 교재와 깃허브 :https://github.com/Play-with-data/datasalon/blob/master/02_%EA%B0%9C%EC%A0%95%ED%8C%90/5_Jeju_Hotplace/5_1_Instagram_Crawling.ipynb"
   ]
  },
  {
   "cell_type": "markdown",
   "id": "7e8028f6",
   "metadata": {},
   "source": [
    "* 필요한 설정 셋팅"
   ]
  },
  {
   "cell_type": "code",
   "execution_count": 2,
   "id": "c578310a",
   "metadata": {},
   "outputs": [],
   "source": [
    "import pandas as pd \n",
    "import matplotlib.pyplot as plt\n",
    "import seaborn as sns"
   ]
  },
  {
   "cell_type": "code",
   "execution_count": 3,
   "id": "55f15f3c",
   "metadata": {
    "scrolled": true
   },
   "outputs": [
    {
     "name": "stderr",
     "output_type": "stream",
     "text": [
      "C:\\Users\\SAMSUNG\\AppData\\Local\\Temp/ipykernel_14792/69865118.py:4: DeprecationWarning: executable_path has been deprecated, please pass in a Service object\n",
      "  driver = webdriver.Chrome('c:/Users/SAMSUNG/chromedriver_win32/chromedriver.exe')\n"
     ]
    }
   ],
   "source": [
    "# 예제 5-1 chromedriver 열기\n",
    "from selenium import webdriver\n",
    "\n",
    "driver = webdriver.Chrome('c:/Users/SAMSUNG/chromedriver_win32/chromedriver.exe') "
   ]
  },
  {
   "cell_type": "markdown",
   "id": "cd4e285c",
   "metadata": {},
   "source": [
    ": driver 창이 검색 및 크롤링을 수행하는 창"
   ]
  },
  {
   "cell_type": "code",
   "execution_count": 14,
   "id": "f7a8d586",
   "metadata": {},
   "outputs": [],
   "source": [
    "# 예제 5-2 인스타그램 접속하기\n",
    "import time\n",
    "\n",
    "# 인스타그램 접속하기\n",
    "driver.get('https://www.instargram.com')\n",
    "time.sleep(2)"
   ]
  },
  {
   "cell_type": "markdown",
   "id": "c157110b",
   "metadata": {},
   "source": [
    "* 이후 크롬 드라이버 창에서 로그인 수행"
   ]
  },
  {
   "cell_type": "markdown",
   "id": "55e552c5",
   "metadata": {},
   "source": [
    "### 인스타 그램 검색 수행 "
   ]
  },
  {
   "cell_type": "code",
   "execution_count": 15,
   "id": "fd229b05",
   "metadata": {},
   "outputs": [],
   "source": [
    "# 예제 5-4 검색결과 URL 만드는 함수\n",
    "def insta_searching(word):\n",
    "    \n",
    "    url = 'https://www.instagram.com/explore/tags/' + word # 인스타 검색시 주소 형식\n",
    "    return url    "
   ]
  },
  {
   "cell_type": "code",
   "execution_count": 19,
   "id": "a40301bf",
   "metadata": {},
   "outputs": [],
   "source": [
    "word = '제주도맛집'\n",
    "url = insta_searching(word)\n",
    "driver.get(url)"
   ]
  },
  {
   "cell_type": "code",
   "execution_count": 22,
   "id": "225c4eae",
   "metadata": {},
   "outputs": [
    {
     "data": {
      "text/plain": [
       "'<html lang=\"ko\" class=\"js logged-in client-root js-focus-visible sDN5V\" style=\"--desktop-nav-height:60px; --post-element-padding:16px;\"><head>\\n        <meta charset=\"utf-8\">\\n        <meta http-equiv=\"X-UA-Compatible\" content=\"IE=edge\">\\n\\n        <title>#제주도맛집 해시태그 • Instagram 사진 및 동영상</title>\\n\\n        \\n        <meta name=\"robots\" content=\"noimageindex, noarchive\">\\n        <meta name=\"apple-mobile-web-app-status-bar-style\" content=\"default\">\\n        <meta name=\"mobile-web-app-capable\" content=\"yes\">\\n        <meta name=\"theme-color\" content=\"#ffffff\">\\n        <meta id=\"viewport\" name=\"viewport\" content=\"width=device-width, initial-scale=1, minimum-scale=1, maximum-scale=1, viewport-fit=cover\">\\n        <link rel=\"manifest\" href=\"/data/manifest.json\">\\n\\n        <link rel=\"preload\" href=\"/static/bundles/es6/ConsumerUICommons.css/3cfda9c2adcb.css\" as=\"style\" type=\"text/css\" crossorigin=\"anonymous\">\\n<link rel=\"preload\" href=\"/static/bundles/es6/Consumer.css/6978b906a143.css\" as=\"style\" type=\"te'"
      ]
     },
     "execution_count": 22,
     "metadata": {},
     "output_type": "execute_result"
    }
   ],
   "source": [
    "driver.page_source[:1000]"
   ]
  },
  {
   "cell_type": "markdown",
   "id": "40b52e1d",
   "metadata": {},
   "source": [
    "* 첫번째 게시물 열기 "
   ]
  },
  {
   "cell_type": "markdown",
   "id": "09d16883",
   "metadata": {},
   "source": [
    ": 크롬 확인 결과 게시물 페이지 소스 < div calss = \"_9AhH0\">< /div >"
   ]
  },
  {
   "cell_type": "code",
   "execution_count": 29,
   "id": "4903b9ec",
   "metadata": {},
   "outputs": [],
   "source": [
    "# 함수로 구현 \n",
    "def select_first(driver) :\n",
    "    first = driver.find_element_by_css_selector('div._9AhH0')\n",
    "    first.click()\n",
    "    time.sleep(3)  # 3초간 대기 "
   ]
  },
  {
   "cell_type": "code",
   "execution_count": 75,
   "id": "6ae1c3fd",
   "metadata": {},
   "outputs": [
    {
     "name": "stderr",
     "output_type": "stream",
     "text": [
      "C:\\Users\\SAMSUNG\\AppData\\Local\\Temp/ipykernel_7100/2547080320.py:3: DeprecationWarning: find_element_by_* commands are deprecated. Please use find_element() instead\n",
      "  first = driver.find_element_by_css_selector('div._9AhH0')\n"
     ]
    }
   ],
   "source": [
    "select_first(driver)"
   ]
  },
  {
   "cell_type": "markdown",
   "id": "e9139579",
   "metadata": {},
   "source": [
    "* 게시물 정보 가져오기 \n",
    ": 본문 내용 :( < div class = \"MOdxS\" > span)[0]     \n",
    "\n",
    "  해시태그 :( 본문 내에서 # )    \n",
    "  \n",
    "  작성일 :( < time class=\"_1o9PC Nzb55\" datetime=\"2022-02-18T03:08:24.000Z\" title=\"2022년 2월 18일\">4시간 전 < /time >    \n",
    "  \n",
    "  위치정보 :( < div class=\"M30cS\" >)   \n",
    "  \n",
    "  좋아요 수 :( < div class=\"_7UhW9   xLCgt        qyrsm KV-D4              fDxYl    T0kll \">좋아요 < span >1,409< /span>개< /div> )"
   ]
  },
  {
   "cell_type": "markdown",
   "id": "1489a2a1",
   "metadata": {},
   "source": [
    ": 본문내용 div와 좋아요 div 내가한것이 맞음( 변경되었음)"
   ]
  },
  {
   "cell_type": "code",
   "execution_count": 4,
   "id": "96eb4107",
   "metadata": {},
   "outputs": [],
   "source": [
    "from bs4 import BeautifulSoup\n",
    "import unicodedata"
   ]
  },
  {
   "cell_type": "code",
   "execution_count": 54,
   "id": "f47d960b",
   "metadata": {},
   "outputs": [],
   "source": [
    "# 게시물 정보를 가져오는 함수 \n",
    "import re  # re : 정규표현식\n",
    "\n",
    "def get_content(driver) : \n",
    "    # 현재 페이지 html 소스 가져오기 \n",
    "    html = driver.page_source \n",
    "    soup = BeautifulSoup(html, 'html.parser') # html 형식\n",
    "    \n",
    "    # 본문 내용 가져오기 \n",
    "    try:\n",
    "        content = soup.select('div.MOdxS > span')[0].text\n",
    "        content = unicodedata.normalize('NFC', content) \n",
    "    except:\n",
    "        content = ' '\n",
    "        \n",
    "    # 본문 내 해시태그 \n",
    "    tags = re.findall(r'#[^\\s#,\\\\]+', content)\n",
    "    \n",
    "    # 작성일자 \n",
    "    date = soup.select('time._1o9PC.Nzb55')[0]['datetime'][:10] #년-월-일\n",
    "    \n",
    "    # 좋아요 수 \n",
    "    try : \n",
    "        like = soup.select('div._7UhW9.xLCgt.qyrsm.KV-D4.fDxYl.T0kll >span')[0].text\n",
    "    except :\n",
    "        like = 0\n",
    "    \n",
    "    # 위치정보 \n",
    "    try : \n",
    "        place = soup.select('div.M30cS')[0].text\n",
    "    except :\n",
    "        place = ''\n",
    "\n",
    "    # 수집한 정보 저장\n",
    "    data = [content, date, like, place , tags]\n",
    "    return data\n",
    "        "
   ]
  },
  {
   "cell_type": "code",
   "execution_count": 55,
   "id": "36f44c92",
   "metadata": {},
   "outputs": [
    {
     "data": {
      "text/plain": [
       "['📍JEJU제주도로 여행가는 분들을 위한 찐맛집총정리🍽공항에서부터 한바퀴 시계방향으로 정리해봤습니다.⠀제주도_시계방향_맛집총정리🌟_[2022년 2월버전]⠀제주시⬆️ (12시방향 공항)👉🏻신해바라기분식 - 순두부👉🏻제주미담 - 순대모듬👉🏻연북로명태명가 - 명태조림정식💯👉🏻부온 - 텐동, 소바👉🏻수복강녕 - 돼지떡갈비👉🏻행복미가 - 흑미삼계탕⠀👉🏻더한근 - 흑돼지근고기+물밀면💯👉🏻훔쳐온뒷고기 - 흑돼지 머릿고기👉🏻운산식당 - 흑돼지 근고기👉🏻명호마농갈비 - 마농갈비⠀👉🏻옐로우돕 - 와인바👉🏻느루온 - 요리주점👉🏻엘리펀트힙 - 양식당⠀👉🏻보람수산 - 고등어회👉🏻스시호시카이 - 오마카세👉🏻서문수산 - 오마카세💯⠀👉🏻제주회심 - 고등어소바👉🏻희야국수 - 멸치고기국수(공항1분)👉🏻국수만찬 - 고기국수💯👉🏻골막식당 - 고기국수⠀조천↗️👉🏻백리향 - 백반👉🏻각지불 - 아구탕⠀함덕↗️👉🏻함덕골목 - 내장탕💯👉🏻오늘도회는뜬다 - 숙성회👉🏻대성아귀찜 - 아귀대창찜👉🏻별미해장국 - 돌솥비빔밥,내장탕👉🏻보배쌤보리김치와게장 - 간장게장정식💯⠀김녕↗️👉🏻좀여네집 - 모듬해산물, 성게전복죽👉🏻임풍해장국 - 왕갈비탕👉🏻김녕회관 - 혼술펍⠀월정리↗️👉🏻떡하니 - 문어떡볶이👉🏻배고프면 - 문어해물라면💯👉🏻타코마씸 - 흑돼지타코⠀세화↗️👉🏻모다정 - 접짝뼈국,두루치기💯👉🏻홍성원 - 간짜장,볶음밥👉🏻얌얌돈까스 - 치즈돈까스👉🏻숙경식당 - 돼지갈비👉🏻서울국수가게 - 순두부👉🏻제주유 - 유부초밥👉🏻인손 - 참다랑어, 딱새우👉🏻테네시테이블 - 수제버거⠀종달리↗️👉🏻종달해녀의집 - 해산물👉🏻산도롱맨도롱 - 홍갈비국수💯⠀성산➡️👉🏻목화휴게소 - 준치+맥주🦑👉🏻시흥해녀의집식당 - 조개국👉🏻새벽숯불가든 - 흑돼지오겹살👉🏻고등어쌈밥 - 고등어조림💯👉🏻성산마씸 - 갈치조림,옥돔구이👉🏻브라보비치 - 카페🌈⠀표선↘️👉🏻올레당케국수 - 보말칼국수👉🏻고수목마 - 말고기👉🏻가시식당 - 두루치기, 몸국⠀남원↘️👉🏻의귀리부부막국수 - 돈까스,물막국수👉🏻별맛해장국 - 소고기해장국👉🏻신례토종닭식당 - 오리숯불구이👉🏻소낭식당 - 짬뽕⠀서귀포⬇️👉🏻#자리돔횟집 - 고등어회💯👉🏻올레일품 - 해물탕(지리)👉🏻검은여닭도가니 - 닭백숙💯👉🏻삼강식당 - 오리샤브👉🏻희신이네 - 닭코스요리⠀👉🏻#유달식당 - 짬뽕💯💯👉🏻마시오름 - 요리주점👉🏻아리 - 스시,냉소바👉🏻천일만두 - 빠오즈⠀👉🏻풍년식당 - 보말칼국수,순대국밥💯💯👉🏻옛날순대 - 순대백반👉🏻대도식당 - 김치복국💯👉🏻삼무뚝배기갈치 - 갈치국👉🏻고향생각 - 고기국수,김치⠀👉🏻문치비 - 흑돼지근고기💯👉🏻웅담식당 - 오겹살⠀강정⬇️👉🏻#몰질식육식당 - 짬뽕,복지리⠀중문관광단지⬇️👉🏻가람돌솥밥 - 성게전복돌솥밥👉🏻고기정류장 - 흑돼지 근고기💯👉🏻수두리보말칼국수 - 보말죽👉🏻착한전복 - 전복구이,해물탕💯👉🏻칼초네화덕피자 - 칼초네피자⠀산방산↙️👉🏻산방산초가집 - 전복전골👉🏻#제주선채향 - 전복칼국수💯👉🏻#화순평양면옥 - 평양냉면💯💯💯👉🏻사계의시간 - 장어덮밥👉🏻중앙식당 - 성게보말미역국⠀모슬포↙️👉🏻선유식당 - 무늬오징어회👉🏻영해식당 - 소고기찌개👉🏻옥돔식당 - 보말칼국수👉🏻미영이네식당 - 고등어회⠀한경면↖️👉🏻금자매식당 - 전복돌솥밥👉🏻연리지가든 - 흑돼지👉🏻중국집마씸 - 짬뽕,볶음밥⠀협재↖️👉🏻더시즈닝 - 흑돼지+리조또💯👉🏻면뽑는선생만두빚는아내 - 만두전골👉🏻바다해찬 - 전복죽,물회⠀한림↖️👉🏻바당길 - 보말칼국수👉🏻일억조 - 접짝뼈국👉🏻라신비 - 라멘,돈까스👉🏻#우무 - 말차푸딩⠀애월↖️👉🏻#호커센터 - 바쿠테,칠리크랩💯💯👉🏻스시애월 - 초밥👉🏻고내촌한정식 - 떡갈비정식💯👉🏻신제주촌오리 - 오리차돌+칼국수⠀제주여행 조심히 다녀오세요🙇🏻\\u200d♂️⠀#제주도 #제주여행',\n",
       " '2022-02-18',\n",
       " '1,409',\n",
       " '제주도 제주',\n",
       " ['#자리돔횟집',\n",
       "  '#유달식당',\n",
       "  '#몰질식육식당',\n",
       "  '#제주선채향',\n",
       "  '#화순평양면옥',\n",
       "  '#우무',\n",
       "  '#호커센터',\n",
       "  '#제주도',\n",
       "  '#제주여행']]"
      ]
     },
     "execution_count": 55,
     "metadata": {},
     "output_type": "execute_result"
    }
   ],
   "source": [
    "get_content(driver)"
   ]
  },
  {
   "cell_type": "markdown",
   "id": "de5cc7b4",
   "metadata": {},
   "source": [
    "* 다음 게시물 열기 : 우측 버튼 클릭  (div class l8mY4.feth3)\n"
   ]
  },
  {
   "cell_type": "code",
   "execution_count": 67,
   "id": "5d1d285a",
   "metadata": {},
   "outputs": [],
   "source": [
    "def move_next(driver):\n",
    "\n",
    "    right = driver.find_element_by_css_selector('div.l8mY4.feth3')\n",
    "    right.click()\n",
    "    time.sleep(3)"
   ]
  },
  {
   "cell_type": "code",
   "execution_count": 65,
   "id": "63f4e59e",
   "metadata": {},
   "outputs": [
    {
     "name": "stderr",
     "output_type": "stream",
     "text": [
      "C:\\Users\\SAMSUNG\\AppData\\Local\\Temp/ipykernel_7100/223539478.py:3: DeprecationWarning: find_element_by_* commands are deprecated. Please use find_element() instead\n",
      "  right = driver.find_element_by_css_selector('div.l8mY4.feth3')\n"
     ]
    }
   ],
   "source": [
    "move_next(driver)"
   ]
  },
  {
   "cell_type": "markdown",
   "id": "80f7b48d",
   "metadata": {},
   "source": [
    "### 여러 게시글 정보를 수집\n",
    "1. 크롬 브라우저 열기 \n",
    "2. 인스타 그램 검색 페이지 url 만들기\n",
    "3. 검색 페이지 접속  \n",
    "4. 첫번째 게시물 클릭 \n",
    "5. result [] 만들기 \n",
    "6. 게시물 정보 수집하기 \n",
    "7. 게시물 results에 추가하기 \n",
    "8. 다음 게시물 선택 \n",
    "9. 완료 (target) 횟수 지정"
   ]
  },
  {
   "cell_type": "markdown",
   "id": "49acc182",
   "metadata": {},
   "source": [
    "* 함수로 구현"
   ]
  },
  {
   "cell_type": "code",
   "execution_count": 68,
   "id": "3d9fca73",
   "metadata": {},
   "outputs": [],
   "source": [
    "from selenium import webdriver \n",
    "from bs4 import BeautifulSoup\n",
    "import time \n",
    "import re"
   ]
  },
  {
   "cell_type": "code",
   "execution_count": 72,
   "id": "681d4247",
   "metadata": {},
   "outputs": [
    {
     "name": "stderr",
     "output_type": "stream",
     "text": [
      "C:\\Users\\SAMSUNG\\AppData\\Local\\Temp/ipykernel_7100/1277785024.py:2: DeprecationWarning: executable_path has been deprecated, please pass in a Service object\n",
      "  driver = webdriver.Chrome('c:/Users/SAMSUNG/chromedriver_win32/chromedriver.exe')\n"
     ]
    }
   ],
   "source": [
    "#① 크롬 브라우저 열기\n",
    "driver = webdriver.Chrome('c:/Users/SAMSUNG/chromedriver_win32/chromedriver.exe') \n",
    "\n",
    "# 추가) 인스타그램 접속후, 로그인 하기  - \n",
    "driver.get('https://www.instargram.com')\n",
    "time.sleep(2)\n",
    "# 로그인 직접"
   ]
  },
  {
   "cell_type": "code",
   "execution_count": 78,
   "id": "6c954682",
   "metadata": {},
   "outputs": [
    {
     "name": "stderr",
     "output_type": "stream",
     "text": [
      "C:\\Users\\SAMSUNG\\AppData\\Local\\Temp/ipykernel_7100/2547080320.py:3: DeprecationWarning: find_element_by_* commands are deprecated. Please use find_element() instead\n",
      "  first = driver.find_element_by_css_selector('div._9AhH0')\n"
     ]
    }
   ],
   "source": [
    "word = \"제주도맛집\"    #검색어\n",
    "url = insta_searching(word)\n",
    "time.sleep(3)\n",
    "\n",
    "# ③ 검색페이지 접속하기\n",
    "driver.get(url)\n",
    "time.sleep(3)\n",
    "\n",
    "# ④ 첫 번째 게시글 열기\n",
    "select_first(driver)\n",
    "\n",
    "# ⑤ 비어있는 변수(results)만들기\n",
    "results = [ ]"
   ]
  },
  {
   "cell_type": "code",
   "execution_count": 79,
   "id": "9c888d76",
   "metadata": {},
   "outputs": [
    {
     "name": "stderr",
     "output_type": "stream",
     "text": [
      "C:\\Users\\SAMSUNG\\AppData\\Local\\Temp/ipykernel_7100/278784341.py:3: DeprecationWarning: find_element_by_* commands are deprecated. Please use find_element() instead\n",
      "  right = driver.find_element_by_css_selector('div.l8mY4.feth3')\n"
     ]
    }
   ],
   "source": [
    "# ⑥→⑦→⑧ 여러 게시물 수집하기\n",
    "target = 50      # 크롤링할 게시글 수\n",
    "for i in range(target):\n",
    "    # 게시글 수집에 오류 발생시(네트워크 문제 등의 이유로)  2초 대기 후, 다음 게시글로 넘어가도록 try, except 구문 활용\n",
    "    try:\n",
    "        data = get_content(driver)    # 게시글 정보 가져오기\n",
    "        results.append(data)\n",
    "        move_next(driver)\n",
    "    except:\n",
    "        time.sleep(2)\n",
    "        move_next(driver)\n"
   ]
  },
  {
   "cell_type": "code",
   "execution_count": 80,
   "id": "92952bf8",
   "metadata": {},
   "outputs": [
    {
     "name": "stdout",
     "output_type": "stream",
     "text": [
      "[[\"길게 말 안합니다. 그냥 가시면 됩니다.낙지볶음 찐맛집이다. 정말 눈물 흘리면서 흡입했다.제주공항에서 차로 10분정도 거리에 있는 매장인데,근처 노포인 [시골길] 사장님의 아들분께서 운영하는 곳이다.메뉴는 [낙지새우버섯볶음]을 먹으면 된다.통통한 낙지와 새우를 버섯과 함께 매콤하게 볶아냈다.일단 낙지가 정말 신선하고, 양념 맛이 끝내준다.식단조절 중인데도 정신없이 흡입하고 공기밥 추가를 외쳤다.게다가 정말 든든한게 따로 추가를 안해도,오이냉국 / 청국장 / 공기밥 / 소면이 기본으로 같이 나온다.제공되는 소면을 양념에 잘 비벼서 호로록해도 좋다.공기밥은 큰 대접에 흰 쌀밥을 가득 담아주시는데,테이블마다 놓여진 김가루/참기름을 넣고,콩나물/미역/무채까지 곁들여 비빔밥으로 먹으면 된다.입에 매운맛이 감돌면 오이냉국으로 시원하게 달래주고,속이 허하면 청국장으로 뜨끈하게 달래주면 된다.아마 여기서 상상이상으로 배를 많이 채울거다.뒤에 여행 일정에 당분간 먹는 일정은 빼도록 하자.'시골길'과 '낙지로' 둘 다 먹어본 입장으로,고민되는 사람들을 위해 말하자면 [낙지로]를 더 추천한다.낙지볶음 자체를 낙지로에서 월등하게 맛있게 먹었기 때문이다.시골길의 그 어머님 손맛 가득한 청국장이 넘사벽이긴 하지만,낙지볶음이 밋밋해서 아쉬웠는데, 낙지로는 간이 제대로 잡혔다.특히 밥과 소면과 먹으면 정말 끝없이 흡입이 가능하다.웨이팅이 조금 있을 수 있지만 포장도 가능하고,맵기조절도 가능하니 맵찔이도 안심하고 가도 된다.- 매장 : 제주 #낙지로- 위치 : 제주 제주시 연동 292-25- 시간 : 매일 10시~15시 (일요일 휴무)- 포장전화 : 064-743-9363- 주차는 바로 옆에 공영주차장 위치#푸민_제주#제주도맛집 #제주공항맛집 #제주도공항근처맛집 #제주도공항맛집 #제주공항근처맛집 #제주맛집 #제주도여행 #제주여행코스 #제주여행 #제주도가볼만한곳 #제주도민맛집 #연동맛집 #제주공항맛집추천 #맛집추천 #제주도게스트하우스 #제주도술집 #제주시맛집 #맛집\", '2022-02-17', '1,511', '낙지로', ['#낙지로-', '#푸민_제주', '#제주도맛집', '#제주공항맛집', '#제주도공항근처맛집', '#제주도공항맛집', '#제주공항근처맛집', '#제주맛집', '#제주도여행', '#제주여행코스', '#제주여행', '#제주도가볼만한곳', '#제주도민맛집', '#연동맛집', '#제주공항맛집추천', '#맛집추천', '#제주도게스트하우스', '#제주도술집', '#제주시맛집', '#맛집']], ['(광고)제주도에서 가장 맛있는 갈치요리 끝판왕 👑갈치왕!갈치요리는 무적권 여기가 진리지~~-갈치의 포근한 살과 꼬순맛을 제대로 볼수 있는 곳이자!갈치의 모든맛을 볼수있는 진또베기 맛집이 바로이곳!!!-최상급의 해산물을 남김없이 들어간 최상급해물탕과!통갈치 해물찜은 자동으로 술한잔하면 이것이 진정한 힐링이쥬~-제주도에서 갈치요리는 무조건 여기 갈치왕으로 가즈아~~-갈치왕 본점주소: 제주 서귀포시 일주서로 1146전화번호: 064-739-9333@kingfish1190예약 가능한지 사장님에게 문의하러 gogo~-#제주도맛집', '2022-02-18', 0, '', ['#제주도맛집']]]\n"
     ]
    }
   ],
   "source": [
    "print(results[:2])"
   ]
  },
  {
   "cell_type": "markdown",
   "id": "5c499210",
   "metadata": {},
   "source": [
    "* result 양식 : content , date, like, place, tags"
   ]
  },
  {
   "cell_type": "code",
   "execution_count": 82,
   "id": "9f1684a8",
   "metadata": {},
   "outputs": [
    {
     "data": {
      "text/html": [
       "<div>\n",
       "<style scoped>\n",
       "    .dataframe tbody tr th:only-of-type {\n",
       "        vertical-align: middle;\n",
       "    }\n",
       "\n",
       "    .dataframe tbody tr th {\n",
       "        vertical-align: top;\n",
       "    }\n",
       "\n",
       "    .dataframe thead th {\n",
       "        text-align: right;\n",
       "    }\n",
       "</style>\n",
       "<table border=\"1\" class=\"dataframe\">\n",
       "  <thead>\n",
       "    <tr style=\"text-align: right;\">\n",
       "      <th></th>\n",
       "      <th>content</th>\n",
       "      <th>date</th>\n",
       "      <th>like</th>\n",
       "      <th>place</th>\n",
       "      <th>tags</th>\n",
       "    </tr>\n",
       "  </thead>\n",
       "  <tbody>\n",
       "    <tr>\n",
       "      <th>0</th>\n",
       "      <td>길게 말 안합니다. 그냥 가시면 됩니다.낙지볶음 찐맛집이다. 정말 눈물 흘리면서 흡...</td>\n",
       "      <td>2022-02-17</td>\n",
       "      <td>1,511</td>\n",
       "      <td>낙지로</td>\n",
       "      <td>[#낙지로-, #푸민_제주, #제주도맛집, #제주공항맛집, #제주도공항근처맛집, #...</td>\n",
       "    </tr>\n",
       "    <tr>\n",
       "      <th>1</th>\n",
       "      <td>(광고)제주도에서 가장 맛있는 갈치요리 끝판왕 👑갈치왕!갈치요리는 무적권 여기가 진...</td>\n",
       "      <td>2022-02-18</td>\n",
       "      <td>0</td>\n",
       "      <td></td>\n",
       "      <td>[#제주도맛집]</td>\n",
       "    </tr>\n",
       "    <tr>\n",
       "      <th>2</th>\n",
       "      <td>(광고)지만 제주 공항에서 가깝고 (🚗공항에서 12분)오션뷰&amp; 노을뷰를 보면서 먹을...</td>\n",
       "      <td>2022-02-18</td>\n",
       "      <td>0</td>\n",
       "      <td></td>\n",
       "      <td>[#제주도맛집, #제주맛집, #제주도횟집, #제주시횟집, #제주공항근처횟집, #제주...</td>\n",
       "    </tr>\n",
       "    <tr>\n",
       "      <th>3</th>\n",
       "      <td>&lt;광고&gt;#제주분식 https://jejubunsig.modoo.at/ 📌제주시 귀아...</td>\n",
       "      <td>2022-02-18</td>\n",
       "      <td>0</td>\n",
       "      <td></td>\n",
       "      <td>[#제주분식, #제주분식, #모당모당, #돔베라면돔베김밥, #제주맛집, #제주도맛집...</td>\n",
       "    </tr>\n",
       "    <tr>\n",
       "      <th>4</th>\n",
       "      <td>📍JEJU제주도로 여행가는 분들을 위한 찐맛집총정리🍽공항에서부터 한바퀴 시계방향으로...</td>\n",
       "      <td>2022-02-18</td>\n",
       "      <td>1,593</td>\n",
       "      <td>제주도 제주</td>\n",
       "      <td>[#자리돔횟집, #유달식당, #몰질식육식당, #제주선채향, #화순평양면옥, #우무,...</td>\n",
       "    </tr>\n",
       "  </tbody>\n",
       "</table>\n",
       "</div>"
      ],
      "text/plain": [
       "                                             content        date   like  \\\n",
       "0  길게 말 안합니다. 그냥 가시면 됩니다.낙지볶음 찐맛집이다. 정말 눈물 흘리면서 흡...  2022-02-17  1,511   \n",
       "1  (광고)제주도에서 가장 맛있는 갈치요리 끝판왕 👑갈치왕!갈치요리는 무적권 여기가 진...  2022-02-18      0   \n",
       "2  (광고)지만 제주 공항에서 가깝고 (🚗공항에서 12분)오션뷰& 노을뷰를 보면서 먹을...  2022-02-18      0   \n",
       "3  <광고>#제주분식 https://jejubunsig.modoo.at/ 📌제주시 귀아...  2022-02-18      0   \n",
       "4  📍JEJU제주도로 여행가는 분들을 위한 찐맛집총정리🍽공항에서부터 한바퀴 시계방향으로...  2022-02-18  1,593   \n",
       "\n",
       "    place                                               tags  \n",
       "0     낙지로  [#낙지로-, #푸민_제주, #제주도맛집, #제주공항맛집, #제주도공항근처맛집, #...  \n",
       "1                                                   [#제주도맛집]  \n",
       "2          [#제주도맛집, #제주맛집, #제주도횟집, #제주시횟집, #제주공항근처횟집, #제주...  \n",
       "3          [#제주분식, #제주분식, #모당모당, #돔베라면돔베김밥, #제주맛집, #제주도맛집...  \n",
       "4  제주도 제주  [#자리돔횟집, #유달식당, #몰질식육식당, #제주선채향, #화순평양면옥, #우무,...  "
      ]
     },
     "execution_count": 82,
     "metadata": {},
     "output_type": "execute_result"
    }
   ],
   "source": [
    "result_df = pd.DataFrame(results,\n",
    "                        columns = ['content', 'date','like','place','tags'])\n",
    "result_df.head()"
   ]
  },
  {
   "cell_type": "code",
   "execution_count": 84,
   "id": "be73e20b",
   "metadata": {},
   "outputs": [],
   "source": [
    "# 엑셀 파일화 \n",
    "result_df.to_excel('C:/Users/SAMSUNG/Desktop/파이썬 데이터 분석/데이터 분석 실무 파이썬/insta_jeju_hotplace.xlsx')"
   ]
  },
  {
   "cell_type": "markdown",
   "id": "a9aabb44",
   "metadata": {},
   "source": [
    "* 키워드: 제주도맛집베스트"
   ]
  },
  {
   "cell_type": "code",
   "execution_count": 86,
   "id": "3ebd24bb",
   "metadata": {},
   "outputs": [
    {
     "name": "stderr",
     "output_type": "stream",
     "text": [
      "C:\\Users\\SAMSUNG\\AppData\\Local\\Temp/ipykernel_7100/2547080320.py:3: DeprecationWarning: find_element_by_* commands are deprecated. Please use find_element() instead\n",
      "  first = driver.find_element_by_css_selector('div._9AhH0')\n"
     ]
    }
   ],
   "source": [
    "word = \"제주도맛집베스트\"    #검색어\n",
    "url = insta_searching(word)\n",
    "time.sleep(5)\n",
    "\n",
    "# ③ 검색페이지 접속하기\n",
    "driver.get(url)\n",
    "time.sleep(3)\n",
    "\n",
    "# ④ 첫 번째 게시글 열기\n",
    "select_first(driver)\n",
    "\n",
    "# ⑤ 비어있는 변수(results)만들기\n",
    "results = [ ]"
   ]
  },
  {
   "cell_type": "code",
   "execution_count": 87,
   "id": "3ad7fe59",
   "metadata": {},
   "outputs": [
    {
     "name": "stderr",
     "output_type": "stream",
     "text": [
      "C:\\Users\\SAMSUNG\\AppData\\Local\\Temp/ipykernel_7100/278784341.py:3: DeprecationWarning: find_element_by_* commands are deprecated. Please use find_element() instead\n",
      "  right = driver.find_element_by_css_selector('div.l8mY4.feth3')\n"
     ]
    }
   ],
   "source": [
    "# ⑥→⑦→⑧ 여러 게시물 수집하기\n",
    "target = 50      # 크롤링할 게시글 수\n",
    "for i in range(target):\n",
    "    # 게시글 수집에 오류 발생시(네트워크 문제 등의 이유로)  2초 대기 후, 다음 게시글로 넘어가도록 try, except 구문 활용\n",
    "    try:\n",
    "        data = get_content(driver)    # 게시글 정보 가져오기\n",
    "        results.append(data)\n",
    "        move_next(driver)\n",
    "    except:\n",
    "        time.sleep(2)\n",
    "        move_next(driver)\n"
   ]
  },
  {
   "cell_type": "code",
   "execution_count": 89,
   "id": "660986bc",
   "metadata": {},
   "outputs": [
    {
     "data": {
      "text/plain": [
       "[['🤍\\u2063\\u2063🥩 애월 바다뷰 맛집 \"애월리식당\" 🥩\\u2063\\u2063별점 - 🌟🌟🌟🌟🌟 x100000000\\u2063N사 평점 - 4.57점\\u2063\\u2063\\u2063SNS에서 가장 핫한 인스타 갬성 오션뷰 맛집 💙\\u2063애월바다를 한 눈에 보면서 흑돼지 고기 한 점! 💛\\u2063깔끔한 인테리어와 넓은 테이블로 먹는 내내 편안하게,, 🖤\\u2063초벌하기 전, 생육 상태를 체크해볼 수 있어서 신뢰도 상승! 💜\\u2063\\u2063런치 세트도 완죠니 푸짐해서 점심메뉴로도 딱! 알맞게! ❤\\u2063다양한 구성의 밑반찬에도 정성 한스푼까지! 🥰💕\\u2063도톰한 지방의 흑돼지 근고기, 직원분이 \\'직접\\' 구워주셔서 더 존맛탱! 😋😋\\u2063\\u2063\\'애월리식당\\' 에서는 바다를 감상하면서 동시에,\\u2063아주 개맛도리인 흑돼지 근고기를 맛볼 수 있슘당!!!!\\u2063\\u2063\\u2063💗 BEST MENU 💗\\u2063◾숙성흑돼지 점심특선 2인 - 45,000원\\u2063◾흑돼지 근고기 600G - 57,000원\\u2063◾해물 된장찌개 - 7,000원\\u2063◾흑돼지 김치찌개 - 7,000원\\u2063◾김치말이국수 - 6,000원\\u2063\\u2063•·················information·····················•\\u2063\\u2063🏠  애월리식당\\u2063📞  064-711-3733\\u2063🛣  제주 제주시 애월읍 애월해안로 907 1층\\u2063⏰  매일 11:00 - 23:00 (연중무휴, 브레이크타임X)\\u2063 LUNCH TIME 11:00 - 14:00\\u2063\\u2063✔애월해안도로 초입부 위치!\\u2063✔제주공항에서 차로 20분!\\u2063\\u2063•··························•·······························•\\u2063\\u2063#애월맛집 #애월흑돼지 #애월흑돼지맛집 #애월흑돼지맛집추천 #애월맛집인정 #제주맛집탐방 #제주맛집인정 #제주흑돼지거리 #제주도맛집투어 #제주도맛집베스트',\n",
       "  '2022-02-12',\n",
       "  0,\n",
       "  '',\n",
       "  ['#애월맛집',\n",
       "   '#애월흑돼지',\n",
       "   '#애월흑돼지맛집',\n",
       "   '#애월흑돼지맛집추천',\n",
       "   '#애월맛집인정',\n",
       "   '#제주맛집탐방',\n",
       "   '#제주맛집인정',\n",
       "   '#제주흑돼지거리',\n",
       "   '#제주도맛집투어',\n",
       "   '#제주도맛집베스트']],\n",
       " ['🎀 애월에 진짜 맛집 🎀\\u2063\\u2063문개항아리 (づ￣ 3￣)づ\\u2063\\u2063\\u2063직접 잡아오는 제주도 자연산 돌문어와 해산물로 조리 ❣\\u2063살아있는 싱싱하고 큰 전복 💗\\u2063국물이 끝내주는 라면은 생면이 들어가 더 탄탄한 면발 💥\\u2063\\u2063\\u2063다양한 해산물이 9가지나 들어가는 통해물라면 ❣\\u2063바지락 / 백합 / 홍합 / 오만둥이 / 황게 /타이거새우\\u2063/ 가리비 /전복 / 문어\\u2063\\u2063바삭바삭한 통해물튀김 ⋆ ₊ ﾟ ☽ * ₊ ⋆\\u2063제주도산 문어튀김 / 한치튀김 꼭 먹어보자 💚\\u2063\\u2063싱싱하고 비주얼도 좋은 음식 먹으러갈 친구 태그 ❣\\u2063\\u2063\\u2063┏━━━━━━༻❁༺━━━━━━┓\\u2063\\u2063🎀 문개항아리\\u2063🎀 0507-1368-4776\\u2063🎀 제주특별자치도 제주시 애월읍 가문동길 38\\u2063🎀 매일 09:30 - 21:00 ( 재료 소진시 종료)\\u2063🎀 매주 목요일 휴무 ✔\\u2063\\u2063┗━━━━━━༻❁༺━━━━━━┛\\u2063\\u2063\\u2063💟 매장 앞 주차장 넓어서 주차하기 용이 합니다 💟\\u2063\\u2063\\u2063\\u2063\\u2063#제주애월맛집 #애월핫플 #제주도애월맛집 #애월맛집인정 #제주맛집탐방 #제주맛집인정 #제주도맛집투어 #제주도맛집베스트 #제주해물라면 #제주해물칼국수',\n",
       "  '2022-01-28',\n",
       "  0,\n",
       "  '',\n",
       "  ['#제주애월맛집',\n",
       "   '#애월핫플',\n",
       "   '#제주도애월맛집',\n",
       "   '#애월맛집인정',\n",
       "   '#제주맛집탐방',\n",
       "   '#제주맛집인정',\n",
       "   '#제주도맛집투어',\n",
       "   '#제주도맛집베스트',\n",
       "   '#제주해물라면',\n",
       "   '#제주해물칼국수']]]"
      ]
     },
     "execution_count": 89,
     "metadata": {},
     "output_type": "execute_result"
    }
   ],
   "source": [
    "results[:2]"
   ]
  },
  {
   "cell_type": "code",
   "execution_count": 91,
   "id": "f1e51c29",
   "metadata": {},
   "outputs": [
    {
     "data": {
      "text/html": [
       "<div>\n",
       "<style scoped>\n",
       "    .dataframe tbody tr th:only-of-type {\n",
       "        vertical-align: middle;\n",
       "    }\n",
       "\n",
       "    .dataframe tbody tr th {\n",
       "        vertical-align: top;\n",
       "    }\n",
       "\n",
       "    .dataframe thead th {\n",
       "        text-align: right;\n",
       "    }\n",
       "</style>\n",
       "<table border=\"1\" class=\"dataframe\">\n",
       "  <thead>\n",
       "    <tr style=\"text-align: right;\">\n",
       "      <th></th>\n",
       "      <th>content</th>\n",
       "      <th>date</th>\n",
       "      <th>like</th>\n",
       "      <th>place</th>\n",
       "      <th>tags</th>\n",
       "    </tr>\n",
       "  </thead>\n",
       "  <tbody>\n",
       "    <tr>\n",
       "      <th>0</th>\n",
       "      <td>🤍⁣⁣🥩 애월 바다뷰 맛집 \"애월리식당\" 🥩⁣⁣별점 - 🌟🌟🌟🌟🌟 x10000000...</td>\n",
       "      <td>2022-02-12</td>\n",
       "      <td>0</td>\n",
       "      <td></td>\n",
       "      <td>[#애월맛집, #애월흑돼지, #애월흑돼지맛집, #애월흑돼지맛집추천, #애월맛집인정,...</td>\n",
       "    </tr>\n",
       "    <tr>\n",
       "      <th>1</th>\n",
       "      <td>🎀 애월에 진짜 맛집 🎀⁣⁣문개항아리 (づ￣ 3￣)づ⁣⁣⁣직접 잡아오는 제주도 자연...</td>\n",
       "      <td>2022-01-28</td>\n",
       "      <td>0</td>\n",
       "      <td></td>\n",
       "      <td>[#제주애월맛집, #애월핫플, #제주도애월맛집, #애월맛집인정, #제주맛집탐방, #...</td>\n",
       "    </tr>\n",
       "    <tr>\n",
       "      <th>2</th>\n",
       "      <td>🤍⁣⁣🥩 애월 바다뷰 맛집 \"애월리식당\" 🥩⁣⁣별점 - 🌟🌟🌟🌟🌟 x10000000...</td>\n",
       "      <td>2022-02-15</td>\n",
       "      <td>0</td>\n",
       "      <td></td>\n",
       "      <td>[#제주맛집, #애월흑돼지, #애월흑돼지맛집, #애월흑돼지맛집추천, #애월맛집인정,...</td>\n",
       "    </tr>\n",
       "    <tr>\n",
       "      <th>3</th>\n",
       "      <td>🤍⁣⁣🥩 애월 바다뷰 맛집 \"애월리식당\" 🥩⁣⁣별점 - 🌟🌟🌟🌟🌟 x10000000...</td>\n",
       "      <td>2022-01-29</td>\n",
       "      <td>0</td>\n",
       "      <td></td>\n",
       "      <td>[#애월맛집, #애월흑돼지, #애월흑돼지맛집, #애월흑돼지맛집추천, #애월맛집인정,...</td>\n",
       "    </tr>\n",
       "    <tr>\n",
       "      <th>4</th>\n",
       "      <td>🤍⁣⁣🥩 애월 바다뷰 맛집 \"애월리식당\" 🥩⁣⁣별점 - 🌟🌟🌟🌟🌟 x10000000...</td>\n",
       "      <td>2022-01-22</td>\n",
       "      <td>0</td>\n",
       "      <td></td>\n",
       "      <td>[#애월맛집, #애월흑돼지, #애월흑돼지맛집, #애월흑돼지맛집추천, #애월맛집인정,...</td>\n",
       "    </tr>\n",
       "    <tr>\n",
       "      <th>5</th>\n",
       "      <td>🖤✨ 제주 한림 흑돼지 찐맛집, \"이어돈가\" ✨🍖\"흑돼지 돈마호크\"🍖한번 맛보면 핵...</td>\n",
       "      <td>2022-02-18</td>\n",
       "      <td>0</td>\n",
       "      <td></td>\n",
       "      <td>[#제주도맛집, #제주도현지인맛집, #제주도맛집베스트, #제주도맛집투어, #제주맛집...</td>\n",
       "    </tr>\n",
       "    <tr>\n",
       "      <th>6</th>\n",
       "      <td>🖤⁣⁣⁣⁣⁣✨ 제주 한림 흑돼지 찐맛집, \"이어돈가\" ✨⁣⁣⁣🍖\"흑돼지 돈마호크\"🍖...</td>\n",
       "      <td>2022-02-15</td>\n",
       "      <td>0</td>\n",
       "      <td></td>\n",
       "      <td>[#제주도맛집, #제주도현지인맛집, #제주도맛집베스트, #제주도맛집투어, #제주맛집...</td>\n",
       "    </tr>\n",
       "    <tr>\n",
       "      <th>7</th>\n",
       "      <td>🤍⁣⁣🥩 애월 바다뷰 맛집 \"애월리식당\" 🥩⁣⁣별점 - 🌟🌟🌟🌟🌟 x10000000...</td>\n",
       "      <td>2022-01-30</td>\n",
       "      <td>0</td>\n",
       "      <td></td>\n",
       "      <td>[#애월맛집, #애월흑돼지, #애월흑돼지맛집, #애월흑돼지맛집추천, #애월맛집인정,...</td>\n",
       "    </tr>\n",
       "    <tr>\n",
       "      <th>8</th>\n",
       "      <td>🤍🥩 애월 바다뷰 맛집 \"애월리식당\" 🥩별점 - 🌟🌟🌟🌟🌟 x100000000N사 ...</td>\n",
       "      <td>2022-02-18</td>\n",
       "      <td>0</td>\n",
       "      <td></td>\n",
       "      <td>[#제주맛집, #애월흑돼지, #애월흑돼지맛집, #애월흑돼지맛집추천, #애월맛집인정,...</td>\n",
       "    </tr>\n",
       "    <tr>\n",
       "      <th>9</th>\n",
       "      <td>아~ 해봐 내가 먹여줄게 🥄.#협찬 인데 찐맛집🔥어박사 한림본점 다녀왔어요😆.갈치조...</td>\n",
       "      <td>2022-02-18</td>\n",
       "      <td>774</td>\n",
       "      <td>어박사</td>\n",
       "      <td>[#협찬, #어박사한림점, #한림맛집, #협재맛집, #제주갈치조림, #한림읍맛집, ...</td>\n",
       "    </tr>\n",
       "  </tbody>\n",
       "</table>\n",
       "</div>"
      ],
      "text/plain": [
       "                                             content        date like place  \\\n",
       "0  🤍⁣⁣🥩 애월 바다뷰 맛집 \"애월리식당\" 🥩⁣⁣별점 - 🌟🌟🌟🌟🌟 x10000000...  2022-02-12    0         \n",
       "1  🎀 애월에 진짜 맛집 🎀⁣⁣문개항아리 (づ￣ 3￣)づ⁣⁣⁣직접 잡아오는 제주도 자연...  2022-01-28    0         \n",
       "2  🤍⁣⁣🥩 애월 바다뷰 맛집 \"애월리식당\" 🥩⁣⁣별점 - 🌟🌟🌟🌟🌟 x10000000...  2022-02-15    0         \n",
       "3  🤍⁣⁣🥩 애월 바다뷰 맛집 \"애월리식당\" 🥩⁣⁣별점 - 🌟🌟🌟🌟🌟 x10000000...  2022-01-29    0         \n",
       "4  🤍⁣⁣🥩 애월 바다뷰 맛집 \"애월리식당\" 🥩⁣⁣별점 - 🌟🌟🌟🌟🌟 x10000000...  2022-01-22    0         \n",
       "5  🖤✨ 제주 한림 흑돼지 찐맛집, \"이어돈가\" ✨🍖\"흑돼지 돈마호크\"🍖한번 맛보면 핵...  2022-02-18    0         \n",
       "6  🖤⁣⁣⁣⁣⁣✨ 제주 한림 흑돼지 찐맛집, \"이어돈가\" ✨⁣⁣⁣🍖\"흑돼지 돈마호크\"🍖...  2022-02-15    0         \n",
       "7  🤍⁣⁣🥩 애월 바다뷰 맛집 \"애월리식당\" 🥩⁣⁣별점 - 🌟🌟🌟🌟🌟 x10000000...  2022-01-30    0         \n",
       "8  🤍🥩 애월 바다뷰 맛집 \"애월리식당\" 🥩별점 - 🌟🌟🌟🌟🌟 x100000000N사 ...  2022-02-18    0         \n",
       "9  아~ 해봐 내가 먹여줄게 🥄.#협찬 인데 찐맛집🔥어박사 한림본점 다녀왔어요😆.갈치조...  2022-02-18  774   어박사   \n",
       "\n",
       "                                                tags  \n",
       "0  [#애월맛집, #애월흑돼지, #애월흑돼지맛집, #애월흑돼지맛집추천, #애월맛집인정,...  \n",
       "1  [#제주애월맛집, #애월핫플, #제주도애월맛집, #애월맛집인정, #제주맛집탐방, #...  \n",
       "2  [#제주맛집, #애월흑돼지, #애월흑돼지맛집, #애월흑돼지맛집추천, #애월맛집인정,...  \n",
       "3  [#애월맛집, #애월흑돼지, #애월흑돼지맛집, #애월흑돼지맛집추천, #애월맛집인정,...  \n",
       "4  [#애월맛집, #애월흑돼지, #애월흑돼지맛집, #애월흑돼지맛집추천, #애월맛집인정,...  \n",
       "5  [#제주도맛집, #제주도현지인맛집, #제주도맛집베스트, #제주도맛집투어, #제주맛집...  \n",
       "6  [#제주도맛집, #제주도현지인맛집, #제주도맛집베스트, #제주도맛집투어, #제주맛집...  \n",
       "7  [#애월맛집, #애월흑돼지, #애월흑돼지맛집, #애월흑돼지맛집추천, #애월맛집인정,...  \n",
       "8  [#제주맛집, #애월흑돼지, #애월흑돼지맛집, #애월흑돼지맛집추천, #애월맛집인정,...  \n",
       "9  [#협찬, #어박사한림점, #한림맛집, #협재맛집, #제주갈치조림, #한림읍맛집, ...  "
      ]
     },
     "execution_count": 91,
     "metadata": {},
     "output_type": "execute_result"
    }
   ],
   "source": [
    "result_df = pd.DataFrame(results,\n",
    "                        columns = ['content', 'date','like','place','tags'])\n",
    "result_df.head(10)"
   ]
  },
  {
   "cell_type": "code",
   "execution_count": 92,
   "id": "2446764e",
   "metadata": {},
   "outputs": [],
   "source": [
    "#insta_jeju_best\n",
    "result_df.to_excel('C:/Users/SAMSUNG/Desktop/파이썬 데이터 분석/데이터 분석 실무 파이썬/insta_jeju_best.xlsx')"
   ]
  },
  {
   "cell_type": "markdown",
   "id": "11ba7c04",
   "metadata": {},
   "source": [
    "* 키워드 제주도 맛집추천"
   ]
  },
  {
   "cell_type": "code",
   "execution_count": 196,
   "id": "ae251823",
   "metadata": {},
   "outputs": [
    {
     "name": "stderr",
     "output_type": "stream",
     "text": [
      "C:\\Users\\SAMSUNG\\AppData\\Local\\Temp/ipykernel_7100/2547080320.py:3: DeprecationWarning: find_element_by_* commands are deprecated. Please use find_element() instead\n",
      "  first = driver.find_element_by_css_selector('div._9AhH0')\n"
     ]
    }
   ],
   "source": [
    "word = \"제주도맛집추천\"    #검색어\n",
    "url = insta_searching(word)\n",
    "time.sleep(5)\n",
    "\n",
    "# ③ 검색페이지 접속하기\n",
    "driver.get(url)\n",
    "time.sleep(3)\n",
    "\n",
    "# ④ 첫 번째 게시글 열기\n",
    "select_first(driver)\n",
    "\n",
    "# ⑤ 비어있는 변수(results)만들기\n",
    "results = [ ]"
   ]
  },
  {
   "cell_type": "code",
   "execution_count": 197,
   "id": "18bc9f51",
   "metadata": {},
   "outputs": [
    {
     "name": "stderr",
     "output_type": "stream",
     "text": [
      "C:\\Users\\SAMSUNG\\AppData\\Local\\Temp/ipykernel_7100/278784341.py:3: DeprecationWarning: find_element_by_* commands are deprecated. Please use find_element() instead\n",
      "  right = driver.find_element_by_css_selector('div.l8mY4.feth3')\n"
     ]
    }
   ],
   "source": [
    "# ⑥→⑦→⑧ 여러 게시물 수집하기\n",
    "target = 50      # 크롤링할 게시글 수\n",
    "for i in range(target):\n",
    "    # 게시글 수집에 오류 발생시(네트워크 문제 등의 이유로)  2초 대기 후, 다음 게시글로 넘어가도록 try, except 구문 활용\n",
    "    try:\n",
    "        data = get_content(driver)    # 게시글 정보 가져오기\n",
    "        results.append(data)\n",
    "        move_next(driver)\n",
    "    except:\n",
    "        time.sleep(2)\n",
    "        move_next(driver)\n"
   ]
  },
  {
   "cell_type": "code",
   "execution_count": 198,
   "id": "f43584a6",
   "metadata": {},
   "outputs": [
    {
     "data": {
      "text/html": [
       "<div>\n",
       "<style scoped>\n",
       "    .dataframe tbody tr th:only-of-type {\n",
       "        vertical-align: middle;\n",
       "    }\n",
       "\n",
       "    .dataframe tbody tr th {\n",
       "        vertical-align: top;\n",
       "    }\n",
       "\n",
       "    .dataframe thead th {\n",
       "        text-align: right;\n",
       "    }\n",
       "</style>\n",
       "<table border=\"1\" class=\"dataframe\">\n",
       "  <thead>\n",
       "    <tr style=\"text-align: right;\">\n",
       "      <th></th>\n",
       "      <th>content</th>\n",
       "      <th>date</th>\n",
       "      <th>like</th>\n",
       "      <th>place</th>\n",
       "      <th>tags</th>\n",
       "    </tr>\n",
       "  </thead>\n",
       "  <tbody>\n",
       "    <tr>\n",
       "      <th>0</th>\n",
       "      <td>&lt;광고&gt;#제주분식 https://jejubunsig.modoo.at/ 제주시 귀아...</td>\n",
       "      <td>2022-02-18</td>\n",
       "      <td>0</td>\n",
       "      <td></td>\n",
       "      <td>[#제주분식, #제주분식, #모당모당, #돔베라면돔베김밥, #제주맛집, #제주도맛집...</td>\n",
       "    </tr>\n",
       "    <tr>\n",
       "      <th>1</th>\n",
       "      <td>광고서귀포 신상 맛집🤩👍💯사우스포레스트@southforest_official_제주 ...</td>\n",
       "      <td>2022-02-17</td>\n",
       "      <td>0</td>\n",
       "      <td></td>\n",
       "      <td>[#사우스포레스트🔅주소, #서귀포맛집, #서귀포카페, #협재맛집, #제주도맛집, #...</td>\n",
       "    </tr>\n",
       "    <tr>\n",
       "      <th>2</th>\n",
       "      <td>&lt;광고&gt;제주 핫플 레스토랑👍레스토랑 인테리어 느낌있구요누룽지파스타, 문어파스타, 전...</td>\n",
       "      <td>2022-02-17</td>\n",
       "      <td>0</td>\n",
       "      <td></td>\n",
       "      <td>[#이스트포레스트💠제주시, #월정리맛집, #성산일출봉맛집, #우도맛집, #성산맛집,...</td>\n",
       "    </tr>\n",
       "    <tr>\n",
       "      <th>3</th>\n",
       "      <td>&lt;광고&gt;#제주분식 https://jejubunsig.modoo.at/ 📌제주시 귀아...</td>\n",
       "      <td>2022-02-16</td>\n",
       "      <td>0</td>\n",
       "      <td></td>\n",
       "      <td>[#제주분식, #제주분식, #모당모당, #돔베라면돔베김밥, #제주맛집, #제주도맛집...</td>\n",
       "    </tr>\n",
       "    <tr>\n",
       "      <th>4</th>\n",
       "      <td>&lt;광고&gt;#제주분식 https://jejubunsig.modoo.at/ 📌제주시 귀아...</td>\n",
       "      <td>2022-02-17</td>\n",
       "      <td>0</td>\n",
       "      <td></td>\n",
       "      <td>[#제주분식, #제주분식, #모당모당, #돔베라면돔베김밥, #제주맛집, #제주도맛집...</td>\n",
       "    </tr>\n",
       "    <tr>\n",
       "      <th>5</th>\n",
       "      <td>제주여행 2일차오늘은 #제주분식 에서 아침먹고 시작!돔베가 올라간 라면이랑 모듬분식...</td>\n",
       "      <td>2022-02-16</td>\n",
       "      <td>111</td>\n",
       "      <td></td>\n",
       "      <td>[#제주분식, #제주맛집, #제주도맛집, #제주공항맛집, #제주도공항근처맛집, #연...</td>\n",
       "    </tr>\n",
       "    <tr>\n",
       "      <th>6</th>\n",
       "      <td>&lt;광고&gt;#제주분식 https://jejubunsig.modoo.at/ 📌제주시 귀아...</td>\n",
       "      <td>2022-02-17</td>\n",
       "      <td>0</td>\n",
       "      <td></td>\n",
       "      <td>[#제주분식, #제주분식, #모당모당, #돔베라면돔베김밥, #제주맛집, #제주도맛집...</td>\n",
       "    </tr>\n",
       "    <tr>\n",
       "      <th>7</th>\n",
       "      <td>광고서귀포 신상 맛집🤩👍💯사우스포레스트@southforest_official_제주 ...</td>\n",
       "      <td>2022-02-17</td>\n",
       "      <td>0</td>\n",
       "      <td></td>\n",
       "      <td>[#사우스포레스트🔅주소, #서귀포맛집, #서귀포카페, #협재맛집, #제주도맛집, #...</td>\n",
       "    </tr>\n",
       "    <tr>\n",
       "      <th>8</th>\n",
       "      <td>&lt;광고&gt;#제주분식 https://jejubunsig.modoo.at/ 📌제주시 귀아...</td>\n",
       "      <td>2022-02-17</td>\n",
       "      <td>0</td>\n",
       "      <td></td>\n",
       "      <td>[#제주분식, #제주분식, #모당모당, #돔베라면돔베김밥, #제주맛집, #제주도맛집...</td>\n",
       "    </tr>\n",
       "    <tr>\n",
       "      <th>9</th>\n",
       "      <td>제주도 가족여행#제주분식아이들도 좋아하고 부모님들도 넘 맛있게 잘 드셨어요^^..제...</td>\n",
       "      <td>2022-02-18</td>\n",
       "      <td>0</td>\n",
       "      <td></td>\n",
       "      <td>[#제주분식아이들도, #제주맛집, #제주도맛집, #제주공항맛집, #제주도공항근처맛집...</td>\n",
       "    </tr>\n",
       "  </tbody>\n",
       "</table>\n",
       "</div>"
      ],
      "text/plain": [
       "                                             content        date like place  \\\n",
       "0  <광고>#제주분식 https://jejubunsig.modoo.at/ 제주시 귀아...  2022-02-18    0         \n",
       "1  광고서귀포 신상 맛집🤩👍💯사우스포레스트@southforest_official_제주 ...  2022-02-17    0         \n",
       "2  <광고>제주 핫플 레스토랑👍레스토랑 인테리어 느낌있구요누룽지파스타, 문어파스타, 전...  2022-02-17    0         \n",
       "3  <광고>#제주분식 https://jejubunsig.modoo.at/ 📌제주시 귀아...  2022-02-16    0         \n",
       "4  <광고>#제주분식 https://jejubunsig.modoo.at/ 📌제주시 귀아...  2022-02-17    0         \n",
       "5  제주여행 2일차오늘은 #제주분식 에서 아침먹고 시작!돔베가 올라간 라면이랑 모듬분식...  2022-02-16  111         \n",
       "6  <광고>#제주분식 https://jejubunsig.modoo.at/ 📌제주시 귀아...  2022-02-17    0         \n",
       "7  광고서귀포 신상 맛집🤩👍💯사우스포레스트@southforest_official_제주 ...  2022-02-17    0         \n",
       "8  <광고>#제주분식 https://jejubunsig.modoo.at/ 📌제주시 귀아...  2022-02-17    0         \n",
       "9  제주도 가족여행#제주분식아이들도 좋아하고 부모님들도 넘 맛있게 잘 드셨어요^^..제...  2022-02-18    0         \n",
       "\n",
       "                                                tags  \n",
       "0  [#제주분식, #제주분식, #모당모당, #돔베라면돔베김밥, #제주맛집, #제주도맛집...  \n",
       "1  [#사우스포레스트🔅주소, #서귀포맛집, #서귀포카페, #협재맛집, #제주도맛집, #...  \n",
       "2  [#이스트포레스트💠제주시, #월정리맛집, #성산일출봉맛집, #우도맛집, #성산맛집,...  \n",
       "3  [#제주분식, #제주분식, #모당모당, #돔베라면돔베김밥, #제주맛집, #제주도맛집...  \n",
       "4  [#제주분식, #제주분식, #모당모당, #돔베라면돔베김밥, #제주맛집, #제주도맛집...  \n",
       "5  [#제주분식, #제주맛집, #제주도맛집, #제주공항맛집, #제주도공항근처맛집, #연...  \n",
       "6  [#제주분식, #제주분식, #모당모당, #돔베라면돔베김밥, #제주맛집, #제주도맛집...  \n",
       "7  [#사우스포레스트🔅주소, #서귀포맛집, #서귀포카페, #협재맛집, #제주도맛집, #...  \n",
       "8  [#제주분식, #제주분식, #모당모당, #돔베라면돔베김밥, #제주맛집, #제주도맛집...  \n",
       "9  [#제주분식아이들도, #제주맛집, #제주도맛집, #제주공항맛집, #제주도공항근처맛집...  "
      ]
     },
     "execution_count": 198,
     "metadata": {},
     "output_type": "execute_result"
    }
   ],
   "source": [
    "result_df = pd.DataFrame(results,\n",
    "                        columns = ['content', 'date','like','place','tags'])\n",
    "result_df.head(10)"
   ]
  },
  {
   "cell_type": "code",
   "execution_count": 199,
   "id": "11324175",
   "metadata": {},
   "outputs": [],
   "source": [
    "# 엑셀 파일화 \n",
    "result_df.to_excel('C:/Users/SAMSUNG/Desktop/파이썬 데이터 분석/데이터 분석 실무 파이썬/insta_jeju_food.xlsx')"
   ]
  },
  {
   "cell_type": "markdown",
   "id": "42846662",
   "metadata": {},
   "source": [
    "###  여러 엑셀 파일 중복 제거 후 통합저장 "
   ]
  },
  {
   "cell_type": "code",
   "execution_count": 202,
   "id": "d571a07f",
   "metadata": {},
   "outputs": [],
   "source": [
    "#여러 개의 저장파일 통합하기\n",
    "jeju_insta_df = pd.DataFrame( [ ] )\n",
    "\n",
    "folder = 'C:/Users/SAMSUNG/Desktop/파이썬 데이터 분석/데이터 분석 실무 파이썬/'\n",
    "f_list = ['insta_jeju_hotplace.xlsx', 'insta_jeju_best.xlsx','insta_jeju_food.xlsx']\n",
    "for fname in f_list:\n",
    "    fpath = folder + fname\n",
    "    temp = pd.read_excel(fpath)\n",
    "    jeju_insta_df = jeju_insta_df.append(temp)\n",
    "\n",
    "jeju_insta_df.columns =['index','content','date','like','place','tags']\n"
   ]
  },
  {
   "cell_type": "code",
   "execution_count": 203,
   "id": "35990e65",
   "metadata": {},
   "outputs": [],
   "source": [
    "# 중복제거\n",
    "jeju_insta_df.drop_duplicates(subset = [\"content\"] , inplace = True)\n",
    "jeju_insta_df.to_excel('C:/Users/SAMSUNG/Desktop/파이썬 데이터 분석/데이터 분석 실무 파이썬/1_crawling_raw.xlsx', index = False)"
   ]
  },
  {
   "cell_type": "markdown",
   "id": "4d4974d9",
   "metadata": {},
   "source": [
    "## 워드 클라우드 \n",
    ": 해시태그 정보들을 워드 클라우드로 시각화"
   ]
  },
  {
   "cell_type": "code",
   "execution_count": 204,
   "id": "910a455e",
   "metadata": {},
   "outputs": [
    {
     "data": {
      "text/plain": [
       "0    ['#낙지로-', '#푸민_제주', '#제주도맛집', '#제주공항맛집', '#제주도...\n",
       "1                                           ['#제주도맛집']\n",
       "2    ['#제주도맛집', '#제주맛집', '#제주도횟집', '#제주시횟집', '#제주공항...\n",
       "Name: tags, dtype: object"
      ]
     },
     "execution_count": 204,
     "metadata": {},
     "output_type": "execute_result"
    }
   ],
   "source": [
    "import pandas as pd \n",
    "raw_total = pd.read_excel('C:/Users/SAMSUNG/Desktop/파이썬 데이터 분석/데이터 분석 실무 파이썬/1_crawling_raw.xlsx')\n",
    "raw_total['tags'][:3]"
   ]
  },
  {
   "cell_type": "code",
   "execution_count": 205,
   "id": "c586399d",
   "metadata": {},
   "outputs": [
    {
     "name": "stdout",
     "output_type": "stream",
     "text": [
      "['#낙지로-', '#푸민_제주', '#제주도맛집', '#제주공항맛집', '#제주도공항근처맛집', '#제주도공항맛집', '#제주공항근처맛집', '#제주맛집', '#제주도여행', '#제주여행코스', '#제주여행', '#제주도가볼만한곳', '#제주도민맛집', '#연동맛집', '#제주공항맛집추천', '#맛집추천', '#제주도게스트하우스', '#제주도술집', '#제주시맛집', '#맛집']\n",
      "['#제주도맛집']\n",
      "['#제주도맛집', '#제주맛집', '#제주도횟집', '#제주시횟집', '#제주공항근처횟집', '#제주시내횟집', '#용두암근처맛집', '#용두암맛집', '#제주횟집추천', '#제주도공항근처횟집', '#도두맛집', '#이호테우해변맛집', '#제주공항맛집']\n",
      "['#제주분식', '#제주분식', '#모당모당', '#돔베라면돔베김밥', '#제주맛집', '#제주도맛집', '#제주시맛집', '#제주공항근처맛집', '#제주공항맛집', '#제주맛집추천', '#제주도맛집추천', '#제주현지인맛집', '#제주가볼만한곳', '#제주도먹거리', '#제주여행', '#제주도여행', '#애월맛집', '#제주연동맛집', '#제주해물라면']\n",
      "['#자리돔횟집', '#유달식당', '#몰질식육식당', '#제주선채향', '#화순평양면옥', '#우무', '#호커센터', '#제주도', '#제주여행']\n",
      "['#제주도맛집', '#제주맛집', '#제주공항맛집', '#이호테우해변맛집', '#제주갈치조림맛집', '#제주도갈치조림맛집', '#제주갈치조림', '#제주도갈치조림', '#제주시내맛집', '#제주도민맛집', '#제주현지인맛집']\n",
      "['#협재술시', '#협재맛집', '#협재술집', '#제주협재맛집', '#제주맛집', '#제주도맛집', '#친스타그램', '#소통', '#좋아요테러', '#셀스타그램', '#좋반', '#likeforfollow', '#인친', '#like4likes', '#좋아요반사', '#좋아요', '#여행', '#맞팔해요', '#followmeplease', '#follow', '#선팔하면맞팔', '#팔로워', '#follow4followback', '#협찬', '#followforfollowback', '#맞팔', '#첫줄반사', '#맞팔환영', '#likeforilkes', '#followback']\n",
      "['#제주도', '#아라동', '#카페묵묵', '#시오빵맛집', '#일상', '#데일리그램', '#제주도민일상', '#제주라이프', '#제주도맛집', '#제주도핫플', '#좋아요', '#소통해요', '#선팔맞팔환영', '#dailygram', '#like4follow', '#today', '#liked']\n",
      "['#임자나왔쑥', '#니생각이났어', '#제주도맛집', '#제주도맛집추천', '#제주도카페', '#제주도카페추천', '#제주도빵집', '#제주도빵지순례', '#제주시맛집', '#제주시카페', '#제주시빵집', '#제주시청맛집', '#제주시내맛집', '#제주시청카페', '#제주시내카페', '#크럼블택배', '#크럼블맛집', '#먹스타그램', '#흑임자케이크', '#흑임자크럼블', '#빵스타그램', '#쑥케이크', '#빵맛집', '#디저트택배', '#디저트맛집', '#디저트스타그램', '#카페추천', '#카페스타그램', '#빵택배']\n",
      "['#동문올레수산**제주도', '#제주공항근처맛집', '#동문올레수산방문인증', '#제주동문시장맛집', '#제주도횟집', '#제주도맛집', '#제주동문시장', '#제주딱새우', '#제주도현지인맛집', '#제주도여행', '#제주시내맛집', '#제주여행', '#제주가볼만한곳', '#제주도가볼만한곳', '#제주도여행코스', '#제주회포장']\n",
      "[]\n",
      "['#제주파스토.....', '#제주협재맛집', '#제주애월맛집', '#애월맛집', '#제주도맛집', '#제주맛집', '#제주도맛집투어', '#제주맛집투어', '#파스토_제주', '#제주도애월맛집', '#제주도여행코스', '#제주뷰맛집', '#제주도뷰맛집']\n",
      "['#제주함덕맛집', '#함덕', '#함덕맛집', '#함덕흑돼지무한리필', '#함덕흑돼지', '#함덕해수욕장', '#함덕해변', '#소노벨근처맛집', '#함덕해수욕장맛집', '#함덕무한리필', '#함덕존맛', '#함덕특수부위', '#함덕흑돼지맛집', '#흑백돈', '#함덕맛집추천', '#함덕현지인맛집', '#제주도핫플', '#제주맛집', '#제주도맛집', '#제주도현지인맛집', '#현지인맛집', '#제주핫플', '#함덕포장', '#함덕흑돼지포장']\n",
      "[]\n",
      "['#애월맛집', '#제주맛집', '#애월맛집추천', '#제주애월맛집', '#애월', '#제주도스타그램', '#제주현지인맛집', '#제주도민추천맛집', '#제주도현지인맛집', '#제주도카페추천', '#제주도카페', '#제주카페', '#제주시', '#제주시가볼만한곳', '#제주도먹방', '#제주시맛집', '#제주도맛집', '#올레시장', '#서귀포올레시장', '#제주오일장', '#제주시오일장', '#제주도렌트카', '#협재해수욕장', '#오설록맛집', '#산방산맛집', '#애월밥집', '#제주흑돼지맛집', '#981파크', '#애월읍맛집']\n",
      "['#제주푸드트럭', '#제주푸드트럭맛집', '#제주도푸드트럭', '#푸드트럭맛집', '#흑돼지강정', '#수제흑돼지강정', '#제주여행', '#제주도여행', '#피그뱅', '#foodtruck', '#제주도밤', '#야시장', '#밤도깨비야시장', '#수목원길야시장', '#수목원테마파크야시장', '#테마파크야시장', '#수목원테마파크', '#제주야시장', '#제주핫플레이스', '#제주도밤에가볼만한곳', '#제주도관광', '#제주맛집', '#제주도맛집', '#제주비올때가볼만한카페']\n",
      "['#만족한상회', '#중문맛집', '#제주맛집추천', '#서귀포맛집', '#서귀포시맛집', '#제주도맛집', '#중문맛집만족한상회', '#중문갈치구이', '#제주도민맛집', '#제주여행코스']\n",
      "['#제주도올레시장맛집', '#이어도전복해물전문점', '#서귀포해물탕', '#서귀포해물탕맛집', '#제주도해물탕', '#제주해물탕', '#서귀포맛집이어도', '#천지연폭포맛집', '#서귀포가볼만한곳', '#서귀포맛집', '#제주맛집', '#서귀포해물찜', '#제주도맛집']\n",
      "[]\n",
      "['#중문맛집', '#제주도흑돼지맛집', '#제주흑돼지맛집', '#중문흑돼지맛집', '#서귀포흑돼지맛집', '#중문흑돼지', '#제주도흑돼지맛집추천', '#제주도맛집', '#제주도고기집', '#제주맛집', '#제주가볼만한곳', '#제주여행', '#제주맛집추천', '#중문고기집', '#애월흑돼지', '#서귀포맛집', '#서귀포고기집', '#제주신라호텔맛집', '#제주현지인맛집', '#제주도민맛집', '#중문관광단지맛집', '#제주롯데호텔맛집', '#제주히든클리프맛집', '#제주그랜드조선호텔맛집', '#연동맛집', '#곽지맛집', '#곽지해변맛집']\n",
      "[]\n",
      "['#텐동', '#텐동맛집', '#제주도맛집', '#낙원의밤', '#쫀맛탱', '#서귀포맛집', '#제주가볼만한곳']\n",
      "['#애월맛집', '#제주애월맛집', '#제주3대횟집해송수산물회센타', '#애월횟집', '#해송수산물회센타', '#애월회포장', '#제주횟집', '#제주맛집', '#애월항맛집', '#제주도3대횟집', '#애월맛집추천', '#제주3대횟집', '#제주애월횟집', '#제주도횟집', '#제주도맛집']\n",
      "['#프리또.Repost', '#귀덕맛집', '#곽지맛집', '#협재맛집', '#금능맛집', '#한림맛집', '#애월맛집', '#한담맛집', '#제주맛집', '#제주도맛집', '#제주도민맛집', '#제주협재맛집', '#제주한림맛집', '#제주애월맛집', '#협재해수욕장맛집', '#곽지해수욕장맛집', '#애월맛집추천', '#한림맛집추천', '#협재해수욕장', '#곽지해수욕장', '#새별오름', '#제주도여행', '#제주여행', '#제주신혼여행', '#제주신행', '#제주핫플', '#먹스타', '#먹스타그램', '#제주프리또', '#프리또']\n",
      "['#제주도맛집', '#제주도맛집추천', '#제주도고깃집', '#제주도흑돼지', '#제주도흑돼지전문점']\n",
      "['#제주도', '#연동', '#이금돈지']\n",
      "['#씨에스호텔', '#카노푸스다이닝']\n",
      "['#제주도맛집', '#제주공항근처맛집', '#탑동맛집', '#흑돼지맛집', '#고사리', '#흑돼지', '#우도근고기']\n",
      "['#스타벅스', '#카멜리아티', '#드르쿰다in성산', '#사진', '#족욕', '#오늘은녹차한잔', '#식당교래', '#고등어조림', '#제주도', '#제주도맛집', '#제주도카페', '#신비의도로', '#하멜치즈몽', '#제주하멜', '#하멜', '#용담스타벅스', '#백록담', '#해물라면']\n",
      "[]\n",
      "['#제주', '#제주살이']\n",
      "['#제주', '#제주여행']\n",
      "['#전북대', '#주미담', '#전북대', '#전북대맛집', '#전북대카페', '#전북대술집', '#전북대미용실', '#전주술집', '#전주이자카야', '#전주여행', '#전주한옥마을', '#전주데이트', '#전주가볼만한곳', '#맛스타그램', '#먹스타그램', '#소자본창업', '#한식주점', '#전주막걸리', '#강남맛집', '#대전맛집', '#제주도맛집', '#전주술집추천', '#전주꽃집', '#전주신시가지술집', '#신시가지맛집', '#객리단길맛집', '#객리단길', '#웨리단길', '#홍리단길', '#전주속눈썹', '#전주네일']\n",
      "['#귀덕맛집', '#곽지맛집', '#협재맛집', '#금능맛집', '#한림맛집', '#애월맛집', '#한담맛집', '#제주맛집', '#제주도맛집', '#제주도민맛집', '#제주협재맛집', '#협재해수욕장맛집', '#한림공원맛집', '#곽지해수욕장맛집', '#협재맛집추천', '#애월맛집추천', '#제주맛집추천', '#제주도맛집추천', '#협재해수욕장', '#곽지해수욕장', '#제주도여행', '#제주여행', '#먹스타그램', '#맛스타그램', '#먹방', '#제주', '#jeju', '#제주프리또', '#프리또']\n",
      "['#제주라울', '#라울48', '#제주도', '#박수기정', '#제주레스토랑', '#제주도맛집', '#서귀포맛집', '#대평포구', '#오설록', '#와인', '#제주', '#맛스타그램', '#제주여행', '#먹방', '#대평리맛집', '#산방산', '#제주맛집투어', '#서귀포레스토랑', '#중문관광단지', '#중문맛집', '#대평리', '#카멜리아힐', '#raul48', '#올레길', '#jeju', '#티본스테이크', '#안덕계곡', '#서귀포파스타', '#제주파스타', '#steak']\n",
      "['#제주도', '#삼도이동', '#자매국수']\n",
      "[]\n",
      "['#제주도', '#제주도여행', '#제주도맛집', '#주제도백다방', '#백다방제주']\n",
      "['#공공시', '#일도이동맛집', '#제주인제맛집', '#제주인제술집', '#제주맛집', '#제주데이트코스', '#제주도맛집', '#제주인제와인', '#제주인제칵테일', '#제주인제파스타', '#제주파스타맛집', '#제주칵테일맛집', '#제주와인맛집', '#제주분위기맛집', '#제주분위기깡패', '#제주와인바', '#제주칵테일바', '#제주위스키', '#제주인제파스타', '#제주일도이동맛집', '#구제주맛집', '#제주맛집추천', '#제주데이트추천', '#제주도', '#보드카', '#pravdavodka', '#선팔하면맞팔', '#좋아요반사', '#소통환영', '#언팔대신선팔😚', '#제주파스타맛집']\n",
      "['#현옥식당제주도까지', '#제주도맛집', '#제주시맛집', '#아가리제주도', '#아가리제주']\n",
      "['#키친타올']\n",
      "['#제주분식', '#제주현지인맛집', '#제주맛집', '#제주도맛집', '#제주공항맛집', '#연동맛집', '#연동제주분식', '#제주도공항근처맛집', '#제주도여행', '#제주가볼만한곳', '#노형동맛집']\n",
      "['#애월맛집', '#애월흑돼지', '#애월흑돼지맛집', '#애월흑돼지맛집추천', '#애월맛집인정', '#제주맛집탐방', '#제주맛집인정', '#제주흑돼지거리', '#제주도맛집투어', '#제주도맛집베스트']\n",
      "['#제주애월맛집', '#애월핫플', '#제주도애월맛집', '#애월맛집인정', '#제주맛집탐방', '#제주맛집인정', '#제주도맛집투어', '#제주도맛집베스트', '#제주해물라면', '#제주해물칼국수']\n",
      "['#제주맛집', '#애월흑돼지', '#애월흑돼지맛집', '#애월흑돼지맛집추천', '#애월맛집인정', '#제주맛집탐방', '#제주맛집인정', '#제주흑돼지거리', '#제주도맛집투어', '#제주도맛집베스트']\n",
      "['#제주도맛집', '#제주도현지인맛집', '#제주도맛집베스트', '#제주도맛집투어', '#제주맛집투어', '#제주맛집베스트', '#제주맛집탐방', '#한림맛집추천', '#한림흑돼지', '#한림흑돼지맛집']\n",
      "['#제주도맛집', '#제주도현지인맛집', '#제주도맛집베스트', '#제주도맛집투어', '#제주맛집투어', '#제주맛집베스트', '#제주맛집탐방', '#한림맛집추천', '#한림흑돼지', '#한림흑돼지맛집']\n",
      "['#제주맛집', '#애월흑돼지', '#애월흑돼지맛집', '#애월흑돼지맛집추천', '#애월맛집인정', '#제주맛집탐방', '#제주맛집인정', '#제주흑돼지거리', '#제주도맛집투어', '#제주도맛집베스트']\n",
      "['#협찬', '#어박사한림점', '#한림맛집', '#협재맛집', '#제주갈치조림', '#한림읍맛집', '#협재갈치조림맛집', '#어박사', '#제주도맛집베스트', '#제주갈치구이', '#제주갈치맛집', '#맛스타그램', '#여행일상', '#셀스타그램얼스타그램', '#koreangirl', '#오늘의훈녀']\n",
      "['#홍여우', '#홍여우후기', '#홍여우다이어트', '#해독다이어트', '#홍여우효린코치', '#전신디톡스', '#디톡스다이어트', '#해독다이어트']\n",
      "['#틴더타운']\n",
      "['#애월맛집', '#애월흑돼지', '#애월흑돼지맛집', '#애월흑돼지맛집추천', '#애월맛집인정', '#제주맛집탐방', '#제주맛집인정', '#제주흑돼지거리', '#제주도맛집투어', '#제주도맛집베스트']\n",
      "['#애월맛집', '#애월흑돼지', '#애월흑돼지맛집', '#애월흑돼지맛집추천', '#애월맛집인정', '#제주맛집탐방', '#제주맛집인정', '#제주흑돼지거리', '#제주도맛집투어', '#제주도맛집베스트']\n",
      "[]\n",
      "['#해운대맛집', '#부산맛집', '#광안리맛집', '#서면맛집', '#남포동맛집', '#제주도맛집베스트', '#석사동맛집', '#대평리맛집', '#엉또폭포맛집', '#벨라시타맛집', '#연어초밥맛집', '#제주여행맛집', '#천안디저트맛집', '#맛집기행', '#대전국밥맛집']\n",
      "['#그린사이공', '#제주도최고맛집', '#제주도맛집', '#제주맛집', '#한경맛집', '#맛집기록', '#맛집투어', '#제주도맛집베스트', '#제주도', '#인연', '#맛집', '#제주도여행']\n",
      "['#로맨틱새우', '#애월맛집', '#곽지맛집', '#곽지해수욕장맛집', '#제주맛집', '#제주도맛집']\n",
      "['#영주말가든', '#제주맛집', '#제주도맛집', '#제주공항근처맛집', '#제주공항맛집', '#제주도말고기맛집', '#먹팔', '#제주공항근처고기집', '#맛집추천', '#제주공항근처맛집추천', '#프로먹방러', '#제주도맛집베스트', '#제주맛집공유', '#제주맛집소개', '#제주도고기전문점', '#먹스타그램맞팔', '#먹스타']\n",
      "[]\n",
      "['#제주맛집', '#애월흑돼지', '#애월흑돼지맛집', '#애월흑돼지맛집추천', '#애월맛집인정', '#제주맛집탐방', '#제주맛집인정', '#제주흑돼지거리', '#제주도맛집투어', '#제주도맛집베스트']\n",
      "['#애월맛집', '#애월흑돼지', '#애월흑돼지맛집', '#애월흑돼지맛집추천', '#애월맛집인정', '#제주맛집탐방', '#제주맛집인정', '#제주흑돼지거리', '#제주도맛집투어', '#제주도맛집베스트']\n",
      "[]\n",
      "['#누지차크럼블', '#니생각이났어', '#제주도맛집', '#제주도맛집추천', '#제주도맛집베스트', '#디저트스타그램', '#제주도카페', '#카페스타그램', '#제주도빵집', '#제주도빵지순례', '#먹스타그램', '#제주도여행', '#제주도여행코스', '#제주맛집', '#제주카페', '#빵스타그램', '#제주시내맛집', '#제주시내카페', '#제주시청맛집', '#제주시청카페', '#녹차덕후', '#제주시맛집', '#제주시카페', '#제주시빵집', '#크럼블택배', '#크럼블맛집', '#호지차', '#빵맛집', '#말차덕후', '#빵택배']\n",
      "['#대우정', '#미래쿡잇', '#미래_제주도', '#제주맛집추천', '#제주맛집투어', '#제주맛집탐방', '#제주도맛집추천', '#제주도맛집투어', '#제주도맛집베스트', '#제주여행코스', '#제주핫플레이스', '#먹스타', '#먹스타그램', '#인스타푸드']\n",
      "['#오리지널티라미스', '#니생각이났어', '#제주도맛집', '#제주도맛집추천', '#제주도맛집베스트', '#제주도', '#제주도여행', '#제주도카페', '#제주시맛집', '#제주시카페', '#제주시청맛집', '#제주시내맛집', '#제주시내카페', '#제주도빵집', '#제주맛집', '#제주카페', '#제주빵집', '#크럼블택배', '#크럼블맛집', '#티마리수', '#디저트택배', '#디저트맛집', '#디저트스타그램', '#빵택배', '#빵맛집', '#빵스타그램', '#먹스타그램', '#카페스타그램', '#케이크맛집']\n",
      "['#제주도맛집', '#제주도현지인맛집', '#제주도맛집베스트', '#제주도맛집투어', '#제주맛집투어', '#제주맛집베스트', '#제주맛집탐방', '#한림맛집추천', '#한림흑돼지', '#한림흑돼지맛집']\n",
      "[]\n",
      "['#베리숲', '#니생각이났어', '#제주도맛집', '#제주도맛집추천', '#제주도맛집베스트', '#제주도카페', '#먹스타그램', '#디저트스타그램', '#제주맛집', '#제주맛집추천', '#제주카페', '#제주카페추천', '#제주도여행', '#제주도빵집', '#빵지순례', '#디저트맛집', '#디저트택배', '#빵스타그램', '#제주시내맛집', '#제주시내카페', '#빵택배', '#제주시청맛집', '#제주시맛집', '#제주시카페', '#말차크럼블', '#크럼블맛집', '#말차케이크', '#말차덕후', '#크럼블택배']\n",
      "['#제주도야외맛집', '#제주시가볼만한곳', '#제주도가볼만한곳', '#제주핫플', '#제주가족여행', '#제주우정여행', '#제주커플여행', '#제주도맛집', '#제주도맛집추천', '#제주도맛집베스트', '#제주도맛집투어', '#제주야외맛집', '#제주오션뷰맛집', '#제주맛집', '#제주맛집추천', '#제주맛집투어', '#제주가볼만한곳', '#가자제주도']\n",
      "['#맛스타그램', '#먹스타그램', '#먹방', '#맛집', '#제주도맛집', '#성산맛집', '#성산일출봉맛집', '#고기맛집', '#목살맛집', '#화로구이', '#단백', '#예약제', '#제주도맛집추천', '#제주도맛집베스트', '#제주도가볼만한곳', '#제주도핫플레이스']\n",
      "['#범하다', '#제주범하다']\n",
      "['#애월찜', '#애월맛집', '#제주맛집', '#제주도맛집', '#애월해물찜']\n",
      "['#제주분식', '#제주분식', '#모당모당', '#돔베라면돔베김밥', '#제주맛집', '#제주도맛집', '#제주시맛집', '#제주공항근처맛집', '#제주공항맛집', '#제주맛집추천', '#제주도맛집추천', '#제주현지인맛집', '#제주가볼만한곳', '#제주도먹거리', '#제주여행', '#제주도여행', '#애월맛집', '#제주연동맛집', '#제주해물라면']\n",
      "['#사우스포레스트🔅주소', '#서귀포맛집', '#서귀포카페', '#협재맛집', '#제주도맛집', '#남원맛집', '#제주남원맛집', '#애월카페', '#휴애리맛집', '#남원카페', '#한라산', '#서귀포시맛집', '#제주중문맛집', '#제주시맛집', '#중문맛집', '#함덕맛집', '#한림맛집', '#대정맛집', '#표선맛집', '#월정리맛집', '#중문관광단지맛집', '#안덕면맛집', '#제주맛집추천', '#제주도맛집추천']\n",
      "['#이스트포레스트💠제주시', '#월정리맛집', '#성산일출봉맛집', '#우도맛집', '#성산맛집', '#구좌맛집', '#제주시맛집', '#종달리맛집', '#제주도맛집추천', '#제주맛집추천', '#세화맛집', '#김녕맛집', '#제주공항근처맛집', '#우도여행', '#비자림맛집', '#한림맛집', '#한림카페', '#표선맛집']\n",
      "['#제주분식', '#제주맛집', '#제주도맛집', '#제주공항맛집', '#제주도공항근처맛집', '#연동제주분식', '#제주노형동맛집', '#신제주맛집', '#연동맛집', '#제주분식맛집', '#제주도맛집추천']\n",
      "['#제주분식아이들도', '#제주맛집', '#제주도맛집', '#제주공항맛집', '#제주도공항근처맛집', '#연동제주분식', '#제주노형동맛집', '#신제주맛집', '#연동맛집', '#제주분식맛집', '#제주도맛집추천']\n",
      "['#비오는밤', '#딱이죠', '#고기폭탄홍국수', '#늘소담', '#편한밤되세요💕💕💕11:30']\n",
      "['#제주', '#제주도', '#제주여행', '#제주도여행', '#제주맛집', '#제주도맛집', '#제주맛집추천', '#제주도맛집추천', '#애월', '#애월여행', '#애월맛집', '#애월맛집추천', '#문개항아리', '#문개항아리애월점', '#애월문개항아리', '#해물칼국수', '#문개항아리해물칼국수', '#먹스타그램', '#럽스타그램', '#끼희스타그램']\n",
      "['#자연스러운식당', '#올레시장맛집', '#롯데호텔제주', '#제주핫플레이스', '#제주브런치', '#올레시장', '#제주키즈존', '#제주브런치카페', '#제주도맛집추천', '#제주도가볼만한곳', '#제주신라호텔', '#히든클리프', '#쇠소깍맛집', '#제주가볼만한곳', '#성산맛집', '#중문맛집', '#서귀포맛집', '#제주신혼여행', '#신라호텔제주', '#제주도핫플레이스', '#오설록맛집', '#연돈', '#보름왓', '#jejucafe', '#서귀포브런치', '#제주맛집추천', '#제주도맛집추천', '#제주신혼여행', '#베케', '#서귀포핫플', '#산방산맛집']\n",
      "['#신우성엉덩물횟집', '#제주횟집', '#제주횟집추천날것을', '#제주도맛집추천', '#제주핫플추천', '#서귀포맛집', '#중문맛집신우성엉덩물횟집', '#중문맛집', '#제주도중문횟집', '#제주도횟집']\n",
      "['#애월맛집', '#애월카페', '#애월읍맛집', '#제주애월맛집', '#제주도맛집', '#제주맛집', '#제주카페', '#외도맛집', '#하귀맛집', '#한림맛집', '#한림카페', '#애월해안도로맛집', '#애월가볼만한곳', '#제주공항맛집', '#제주데이트', '#제주공항근처맛집', '#한담맛집', '#제주해안도로', '#제주맛집추천', '#제주도맛집추천', '#제주도민맛집']\n",
      "['#이호테우말등대제주하면', '#제주여행', '#제주도여행', '#제주여행코스', '#제주가볼만한곳', '#제주맛집추천', '#제주도맛집추천', '#제주데이트코스', '#제주핫플', '#제주도핫플', '#제주도가볼만한곳', '#제주도데이트코스', '#제주도카페', '#제주도카페추천', '#제주시가볼만한곳', '#이호테우', '#제주공항근처', '#제주공항근처가볼만한곳']\n",
      "['#애월맛집', '#애월카페', '#애월읍맛집', '#협재맛집', '#새별오름', '#비행기샷', '#제주애월맛집', '#제주도맛집', '#제주맛집', '#제주카페', '#외도맛집', '#하귀맛집', '#한림맛집', '#한림카페', '#애월해안도로맛집', '#애월가볼만한곳', '#제주공항맛집', '#제주데이트', '#제주공항근처맛집', '#한담맛집', '#제주해안도로', '#제주맛집추천', '#제주도맛집추천', '#제주도민맛집']\n",
      "['#오늘의저녁', '#인친', '#소통좋아요', '#일상', '#맞팔', '#소통', '#좋반', '#좋아요', '#제주맛집', '#제주맛집추천', '#제주도맛집', '#제주도맛집추천', '#제주공항맛집', '#제주공항근처맛집', '#보말칼국수', '#보말칼국수맛집', '#제주보말칼국수', '#제주보말칼국수맛집', '#제주도보말칼국수', '#제주도보말칼국수맛집', '#돔베고기', '#협재맛집', '#곽지맛집', '#한담맛집', '#한림맛집', '#이호테우맛집', '#애월맛집', '#애월해안도로맛집', '#한라진칼국수', '#먹팔']\n",
      "[]\n",
      "['#제주도맛집', '#제주분식제주해물라면', '#제주맛집', '#제주공항맛집', '#제주도공항근처맛집', '#연동제주분식', '#제주노형동맛집', '#신제주맛집', '#연동맛집', '#제주분식맛집', '#제주도맛집추천']\n",
      "['#제주도흑돼지', '#제주흑돼지', '#서귀포흑돼지', '#신화월드맛집', '#서귀포맛집', '#산방산맛집', '#송악산맛집', '#제주도고기집', '#제주흑돼지맛집', '#제주도맛집', '#제주맛집', '#제주현지인맛집', '#제주도맛집추천']\n",
      "['#제주도흑돼지', '#제주흑돼지', '#서귀포흑돼지', '#신화월드맛집', '#서귀포맛집', '#산방산맛집', '#송악산맛집', '#제주도고기집', '#제주흑돼지맛집', '#제주도맛집', '#제주맛집', '#제주현지인맛집', '#제주도맛집추천']\n",
      "['#제주분식', '#제주맛집', '#제주도맛집', '#제주공항맛집', '#제주도공항근처맛집', '#연동제주분식', '#제주도데이트', '#제주노형동맛집', '#신제주맛집', '#연동맛집', '#제주분식맛집', '#제주도맛집추천']\n",
      "['#제주도맛집', '#제주맛집', '#제주현지인맛집', '#제주도민맛집', '#제주핫플', '#제주도김밥', '#제주가볼만한곳', '#제주도데이트', '#제주도여행', '#제주여행', '#제주도맛집추천', '#협재맛집', '#애월맛집', '#한림맛집']\n",
      "['#울아들', '#아기수영', '#제주맘', '#딸맘', '#아들과딸', '#아기옷', '#육아맘그램', '#잘생긴아들', '#코인', '#오사카여행', '#오늘저녁', '#명동', '#제주도맛집추천', '#내사진', '#사진가', '#오늘하루도', '#안양맛집', '#직장인', '#후퇴', '#집', '#인스타그램']\n",
      "['#아는형님게스트하우스', '#성산흑돼지맛집', '#성산흑돼지', '#성산맛집', '#제주맛집', '#제주도맛집', '#제주맛집추천', '#제주도맛집추천', '#제주흑돼지', '#제주흑돼지맛집', '#제주도흑돼지', '#제주도흑돼지맛집', '#서귀포맛집', '#서귀포흑돼지', '#서귀포흑돼지맛집', '#제주맛집투어', '#제주가볼만한곳', '#제주도가볼만한곳', '#제주살이', '#제주도맛집여행', '#제주숙소', '#신화월드맛집', '#대정읍맛집', '#산방산맛집', '#안덕면맛집', '#애월맛집', '#월정리맛집', '#협재맛집', '#협재흑돼지', '#함덕맛집']\n",
      "['#아는형님게스트하우스', '#성산흑돼지맛집', '#성산흑돼지', '#성산맛집', '#제주맛집', '#제주도맛집', '#제주맛집추천', '#제주도맛집추천', '#제주흑돼지', '#제주흑돼지맛집', '#제주도흑돼지', '#제주도흑돼지맛집', '#서귀포맛집', '#서귀포흑돼지', '#서귀포흑돼지맛집', '#제주맛집투어', '#제주가볼만한곳', '#제주도가볼만한곳', '#제주살이', '#제주도맛집여행', '#제주숙소', '#신화월드맛집', '#대정읍맛집', '#산방산맛집', '#안덕면맛집', '#애월맛집', '#월정리맛집', '#협재맛집', '#협재흑돼지', '#함덕맛집']\n",
      "['#애월찜', '#애월맛집', '#제주맛집', '#제주도맛집', '#애월해물찜']\n",
      "['#양세형', '#제주맛집', '#제주도맛집추천', '#애월맛집', '#한림맛집', '#한림아침식사', '#한림점심', '#제주협재맛집', '#협재해수욕장맛집', '#애월아침식사', '#a독개', '#제주가볼만한곳', '#제주여행', '#맛집여행', '#좋아요', '#선팔', '#맞팔']\n",
      "['#애월맛집', '#애월카페', '#애월읍맛집', '#제주애월맛집', '#제주도맛집', '#제주맛집', '#제주카페', '#외도맛집', '#하귀맛집', '#협재맛집', '#협재해수욕장', '#한림맛집', '#한림카페', '#애월해안도로맛집', '#애월가볼만한곳', '#제주공항맛집', '#제주데이트', '#제주공항근처맛집', '#한담맛집', '#제주해안도로', '#제주맛집추천', '#제주도맛집추천', '#제주도민맛집']\n"
     ]
    }
   ],
   "source": [
    "# 해시태그를 통합 저장 \n",
    "# 딕 - A: n회 , B : n회 ... \n",
    "tags_total = []\n",
    "\n",
    "for tags in raw_total['tags'] :\n",
    "    print(tags)\n",
    "    tags_list = tags[2 :-2].split(\"', '\")   # tags 내용 형식 [ '#~'  ~'#태그 ' ]\n",
    "    for tag in tags_list :\n",
    "        tags_total.append(tag)\n",
    "        "
   ]
  },
  {
   "cell_type": "code",
   "execution_count": 206,
   "id": "65d9ee26",
   "metadata": {},
   "outputs": [
    {
     "data": {
      "text/plain": [
       "['#애월맛집',\n",
       " '#애월카페',\n",
       " '#애월읍맛집',\n",
       " '#제주애월맛집',\n",
       " '#제주도맛집',\n",
       " '#제주맛집',\n",
       " '#제주카페',\n",
       " '#외도맛집',\n",
       " '#하귀맛집',\n",
       " '#협재맛집',\n",
       " '#협재해수욕장',\n",
       " '#한림맛집',\n",
       " '#한림카페',\n",
       " '#애월해안도로맛집',\n",
       " '#애월가볼만한곳',\n",
       " '#제주공항맛집',\n",
       " '#제주데이트',\n",
       " '#제주공항근처맛집',\n",
       " '#한담맛집',\n",
       " '#제주해안도로',\n",
       " '#제주맛집추천',\n",
       " '#제주도맛집추천',\n",
       " '#제주도민맛집']"
      ]
     },
     "execution_count": 206,
     "metadata": {},
     "output_type": "execute_result"
    }
   ],
   "source": [
    "tags_list"
   ]
  },
  {
   "cell_type": "code",
   "execution_count": 207,
   "id": "a9a41baf",
   "metadata": {},
   "outputs": [
    {
     "data": {
      "text/plain": [
       "'#제주도민맛집'"
      ]
     },
     "execution_count": 207,
     "metadata": {},
     "output_type": "execute_result"
    }
   ],
   "source": [
    "tag"
   ]
  },
  {
   "cell_type": "code",
   "execution_count": 208,
   "id": "786159c8",
   "metadata": {},
   "outputs": [
    {
     "data": {
      "text/plain": [
       "1312"
      ]
     },
     "execution_count": 208,
     "metadata": {},
     "output_type": "execute_result"
    }
   ],
   "source": [
    "len(tags_total) # 원소 1개당 게시글 하나의 태그 모음 "
   ]
  },
  {
   "cell_type": "markdown",
   "id": "b2d336b4",
   "metadata": {},
   "source": [
    "* 해시태그 출현 빈도 집계 : Counter 함수 "
   ]
  },
  {
   "cell_type": "code",
   "execution_count": 209,
   "id": "0fd716f7",
   "metadata": {},
   "outputs": [],
   "source": [
    "from collections import Counter \n",
    "tags_counts = Counter(tags_total)"
   ]
  },
  {
   "cell_type": "code",
   "execution_count": 210,
   "id": "2ea2ef4e",
   "metadata": {},
   "outputs": [
    {
     "data": {
      "text/plain": [
       "[('#제주도맛집', 58),\n",
       " ('#제주맛집', 44),\n",
       " ('#제주도맛집추천', 33),\n",
       " ('#애월맛집', 23),\n",
       " ('#제주도맛집베스트', 21),\n",
       " ('#제주맛집추천', 20),\n",
       " ('#제주도여행', 16),\n",
       " ('#제주공항맛집', 15),\n",
       " ('#제주여행', 15),\n",
       " ('#제주도맛집투어', 14),\n",
       " ('#제주가볼만한곳', 13),\n",
       " ('#서귀포맛집', 12),\n",
       " ('#제주맛집탐방', 12),\n",
       " ('#제주공항근처맛집', 11),\n",
       " ('#제주시맛집', 11),\n",
       " ('#제주도', 11),\n",
       " ('#협재맛집', 11),\n",
       " ('', 11),\n",
       " ('#한림맛집', 11),\n",
       " ('#제주도민맛집', 10),\n",
       " ('#먹스타그램', 10),\n",
       " ('#제주현지인맛집', 9),\n",
       " ('#제주맛집투어', 9),\n",
       " ('#제주도가볼만한곳', 8),\n",
       " ('#제주애월맛집', 8),\n",
       " ('#애월흑돼지', 8),\n",
       " ('#애월맛집인정', 8),\n",
       " ('#제주맛집인정', 8),\n",
       " ('#연동맛집', 7),\n",
       " ('#제주분식', 7),\n",
       " ('#제주도카페', 7),\n",
       " ('#제주카페', 7),\n",
       " ('#애월흑돼지맛집', 7),\n",
       " ('#애월흑돼지맛집추천', 7),\n",
       " ('#제주흑돼지거리', 7),\n",
       " ('#제주도공항근처맛집', 6),\n",
       " ('#제주시내맛집', 6),\n",
       " ('#제주도현지인맛집', 6),\n",
       " ('#산방산맛집', 6),\n",
       " ('#제주흑돼지맛집', 6),\n",
       " ('#중문맛집', 6),\n",
       " ('#한담맛집', 6),\n",
       " ('#제주협재맛집', 5),\n",
       " ('#제주핫플', 5),\n",
       " ('#애월맛집추천', 5),\n",
       " ('#곽지맛집', 5),\n",
       " ('#제주도흑돼지', 5),\n",
       " ('#제주', 5),\n",
       " ('#맛스타그램', 5),\n",
       " ('#연동제주분식', 5)]"
      ]
     },
     "execution_count": 210,
     "metadata": {},
     "output_type": "execute_result"
    }
   ],
   "source": [
    "tags_counts.most_common(50)"
   ]
  },
  {
   "cell_type": "markdown",
   "id": "aaaaacd3",
   "metadata": {},
   "source": [
    "가장 많은 키워드는 제주도맛집 :41"
   ]
  },
  {
   "cell_type": "code",
   "execution_count": 211,
   "id": "ae65071f",
   "metadata": {},
   "outputs": [],
   "source": [
    "# 빈 태그는 지움 \n",
    "most_common = tags_counts.most_common(50)"
   ]
  },
  {
   "cell_type": "markdown",
   "id": "836747e7",
   "metadata": {},
   "source": [
    "* 막대차트로 해시태그 살펴보기 "
   ]
  },
  {
   "cell_type": "code",
   "execution_count": 212,
   "id": "13c33579",
   "metadata": {},
   "outputs": [],
   "source": [
    "import matplotlib.pyplot as plt\n",
    "import seaborn as sns\n",
    "from matplotlib import font_manager , rc # 한폰트 깨짐\n",
    "import sys \n",
    "\n",
    "if sys.platform in [\"win32\", \"win64\"]:\n",
    "    font_name = \"malgun gothic\"\n",
    "elif sys.platform == \"darwin\":\n",
    "    font_name = \"AppleGothic\"\n",
    "\n",
    "rc('font',family=font_name)"
   ]
  },
  {
   "cell_type": "code",
   "execution_count": 213,
   "id": "a49f3b2b",
   "metadata": {},
   "outputs": [],
   "source": [
    "tag_counts_df = pd.DataFrame(most_common)\n",
    "tag_counts_df.columns = ['tags', 'counts']"
   ]
  },
  {
   "cell_type": "code",
   "execution_count": 214,
   "id": "d20e2736",
   "metadata": {},
   "outputs": [
    {
     "data": {
      "text/html": [
       "<div>\n",
       "<style scoped>\n",
       "    .dataframe tbody tr th:only-of-type {\n",
       "        vertical-align: middle;\n",
       "    }\n",
       "\n",
       "    .dataframe tbody tr th {\n",
       "        vertical-align: top;\n",
       "    }\n",
       "\n",
       "    .dataframe thead th {\n",
       "        text-align: right;\n",
       "    }\n",
       "</style>\n",
       "<table border=\"1\" class=\"dataframe\">\n",
       "  <thead>\n",
       "    <tr style=\"text-align: right;\">\n",
       "      <th></th>\n",
       "      <th>tags</th>\n",
       "      <th>counts</th>\n",
       "    </tr>\n",
       "  </thead>\n",
       "  <tbody>\n",
       "    <tr>\n",
       "      <th>0</th>\n",
       "      <td>#제주도맛집</td>\n",
       "      <td>58</td>\n",
       "    </tr>\n",
       "    <tr>\n",
       "      <th>1</th>\n",
       "      <td>#제주맛집</td>\n",
       "      <td>44</td>\n",
       "    </tr>\n",
       "    <tr>\n",
       "      <th>2</th>\n",
       "      <td>#제주도맛집추천</td>\n",
       "      <td>33</td>\n",
       "    </tr>\n",
       "    <tr>\n",
       "      <th>3</th>\n",
       "      <td>#애월맛집</td>\n",
       "      <td>23</td>\n",
       "    </tr>\n",
       "    <tr>\n",
       "      <th>4</th>\n",
       "      <td>#제주도맛집베스트</td>\n",
       "      <td>21</td>\n",
       "    </tr>\n",
       "  </tbody>\n",
       "</table>\n",
       "</div>"
      ],
      "text/plain": [
       "        tags  counts\n",
       "0     #제주도맛집      58\n",
       "1      #제주맛집      44\n",
       "2   #제주도맛집추천      33\n",
       "3      #애월맛집      23\n",
       "4  #제주도맛집베스트      21"
      ]
     },
     "execution_count": 214,
     "metadata": {},
     "output_type": "execute_result"
    }
   ],
   "source": [
    "tag_counts_df.head()"
   ]
  },
  {
   "cell_type": "code",
   "execution_count": 215,
   "id": "ed61e8cb",
   "metadata": {},
   "outputs": [
    {
     "data": {
      "text/plain": [
       "<AxesSubplot:xlabel='counts', ylabel='tags'>"
      ]
     },
     "execution_count": 215,
     "metadata": {},
     "output_type": "execute_result"
    },
    {
     "data": {
      "image/png": "[encoded data removed]",
      "text/plain": [
       "<Figure size 720x576 with 1 Axes>"
      ]
     },
     "metadata": {
      "needs_background": "light"
     },
     "output_type": "display_data"
    }
   ],
   "source": [
    "plt.figure(figsize= (10,8))\n",
    "sns.barplot(data = tag_counts_df , x= 'counts', y ='tags')\n"
   ]
  },
  {
   "cell_type": "markdown",
   "id": "782607d6",
   "metadata": {},
   "source": [
    "* 워드 클라우드 그리기 "
   ]
  },
  {
   "cell_type": "code",
   "execution_count": 216,
   "id": "e027d10a",
   "metadata": {},
   "outputs": [
    {
     "name": "stdout",
     "output_type": "stream",
     "text": [
      "Requirement already satisfied: jupyter-c-kernel in c:\\users\\samsung\\anaconda3\\lib\\site-packages (1.2.2)\n"
     ]
    }
   ],
   "source": [
    "!pip install jupyter-c-kernel"
   ]
  },
  {
   "cell_type": "code",
   "execution_count": 217,
   "id": "62cd7145",
   "metadata": {},
   "outputs": [
    {
     "name": "stdout",
     "output_type": "stream",
     "text": [
      "^C\n",
      "\n",
      "Note: you may need to restart the kernel to use updated packages.\n"
     ]
    }
   ],
   "source": [
    "conda install -c conda-forge wordcloud"
   ]
  },
  {
   "cell_type": "code",
   "execution_count": 1,
   "id": "811f1797",
   "metadata": {},
   "outputs": [],
   "source": [
    "from wordcloud import WordCloud\n",
    "   # 에러시  ! pip install wordcloud 실행\n",
    "import platform\n",
    "\n",
    "if platform.system() == 'Windows':   #윈도우의 경우\n",
    "    font_path = \"c:/Windows/Fonts/malgun.ttf\"\n",
    "elif platform.system() == \"Darwin\":   #Mac 의 경우\n",
    "    font_path = \"/Users/$USER/Library/Fonts/AppleGothic.ttf\""
   ]
  },
  {
   "cell_type": "code",
   "execution_count": 223,
   "id": "b2fbea87",
   "metadata": {},
   "outputs": [
    {
     "data": {
      "text/plain": [
       "(-0.5, 799.5, 399.5, -0.5)"
      ]
     },
     "execution_count": 223,
     "metadata": {},
     "output_type": "execute_result"
    },
    {
     "data": {
      "image/png": "[encoded data removed]",
      "text/plain": [
       "<Figure size 1080x720 with 1 Axes>"
      ]
     },
     "metadata": {
      "needs_background": "light"
     },
     "output_type": "display_data"
    }
   ],
   "source": [
    "# 워드 클라우드 생성 \n",
    "wordcloud=WordCloud(font_path= font_path, \n",
    "                    background_color=\"white\",\n",
    "                    max_words = 100 , \n",
    "                    relative_scaling = 0.3,\n",
    "                    width = 800,\n",
    "                    height = 400).generate_from_frequencies(tags_counts)\n",
    "                    # .generate_from_frequecies(표현할 데이터)\n",
    "plt.figure(figsize= (15,10))\n",
    "plt.imshow(wordcloud)\n",
    "plt.axis('off')\n"
   ]
  },
  {
   "cell_type": "markdown",
   "id": "dceab193",
   "metadata": {},
   "source": [
    "### 지도 시각화 folium"
   ]
  },
  {
   "cell_type": "code",
   "execution_count": 7,
   "id": "8548e6c0",
   "metadata": {},
   "outputs": [
    {
     "data": {
      "text/html": [
       "<div>\n",
       "<style scoped>\n",
       "    .dataframe tbody tr th:only-of-type {\n",
       "        vertical-align: middle;\n",
       "    }\n",
       "\n",
       "    .dataframe tbody tr th {\n",
       "        vertical-align: top;\n",
       "    }\n",
       "\n",
       "    .dataframe thead th {\n",
       "        text-align: right;\n",
       "    }\n",
       "</style>\n",
       "<table border=\"1\" class=\"dataframe\">\n",
       "  <thead>\n",
       "    <tr style=\"text-align: right;\">\n",
       "      <th></th>\n",
       "      <th>index</th>\n",
       "      <th>content</th>\n",
       "      <th>date</th>\n",
       "      <th>like</th>\n",
       "      <th>place</th>\n",
       "      <th>tags</th>\n",
       "    </tr>\n",
       "  </thead>\n",
       "  <tbody>\n",
       "    <tr>\n",
       "      <th>0</th>\n",
       "      <td>0</td>\n",
       "      <td>길게 말 안합니다. 그냥 가시면 됩니다.낙지볶음 찐맛집이다. 정말 눈물 흘리면서 흡...</td>\n",
       "      <td>2022-02-17</td>\n",
       "      <td>1,511</td>\n",
       "      <td>낙지로</td>\n",
       "      <td>['#낙지로-', '#푸민_제주', '#제주도맛집', '#제주공항맛집', '#제주도...</td>\n",
       "    </tr>\n",
       "    <tr>\n",
       "      <th>1</th>\n",
       "      <td>1</td>\n",
       "      <td>(광고)제주도에서 가장 맛있는 갈치요리 끝판왕 👑갈치왕!갈치요리는 무적권 여기가 진...</td>\n",
       "      <td>2022-02-18</td>\n",
       "      <td>0</td>\n",
       "      <td>NaN</td>\n",
       "      <td>['#제주도맛집']</td>\n",
       "    </tr>\n",
       "    <tr>\n",
       "      <th>2</th>\n",
       "      <td>2</td>\n",
       "      <td>(광고)지만 제주 공항에서 가깝고 (🚗공항에서 12분)오션뷰&amp; 노을뷰를 보면서 먹을...</td>\n",
       "      <td>2022-02-18</td>\n",
       "      <td>0</td>\n",
       "      <td>NaN</td>\n",
       "      <td>['#제주도맛집', '#제주맛집', '#제주도횟집', '#제주시횟집', '#제주공항...</td>\n",
       "    </tr>\n",
       "    <tr>\n",
       "      <th>3</th>\n",
       "      <td>3</td>\n",
       "      <td>&lt;광고&gt;#제주분식 https://jejubunsig.modoo.at/ 📌제주시 귀아...</td>\n",
       "      <td>2022-02-18</td>\n",
       "      <td>0</td>\n",
       "      <td>NaN</td>\n",
       "      <td>['#제주분식', '#제주분식', '#모당모당', '#돔베라면돔베김밥', '#제주맛...</td>\n",
       "    </tr>\n",
       "    <tr>\n",
       "      <th>4</th>\n",
       "      <td>4</td>\n",
       "      <td>📍JEJU제주도로 여행가는 분들을 위한 찐맛집총정리🍽공항에서부터 한바퀴 시계방향으로...</td>\n",
       "      <td>2022-02-18</td>\n",
       "      <td>1,593</td>\n",
       "      <td>제주도 제주</td>\n",
       "      <td>['#자리돔횟집', '#유달식당', '#몰질식육식당', '#제주선채향', '#화순평...</td>\n",
       "    </tr>\n",
       "  </tbody>\n",
       "</table>\n",
       "</div>"
      ],
      "text/plain": [
       "   index                                            content        date  \\\n",
       "0      0  길게 말 안합니다. 그냥 가시면 됩니다.낙지볶음 찐맛집이다. 정말 눈물 흘리면서 흡...  2022-02-17   \n",
       "1      1  (광고)제주도에서 가장 맛있는 갈치요리 끝판왕 👑갈치왕!갈치요리는 무적권 여기가 진...  2022-02-18   \n",
       "2      2  (광고)지만 제주 공항에서 가깝고 (🚗공항에서 12분)오션뷰& 노을뷰를 보면서 먹을...  2022-02-18   \n",
       "3      3  <광고>#제주분식 https://jejubunsig.modoo.at/ 📌제주시 귀아...  2022-02-18   \n",
       "4      4  📍JEJU제주도로 여행가는 분들을 위한 찐맛집총정리🍽공항에서부터 한바퀴 시계방향으로...  2022-02-18   \n",
       "\n",
       "    like   place                                               tags  \n",
       "0  1,511     낙지로  ['#낙지로-', '#푸민_제주', '#제주도맛집', '#제주공항맛집', '#제주도...  \n",
       "1      0     NaN                                         ['#제주도맛집']  \n",
       "2      0     NaN  ['#제주도맛집', '#제주맛집', '#제주도횟집', '#제주시횟집', '#제주공항...  \n",
       "3      0     NaN  ['#제주분식', '#제주분식', '#모당모당', '#돔베라면돔베김밥', '#제주맛...  \n",
       "4  1,593  제주도 제주  ['#자리돔횟집', '#유달식당', '#몰질식육식당', '#제주선채향', '#화순평...  "
      ]
     },
     "execution_count": 7,
     "metadata": {},
     "output_type": "execute_result"
    }
   ],
   "source": [
    "import pandas as pd \n",
    "raw_total = pd.read_excel('C:/Users/SAMSUNG/Desktop/파이썬 데이터 분석/데이터 분석 실무 파이썬/1_crawling_raw.xlsx')\n",
    "raw_total.head()"
   ]
  },
  {
   "cell_type": "code",
   "execution_count": 8,
   "id": "09cd2939",
   "metadata": {},
   "outputs": [
    {
     "data": {
      "text/plain": [
       "제주도 제주                       5\n",
       "낙지로                          1\n",
       "틴더타운리조트                      1\n",
       "용담밭담                         1\n",
       "제주도 애월읍                      1\n",
       "자연스러운식당                      1\n",
       "애월해안도로                       1\n",
       "제주 범하다                       1\n",
       "단백                           1\n",
       "제주도                          1\n",
       "동탄호수공원                       1\n",
       "대우정식당                        1\n",
       "규태네 양곱창                      1\n",
       "이자카야달                        1\n",
       "제주도 곽지해수욕장                   1\n",
       "환상의 섬 Jeju Island            1\n",
       "경기도 오산                       1\n",
       "어박사                          1\n",
       "Jeju Island                  1\n",
       "현옥식당                         1\n",
       "공공시                          1\n",
       "Jeju-do                      1\n",
       "주미담-술과이야기가있는곳                1\n",
       "제주 씨에스호텔                     1\n",
       "알동네집                         1\n",
       "신화테마파크 Shinhwa Theme Park    1\n",
       "이어도전복해물전문점                   1\n",
       "제주도 서귀포시 중문                  1\n",
       "도두동 무지개 해안도로                 1\n",
       "제주 아라 아이파크                   1\n",
       "애월찜                          1\n",
       "Name: place, dtype: int64"
      ]
     },
     "execution_count": 8,
     "metadata": {},
     "output_type": "execute_result"
    }
   ],
   "source": [
    "location_counts = raw_total['place'].value_counts()\n",
    "location_counts"
   ]
  },
  {
   "cell_type": "code",
   "execution_count": 9,
   "id": "d602646e",
   "metadata": {},
   "outputs": [
    {
     "data": {
      "text/html": [
       "<div>\n",
       "<style scoped>\n",
       "    .dataframe tbody tr th:only-of-type {\n",
       "        vertical-align: middle;\n",
       "    }\n",
       "\n",
       "    .dataframe tbody tr th {\n",
       "        vertical-align: top;\n",
       "    }\n",
       "\n",
       "    .dataframe thead th {\n",
       "        text-align: right;\n",
       "    }\n",
       "</style>\n",
       "<table border=\"1\" class=\"dataframe\">\n",
       "  <thead>\n",
       "    <tr style=\"text-align: right;\">\n",
       "      <th></th>\n",
       "      <th>place</th>\n",
       "    </tr>\n",
       "  </thead>\n",
       "  <tbody>\n",
       "    <tr>\n",
       "      <th>제주도 제주</th>\n",
       "      <td>5</td>\n",
       "    </tr>\n",
       "    <tr>\n",
       "      <th>낙지로</th>\n",
       "      <td>1</td>\n",
       "    </tr>\n",
       "    <tr>\n",
       "      <th>틴더타운리조트</th>\n",
       "      <td>1</td>\n",
       "    </tr>\n",
       "    <tr>\n",
       "      <th>용담밭담</th>\n",
       "      <td>1</td>\n",
       "    </tr>\n",
       "    <tr>\n",
       "      <th>제주도 애월읍</th>\n",
       "      <td>1</td>\n",
       "    </tr>\n",
       "  </tbody>\n",
       "</table>\n",
       "</div>"
      ],
      "text/plain": [
       "         place\n",
       "제주도 제주       5\n",
       "낙지로          1\n",
       "틴더타운리조트      1\n",
       "용담밭담         1\n",
       "제주도 애월읍      1"
      ]
     },
     "execution_count": 9,
     "metadata": {},
     "output_type": "execute_result"
    }
   ],
   "source": [
    "# df로 변환 \n",
    "location_counts_df = pd.DataFrame(location_counts)\n",
    "location_counts_df.head()"
   ]
  },
  {
   "cell_type": "code",
   "execution_count": 10,
   "id": "ae3c561d",
   "metadata": {},
   "outputs": [
    {
     "data": {
      "text/plain": [
       "['제주도 제주',\n",
       " '낙지로',\n",
       " '틴더타운리조트',\n",
       " '용담밭담',\n",
       " '제주도 애월읍',\n",
       " '자연스러운식당',\n",
       " '애월해안도로',\n",
       " '제주 범하다',\n",
       " '단백',\n",
       " '제주도',\n",
       " '동탄호수공원',\n",
       " '대우정식당',\n",
       " '규태네 양곱창',\n",
       " '이자카야달',\n",
       " '제주도 곽지해수욕장',\n",
       " '환상의 섬 Jeju Island',\n",
       " '경기도 오산',\n",
       " '어박사',\n",
       " 'Jeju Island',\n",
       " '현옥식당',\n",
       " '공공시',\n",
       " 'Jeju-do',\n",
       " '주미담-술과이야기가있는곳',\n",
       " '제주 씨에스호텔',\n",
       " '알동네집',\n",
       " '신화테마파크 Shinhwa Theme Park',\n",
       " '이어도전복해물전문점',\n",
       " '제주도 서귀포시 중문',\n",
       " '도두동 무지개 해안도로',\n",
       " '제주 아라 아이파크',\n",
       " '애월찜']"
      ]
     },
     "execution_count": 10,
     "metadata": {},
     "output_type": "execute_result"
    }
   ],
   "source": [
    "locations = list(location_counts.index)\n",
    "locations"
   ]
  },
  {
   "cell_type": "markdown",
   "id": "fba33400",
   "metadata": {},
   "source": [
    "* 카카오 검색 API"
   ]
  },
  {
   "cell_type": "code",
   "execution_count": 240,
   "id": "99838a59",
   "metadata": {},
   "outputs": [
    {
     "data": {
      "text/plain": [
       "[{'address_name': '서울 중랑구 망우동 239-1',\n",
       "  'category_group_code': 'SC4',\n",
       "  'category_group_name': '학교',\n",
       "  'category_name': '교육,학문 > 학교 > 고등학교',\n",
       "  'distance': '',\n",
       "  'id': '7956942',\n",
       "  'phone': '02-435-0660',\n",
       "  'place_name': '송곡고등학교',\n",
       "  'place_url': 'http://place.map.kakao.com/7956942',\n",
       "  'road_address_name': '서울 중랑구 양원역로 50',\n",
       "  'x': '127.10688944171',\n",
       "  'y': '37.6057672953561'},\n",
       " {'address_name': '서울 중랑구 망우동 252-1',\n",
       "  'category_group_code': 'SC4',\n",
       "  'category_group_name': '학교',\n",
       "  'category_name': '교육,학문 > 학교 > 고등학교',\n",
       "  'distance': '',\n",
       "  'id': '14656496',\n",
       "  'phone': '02-434-4598',\n",
       "  'place_name': '송곡여자고등학교',\n",
       "  'place_url': 'http://place.map.kakao.com/14656496',\n",
       "  'road_address_name': '서울 중랑구 양원역로 67',\n",
       "  'x': '127.104970287365',\n",
       "  'y': '37.6068754330064'},\n",
       " {'address_name': '서울 중랑구 망우본동 252-1',\n",
       "  'category_group_code': 'SC4',\n",
       "  'category_group_name': '학교',\n",
       "  'category_name': '교육,학문 > 학교 > 고등학교 > 특성화고등학교',\n",
       "  'distance': '',\n",
       "  'id': '13127841',\n",
       "  'phone': '02-432-1837',\n",
       "  'place_name': '송곡관광고등학교',\n",
       "  'place_url': 'http://place.map.kakao.com/13127841',\n",
       "  'road_address_name': '서울 중랑구 양원역로 67',\n",
       "  'x': '127.105427256952',\n",
       "  'y': '37.6064749863703'},\n",
       " {'address_name': '서울 중랑구 망우동 252-1',\n",
       "  'category_group_code': '',\n",
       "  'category_group_name': '',\n",
       "  'category_name': '서비스,산업 > 관리,운영 > 건물관리사무소',\n",
       "  'distance': '',\n",
       "  'id': '23883941',\n",
       "  'phone': '',\n",
       "  'place_name': '송곡여자정보고등학교 경비실',\n",
       "  'place_url': 'http://place.map.kakao.com/23883941',\n",
       "  'road_address_name': '서울 중랑구 양원역로 67',\n",
       "  'x': '127.105717040344',\n",
       "  'y': '37.6063774202848'},\n",
       " {'address_name': '서울 중랑구 망우동 252-1',\n",
       "  'category_group_code': '',\n",
       "  'category_group_name': '',\n",
       "  'category_name': '교육,학문 > 학습시설 > 도서관',\n",
       "  'distance': '',\n",
       "  'id': '13271025',\n",
       "  'phone': '070-7124-3357',\n",
       "  'place_name': '송곡여자고등학교 도서관',\n",
       "  'place_url': 'http://place.map.kakao.com/13271025',\n",
       "  'road_address_name': '서울 중랑구 양원역로 67',\n",
       "  'x': '127.104992871719',\n",
       "  'y': '37.6068285614683'},\n",
       " {'address_name': '서울 중랑구 망우동 252-1',\n",
       "  'category_group_code': '',\n",
       "  'category_group_name': '',\n",
       "  'category_name': '교육,학문 > 학교부속시설',\n",
       "  'distance': '',\n",
       "  'id': '12444446',\n",
       "  'phone': '02-434-4598',\n",
       "  'place_name': '송곡여자고등학교 행정실',\n",
       "  'place_url': 'http://place.map.kakao.com/12444446',\n",
       "  'road_address_name': '서울 중랑구 양원역로 67',\n",
       "  'x': '127.10502003675134',\n",
       "  'y': '37.60681772542533'},\n",
       " {'address_name': '서울 중랑구 망우동 239-1',\n",
       "  'category_group_code': '',\n",
       "  'category_group_name': '',\n",
       "  'category_name': '치안기관 > 대피소 > 지진대피소',\n",
       "  'distance': '',\n",
       "  'id': '73759892',\n",
       "  'phone': '',\n",
       "  'place_name': '지진옥외대피장소 송곡고등학교',\n",
       "  'place_url': 'http://place.map.kakao.com/73759892',\n",
       "  'road_address_name': '서울 중랑구 양원역로 50',\n",
       "  'x': '127.1072061623257',\n",
       "  'y': '37.60550391912493'}]"
      ]
     },
     "execution_count": 240,
     "metadata": {},
     "output_type": "execute_result"
    }
   ],
   "source": [
    "# 예제 5-29 카카오 검색 API 사용 예시\n",
    "\n",
    "import requests\n",
    "\n",
    "searching = '송곡고등학교'\n",
    "url = 'https://dapi.kakao.com/v2/local/search/keyword.json?query={}'.format(searching)\n",
    "\n",
    "headers = {\n",
    "    \"Authorization\": \"KakaoAK 6792a64da2e7c58ad57d5b7fb306b326\"     \n",
    "    # 입력시 반드시  KakaoAK 뒤에 한 칸 띄우고 API키 값을 적어야 합니다. \n",
    "}\n",
    "\n",
    "places = requests.get(url, headers = headers).json()['documents']\n",
    "places"
   ]
  },
  {
   "cell_type": "code",
   "execution_count": 241,
   "id": "9dd4f51f",
   "metadata": {},
   "outputs": [],
   "source": [
    "# 예제 5-30 카카오 로컬 API를 활용한 장소 검색 함수 만들기\n",
    "def find_places(searching):\n",
    "    # ① 접속URL 만들기\n",
    "    url = 'https://dapi.kakao.com/v2/local/search/keyword.json?query={}'.format(searching)\n",
    "    # ② headers 입력하기\n",
    "    headers = {\n",
    "    \"Authorization\": \"KakaoAK 6792a64da2e7c58ad57d5b7fb306b326\" # kakao API\n",
    "    }\n",
    "    # ③ API 요청&정보 받기\n",
    "    places = requests.get(url, headers = headers).json()['documents']\n",
    "    # ④ 필요한 정보 선택하기\n",
    "    place = places[0] \n",
    "    name = place['place_name']\n",
    "    x=place['x'] # 경도\n",
    "    y=place['y'] # 위도 \n",
    "    data = [name, x, y, searching] \n",
    "    \n",
    "    return data"
   ]
  },
  {
   "cell_type": "code",
   "execution_count": 242,
   "id": "39932e6a",
   "metadata": {},
   "outputs": [
    {
     "data": {
      "text/plain": [
       "['제주국제공항', '126.492769004244', '33.5070789578184', '제주공항']"
      ]
     },
     "execution_count": 242,
     "metadata": {},
     "output_type": "execute_result"
    }
   ],
   "source": [
    "data = find_places('제주공항')\n",
    "data "
   ]
  },
  {
   "cell_type": "markdown",
   "id": "1b788f30",
   "metadata": {},
   "source": [
    "* 인스타그램 위치명에 대한 위치정보"
   ]
  },
  {
   "cell_type": "code",
   "execution_count": 243,
   "id": "b000d907",
   "metadata": {},
   "outputs": [
    {
     "data": {
      "text/plain": [
       "[['제주특별자치도의회 의원회관(1층, 대회의실)', '126.49950229128', '33.4903746154992', '제주도 제주'],\n",
       " ['낙지로', '126.494395960969', '33.4886210266593', '낙지로'],\n",
       " ['용담밭담', '126.510146926148', '33.5011695368784', '용담밭담'],\n",
       " ['올레길 16코스(고내-광령 올레)', '126.38979561557086', '33.46649759191228', '제주도 애월읍'],\n",
       " ['자연스러운식당', '126.53261178663291', '33.243399160632066', '자연스러운식당'],\n",
       " ['애월해안도로', '126.36867872098', '33.4781232943703', '애월해안도로'],\n",
       " ['범하다', '126.8998588271188', '33.41273972191753', '제주 범하다'],\n",
       " ['단백', '126.931908687227', '33.4617488070486', '단백'],\n",
       " ['제주도', '126.54587355630036', '33.379777816446165', '제주도'],\n",
       " ['동탄호수공원', '127.10452210465446', '37.16783438705687', '동탄호수공원'],\n",
       " ['대우정', '126.519586532616', '33.4989236665696', '대우정식당'],\n",
       " ['규태네양곱창 본점', '126.486060276427', '33.4862281727332', '규태네 양곱창'],\n",
       " ['제주이자카야달', '126.39278163821417', '33.484724331694885', '이자카야달'],\n",
       " ['곽지해수욕장', '126.304673157235', '33.4506575078278', '제주도 곽지해수욕장'],\n",
       " ['물향기수목원', '127.05953110156278', '37.1663085028355', '경기도 오산'],\n",
       " ['어박사 한림본점', '126.258114483301', '33.4078617193203', '어박사'],\n",
       " ['제주도', '126.54587355630036', '33.379777816446165', 'Jeju Island'],\n",
       " ['현옥식당', '126.514328746288', '33.4984992561754', '현옥식당'],\n",
       " ['공공시', '126.543670685399', '33.5017582536497', '공공시'],\n",
       " ['씨에스호텔앤리조트', '126.42143918791392', '33.243057939988475', '제주 씨에스호텔'],\n",
       " ['알동네집', '126.2674821978352', '33.31653530642813', '알동네집'],\n",
       " ['신화테마파크',\n",
       "  '126.315282111642',\n",
       "  '33.3047588776712',\n",
       "  '신화테마파크 Shinhwa Theme Park'],\n",
       " ['이어도', '126.570229561458', '33.2489662572046', '이어도전복해물전문점'],\n",
       " ['대포주상절리대', '126.42601744245376', '33.23799399299591', '제주도 서귀포시 중문'],\n",
       " ['도두동무지개해안도로', '126.471338444636', '33.5091180133618', '도두동 무지개 해안도로'],\n",
       " ['아라아이파크아파트', '126.55061682549312', '33.47582581681852', '제주 아라 아이파크'],\n",
       " ['애월찜', '126.35415731287465', '33.47658430192365', '애월찜']]"
      ]
     },
     "execution_count": 243,
     "metadata": {},
     "output_type": "execute_result"
    }
   ],
   "source": [
    "import time\n",
    "\n",
    "location_inform = []\n",
    "for location in locations :\n",
    "    try :\n",
    "        data = find_places(location)\n",
    "        location_inform.append(data) # 이중리스트 ? \n",
    "        time.sleep(0.5)\n",
    "    except: \n",
    "        pass \n",
    "location_inform"
   ]
  },
  {
   "cell_type": "markdown",
   "id": "78413196",
   "metadata": {},
   "source": [
    ": location_inform 에는 제주도 맛집 결과의 위치정보가 나와있다."
   ]
  },
  {
   "cell_type": "code",
   "execution_count": 245,
   "id": "6b42ff82",
   "metadata": {},
   "outputs": [],
   "source": [
    "# 위치정보 df로 저장 \n",
    "location_inform_df =pd.DataFrame(location_inform,\n",
    "                                columns = ['카카오 위치명', '경도','위도','검색명'])\n",
    "# 맛집 위치정보 리스트를 엑셀파일로\n",
    "location_inform_df.to_excel('C:/Users/SAMSUNG/Desktop/파이썬 데이터 분석/데이터 분석 실무 파이썬/jeju_food_location.xlsx' , index =False)"
   ]
  },
  {
   "cell_type": "markdown",
   "id": "67d80a77",
   "metadata": {},
   "source": [
    "* 맛집 위치정보 파일 호출"
   ]
  },
  {
   "cell_type": "code",
   "execution_count": 5,
   "id": "227ae7ac",
   "metadata": {},
   "outputs": [
    {
     "data": {
      "text/html": [
       "<div>\n",
       "<style scoped>\n",
       "    .dataframe tbody tr th:only-of-type {\n",
       "        vertical-align: middle;\n",
       "    }\n",
       "\n",
       "    .dataframe tbody tr th {\n",
       "        vertical-align: top;\n",
       "    }\n",
       "\n",
       "    .dataframe thead th {\n",
       "        text-align: right;\n",
       "    }\n",
       "</style>\n",
       "<table border=\"1\" class=\"dataframe\">\n",
       "  <thead>\n",
       "    <tr style=\"text-align: right;\">\n",
       "      <th></th>\n",
       "      <th>카카오 위치명</th>\n",
       "      <th>경도</th>\n",
       "      <th>위도</th>\n",
       "      <th>검색명</th>\n",
       "    </tr>\n",
       "  </thead>\n",
       "  <tbody>\n",
       "    <tr>\n",
       "      <th>0</th>\n",
       "      <td>제주특별자치도의회 의원회관(1층, 대회의실)</td>\n",
       "      <td>126.499502</td>\n",
       "      <td>33.490375</td>\n",
       "      <td>제주도 제주</td>\n",
       "    </tr>\n",
       "    <tr>\n",
       "      <th>1</th>\n",
       "      <td>낙지로</td>\n",
       "      <td>126.494396</td>\n",
       "      <td>33.488621</td>\n",
       "      <td>낙지로</td>\n",
       "    </tr>\n",
       "    <tr>\n",
       "      <th>2</th>\n",
       "      <td>용담밭담</td>\n",
       "      <td>126.510147</td>\n",
       "      <td>33.501170</td>\n",
       "      <td>용담밭담</td>\n",
       "    </tr>\n",
       "    <tr>\n",
       "      <th>3</th>\n",
       "      <td>올레길 16코스(고내-광령 올레)</td>\n",
       "      <td>126.389796</td>\n",
       "      <td>33.466498</td>\n",
       "      <td>제주도 애월읍</td>\n",
       "    </tr>\n",
       "    <tr>\n",
       "      <th>4</th>\n",
       "      <td>자연스러운식당</td>\n",
       "      <td>126.532612</td>\n",
       "      <td>33.243399</td>\n",
       "      <td>자연스러운식당</td>\n",
       "    </tr>\n",
       "  </tbody>\n",
       "</table>\n",
       "</div>"
      ],
      "text/plain": [
       "                    카카오 위치명          경도         위도      검색명\n",
       "0  제주특별자치도의회 의원회관(1층, 대회의실)  126.499502  33.490375   제주도 제주\n",
       "1                       낙지로  126.494396  33.488621      낙지로\n",
       "2                      용담밭담  126.510147  33.501170     용담밭담\n",
       "3        올레길 16코스(고내-광령 올레)  126.389796  33.466498  제주도 애월읍\n",
       "4                   자연스러운식당  126.532612  33.243399  자연스러운식당"
      ]
     },
     "execution_count": 5,
     "metadata": {},
     "output_type": "execute_result"
    }
   ],
   "source": [
    "location_inform_df = pd.read_excel('C:/Users/SAMSUNG/Desktop/파이썬 데이터 분석/데이터 분석 실무 파이썬/jeju_food_location.xlsx')\n",
    "location_inform_df.head()"
   ]
  },
  {
   "cell_type": "code",
   "execution_count": 11,
   "id": "4e644f6f",
   "metadata": {},
   "outputs": [
    {
     "data": {
      "text/html": [
       "<div>\n",
       "<style scoped>\n",
       "    .dataframe tbody tr th:only-of-type {\n",
       "        vertical-align: middle;\n",
       "    }\n",
       "\n",
       "    .dataframe tbody tr th {\n",
       "        vertical-align: top;\n",
       "    }\n",
       "\n",
       "    .dataframe thead th {\n",
       "        text-align: right;\n",
       "    }\n",
       "</style>\n",
       "<table border=\"1\" class=\"dataframe\">\n",
       "  <thead>\n",
       "    <tr style=\"text-align: right;\">\n",
       "      <th></th>\n",
       "      <th>place</th>\n",
       "    </tr>\n",
       "  </thead>\n",
       "  <tbody>\n",
       "    <tr>\n",
       "      <th>제주도 제주</th>\n",
       "      <td>5</td>\n",
       "    </tr>\n",
       "    <tr>\n",
       "      <th>낙지로</th>\n",
       "      <td>1</td>\n",
       "    </tr>\n",
       "    <tr>\n",
       "      <th>틴더타운리조트</th>\n",
       "      <td>1</td>\n",
       "    </tr>\n",
       "    <tr>\n",
       "      <th>용담밭담</th>\n",
       "      <td>1</td>\n",
       "    </tr>\n",
       "    <tr>\n",
       "      <th>제주도 애월읍</th>\n",
       "      <td>1</td>\n",
       "    </tr>\n",
       "  </tbody>\n",
       "</table>\n",
       "</div>"
      ],
      "text/plain": [
       "         place\n",
       "제주도 제주       5\n",
       "낙지로          1\n",
       "틴더타운리조트      1\n",
       "용담밭담         1\n",
       "제주도 애월읍      1"
      ]
     },
     "execution_count": 11,
     "metadata": {},
     "output_type": "execute_result"
    }
   ],
   "source": [
    "location_counts_df.head()"
   ]
  },
  {
   "cell_type": "markdown",
   "id": "7e45faa3",
   "metadata": {},
   "source": [
    "* 위치정보df 와 해시태그 횟수 df 를 합침 : 기준열 - 검색명 "
   ]
  },
  {
   "cell_type": "code",
   "execution_count": 12,
   "id": "723ae9de",
   "metadata": {},
   "outputs": [
    {
     "data": {
      "text/html": [
       "<div>\n",
       "<style scoped>\n",
       "    .dataframe tbody tr th:only-of-type {\n",
       "        vertical-align: middle;\n",
       "    }\n",
       "\n",
       "    .dataframe tbody tr th {\n",
       "        vertical-align: top;\n",
       "    }\n",
       "\n",
       "    .dataframe thead th {\n",
       "        text-align: right;\n",
       "    }\n",
       "</style>\n",
       "<table border=\"1\" class=\"dataframe\">\n",
       "  <thead>\n",
       "    <tr style=\"text-align: right;\">\n",
       "      <th></th>\n",
       "      <th>카카오 위치명</th>\n",
       "      <th>경도</th>\n",
       "      <th>위도</th>\n",
       "      <th>검색명</th>\n",
       "      <th>place</th>\n",
       "    </tr>\n",
       "  </thead>\n",
       "  <tbody>\n",
       "    <tr>\n",
       "      <th>0</th>\n",
       "      <td>제주특별자치도의회 의원회관(1층, 대회의실)</td>\n",
       "      <td>126.499502</td>\n",
       "      <td>33.490375</td>\n",
       "      <td>제주도 제주</td>\n",
       "      <td>5</td>\n",
       "    </tr>\n",
       "    <tr>\n",
       "      <th>1</th>\n",
       "      <td>낙지로</td>\n",
       "      <td>126.494396</td>\n",
       "      <td>33.488621</td>\n",
       "      <td>낙지로</td>\n",
       "      <td>1</td>\n",
       "    </tr>\n",
       "    <tr>\n",
       "      <th>2</th>\n",
       "      <td>용담밭담</td>\n",
       "      <td>126.510147</td>\n",
       "      <td>33.501170</td>\n",
       "      <td>용담밭담</td>\n",
       "      <td>1</td>\n",
       "    </tr>\n",
       "    <tr>\n",
       "      <th>3</th>\n",
       "      <td>올레길 16코스(고내-광령 올레)</td>\n",
       "      <td>126.389796</td>\n",
       "      <td>33.466498</td>\n",
       "      <td>제주도 애월읍</td>\n",
       "      <td>1</td>\n",
       "    </tr>\n",
       "    <tr>\n",
       "      <th>4</th>\n",
       "      <td>자연스러운식당</td>\n",
       "      <td>126.532612</td>\n",
       "      <td>33.243399</td>\n",
       "      <td>자연스러운식당</td>\n",
       "      <td>1</td>\n",
       "    </tr>\n",
       "  </tbody>\n",
       "</table>\n",
       "</div>"
      ],
      "text/plain": [
       "                    카카오 위치명          경도         위도      검색명  place\n",
       "0  제주특별자치도의회 의원회관(1층, 대회의실)  126.499502  33.490375   제주도 제주      5\n",
       "1                       낙지로  126.494396  33.488621      낙지로      1\n",
       "2                      용담밭담  126.510147  33.501170     용담밭담      1\n",
       "3        올레길 16코스(고내-광령 올레)  126.389796  33.466498  제주도 애월읍      1\n",
       "4                   자연스러운식당  126.532612  33.243399  자연스러운식당      1"
      ]
     },
     "execution_count": 12,
     "metadata": {},
     "output_type": "execute_result"
    }
   ],
   "source": [
    "location_data = pd.merge(location_inform_df, location_counts_df , \n",
    "                         left_on = '검색명', how ='inner', right_index = True)\n",
    "location_data.head()"
   ]
  },
  {
   "cell_type": "markdown",
   "id": "df9f4290",
   "metadata": {},
   "source": [
    ": how = 'inner'  교집합만 , left_on = 왼쪽 inform_df의 '검색명'을 기준키로 "
   ]
  },
  {
   "cell_type": "code",
   "execution_count": 13,
   "id": "a91efd4d",
   "metadata": {},
   "outputs": [],
   "source": [
    "# 엑셀로 저장 \n",
    "location_data.to_excel('C:/Users/SAMSUNG/Desktop/파이썬 데이터 분석/데이터 분석 실무 파이썬/location_inform.xlsx', index = False)\n"
   ]
  },
  {
   "cell_type": "markdown",
   "id": "750611d0",
   "metadata": {},
   "source": [
    "### Folium 지도 시각화 "
   ]
  },
  {
   "cell_type": "code",
   "execution_count": 14,
   "id": "f5ea80ec",
   "metadata": {},
   "outputs": [
    {
     "name": "stdout",
     "output_type": "stream",
     "text": [
      "<class 'pandas.core.frame.DataFrame'>\n",
      "RangeIndex: 27 entries, 0 to 26\n",
      "Data columns (total 5 columns):\n",
      " #   Column   Non-Null Count  Dtype  \n",
      "---  ------   --------------  -----  \n",
      " 0   카카오 위치명  27 non-null     object \n",
      " 1   경도       27 non-null     float64\n",
      " 2   위도       27 non-null     float64\n",
      " 3   검색명      27 non-null     object \n",
      " 4   place    27 non-null     int64  \n",
      "dtypes: float64(2), int64(1), object(2)\n",
      "memory usage: 1.2+ KB\n"
     ]
    }
   ],
   "source": [
    "location_data = pd.read_excel('C:/Users/SAMSUNG/Desktop/파이썬 데이터 분석/데이터 분석 실무 파이썬/location_inform.xlsx')\n",
    "location_data.info()"
   ]
  },
  {
   "cell_type": "code",
   "execution_count": 15,
   "id": "c547f8c3",
   "metadata": {},
   "outputs": [
    {
     "name": "stdout",
     "output_type": "stream",
     "text": [
      "Requirement already satisfied: folium in c:\\users\\samsung\\anaconda3\\lib\\site-packages (0.12.1.post1)\n",
      "Requirement already satisfied: branca>=0.3.0 in c:\\users\\samsung\\anaconda3\\lib\\site-packages (from folium) (0.4.2)\n",
      "Requirement already satisfied: jinja2>=2.9 in c:\\users\\samsung\\anaconda3\\lib\\site-packages (from folium) (2.11.3)\n",
      "Requirement already satisfied: numpy in c:\\users\\samsung\\anaconda3\\lib\\site-packages (from folium) (1.20.3)\n",
      "Requirement already satisfied: requests in c:\\users\\samsung\\anaconda3\\lib\\site-packages (from folium) (2.26.0)\n",
      "Requirement already satisfied: MarkupSafe>=0.23 in c:\\users\\samsung\\anaconda3\\lib\\site-packages (from jinja2>=2.9->folium) (1.1.1)\n",
      "Requirement already satisfied: urllib3<1.27,>=1.21.1 in c:\\users\\samsung\\anaconda3\\lib\\site-packages (from requests->folium) (1.26.7)\n",
      "Requirement already satisfied: charset-normalizer~=2.0.0 in c:\\users\\samsung\\anaconda3\\lib\\site-packages (from requests->folium) (2.0.4)\n",
      "Requirement already satisfied: idna<4,>=2.5 in c:\\users\\samsung\\anaconda3\\lib\\site-packages (from requests->folium) (3.2)\n",
      "Requirement already satisfied: certifi>=2017.4.17 in c:\\users\\samsung\\anaconda3\\lib\\site-packages (from requests->folium) (2021.10.8)\n"
     ]
    }
   ],
   "source": [
    "!pip install folium\n",
    "import folium"
   ]
  },
  {
   "cell_type": "markdown",
   "id": "9908f76c",
   "metadata": {},
   "source": [
    "* 지도 표시 :  \n",
    "지도의 중심위치 좌표 (한라산) / 위치별 위도 /경도 데이터 "
   ]
  },
  {
   "cell_type": "code",
   "execution_count": 16,
   "id": "d22f3d60",
   "metadata": {
    "scrolled": true
   },
   "outputs": [
    {
     "data": {
      "text/html": [
       "<div style=\"width:100%;\"><div style=\"position:relative;width:100%;height:0;padding-bottom:60%;\"><span style=\"color:#565656\">Make this Notebook Trusted to load map: File -> Trust Notebook</span><iframe src=\"about:blank\" style=\"position:absolute;width:100%;height:100%;left:0;top:0;border:none !important;\" data-html=%3C%21DOCTYPE%20html%3E%0A%3Chead%3E%20%20%20%20%0A%20%20%20%20%3Cmeta%20http-equiv%3D%22content-type%22%20content%3D%22text/html%3B%20charset%3DUTF-8%22%20/%3E%0A%20%20%20%20%0A%20%20%20%20%20%20%20%20%3Cscript%3E%0A%20%20%20%20%20%20%20%20%20%20%20%20L_NO_TOUCH%20%3D%20false%3B%0A%20%20%20%20%20%20%20%20%20%20%20%20L_DISABLE_3D%20%3D%20false%3B%0A%20%20%20%20%20%20%20%20%3C/script%3E%0A%20%20%20%20%0A%20%20%20%20%3Cstyle%3Ehtml%2C%20body%20%7Bwidth%3A%20100%25%3Bheight%3A%20100%25%3Bmargin%3A%200%3Bpadding%3A%200%3B%7D%3C/style%3E%0A%20%20%20%20%3Cstyle%3E%23map%20%7Bposition%3Aabsolute%3Btop%3A0%3Bbottom%3A0%3Bright%3A0%3Bleft%3A0%3B%7D%3C/style%3E%0A%20%20%20%20%3Cscript%20src%3D%22https%3A//cdn.jsdelivr.net/npm/leaflet%401.6.0/dist/leaflet.js%22%3E%3C/script%3E%0A%20%20%20%20%3Cscript%20src%3D%22https%3A//code.jquery.com/jquery-1.12.4.min.js%22%3E%3C/script%3E%0A%20%20%20%20%3Cscript%20src%3D%22https%3A//maxcdn.bootstrapcdn.com/bootstrap/3.2.0/js/bootstrap.min.js%22%3E%3C/script%3E%0A%20%20%20%20%3Cscript%20src%3D%22https%3A//cdnjs.cloudflare.com/ajax/libs/Leaflet.awesome-markers/2.0.2/leaflet.awesome-markers.js%22%3E%3C/script%3E%0A%20%20%20%20%3Clink%20rel%3D%22stylesheet%22%20href%3D%22https%3A//cdn.jsdelivr.net/npm/leaflet%401.6.0/dist/leaflet.css%22/%3E%0A%20%20%20%20%3Clink%20rel%3D%22stylesheet%22%20href%3D%22https%3A//maxcdn.bootstrapcdn.com/bootstrap/3.2.0/css/bootstrap.min.css%22/%3E%0A%20%20%20%20%3Clink%20rel%3D%22stylesheet%22%20href%3D%22https%3A//maxcdn.bootstrapcdn.com/bootstrap/3.2.0/css/bootstrap-theme.min.css%22/%3E%0A%20%20%20%20%3Clink%20rel%3D%22stylesheet%22%20href%3D%22https%3A//maxcdn.bootstrapcdn.com/font-awesome/4.6.3/css/font-awesome.min.css%22/%3E%0A%20%20%20%20%3Clink%20rel%3D%22stylesheet%22%20href%3D%22https%3A//cdnjs.cloudflare.com/ajax/libs/Leaflet.awesome-markers/2.0.2/leaflet.awesome-markers.css%22/%3E%0A%20%20%20%20%3Clink%20rel%3D%22stylesheet%22%20href%3D%22https%3A//cdn.jsdelivr.net/gh/python-visualization/folium/folium/templates/leaflet.awesome.rotate.min.css%22/%3E%0A%20%20%20%20%0A%20%20%20%20%20%20%20%20%20%20%20%20%3Cmeta%20name%3D%22viewport%22%20content%3D%22width%3Ddevice-width%2C%0A%20%20%20%20%20%20%20%20%20%20%20%20%20%20%20%20initial-scale%3D1.0%2C%20maximum-scale%3D1.0%2C%20user-scalable%3Dno%22%20/%3E%0A%20%20%20%20%20%20%20%20%20%20%20%20%3Cstyle%3E%0A%20%20%20%20%20%20%20%20%20%20%20%20%20%20%20%20%23map_693d66b5ac8a4c30964e28f25c40b7ef%20%7B%0A%20%20%20%20%20%20%20%20%20%20%20%20%20%20%20%20%20%20%20%20position%3A%20relative%3B%0A%20%20%20%20%20%20%20%20%20%20%20%20%20%20%20%20%20%20%20%20width%3A%20100.0%25%3B%0A%20%20%20%20%20%20%20%20%20%20%20%20%20%20%20%20%20%20%20%20height%3A%20100.0%25%3B%0A%20%20%20%20%20%20%20%20%20%20%20%20%20%20%20%20%20%20%20%20left%3A%200.0%25%3B%0A%20%20%20%20%20%20%20%20%20%20%20%20%20%20%20%20%20%20%20%20top%3A%200.0%25%3B%0A%20%20%20%20%20%20%20%20%20%20%20%20%20%20%20%20%7D%0A%20%20%20%20%20%20%20%20%20%20%20%20%3C/style%3E%0A%20%20%20%20%20%20%20%20%0A%3C/head%3E%0A%3Cbody%3E%20%20%20%20%0A%20%20%20%20%0A%20%20%20%20%20%20%20%20%20%20%20%20%3Cdiv%20class%3D%22folium-map%22%20id%3D%22map_693d66b5ac8a4c30964e28f25c40b7ef%22%20%3E%3C/div%3E%0A%20%20%20%20%20%20%20%20%0A%3C/body%3E%0A%3Cscript%3E%20%20%20%20%0A%20%20%20%20%0A%20%20%20%20%20%20%20%20%20%20%20%20var%20map_693d66b5ac8a4c30964e28f25c40b7ef%20%3D%20L.map%28%0A%20%20%20%20%20%20%20%20%20%20%20%20%20%20%20%20%22map_693d66b5ac8a4c30964e28f25c40b7ef%22%2C%0A%20%20%20%20%20%20%20%20%20%20%20%20%20%20%20%20%7B%0A%20%20%20%20%20%20%20%20%20%20%20%20%20%20%20%20%20%20%20%20center%3A%20%5B33.3625%2C%20126.533694%5D%2C%0A%20%20%20%20%20%20%20%20%20%20%20%20%20%20%20%20%20%20%20%20crs%3A%20L.CRS.EPSG3857%2C%0A%20%20%20%20%20%20%20%20%20%20%20%20%20%20%20%20%20%20%20%20zoom%3A%2011%2C%0A%20%20%20%20%20%20%20%20%20%20%20%20%20%20%20%20%20%20%20%20zoomControl%3A%20true%2C%0A%20%20%20%20%20%20%20%20%20%20%20%20%20%20%20%20%20%20%20%20preferCanvas%3A%20false%2C%0A%20%20%20%20%20%20%20%20%20%20%20%20%20%20%20%20%7D%0A%20%20%20%20%20%20%20%20%20%20%20%20%29%3B%0A%0A%20%20%20%20%20%20%20%20%20%20%20%20%0A%0A%20%20%20%20%20%20%20%20%0A%20%20%20%20%0A%20%20%20%20%20%20%20%20%20%20%20%20var%20tile_layer_497d23ee4dc7408f9f5081b986148f2e%20%3D%20L.tileLayer%28%0A%20%20%20%20%20%20%20%20%20%20%20%20%20%20%20%20%22https%3A//%7Bs%7D.tile.openstreetmap.org/%7Bz%7D/%7Bx%7D/%7By%7D.png%22%2C%0A%20%20%20%20%20%20%20%20%20%20%20%20%20%20%20%20%7B%22attribution%22%3A%20%22Data%20by%20%5Cu0026copy%3B%20%5Cu003ca%20href%3D%5C%22http%3A//openstreetmap.org%5C%22%5Cu003eOpenStreetMap%5Cu003c/a%5Cu003e%2C%20under%20%5Cu003ca%20href%3D%5C%22http%3A//www.openstreetmap.org/copyright%5C%22%5Cu003eODbL%5Cu003c/a%5Cu003e.%22%2C%20%22detectRetina%22%3A%20false%2C%20%22maxNativeZoom%22%3A%2018%2C%20%22maxZoom%22%3A%2018%2C%20%22minZoom%22%3A%200%2C%20%22noWrap%22%3A%20false%2C%20%22opacity%22%3A%201%2C%20%22subdomains%22%3A%20%22abc%22%2C%20%22tms%22%3A%20false%7D%0A%20%20%20%20%20%20%20%20%20%20%20%20%29.addTo%28map_693d66b5ac8a4c30964e28f25c40b7ef%29%3B%0A%20%20%20%20%20%20%20%20%0A%20%20%20%20%0A%20%20%20%20%20%20%20%20%20%20%20%20var%20circle_marker_7f378d280a6f4b66bf684bcab0fcfe0f%20%3D%20L.circleMarker%28%0A%20%20%20%20%20%20%20%20%20%20%20%20%20%20%20%20%5B33.4903746154992%2C%20126.49950229128%5D%2C%0A%20%20%20%20%20%20%20%20%20%20%20%20%20%20%20%20%7B%22bubblingMouseEvents%22%3A%20true%2C%20%22color%22%3A%20%22red%22%2C%20%22dashArray%22%3A%20null%2C%20%22dashOffset%22%3A%20null%2C%20%22fill%22%3A%20false%2C%20%22fillColor%22%3A%20%22red%22%2C%20%22fillOpacity%22%3A%200.2%2C%20%22fillRule%22%3A%20%22evenodd%22%2C%20%22lineCap%22%3A%20%22round%22%2C%20%22lineJoin%22%3A%20%22round%22%2C%20%22opacity%22%3A%201.0%2C%20%22radius%22%3A%2010%2C%20%22stroke%22%3A%20true%2C%20%22weight%22%3A%203%7D%0A%20%20%20%20%20%20%20%20%20%20%20%20%29.addTo%28map_693d66b5ac8a4c30964e28f25c40b7ef%29%3B%0A%20%20%20%20%20%20%20%20%0A%20%20%20%20%0A%20%20%20%20%20%20%20%20var%20popup_a12b8a812b3245de81217cc2ce94cc36%20%3D%20L.popup%28%7B%22maxWidth%22%3A%20%22100%25%22%7D%29%3B%0A%0A%20%20%20%20%20%20%20%20%0A%20%20%20%20%20%20%20%20%20%20%20%20var%20html_1b3120d185fa49058b096d7532f1a867%20%3D%20%24%28%60%3Cdiv%20id%3D%22html_1b3120d185fa49058b096d7532f1a867%22%20style%3D%22width%3A%20100.0%25%3B%20height%3A%20100.0%25%3B%22%3E%EC%A0%9C%EC%A3%BC%ED%8A%B9%EB%B3%84%EC%9E%90%EC%B9%98%EB%8F%84%EC%9D%98%ED%9A%8C%20%EC%9D%98%EC%9B%90%ED%9A%8C%EA%B4%80%281%EC%B8%B5%2C%20%EB%8C%80%ED%9A%8C%EC%9D%98%EC%8B%A4%29%3C/div%3E%60%29%5B0%5D%3B%0A%20%20%20%20%20%20%20%20%20%20%20%20popup_a12b8a812b3245de81217cc2ce94cc36.setContent%28html_1b3120d185fa49058b096d7532f1a867%29%3B%0A%20%20%20%20%20%20%20%20%0A%0A%20%20%20%20%20%20%20%20circle_marker_7f378d280a6f4b66bf684bcab0fcfe0f.bindPopup%28popup_a12b8a812b3245de81217cc2ce94cc36%29%0A%20%20%20%20%20%20%20%20%3B%0A%0A%20%20%20%20%20%20%20%20%0A%20%20%20%20%0A%20%20%20%20%0A%20%20%20%20%20%20%20%20%20%20%20%20var%20circle_marker_a76dbf2d1a1d4097ba2feb94005c4d07%20%3D%20L.circleMarker%28%0A%20%20%20%20%20%20%20%20%20%20%20%20%20%20%20%20%5B33.4886210266593%2C%20126.494395960969%5D%2C%0A%20%20%20%20%20%20%20%20%20%20%20%20%20%20%20%20%7B%22bubblingMouseEvents%22%3A%20true%2C%20%22color%22%3A%20%22red%22%2C%20%22dashArray%22%3A%20null%2C%20%22dashOffset%22%3A%20null%2C%20%22fill%22%3A%20false%2C%20%22fillColor%22%3A%20%22red%22%2C%20%22fillOpacity%22%3A%200.2%2C%20%22fillRule%22%3A%20%22evenodd%22%2C%20%22lineCap%22%3A%20%22round%22%2C%20%22lineJoin%22%3A%20%22round%22%2C%20%22opacity%22%3A%201.0%2C%20%22radius%22%3A%202%2C%20%22stroke%22%3A%20true%2C%20%22weight%22%3A%203%7D%0A%20%20%20%20%20%20%20%20%20%20%20%20%29.addTo%28map_693d66b5ac8a4c30964e28f25c40b7ef%29%3B%0A%20%20%20%20%20%20%20%20%0A%20%20%20%20%0A%20%20%20%20%20%20%20%20var%20popup_5cf5f3903ebd4892bf17441d82b49498%20%3D%20L.popup%28%7B%22maxWidth%22%3A%20%22100%25%22%7D%29%3B%0A%0A%20%20%20%20%20%20%20%20%0A%20%20%20%20%20%20%20%20%20%20%20%20var%20html_42b2afb72b8a496087235724e5340d98%20%3D%20%24%28%60%3Cdiv%20id%3D%22html_42b2afb72b8a496087235724e5340d98%22%20style%3D%22width%3A%20100.0%25%3B%20height%3A%20100.0%25%3B%22%3E%EB%82%99%EC%A7%80%EB%A1%9C%3C/div%3E%60%29%5B0%5D%3B%0A%20%20%20%20%20%20%20%20%20%20%20%20popup_5cf5f3903ebd4892bf17441d82b49498.setContent%28html_42b2afb72b8a496087235724e5340d98%29%3B%0A%20%20%20%20%20%20%20%20%0A%0A%20%20%20%20%20%20%20%20circle_marker_a76dbf2d1a1d4097ba2feb94005c4d07.bindPopup%28popup_5cf5f3903ebd4892bf17441d82b49498%29%0A%20%20%20%20%20%20%20%20%3B%0A%0A%20%20%20%20%20%20%20%20%0A%20%20%20%20%0A%20%20%20%20%0A%20%20%20%20%20%20%20%20%20%20%20%20var%20circle_marker_05b37107caf04d629cdbe56f2bd924c9%20%3D%20L.circleMarker%28%0A%20%20%20%20%20%20%20%20%20%20%20%20%20%20%20%20%5B33.5011695368784%2C%20126.510146926148%5D%2C%0A%20%20%20%20%20%20%20%20%20%20%20%20%20%20%20%20%7B%22bubblingMouseEvents%22%3A%20true%2C%20%22color%22%3A%20%22red%22%2C%20%22dashArray%22%3A%20null%2C%20%22dashOffset%22%3A%20null%2C%20%22fill%22%3A%20false%2C%20%22fillColor%22%3A%20%22red%22%2C%20%22fillOpacity%22%3A%200.2%2C%20%22fillRule%22%3A%20%22evenodd%22%2C%20%22lineCap%22%3A%20%22round%22%2C%20%22lineJoin%22%3A%20%22round%22%2C%20%22opacity%22%3A%201.0%2C%20%22radius%22%3A%202%2C%20%22stroke%22%3A%20true%2C%20%22weight%22%3A%203%7D%0A%20%20%20%20%20%20%20%20%20%20%20%20%29.addTo%28map_693d66b5ac8a4c30964e28f25c40b7ef%29%3B%0A%20%20%20%20%20%20%20%20%0A%20%20%20%20%0A%20%20%20%20%20%20%20%20var%20popup_1ed97b9db5374556b6391fc41060528b%20%3D%20L.popup%28%7B%22maxWidth%22%3A%20%22100%25%22%7D%29%3B%0A%0A%20%20%20%20%20%20%20%20%0A%20%20%20%20%20%20%20%20%20%20%20%20var%20html_c7951be27b7044b0a8d5452500d540a9%20%3D%20%24%28%60%3Cdiv%20id%3D%22html_c7951be27b7044b0a8d5452500d540a9%22%20style%3D%22width%3A%20100.0%25%3B%20height%3A%20100.0%25%3B%22%3E%EC%9A%A9%EB%8B%B4%EB%B0%AD%EB%8B%B4%3C/div%3E%60%29%5B0%5D%3B%0A%20%20%20%20%20%20%20%20%20%20%20%20popup_1ed97b9db5374556b6391fc41060528b.setContent%28html_c7951be27b7044b0a8d5452500d540a9%29%3B%0A%20%20%20%20%20%20%20%20%0A%0A%20%20%20%20%20%20%20%20circle_marker_05b37107caf04d629cdbe56f2bd924c9.bindPopup%28popup_1ed97b9db5374556b6391fc41060528b%29%0A%20%20%20%20%20%20%20%20%3B%0A%0A%20%20%20%20%20%20%20%20%0A%20%20%20%20%0A%20%20%20%20%0A%20%20%20%20%20%20%20%20%20%20%20%20var%20circle_marker_a3ba31c45de74f17affa33b2c127af14%20%3D%20L.circleMarker%28%0A%20%20%20%20%20%20%20%20%20%20%20%20%20%20%20%20%5B33.46649759191228%2C%20126.3897956155709%5D%2C%0A%20%20%20%20%20%20%20%20%20%20%20%20%20%20%20%20%7B%22bubblingMouseEvents%22%3A%20true%2C%20%22color%22%3A%20%22red%22%2C%20%22dashArray%22%3A%20null%2C%20%22dashOffset%22%3A%20null%2C%20%22fill%22%3A%20false%2C%20%22fillColor%22%3A%20%22red%22%2C%20%22fillOpacity%22%3A%200.2%2C%20%22fillRule%22%3A%20%22evenodd%22%2C%20%22lineCap%22%3A%20%22round%22%2C%20%22lineJoin%22%3A%20%22round%22%2C%20%22opacity%22%3A%201.0%2C%20%22radius%22%3A%202%2C%20%22stroke%22%3A%20true%2C%20%22weight%22%3A%203%7D%0A%20%20%20%20%20%20%20%20%20%20%20%20%29.addTo%28map_693d66b5ac8a4c30964e28f25c40b7ef%29%3B%0A%20%20%20%20%20%20%20%20%0A%20%20%20%20%0A%20%20%20%20%20%20%20%20var%20popup_258b1f3fcaf74c77bfd172e12a2b3bcf%20%3D%20L.popup%28%7B%22maxWidth%22%3A%20%22100%25%22%7D%29%3B%0A%0A%20%20%20%20%20%20%20%20%0A%20%20%20%20%20%20%20%20%20%20%20%20var%20html_1949a7a8363b42a2b8faf21a6e3d64b7%20%3D%20%24%28%60%3Cdiv%20id%3D%22html_1949a7a8363b42a2b8faf21a6e3d64b7%22%20style%3D%22width%3A%20100.0%25%3B%20height%3A%20100.0%25%3B%22%3E%EC%98%AC%EB%A0%88%EA%B8%B8%2016%EC%BD%94%EC%8A%A4%28%EA%B3%A0%EB%82%B4-%EA%B4%91%EB%A0%B9%20%EC%98%AC%EB%A0%88%29%3C/div%3E%60%29%5B0%5D%3B%0A%20%20%20%20%20%20%20%20%20%20%20%20popup_258b1f3fcaf74c77bfd172e12a2b3bcf.setContent%28html_1949a7a8363b42a2b8faf21a6e3d64b7%29%3B%0A%20%20%20%20%20%20%20%20%0A%0A%20%20%20%20%20%20%20%20circle_marker_a3ba31c45de74f17affa33b2c127af14.bindPopup%28popup_258b1f3fcaf74c77bfd172e12a2b3bcf%29%0A%20%20%20%20%20%20%20%20%3B%0A%0A%20%20%20%20%20%20%20%20%0A%20%20%20%20%0A%20%20%20%20%0A%20%20%20%20%20%20%20%20%20%20%20%20var%20circle_marker_51eecf8ef13244cc9b18724cdacb3870%20%3D%20L.circleMarker%28%0A%20%20%20%20%20%20%20%20%20%20%20%20%20%20%20%20%5B33.24339916063207%2C%20126.5326117866329%5D%2C%0A%20%20%20%20%20%20%20%20%20%20%20%20%20%20%20%20%7B%22bubblingMouseEvents%22%3A%20true%2C%20%22color%22%3A%20%22red%22%2C%20%22dashArray%22%3A%20null%2C%20%22dashOffset%22%3A%20null%2C%20%22fill%22%3A%20false%2C%20%22fillColor%22%3A%20%22red%22%2C%20%22fillOpacity%22%3A%200.2%2C%20%22fillRule%22%3A%20%22evenodd%22%2C%20%22lineCap%22%3A%20%22round%22%2C%20%22lineJoin%22%3A%20%22round%22%2C%20%22opacity%22%3A%201.0%2C%20%22radius%22%3A%202%2C%20%22stroke%22%3A%20true%2C%20%22weight%22%3A%203%7D%0A%20%20%20%20%20%20%20%20%20%20%20%20%29.addTo%28map_693d66b5ac8a4c30964e28f25c40b7ef%29%3B%0A%20%20%20%20%20%20%20%20%0A%20%20%20%20%0A%20%20%20%20%20%20%20%20var%20popup_cf83e80debdb4355ad089251d302a112%20%3D%20L.popup%28%7B%22maxWidth%22%3A%20%22100%25%22%7D%29%3B%0A%0A%20%20%20%20%20%20%20%20%0A%20%20%20%20%20%20%20%20%20%20%20%20var%20html_1bf3046ff56b487f8522843e30e58ca1%20%3D%20%24%28%60%3Cdiv%20id%3D%22html_1bf3046ff56b487f8522843e30e58ca1%22%20style%3D%22width%3A%20100.0%25%3B%20height%3A%20100.0%25%3B%22%3E%EC%9E%90%EC%97%B0%EC%8A%A4%EB%9F%AC%EC%9A%B4%EC%8B%9D%EB%8B%B9%3C/div%3E%60%29%5B0%5D%3B%0A%20%20%20%20%20%20%20%20%20%20%20%20popup_cf83e80debdb4355ad089251d302a112.setContent%28html_1bf3046ff56b487f8522843e30e58ca1%29%3B%0A%20%20%20%20%20%20%20%20%0A%0A%20%20%20%20%20%20%20%20circle_marker_51eecf8ef13244cc9b18724cdacb3870.bindPopup%28popup_cf83e80debdb4355ad089251d302a112%29%0A%20%20%20%20%20%20%20%20%3B%0A%0A%20%20%20%20%20%20%20%20%0A%20%20%20%20%0A%20%20%20%20%0A%20%20%20%20%20%20%20%20%20%20%20%20var%20circle_marker_187573e52137471ba09119c4e138bb5b%20%3D%20L.circleMarker%28%0A%20%20%20%20%20%20%20%20%20%20%20%20%20%20%20%20%5B33.4781232943703%2C%20126.36867872098%5D%2C%0A%20%20%20%20%20%20%20%20%20%20%20%20%20%20%20%20%7B%22bubblingMouseEvents%22%3A%20true%2C%20%22color%22%3A%20%22red%22%2C%20%22dashArray%22%3A%20null%2C%20%22dashOffset%22%3A%20null%2C%20%22fill%22%3A%20false%2C%20%22fillColor%22%3A%20%22red%22%2C%20%22fillOpacity%22%3A%200.2%2C%20%22fillRule%22%3A%20%22evenodd%22%2C%20%22lineCap%22%3A%20%22round%22%2C%20%22lineJoin%22%3A%20%22round%22%2C%20%22opacity%22%3A%201.0%2C%20%22radius%22%3A%202%2C%20%22stroke%22%3A%20true%2C%20%22weight%22%3A%203%7D%0A%20%20%20%20%20%20%20%20%20%20%20%20%29.addTo%28map_693d66b5ac8a4c30964e28f25c40b7ef%29%3B%0A%20%20%20%20%20%20%20%20%0A%20%20%20%20%0A%20%20%20%20%20%20%20%20var%20popup_beac36fce8854f0ea47be3667d5822f3%20%3D%20L.popup%28%7B%22maxWidth%22%3A%20%22100%25%22%7D%29%3B%0A%0A%20%20%20%20%20%20%20%20%0A%20%20%20%20%20%20%20%20%20%20%20%20var%20html_0b0f003c3c2c48bca7a6502e649f715b%20%3D%20%24%28%60%3Cdiv%20id%3D%22html_0b0f003c3c2c48bca7a6502e649f715b%22%20style%3D%22width%3A%20100.0%25%3B%20height%3A%20100.0%25%3B%22%3E%EC%95%A0%EC%9B%94%ED%95%B4%EC%95%88%EB%8F%84%EB%A1%9C%3C/div%3E%60%29%5B0%5D%3B%0A%20%20%20%20%20%20%20%20%20%20%20%20popup_beac36fce8854f0ea47be3667d5822f3.setContent%28html_0b0f003c3c2c48bca7a6502e649f715b%29%3B%0A%20%20%20%20%20%20%20%20%0A%0A%20%20%20%20%20%20%20%20circle_marker_187573e52137471ba09119c4e138bb5b.bindPopup%28popup_beac36fce8854f0ea47be3667d5822f3%29%0A%20%20%20%20%20%20%20%20%3B%0A%0A%20%20%20%20%20%20%20%20%0A%20%20%20%20%0A%20%20%20%20%0A%20%20%20%20%20%20%20%20%20%20%20%20var%20circle_marker_678ed3c7107040a3988888e9400d5b58%20%3D%20L.circleMarker%28%0A%20%20%20%20%20%20%20%20%20%20%20%20%20%20%20%20%5B33.41273972191753%2C%20126.8998588271188%5D%2C%0A%20%20%20%20%20%20%20%20%20%20%20%20%20%20%20%20%7B%22bubblingMouseEvents%22%3A%20true%2C%20%22color%22%3A%20%22red%22%2C%20%22dashArray%22%3A%20null%2C%20%22dashOffset%22%3A%20null%2C%20%22fill%22%3A%20false%2C%20%22fillColor%22%3A%20%22red%22%2C%20%22fillOpacity%22%3A%200.2%2C%20%22fillRule%22%3A%20%22evenodd%22%2C%20%22lineCap%22%3A%20%22round%22%2C%20%22lineJoin%22%3A%20%22round%22%2C%20%22opacity%22%3A%201.0%2C%20%22radius%22%3A%202%2C%20%22stroke%22%3A%20true%2C%20%22weight%22%3A%203%7D%0A%20%20%20%20%20%20%20%20%20%20%20%20%29.addTo%28map_693d66b5ac8a4c30964e28f25c40b7ef%29%3B%0A%20%20%20%20%20%20%20%20%0A%20%20%20%20%0A%20%20%20%20%20%20%20%20var%20popup_320368a7ea3f458194388bd15f3b8edc%20%3D%20L.popup%28%7B%22maxWidth%22%3A%20%22100%25%22%7D%29%3B%0A%0A%20%20%20%20%20%20%20%20%0A%20%20%20%20%20%20%20%20%20%20%20%20var%20html_7aed6648fd91452e86b5d11241cd62b4%20%3D%20%24%28%60%3Cdiv%20id%3D%22html_7aed6648fd91452e86b5d11241cd62b4%22%20style%3D%22width%3A%20100.0%25%3B%20height%3A%20100.0%25%3B%22%3E%EB%B2%94%ED%95%98%EB%8B%A4%3C/div%3E%60%29%5B0%5D%3B%0A%20%20%20%20%20%20%20%20%20%20%20%20popup_320368a7ea3f458194388bd15f3b8edc.setContent%28html_7aed6648fd91452e86b5d11241cd62b4%29%3B%0A%20%20%20%20%20%20%20%20%0A%0A%20%20%20%20%20%20%20%20circle_marker_678ed3c7107040a3988888e9400d5b58.bindPopup%28popup_320368a7ea3f458194388bd15f3b8edc%29%0A%20%20%20%20%20%20%20%20%3B%0A%0A%20%20%20%20%20%20%20%20%0A%20%20%20%20%0A%20%20%20%20%0A%20%20%20%20%20%20%20%20%20%20%20%20var%20circle_marker_35abd501ec454f75a45a7d835ce57d4e%20%3D%20L.circleMarker%28%0A%20%20%20%20%20%20%20%20%20%20%20%20%20%20%20%20%5B33.4617488070486%2C%20126.931908687227%5D%2C%0A%20%20%20%20%20%20%20%20%20%20%20%20%20%20%20%20%7B%22bubblingMouseEvents%22%3A%20true%2C%20%22color%22%3A%20%22red%22%2C%20%22dashArray%22%3A%20null%2C%20%22dashOffset%22%3A%20null%2C%20%22fill%22%3A%20false%2C%20%22fillColor%22%3A%20%22red%22%2C%20%22fillOpacity%22%3A%200.2%2C%20%22fillRule%22%3A%20%22evenodd%22%2C%20%22lineCap%22%3A%20%22round%22%2C%20%22lineJoin%22%3A%20%22round%22%2C%20%22opacity%22%3A%201.0%2C%20%22radius%22%3A%202%2C%20%22stroke%22%3A%20true%2C%20%22weight%22%3A%203%7D%0A%20%20%20%20%20%20%20%20%20%20%20%20%29.addTo%28map_693d66b5ac8a4c30964e28f25c40b7ef%29%3B%0A%20%20%20%20%20%20%20%20%0A%20%20%20%20%0A%20%20%20%20%20%20%20%20var%20popup_0ed30578ae3c43d3b9cd5b838ea10558%20%3D%20L.popup%28%7B%22maxWidth%22%3A%20%22100%25%22%7D%29%3B%0A%0A%20%20%20%20%20%20%20%20%0A%20%20%20%20%20%20%20%20%20%20%20%20var%20html_1f6c8285a2d84036be158d20aa01cec6%20%3D%20%24%28%60%3Cdiv%20id%3D%22html_1f6c8285a2d84036be158d20aa01cec6%22%20style%3D%22width%3A%20100.0%25%3B%20height%3A%20100.0%25%3B%22%3E%EB%8B%A8%EB%B0%B1%3C/div%3E%60%29%5B0%5D%3B%0A%20%20%20%20%20%20%20%20%20%20%20%20popup_0ed30578ae3c43d3b9cd5b838ea10558.setContent%28html_1f6c8285a2d84036be158d20aa01cec6%29%3B%0A%20%20%20%20%20%20%20%20%0A%0A%20%20%20%20%20%20%20%20circle_marker_35abd501ec454f75a45a7d835ce57d4e.bindPopup%28popup_0ed30578ae3c43d3b9cd5b838ea10558%29%0A%20%20%20%20%20%20%20%20%3B%0A%0A%20%20%20%20%20%20%20%20%0A%20%20%20%20%0A%20%20%20%20%0A%20%20%20%20%20%20%20%20%20%20%20%20var%20circle_marker_19106e1cfc6f459d9d2f0cfc38c0fab9%20%3D%20L.circleMarker%28%0A%20%20%20%20%20%20%20%20%20%20%20%20%20%20%20%20%5B33.37977781644616%2C%20126.5458735563004%5D%2C%0A%20%20%20%20%20%20%20%20%20%20%20%20%20%20%20%20%7B%22bubblingMouseEvents%22%3A%20true%2C%20%22color%22%3A%20%22red%22%2C%20%22dashArray%22%3A%20null%2C%20%22dashOffset%22%3A%20null%2C%20%22fill%22%3A%20false%2C%20%22fillColor%22%3A%20%22red%22%2C%20%22fillOpacity%22%3A%200.2%2C%20%22fillRule%22%3A%20%22evenodd%22%2C%20%22lineCap%22%3A%20%22round%22%2C%20%22lineJoin%22%3A%20%22round%22%2C%20%22opacity%22%3A%201.0%2C%20%22radius%22%3A%202%2C%20%22stroke%22%3A%20true%2C%20%22weight%22%3A%203%7D%0A%20%20%20%20%20%20%20%20%20%20%20%20%29.addTo%28map_693d66b5ac8a4c30964e28f25c40b7ef%29%3B%0A%20%20%20%20%20%20%20%20%0A%20%20%20%20%0A%20%20%20%20%20%20%20%20var%20popup_d4fbd3df9f3440c5b45681540a13b0a4%20%3D%20L.popup%28%7B%22maxWidth%22%3A%20%22100%25%22%7D%29%3B%0A%0A%20%20%20%20%20%20%20%20%0A%20%20%20%20%20%20%20%20%20%20%20%20var%20html_3c1b1490df6248ac94a6547df89c1404%20%3D%20%24%28%60%3Cdiv%20id%3D%22html_3c1b1490df6248ac94a6547df89c1404%22%20style%3D%22width%3A%20100.0%25%3B%20height%3A%20100.0%25%3B%22%3E%EC%A0%9C%EC%A3%BC%EB%8F%84%3C/div%3E%60%29%5B0%5D%3B%0A%20%20%20%20%20%20%20%20%20%20%20%20popup_d4fbd3df9f3440c5b45681540a13b0a4.setContent%28html_3c1b1490df6248ac94a6547df89c1404%29%3B%0A%20%20%20%20%20%20%20%20%0A%0A%20%20%20%20%20%20%20%20circle_marker_19106e1cfc6f459d9d2f0cfc38c0fab9.bindPopup%28popup_d4fbd3df9f3440c5b45681540a13b0a4%29%0A%20%20%20%20%20%20%20%20%3B%0A%0A%20%20%20%20%20%20%20%20%0A%20%20%20%20%0A%20%20%20%20%0A%20%20%20%20%20%20%20%20%20%20%20%20var%20circle_marker_108425eaf62842c6b7dc9fb0c3f1bf89%20%3D%20L.circleMarker%28%0A%20%20%20%20%20%20%20%20%20%20%20%20%20%20%20%20%5B37.16783438705687%2C%20127.1045221046545%5D%2C%0A%20%20%20%20%20%20%20%20%20%20%20%20%20%20%20%20%7B%22bubblingMouseEvents%22%3A%20true%2C%20%22color%22%3A%20%22red%22%2C%20%22dashArray%22%3A%20null%2C%20%22dashOffset%22%3A%20null%2C%20%22fill%22%3A%20false%2C%20%22fillColor%22%3A%20%22red%22%2C%20%22fillOpacity%22%3A%200.2%2C%20%22fillRule%22%3A%20%22evenodd%22%2C%20%22lineCap%22%3A%20%22round%22%2C%20%22lineJoin%22%3A%20%22round%22%2C%20%22opacity%22%3A%201.0%2C%20%22radius%22%3A%202%2C%20%22stroke%22%3A%20true%2C%20%22weight%22%3A%203%7D%0A%20%20%20%20%20%20%20%20%20%20%20%20%29.addTo%28map_693d66b5ac8a4c30964e28f25c40b7ef%29%3B%0A%20%20%20%20%20%20%20%20%0A%20%20%20%20%0A%20%20%20%20%20%20%20%20var%20popup_b3a558a133484ce9b6b22b55e2c86eff%20%3D%20L.popup%28%7B%22maxWidth%22%3A%20%22100%25%22%7D%29%3B%0A%0A%20%20%20%20%20%20%20%20%0A%20%20%20%20%20%20%20%20%20%20%20%20var%20html_f519acfe863842288aa9c2855c03b735%20%3D%20%24%28%60%3Cdiv%20id%3D%22html_f519acfe863842288aa9c2855c03b735%22%20style%3D%22width%3A%20100.0%25%3B%20height%3A%20100.0%25%3B%22%3E%EB%8F%99%ED%83%84%ED%98%B8%EC%88%98%EA%B3%B5%EC%9B%90%3C/div%3E%60%29%5B0%5D%3B%0A%20%20%20%20%20%20%20%20%20%20%20%20popup_b3a558a133484ce9b6b22b55e2c86eff.setContent%28html_f519acfe863842288aa9c2855c03b735%29%3B%0A%20%20%20%20%20%20%20%20%0A%0A%20%20%20%20%20%20%20%20circle_marker_108425eaf62842c6b7dc9fb0c3f1bf89.bindPopup%28popup_b3a558a133484ce9b6b22b55e2c86eff%29%0A%20%20%20%20%20%20%20%20%3B%0A%0A%20%20%20%20%20%20%20%20%0A%20%20%20%20%0A%20%20%20%20%0A%20%20%20%20%20%20%20%20%20%20%20%20var%20circle_marker_4accd0c74dac443db8816da5fbbc55f5%20%3D%20L.circleMarker%28%0A%20%20%20%20%20%20%20%20%20%20%20%20%20%20%20%20%5B33.4989236665696%2C%20126.519586532616%5D%2C%0A%20%20%20%20%20%20%20%20%20%20%20%20%20%20%20%20%7B%22bubblingMouseEvents%22%3A%20true%2C%20%22color%22%3A%20%22red%22%2C%20%22dashArray%22%3A%20null%2C%20%22dashOffset%22%3A%20null%2C%20%22fill%22%3A%20false%2C%20%22fillColor%22%3A%20%22red%22%2C%20%22fillOpacity%22%3A%200.2%2C%20%22fillRule%22%3A%20%22evenodd%22%2C%20%22lineCap%22%3A%20%22round%22%2C%20%22lineJoin%22%3A%20%22round%22%2C%20%22opacity%22%3A%201.0%2C%20%22radius%22%3A%202%2C%20%22stroke%22%3A%20true%2C%20%22weight%22%3A%203%7D%0A%20%20%20%20%20%20%20%20%20%20%20%20%29.addTo%28map_693d66b5ac8a4c30964e28f25c40b7ef%29%3B%0A%20%20%20%20%20%20%20%20%0A%20%20%20%20%0A%20%20%20%20%20%20%20%20var%20popup_33db9deaf02a43be87a381214518607b%20%3D%20L.popup%28%7B%22maxWidth%22%3A%20%22100%25%22%7D%29%3B%0A%0A%20%20%20%20%20%20%20%20%0A%20%20%20%20%20%20%20%20%20%20%20%20var%20html_b2f84857591f490fa821b5cdbea26823%20%3D%20%24%28%60%3Cdiv%20id%3D%22html_b2f84857591f490fa821b5cdbea26823%22%20style%3D%22width%3A%20100.0%25%3B%20height%3A%20100.0%25%3B%22%3E%EB%8C%80%EC%9A%B0%EC%A0%95%3C/div%3E%60%29%5B0%5D%3B%0A%20%20%20%20%20%20%20%20%20%20%20%20popup_33db9deaf02a43be87a381214518607b.setContent%28html_b2f84857591f490fa821b5cdbea26823%29%3B%0A%20%20%20%20%20%20%20%20%0A%0A%20%20%20%20%20%20%20%20circle_marker_4accd0c74dac443db8816da5fbbc55f5.bindPopup%28popup_33db9deaf02a43be87a381214518607b%29%0A%20%20%20%20%20%20%20%20%3B%0A%0A%20%20%20%20%20%20%20%20%0A%20%20%20%20%0A%20%20%20%20%0A%20%20%20%20%20%20%20%20%20%20%20%20var%20circle_marker_7cf4ac7c4c0b4515918ec3239ecab085%20%3D%20L.circleMarker%28%0A%20%20%20%20%20%20%20%20%20%20%20%20%20%20%20%20%5B33.4862281727332%2C%20126.486060276427%5D%2C%0A%20%20%20%20%20%20%20%20%20%20%20%20%20%20%20%20%7B%22bubblingMouseEvents%22%3A%20true%2C%20%22color%22%3A%20%22red%22%2C%20%22dashArray%22%3A%20null%2C%20%22dashOffset%22%3A%20null%2C%20%22fill%22%3A%20false%2C%20%22fillColor%22%3A%20%22red%22%2C%20%22fillOpacity%22%3A%200.2%2C%20%22fillRule%22%3A%20%22evenodd%22%2C%20%22lineCap%22%3A%20%22round%22%2C%20%22lineJoin%22%3A%20%22round%22%2C%20%22opacity%22%3A%201.0%2C%20%22radius%22%3A%202%2C%20%22stroke%22%3A%20true%2C%20%22weight%22%3A%203%7D%0A%20%20%20%20%20%20%20%20%20%20%20%20%29.addTo%28map_693d66b5ac8a4c30964e28f25c40b7ef%29%3B%0A%20%20%20%20%20%20%20%20%0A%20%20%20%20%0A%20%20%20%20%20%20%20%20var%20popup_aad5672d8c0d409e937c339843d47c63%20%3D%20L.popup%28%7B%22maxWidth%22%3A%20%22100%25%22%7D%29%3B%0A%0A%20%20%20%20%20%20%20%20%0A%20%20%20%20%20%20%20%20%20%20%20%20var%20html_d11259b635274cb3bcf299c52203e855%20%3D%20%24%28%60%3Cdiv%20id%3D%22html_d11259b635274cb3bcf299c52203e855%22%20style%3D%22width%3A%20100.0%25%3B%20height%3A%20100.0%25%3B%22%3E%EA%B7%9C%ED%83%9C%EB%84%A4%EC%96%91%EA%B3%B1%EC%B0%BD%20%EB%B3%B8%EC%A0%90%3C/div%3E%60%29%5B0%5D%3B%0A%20%20%20%20%20%20%20%20%20%20%20%20popup_aad5672d8c0d409e937c339843d47c63.setContent%28html_d11259b635274cb3bcf299c52203e855%29%3B%0A%20%20%20%20%20%20%20%20%0A%0A%20%20%20%20%20%20%20%20circle_marker_7cf4ac7c4c0b4515918ec3239ecab085.bindPopup%28popup_aad5672d8c0d409e937c339843d47c63%29%0A%20%20%20%20%20%20%20%20%3B%0A%0A%20%20%20%20%20%20%20%20%0A%20%20%20%20%0A%20%20%20%20%0A%20%20%20%20%20%20%20%20%20%20%20%20var%20circle_marker_dab2ddc5cf5c46068fdc75f573104006%20%3D%20L.circleMarker%28%0A%20%20%20%20%20%20%20%20%20%20%20%20%20%20%20%20%5B33.48472433169488%2C%20126.3927816382142%5D%2C%0A%20%20%20%20%20%20%20%20%20%20%20%20%20%20%20%20%7B%22bubblingMouseEvents%22%3A%20true%2C%20%22color%22%3A%20%22red%22%2C%20%22dashArray%22%3A%20null%2C%20%22dashOffset%22%3A%20null%2C%20%22fill%22%3A%20false%2C%20%22fillColor%22%3A%20%22red%22%2C%20%22fillOpacity%22%3A%200.2%2C%20%22fillRule%22%3A%20%22evenodd%22%2C%20%22lineCap%22%3A%20%22round%22%2C%20%22lineJoin%22%3A%20%22round%22%2C%20%22opacity%22%3A%201.0%2C%20%22radius%22%3A%202%2C%20%22stroke%22%3A%20true%2C%20%22weight%22%3A%203%7D%0A%20%20%20%20%20%20%20%20%20%20%20%20%29.addTo%28map_693d66b5ac8a4c30964e28f25c40b7ef%29%3B%0A%20%20%20%20%20%20%20%20%0A%20%20%20%20%0A%20%20%20%20%20%20%20%20var%20popup_c315fddb463f4b5498ddceb8ea8efa20%20%3D%20L.popup%28%7B%22maxWidth%22%3A%20%22100%25%22%7D%29%3B%0A%0A%20%20%20%20%20%20%20%20%0A%20%20%20%20%20%20%20%20%20%20%20%20var%20html_2e03d865807a4b2bb8edb899c94522db%20%3D%20%24%28%60%3Cdiv%20id%3D%22html_2e03d865807a4b2bb8edb899c94522db%22%20style%3D%22width%3A%20100.0%25%3B%20height%3A%20100.0%25%3B%22%3E%EC%A0%9C%EC%A3%BC%EC%9D%B4%EC%9E%90%EC%B9%B4%EC%95%BC%EB%8B%AC%3C/div%3E%60%29%5B0%5D%3B%0A%20%20%20%20%20%20%20%20%20%20%20%20popup_c315fddb463f4b5498ddceb8ea8efa20.setContent%28html_2e03d865807a4b2bb8edb899c94522db%29%3B%0A%20%20%20%20%20%20%20%20%0A%0A%20%20%20%20%20%20%20%20circle_marker_dab2ddc5cf5c46068fdc75f573104006.bindPopup%28popup_c315fddb463f4b5498ddceb8ea8efa20%29%0A%20%20%20%20%20%20%20%20%3B%0A%0A%20%20%20%20%20%20%20%20%0A%20%20%20%20%0A%20%20%20%20%0A%20%20%20%20%20%20%20%20%20%20%20%20var%20circle_marker_29f23a7bdfb84f8c9a90ca50e4b8250d%20%3D%20L.circleMarker%28%0A%20%20%20%20%20%20%20%20%20%20%20%20%20%20%20%20%5B33.4506575078278%2C%20126.304673157235%5D%2C%0A%20%20%20%20%20%20%20%20%20%20%20%20%20%20%20%20%7B%22bubblingMouseEvents%22%3A%20true%2C%20%22color%22%3A%20%22red%22%2C%20%22dashArray%22%3A%20null%2C%20%22dashOffset%22%3A%20null%2C%20%22fill%22%3A%20false%2C%20%22fillColor%22%3A%20%22red%22%2C%20%22fillOpacity%22%3A%200.2%2C%20%22fillRule%22%3A%20%22evenodd%22%2C%20%22lineCap%22%3A%20%22round%22%2C%20%22lineJoin%22%3A%20%22round%22%2C%20%22opacity%22%3A%201.0%2C%20%22radius%22%3A%202%2C%20%22stroke%22%3A%20true%2C%20%22weight%22%3A%203%7D%0A%20%20%20%20%20%20%20%20%20%20%20%20%29.addTo%28map_693d66b5ac8a4c30964e28f25c40b7ef%29%3B%0A%20%20%20%20%20%20%20%20%0A%20%20%20%20%0A%20%20%20%20%20%20%20%20var%20popup_82394774f7a04a4fb1e20618990f20eb%20%3D%20L.popup%28%7B%22maxWidth%22%3A%20%22100%25%22%7D%29%3B%0A%0A%20%20%20%20%20%20%20%20%0A%20%20%20%20%20%20%20%20%20%20%20%20var%20html_85199173b0aa44fb99194f6aa28242f7%20%3D%20%24%28%60%3Cdiv%20id%3D%22html_85199173b0aa44fb99194f6aa28242f7%22%20style%3D%22width%3A%20100.0%25%3B%20height%3A%20100.0%25%3B%22%3E%EA%B3%BD%EC%A7%80%ED%95%B4%EC%88%98%EC%9A%95%EC%9E%A5%3C/div%3E%60%29%5B0%5D%3B%0A%20%20%20%20%20%20%20%20%20%20%20%20popup_82394774f7a04a4fb1e20618990f20eb.setContent%28html_85199173b0aa44fb99194f6aa28242f7%29%3B%0A%20%20%20%20%20%20%20%20%0A%0A%20%20%20%20%20%20%20%20circle_marker_29f23a7bdfb84f8c9a90ca50e4b8250d.bindPopup%28popup_82394774f7a04a4fb1e20618990f20eb%29%0A%20%20%20%20%20%20%20%20%3B%0A%0A%20%20%20%20%20%20%20%20%0A%20%20%20%20%0A%20%20%20%20%0A%20%20%20%20%20%20%20%20%20%20%20%20var%20circle_marker_ddcdbcf681384a7e827023f881d7369d%20%3D%20L.circleMarker%28%0A%20%20%20%20%20%20%20%20%20%20%20%20%20%20%20%20%5B37.1663085028355%2C%20127.0595311015628%5D%2C%0A%20%20%20%20%20%20%20%20%20%20%20%20%20%20%20%20%7B%22bubblingMouseEvents%22%3A%20true%2C%20%22color%22%3A%20%22red%22%2C%20%22dashArray%22%3A%20null%2C%20%22dashOffset%22%3A%20null%2C%20%22fill%22%3A%20false%2C%20%22fillColor%22%3A%20%22red%22%2C%20%22fillOpacity%22%3A%200.2%2C%20%22fillRule%22%3A%20%22evenodd%22%2C%20%22lineCap%22%3A%20%22round%22%2C%20%22lineJoin%22%3A%20%22round%22%2C%20%22opacity%22%3A%201.0%2C%20%22radius%22%3A%202%2C%20%22stroke%22%3A%20true%2C%20%22weight%22%3A%203%7D%0A%20%20%20%20%20%20%20%20%20%20%20%20%29.addTo%28map_693d66b5ac8a4c30964e28f25c40b7ef%29%3B%0A%20%20%20%20%20%20%20%20%0A%20%20%20%20%0A%20%20%20%20%20%20%20%20var%20popup_632c48a6f1954d64a5d02c29d908492c%20%3D%20L.popup%28%7B%22maxWidth%22%3A%20%22100%25%22%7D%29%3B%0A%0A%20%20%20%20%20%20%20%20%0A%20%20%20%20%20%20%20%20%20%20%20%20var%20html_3d6dd59e2f0a4b3bb05cfa1fe015d7c4%20%3D%20%24%28%60%3Cdiv%20id%3D%22html_3d6dd59e2f0a4b3bb05cfa1fe015d7c4%22%20style%3D%22width%3A%20100.0%25%3B%20height%3A%20100.0%25%3B%22%3E%EB%AC%BC%ED%96%A5%EA%B8%B0%EC%88%98%EB%AA%A9%EC%9B%90%3C/div%3E%60%29%5B0%5D%3B%0A%20%20%20%20%20%20%20%20%20%20%20%20popup_632c48a6f1954d64a5d02c29d908492c.setContent%28html_3d6dd59e2f0a4b3bb05cfa1fe015d7c4%29%3B%0A%20%20%20%20%20%20%20%20%0A%0A%20%20%20%20%20%20%20%20circle_marker_ddcdbcf681384a7e827023f881d7369d.bindPopup%28popup_632c48a6f1954d64a5d02c29d908492c%29%0A%20%20%20%20%20%20%20%20%3B%0A%0A%20%20%20%20%20%20%20%20%0A%20%20%20%20%0A%20%20%20%20%0A%20%20%20%20%20%20%20%20%20%20%20%20var%20circle_marker_c2e315d2a56d41c7bc361fa767f37e4c%20%3D%20L.circleMarker%28%0A%20%20%20%20%20%20%20%20%20%20%20%20%20%20%20%20%5B33.4078617193203%2C%20126.258114483301%5D%2C%0A%20%20%20%20%20%20%20%20%20%20%20%20%20%20%20%20%7B%22bubblingMouseEvents%22%3A%20true%2C%20%22color%22%3A%20%22red%22%2C%20%22dashArray%22%3A%20null%2C%20%22dashOffset%22%3A%20null%2C%20%22fill%22%3A%20false%2C%20%22fillColor%22%3A%20%22red%22%2C%20%22fillOpacity%22%3A%200.2%2C%20%22fillRule%22%3A%20%22evenodd%22%2C%20%22lineCap%22%3A%20%22round%22%2C%20%22lineJoin%22%3A%20%22round%22%2C%20%22opacity%22%3A%201.0%2C%20%22radius%22%3A%202%2C%20%22stroke%22%3A%20true%2C%20%22weight%22%3A%203%7D%0A%20%20%20%20%20%20%20%20%20%20%20%20%29.addTo%28map_693d66b5ac8a4c30964e28f25c40b7ef%29%3B%0A%20%20%20%20%20%20%20%20%0A%20%20%20%20%0A%20%20%20%20%20%20%20%20var%20popup_c0b8f6da8b524e78a5cf1047a718b18f%20%3D%20L.popup%28%7B%22maxWidth%22%3A%20%22100%25%22%7D%29%3B%0A%0A%20%20%20%20%20%20%20%20%0A%20%20%20%20%20%20%20%20%20%20%20%20var%20html_54a5505b5a5446f98c8d483e42cf272d%20%3D%20%24%28%60%3Cdiv%20id%3D%22html_54a5505b5a5446f98c8d483e42cf272d%22%20style%3D%22width%3A%20100.0%25%3B%20height%3A%20100.0%25%3B%22%3E%EC%96%B4%EB%B0%95%EC%82%AC%20%ED%95%9C%EB%A6%BC%EB%B3%B8%EC%A0%90%3C/div%3E%60%29%5B0%5D%3B%0A%20%20%20%20%20%20%20%20%20%20%20%20popup_c0b8f6da8b524e78a5cf1047a718b18f.setContent%28html_54a5505b5a5446f98c8d483e42cf272d%29%3B%0A%20%20%20%20%20%20%20%20%0A%0A%20%20%20%20%20%20%20%20circle_marker_c2e315d2a56d41c7bc361fa767f37e4c.bindPopup%28popup_c0b8f6da8b524e78a5cf1047a718b18f%29%0A%20%20%20%20%20%20%20%20%3B%0A%0A%20%20%20%20%20%20%20%20%0A%20%20%20%20%0A%20%20%20%20%0A%20%20%20%20%20%20%20%20%20%20%20%20var%20circle_marker_7352de6c58b44ababccfb3e55477313b%20%3D%20L.circleMarker%28%0A%20%20%20%20%20%20%20%20%20%20%20%20%20%20%20%20%5B33.37977781644616%2C%20126.5458735563004%5D%2C%0A%20%20%20%20%20%20%20%20%20%20%20%20%20%20%20%20%7B%22bubblingMouseEvents%22%3A%20true%2C%20%22color%22%3A%20%22red%22%2C%20%22dashArray%22%3A%20null%2C%20%22dashOffset%22%3A%20null%2C%20%22fill%22%3A%20false%2C%20%22fillColor%22%3A%20%22red%22%2C%20%22fillOpacity%22%3A%200.2%2C%20%22fillRule%22%3A%20%22evenodd%22%2C%20%22lineCap%22%3A%20%22round%22%2C%20%22lineJoin%22%3A%20%22round%22%2C%20%22opacity%22%3A%201.0%2C%20%22radius%22%3A%202%2C%20%22stroke%22%3A%20true%2C%20%22weight%22%3A%203%7D%0A%20%20%20%20%20%20%20%20%20%20%20%20%29.addTo%28map_693d66b5ac8a4c30964e28f25c40b7ef%29%3B%0A%20%20%20%20%20%20%20%20%0A%20%20%20%20%0A%20%20%20%20%20%20%20%20var%20popup_e34537b5dc9542439ed3545268829f5f%20%3D%20L.popup%28%7B%22maxWidth%22%3A%20%22100%25%22%7D%29%3B%0A%0A%20%20%20%20%20%20%20%20%0A%20%20%20%20%20%20%20%20%20%20%20%20var%20html_358d8d94df7f470194ee4875c38c9363%20%3D%20%24%28%60%3Cdiv%20id%3D%22html_358d8d94df7f470194ee4875c38c9363%22%20style%3D%22width%3A%20100.0%25%3B%20height%3A%20100.0%25%3B%22%3E%EC%A0%9C%EC%A3%BC%EB%8F%84%3C/div%3E%60%29%5B0%5D%3B%0A%20%20%20%20%20%20%20%20%20%20%20%20popup_e34537b5dc9542439ed3545268829f5f.setContent%28html_358d8d94df7f470194ee4875c38c9363%29%3B%0A%20%20%20%20%20%20%20%20%0A%0A%20%20%20%20%20%20%20%20circle_marker_7352de6c58b44ababccfb3e55477313b.bindPopup%28popup_e34537b5dc9542439ed3545268829f5f%29%0A%20%20%20%20%20%20%20%20%3B%0A%0A%20%20%20%20%20%20%20%20%0A%20%20%20%20%0A%20%20%20%20%0A%20%20%20%20%20%20%20%20%20%20%20%20var%20circle_marker_1971fffbd97045caaf9e0ffd30c1c1f5%20%3D%20L.circleMarker%28%0A%20%20%20%20%20%20%20%20%20%20%20%20%20%20%20%20%5B33.4984992561754%2C%20126.514328746288%5D%2C%0A%20%20%20%20%20%20%20%20%20%20%20%20%20%20%20%20%7B%22bubblingMouseEvents%22%3A%20true%2C%20%22color%22%3A%20%22red%22%2C%20%22dashArray%22%3A%20null%2C%20%22dashOffset%22%3A%20null%2C%20%22fill%22%3A%20false%2C%20%22fillColor%22%3A%20%22red%22%2C%20%22fillOpacity%22%3A%200.2%2C%20%22fillRule%22%3A%20%22evenodd%22%2C%20%22lineCap%22%3A%20%22round%22%2C%20%22lineJoin%22%3A%20%22round%22%2C%20%22opacity%22%3A%201.0%2C%20%22radius%22%3A%202%2C%20%22stroke%22%3A%20true%2C%20%22weight%22%3A%203%7D%0A%20%20%20%20%20%20%20%20%20%20%20%20%29.addTo%28map_693d66b5ac8a4c30964e28f25c40b7ef%29%3B%0A%20%20%20%20%20%20%20%20%0A%20%20%20%20%0A%20%20%20%20%20%20%20%20var%20popup_35d5394f0ee94d89ab9ca0f5eb5fc889%20%3D%20L.popup%28%7B%22maxWidth%22%3A%20%22100%25%22%7D%29%3B%0A%0A%20%20%20%20%20%20%20%20%0A%20%20%20%20%20%20%20%20%20%20%20%20var%20html_7a99e48d47364e8cac8630d9a61bbe13%20%3D%20%24%28%60%3Cdiv%20id%3D%22html_7a99e48d47364e8cac8630d9a61bbe13%22%20style%3D%22width%3A%20100.0%25%3B%20height%3A%20100.0%25%3B%22%3E%ED%98%84%EC%98%A5%EC%8B%9D%EB%8B%B9%3C/div%3E%60%29%5B0%5D%3B%0A%20%20%20%20%20%20%20%20%20%20%20%20popup_35d5394f0ee94d89ab9ca0f5eb5fc889.setContent%28html_7a99e48d47364e8cac8630d9a61bbe13%29%3B%0A%20%20%20%20%20%20%20%20%0A%0A%20%20%20%20%20%20%20%20circle_marker_1971fffbd97045caaf9e0ffd30c1c1f5.bindPopup%28popup_35d5394f0ee94d89ab9ca0f5eb5fc889%29%0A%20%20%20%20%20%20%20%20%3B%0A%0A%20%20%20%20%20%20%20%20%0A%20%20%20%20%0A%20%20%20%20%0A%20%20%20%20%20%20%20%20%20%20%20%20var%20circle_marker_7ebc7834386948d190d9971ff05407a6%20%3D%20L.circleMarker%28%0A%20%20%20%20%20%20%20%20%20%20%20%20%20%20%20%20%5B33.5017582536497%2C%20126.543670685399%5D%2C%0A%20%20%20%20%20%20%20%20%20%20%20%20%20%20%20%20%7B%22bubblingMouseEvents%22%3A%20true%2C%20%22color%22%3A%20%22red%22%2C%20%22dashArray%22%3A%20null%2C%20%22dashOffset%22%3A%20null%2C%20%22fill%22%3A%20false%2C%20%22fillColor%22%3A%20%22red%22%2C%20%22fillOpacity%22%3A%200.2%2C%20%22fillRule%22%3A%20%22evenodd%22%2C%20%22lineCap%22%3A%20%22round%22%2C%20%22lineJoin%22%3A%20%22round%22%2C%20%22opacity%22%3A%201.0%2C%20%22radius%22%3A%202%2C%20%22stroke%22%3A%20true%2C%20%22weight%22%3A%203%7D%0A%20%20%20%20%20%20%20%20%20%20%20%20%29.addTo%28map_693d66b5ac8a4c30964e28f25c40b7ef%29%3B%0A%20%20%20%20%20%20%20%20%0A%20%20%20%20%0A%20%20%20%20%20%20%20%20var%20popup_40d1fc44261e4121b6a267a95951568f%20%3D%20L.popup%28%7B%22maxWidth%22%3A%20%22100%25%22%7D%29%3B%0A%0A%20%20%20%20%20%20%20%20%0A%20%20%20%20%20%20%20%20%20%20%20%20var%20html_e63ae64cc4a24d7ead82584e6b0242a6%20%3D%20%24%28%60%3Cdiv%20id%3D%22html_e63ae64cc4a24d7ead82584e6b0242a6%22%20style%3D%22width%3A%20100.0%25%3B%20height%3A%20100.0%25%3B%22%3E%EA%B3%B5%EA%B3%B5%EC%8B%9C%3C/div%3E%60%29%5B0%5D%3B%0A%20%20%20%20%20%20%20%20%20%20%20%20popup_40d1fc44261e4121b6a267a95951568f.setContent%28html_e63ae64cc4a24d7ead82584e6b0242a6%29%3B%0A%20%20%20%20%20%20%20%20%0A%0A%20%20%20%20%20%20%20%20circle_marker_7ebc7834386948d190d9971ff05407a6.bindPopup%28popup_40d1fc44261e4121b6a267a95951568f%29%0A%20%20%20%20%20%20%20%20%3B%0A%0A%20%20%20%20%20%20%20%20%0A%20%20%20%20%0A%20%20%20%20%0A%20%20%20%20%20%20%20%20%20%20%20%20var%20circle_marker_7e3e7b7043d147ada91bb3106f3acb9b%20%3D%20L.circleMarker%28%0A%20%20%20%20%20%20%20%20%20%20%20%20%20%20%20%20%5B33.24305793998847%2C%20126.4214391879139%5D%2C%0A%20%20%20%20%20%20%20%20%20%20%20%20%20%20%20%20%7B%22bubblingMouseEvents%22%3A%20true%2C%20%22color%22%3A%20%22red%22%2C%20%22dashArray%22%3A%20null%2C%20%22dashOffset%22%3A%20null%2C%20%22fill%22%3A%20false%2C%20%22fillColor%22%3A%20%22red%22%2C%20%22fillOpacity%22%3A%200.2%2C%20%22fillRule%22%3A%20%22evenodd%22%2C%20%22lineCap%22%3A%20%22round%22%2C%20%22lineJoin%22%3A%20%22round%22%2C%20%22opacity%22%3A%201.0%2C%20%22radius%22%3A%202%2C%20%22stroke%22%3A%20true%2C%20%22weight%22%3A%203%7D%0A%20%20%20%20%20%20%20%20%20%20%20%20%29.addTo%28map_693d66b5ac8a4c30964e28f25c40b7ef%29%3B%0A%20%20%20%20%20%20%20%20%0A%20%20%20%20%0A%20%20%20%20%20%20%20%20var%20popup_dd3b4aadda404cbd9a53650673aa5f20%20%3D%20L.popup%28%7B%22maxWidth%22%3A%20%22100%25%22%7D%29%3B%0A%0A%20%20%20%20%20%20%20%20%0A%20%20%20%20%20%20%20%20%20%20%20%20var%20html_346aa528d36d4fb483669e432e5c8d81%20%3D%20%24%28%60%3Cdiv%20id%3D%22html_346aa528d36d4fb483669e432e5c8d81%22%20style%3D%22width%3A%20100.0%25%3B%20height%3A%20100.0%25%3B%22%3E%EC%94%A8%EC%97%90%EC%8A%A4%ED%98%B8%ED%85%94%EC%95%A4%EB%A6%AC%EC%A1%B0%ED%8A%B8%3C/div%3E%60%29%5B0%5D%3B%0A%20%20%20%20%20%20%20%20%20%20%20%20popup_dd3b4aadda404cbd9a53650673aa5f20.setContent%28html_346aa528d36d4fb483669e432e5c8d81%29%3B%0A%20%20%20%20%20%20%20%20%0A%0A%20%20%20%20%20%20%20%20circle_marker_7e3e7b7043d147ada91bb3106f3acb9b.bindPopup%28popup_dd3b4aadda404cbd9a53650673aa5f20%29%0A%20%20%20%20%20%20%20%20%3B%0A%0A%20%20%20%20%20%20%20%20%0A%20%20%20%20%0A%20%20%20%20%0A%20%20%20%20%20%20%20%20%20%20%20%20var%20circle_marker_7c738b60e80a4aa1af533bf6f2e59ed3%20%3D%20L.circleMarker%28%0A%20%20%20%20%20%20%20%20%20%20%20%20%20%20%20%20%5B33.31653530642813%2C%20126.2674821978352%5D%2C%0A%20%20%20%20%20%20%20%20%20%20%20%20%20%20%20%20%7B%22bubblingMouseEvents%22%3A%20true%2C%20%22color%22%3A%20%22red%22%2C%20%22dashArray%22%3A%20null%2C%20%22dashOffset%22%3A%20null%2C%20%22fill%22%3A%20false%2C%20%22fillColor%22%3A%20%22red%22%2C%20%22fillOpacity%22%3A%200.2%2C%20%22fillRule%22%3A%20%22evenodd%22%2C%20%22lineCap%22%3A%20%22round%22%2C%20%22lineJoin%22%3A%20%22round%22%2C%20%22opacity%22%3A%201.0%2C%20%22radius%22%3A%202%2C%20%22stroke%22%3A%20true%2C%20%22weight%22%3A%203%7D%0A%20%20%20%20%20%20%20%20%20%20%20%20%29.addTo%28map_693d66b5ac8a4c30964e28f25c40b7ef%29%3B%0A%20%20%20%20%20%20%20%20%0A%20%20%20%20%0A%20%20%20%20%20%20%20%20var%20popup_5ea4a31a7b28463faa20eade17d7e463%20%3D%20L.popup%28%7B%22maxWidth%22%3A%20%22100%25%22%7D%29%3B%0A%0A%20%20%20%20%20%20%20%20%0A%20%20%20%20%20%20%20%20%20%20%20%20var%20html_7881f7e2eed14d88a4b8b2d0dab31d7c%20%3D%20%24%28%60%3Cdiv%20id%3D%22html_7881f7e2eed14d88a4b8b2d0dab31d7c%22%20style%3D%22width%3A%20100.0%25%3B%20height%3A%20100.0%25%3B%22%3E%EC%95%8C%EB%8F%99%EB%84%A4%EC%A7%91%3C/div%3E%60%29%5B0%5D%3B%0A%20%20%20%20%20%20%20%20%20%20%20%20popup_5ea4a31a7b28463faa20eade17d7e463.setContent%28html_7881f7e2eed14d88a4b8b2d0dab31d7c%29%3B%0A%20%20%20%20%20%20%20%20%0A%0A%20%20%20%20%20%20%20%20circle_marker_7c738b60e80a4aa1af533bf6f2e59ed3.bindPopup%28popup_5ea4a31a7b28463faa20eade17d7e463%29%0A%20%20%20%20%20%20%20%20%3B%0A%0A%20%20%20%20%20%20%20%20%0A%20%20%20%20%0A%20%20%20%20%0A%20%20%20%20%20%20%20%20%20%20%20%20var%20circle_marker_04bbcc207a4e4de7aa4723c89aec8642%20%3D%20L.circleMarker%28%0A%20%20%20%20%20%20%20%20%20%20%20%20%20%20%20%20%5B33.3047588776712%2C%20126.315282111642%5D%2C%0A%20%20%20%20%20%20%20%20%20%20%20%20%20%20%20%20%7B%22bubblingMouseEvents%22%3A%20true%2C%20%22color%22%3A%20%22red%22%2C%20%22dashArray%22%3A%20null%2C%20%22dashOffset%22%3A%20null%2C%20%22fill%22%3A%20false%2C%20%22fillColor%22%3A%20%22red%22%2C%20%22fillOpacity%22%3A%200.2%2C%20%22fillRule%22%3A%20%22evenodd%22%2C%20%22lineCap%22%3A%20%22round%22%2C%20%22lineJoin%22%3A%20%22round%22%2C%20%22opacity%22%3A%201.0%2C%20%22radius%22%3A%202%2C%20%22stroke%22%3A%20true%2C%20%22weight%22%3A%203%7D%0A%20%20%20%20%20%20%20%20%20%20%20%20%29.addTo%28map_693d66b5ac8a4c30964e28f25c40b7ef%29%3B%0A%20%20%20%20%20%20%20%20%0A%20%20%20%20%0A%20%20%20%20%20%20%20%20var%20popup_d920c2d48eb64124a505ba4e9a01a642%20%3D%20L.popup%28%7B%22maxWidth%22%3A%20%22100%25%22%7D%29%3B%0A%0A%20%20%20%20%20%20%20%20%0A%20%20%20%20%20%20%20%20%20%20%20%20var%20html_e06245bd042d46f58e44cf33a33080a9%20%3D%20%24%28%60%3Cdiv%20id%3D%22html_e06245bd042d46f58e44cf33a33080a9%22%20style%3D%22width%3A%20100.0%25%3B%20height%3A%20100.0%25%3B%22%3E%EC%8B%A0%ED%99%94%ED%85%8C%EB%A7%88%ED%8C%8C%ED%81%AC%3C/div%3E%60%29%5B0%5D%3B%0A%20%20%20%20%20%20%20%20%20%20%20%20popup_d920c2d48eb64124a505ba4e9a01a642.setContent%28html_e06245bd042d46f58e44cf33a33080a9%29%3B%0A%20%20%20%20%20%20%20%20%0A%0A%20%20%20%20%20%20%20%20circle_marker_04bbcc207a4e4de7aa4723c89aec8642.bindPopup%28popup_d920c2d48eb64124a505ba4e9a01a642%29%0A%20%20%20%20%20%20%20%20%3B%0A%0A%20%20%20%20%20%20%20%20%0A%20%20%20%20%0A%20%20%20%20%0A%20%20%20%20%20%20%20%20%20%20%20%20var%20circle_marker_b1653d323a7749d181ccc106a200da5e%20%3D%20L.circleMarker%28%0A%20%20%20%20%20%20%20%20%20%20%20%20%20%20%20%20%5B33.2489662572046%2C%20126.570229561458%5D%2C%0A%20%20%20%20%20%20%20%20%20%20%20%20%20%20%20%20%7B%22bubblingMouseEvents%22%3A%20true%2C%20%22color%22%3A%20%22red%22%2C%20%22dashArray%22%3A%20null%2C%20%22dashOffset%22%3A%20null%2C%20%22fill%22%3A%20false%2C%20%22fillColor%22%3A%20%22red%22%2C%20%22fillOpacity%22%3A%200.2%2C%20%22fillRule%22%3A%20%22evenodd%22%2C%20%22lineCap%22%3A%20%22round%22%2C%20%22lineJoin%22%3A%20%22round%22%2C%20%22opacity%22%3A%201.0%2C%20%22radius%22%3A%202%2C%20%22stroke%22%3A%20true%2C%20%22weight%22%3A%203%7D%0A%20%20%20%20%20%20%20%20%20%20%20%20%29.addTo%28map_693d66b5ac8a4c30964e28f25c40b7ef%29%3B%0A%20%20%20%20%20%20%20%20%0A%20%20%20%20%0A%20%20%20%20%20%20%20%20var%20popup_6bf6dcf8f0524d4286517ffb4c6e5116%20%3D%20L.popup%28%7B%22maxWidth%22%3A%20%22100%25%22%7D%29%3B%0A%0A%20%20%20%20%20%20%20%20%0A%20%20%20%20%20%20%20%20%20%20%20%20var%20html_2489763fefda4d0aaaf27aadd4cb7972%20%3D%20%24%28%60%3Cdiv%20id%3D%22html_2489763fefda4d0aaaf27aadd4cb7972%22%20style%3D%22width%3A%20100.0%25%3B%20height%3A%20100.0%25%3B%22%3E%EC%9D%B4%EC%96%B4%EB%8F%84%3C/div%3E%60%29%5B0%5D%3B%0A%20%20%20%20%20%20%20%20%20%20%20%20popup_6bf6dcf8f0524d4286517ffb4c6e5116.setContent%28html_2489763fefda4d0aaaf27aadd4cb7972%29%3B%0A%20%20%20%20%20%20%20%20%0A%0A%20%20%20%20%20%20%20%20circle_marker_b1653d323a7749d181ccc106a200da5e.bindPopup%28popup_6bf6dcf8f0524d4286517ffb4c6e5116%29%0A%20%20%20%20%20%20%20%20%3B%0A%0A%20%20%20%20%20%20%20%20%0A%20%20%20%20%0A%20%20%20%20%0A%20%20%20%20%20%20%20%20%20%20%20%20var%20circle_marker_47ba2f3bb5d943a89b9e8a599d87a07e%20%3D%20L.circleMarker%28%0A%20%20%20%20%20%20%20%20%20%20%20%20%20%20%20%20%5B33.23799399299591%2C%20126.4260174424538%5D%2C%0A%20%20%20%20%20%20%20%20%20%20%20%20%20%20%20%20%7B%22bubblingMouseEvents%22%3A%20true%2C%20%22color%22%3A%20%22red%22%2C%20%22dashArray%22%3A%20null%2C%20%22dashOffset%22%3A%20null%2C%20%22fill%22%3A%20false%2C%20%22fillColor%22%3A%20%22red%22%2C%20%22fillOpacity%22%3A%200.2%2C%20%22fillRule%22%3A%20%22evenodd%22%2C%20%22lineCap%22%3A%20%22round%22%2C%20%22lineJoin%22%3A%20%22round%22%2C%20%22opacity%22%3A%201.0%2C%20%22radius%22%3A%202%2C%20%22stroke%22%3A%20true%2C%20%22weight%22%3A%203%7D%0A%20%20%20%20%20%20%20%20%20%20%20%20%29.addTo%28map_693d66b5ac8a4c30964e28f25c40b7ef%29%3B%0A%20%20%20%20%20%20%20%20%0A%20%20%20%20%0A%20%20%20%20%20%20%20%20var%20popup_46d18740f81444569c821c9d18a18019%20%3D%20L.popup%28%7B%22maxWidth%22%3A%20%22100%25%22%7D%29%3B%0A%0A%20%20%20%20%20%20%20%20%0A%20%20%20%20%20%20%20%20%20%20%20%20var%20html_4491d1be3a9b42599babfb4d547eef37%20%3D%20%24%28%60%3Cdiv%20id%3D%22html_4491d1be3a9b42599babfb4d547eef37%22%20style%3D%22width%3A%20100.0%25%3B%20height%3A%20100.0%25%3B%22%3E%EB%8C%80%ED%8F%AC%EC%A3%BC%EC%83%81%EC%A0%88%EB%A6%AC%EB%8C%80%3C/div%3E%60%29%5B0%5D%3B%0A%20%20%20%20%20%20%20%20%20%20%20%20popup_46d18740f81444569c821c9d18a18019.setContent%28html_4491d1be3a9b42599babfb4d547eef37%29%3B%0A%20%20%20%20%20%20%20%20%0A%0A%20%20%20%20%20%20%20%20circle_marker_47ba2f3bb5d943a89b9e8a599d87a07e.bindPopup%28popup_46d18740f81444569c821c9d18a18019%29%0A%20%20%20%20%20%20%20%20%3B%0A%0A%20%20%20%20%20%20%20%20%0A%20%20%20%20%0A%20%20%20%20%0A%20%20%20%20%20%20%20%20%20%20%20%20var%20circle_marker_cccb07ddd2754e0a8f5739271b0b91a5%20%3D%20L.circleMarker%28%0A%20%20%20%20%20%20%20%20%20%20%20%20%20%20%20%20%5B33.5091180133618%2C%20126.471338444636%5D%2C%0A%20%20%20%20%20%20%20%20%20%20%20%20%20%20%20%20%7B%22bubblingMouseEvents%22%3A%20true%2C%20%22color%22%3A%20%22red%22%2C%20%22dashArray%22%3A%20null%2C%20%22dashOffset%22%3A%20null%2C%20%22fill%22%3A%20false%2C%20%22fillColor%22%3A%20%22red%22%2C%20%22fillOpacity%22%3A%200.2%2C%20%22fillRule%22%3A%20%22evenodd%22%2C%20%22lineCap%22%3A%20%22round%22%2C%20%22lineJoin%22%3A%20%22round%22%2C%20%22opacity%22%3A%201.0%2C%20%22radius%22%3A%202%2C%20%22stroke%22%3A%20true%2C%20%22weight%22%3A%203%7D%0A%20%20%20%20%20%20%20%20%20%20%20%20%29.addTo%28map_693d66b5ac8a4c30964e28f25c40b7ef%29%3B%0A%20%20%20%20%20%20%20%20%0A%20%20%20%20%0A%20%20%20%20%20%20%20%20var%20popup_86033188567b4cbf9575a045ba96ddf5%20%3D%20L.popup%28%7B%22maxWidth%22%3A%20%22100%25%22%7D%29%3B%0A%0A%20%20%20%20%20%20%20%20%0A%20%20%20%20%20%20%20%20%20%20%20%20var%20html_3aef6626ecfb40329f0fe41d9a25a8da%20%3D%20%24%28%60%3Cdiv%20id%3D%22html_3aef6626ecfb40329f0fe41d9a25a8da%22%20style%3D%22width%3A%20100.0%25%3B%20height%3A%20100.0%25%3B%22%3E%EB%8F%84%EB%91%90%EB%8F%99%EB%AC%B4%EC%A7%80%EA%B0%9C%ED%95%B4%EC%95%88%EB%8F%84%EB%A1%9C%3C/div%3E%60%29%5B0%5D%3B%0A%20%20%20%20%20%20%20%20%20%20%20%20popup_86033188567b4cbf9575a045ba96ddf5.setContent%28html_3aef6626ecfb40329f0fe41d9a25a8da%29%3B%0A%20%20%20%20%20%20%20%20%0A%0A%20%20%20%20%20%20%20%20circle_marker_cccb07ddd2754e0a8f5739271b0b91a5.bindPopup%28popup_86033188567b4cbf9575a045ba96ddf5%29%0A%20%20%20%20%20%20%20%20%3B%0A%0A%20%20%20%20%20%20%20%20%0A%20%20%20%20%0A%20%20%20%20%0A%20%20%20%20%20%20%20%20%20%20%20%20var%20circle_marker_ae73f4ae366a4fdeb1e9144a316627c9%20%3D%20L.circleMarker%28%0A%20%20%20%20%20%20%20%20%20%20%20%20%20%20%20%20%5B33.47582581681852%2C%20126.5506168254931%5D%2C%0A%20%20%20%20%20%20%20%20%20%20%20%20%20%20%20%20%7B%22bubblingMouseEvents%22%3A%20true%2C%20%22color%22%3A%20%22red%22%2C%20%22dashArray%22%3A%20null%2C%20%22dashOffset%22%3A%20null%2C%20%22fill%22%3A%20false%2C%20%22fillColor%22%3A%20%22red%22%2C%20%22fillOpacity%22%3A%200.2%2C%20%22fillRule%22%3A%20%22evenodd%22%2C%20%22lineCap%22%3A%20%22round%22%2C%20%22lineJoin%22%3A%20%22round%22%2C%20%22opacity%22%3A%201.0%2C%20%22radius%22%3A%202%2C%20%22stroke%22%3A%20true%2C%20%22weight%22%3A%203%7D%0A%20%20%20%20%20%20%20%20%20%20%20%20%29.addTo%28map_693d66b5ac8a4c30964e28f25c40b7ef%29%3B%0A%20%20%20%20%20%20%20%20%0A%20%20%20%20%0A%20%20%20%20%20%20%20%20var%20popup_e212354aa5bd4b67b63f0dc0bcd4f4ef%20%3D%20L.popup%28%7B%22maxWidth%22%3A%20%22100%25%22%7D%29%3B%0A%0A%20%20%20%20%20%20%20%20%0A%20%20%20%20%20%20%20%20%20%20%20%20var%20html_2d1603f900544c9092709cf5d4674f64%20%3D%20%24%28%60%3Cdiv%20id%3D%22html_2d1603f900544c9092709cf5d4674f64%22%20style%3D%22width%3A%20100.0%25%3B%20height%3A%20100.0%25%3B%22%3E%EC%95%84%EB%9D%BC%EC%95%84%EC%9D%B4%ED%8C%8C%ED%81%AC%EC%95%84%ED%8C%8C%ED%8A%B8%3C/div%3E%60%29%5B0%5D%3B%0A%20%20%20%20%20%20%20%20%20%20%20%20popup_e212354aa5bd4b67b63f0dc0bcd4f4ef.setContent%28html_2d1603f900544c9092709cf5d4674f64%29%3B%0A%20%20%20%20%20%20%20%20%0A%0A%20%20%20%20%20%20%20%20circle_marker_ae73f4ae366a4fdeb1e9144a316627c9.bindPopup%28popup_e212354aa5bd4b67b63f0dc0bcd4f4ef%29%0A%20%20%20%20%20%20%20%20%3B%0A%0A%20%20%20%20%20%20%20%20%0A%20%20%20%20%0A%20%20%20%20%0A%20%20%20%20%20%20%20%20%20%20%20%20var%20circle_marker_d3d313275492497d8a79cfa0f61879d7%20%3D%20L.circleMarker%28%0A%20%20%20%20%20%20%20%20%20%20%20%20%20%20%20%20%5B33.47658430192365%2C%20126.3541573128746%5D%2C%0A%20%20%20%20%20%20%20%20%20%20%20%20%20%20%20%20%7B%22bubblingMouseEvents%22%3A%20true%2C%20%22color%22%3A%20%22red%22%2C%20%22dashArray%22%3A%20null%2C%20%22dashOffset%22%3A%20null%2C%20%22fill%22%3A%20false%2C%20%22fillColor%22%3A%20%22red%22%2C%20%22fillOpacity%22%3A%200.2%2C%20%22fillRule%22%3A%20%22evenodd%22%2C%20%22lineCap%22%3A%20%22round%22%2C%20%22lineJoin%22%3A%20%22round%22%2C%20%22opacity%22%3A%201.0%2C%20%22radius%22%3A%202%2C%20%22stroke%22%3A%20true%2C%20%22weight%22%3A%203%7D%0A%20%20%20%20%20%20%20%20%20%20%20%20%29.addTo%28map_693d66b5ac8a4c30964e28f25c40b7ef%29%3B%0A%20%20%20%20%20%20%20%20%0A%20%20%20%20%0A%20%20%20%20%20%20%20%20var%20popup_7c82363993094154886ce04779aefd8f%20%3D%20L.popup%28%7B%22maxWidth%22%3A%20%22100%25%22%7D%29%3B%0A%0A%20%20%20%20%20%20%20%20%0A%20%20%20%20%20%20%20%20%20%20%20%20var%20html_29dd4b81f41141e5a542e90646f9fc79%20%3D%20%24%28%60%3Cdiv%20id%3D%22html_29dd4b81f41141e5a542e90646f9fc79%22%20style%3D%22width%3A%20100.0%25%3B%20height%3A%20100.0%25%3B%22%3E%EC%95%A0%EC%9B%94%EC%B0%9C%3C/div%3E%60%29%5B0%5D%3B%0A%20%20%20%20%20%20%20%20%20%20%20%20popup_7c82363993094154886ce04779aefd8f.setContent%28html_29dd4b81f41141e5a542e90646f9fc79%29%3B%0A%20%20%20%20%20%20%20%20%0A%0A%20%20%20%20%20%20%20%20circle_marker_d3d313275492497d8a79cfa0f61879d7.bindPopup%28popup_7c82363993094154886ce04779aefd8f%29%0A%20%20%20%20%20%20%20%20%3B%0A%0A%20%20%20%20%20%20%20%20%0A%20%20%20%20%0A%3C/script%3E onload=\"this.contentDocument.open();this.contentDocument.write(    decodeURIComponent(this.getAttribute('data-html')));this.contentDocument.close();\" allowfullscreen webkitallowfullscreen mozallowfullscreen></iframe></div></div>"
      ],
      "text/plain": [
       "<folium.folium.Map at 0x28ac15c6e20>"
      ]
     },
     "execution_count": 16,
     "metadata": {},
     "output_type": "execute_result"
    }
   ],
   "source": [
    "Mt_Hanla =[33.362500, 126.533694]\n",
    "map_jeju = folium.Map(location = Mt_Hanla, zoom_start = 11) # 지도데이터\n",
    "\n",
    "for i in range(len(location_data)):\n",
    "    name = location_data ['카카오 위치명'][i]    # 공식명칭\n",
    "    count = location_data ['place'][i]           # 게시글 개수\n",
    "    size = int(count)*2 \n",
    "    long = float(location_data['위도'][i])      #위도\n",
    "    lat = float(location_data['경도'][i])       # 경도\n",
    "    \n",
    "    folium.CircleMarker((long,lat), radius = size, color='red', popup=name).add_to(map_jeju)\n",
    "    \n",
    "map_jeju\n"
   ]
  },
  {
   "cell_type": "markdown",
   "id": "4fe5531a",
   "metadata": {},
   "source": [
    "folium.CircleMarker((long,lat), radius = size, color='red', popup=name)  # 원생성  \n",
    ".add_to(map_jeju) : 지도에 추가 "
   ]
  },
  {
   "cell_type": "code",
   "execution_count": 17,
   "id": "65f41b26",
   "metadata": {},
   "outputs": [],
   "source": [
    "# 지도 저장 (html 파일)\n",
    "map_jeju.save('C:/Users/SAMSUNG/Desktop/파이썬 데이터 분석/데이터 분석 실무 파이썬/jeju.html')"
   ]
  },
  {
   "cell_type": "markdown",
   "id": "644c44e5",
   "metadata": {},
   "source": [
    "* 그룹으로 표시 (서클 마커 집합)"
   ]
  },
  {
   "cell_type": "code",
   "execution_count": 20,
   "id": "3bf3890b",
   "metadata": {},
   "outputs": [
    {
     "data": {
      "text/html": [
       "<div>\n",
       "<style scoped>\n",
       "    .dataframe tbody tr th:only-of-type {\n",
       "        vertical-align: middle;\n",
       "    }\n",
       "\n",
       "    .dataframe tbody tr th {\n",
       "        vertical-align: top;\n",
       "    }\n",
       "\n",
       "    .dataframe thead th {\n",
       "        text-align: right;\n",
       "    }\n",
       "</style>\n",
       "<table border=\"1\" class=\"dataframe\">\n",
       "  <thead>\n",
       "    <tr style=\"text-align: right;\">\n",
       "      <th></th>\n",
       "      <th>카카오 위치명</th>\n",
       "      <th>경도</th>\n",
       "      <th>위도</th>\n",
       "      <th>검색명</th>\n",
       "      <th>place</th>\n",
       "    </tr>\n",
       "  </thead>\n",
       "  <tbody>\n",
       "    <tr>\n",
       "      <th>0</th>\n",
       "      <td>제주특별자치도의회 의원회관(1층, 대회의실)</td>\n",
       "      <td>126.499502</td>\n",
       "      <td>33.490375</td>\n",
       "      <td>제주도 제주</td>\n",
       "      <td>5</td>\n",
       "    </tr>\n",
       "    <tr>\n",
       "      <th>1</th>\n",
       "      <td>낙지로</td>\n",
       "      <td>126.494396</td>\n",
       "      <td>33.488621</td>\n",
       "      <td>낙지로</td>\n",
       "      <td>1</td>\n",
       "    </tr>\n",
       "    <tr>\n",
       "      <th>2</th>\n",
       "      <td>용담밭담</td>\n",
       "      <td>126.510147</td>\n",
       "      <td>33.501170</td>\n",
       "      <td>용담밭담</td>\n",
       "      <td>1</td>\n",
       "    </tr>\n",
       "    <tr>\n",
       "      <th>3</th>\n",
       "      <td>올레길 16코스(고내-광령 올레)</td>\n",
       "      <td>126.389796</td>\n",
       "      <td>33.466498</td>\n",
       "      <td>제주도 애월읍</td>\n",
       "      <td>1</td>\n",
       "    </tr>\n",
       "    <tr>\n",
       "      <th>4</th>\n",
       "      <td>자연스러운식당</td>\n",
       "      <td>126.532612</td>\n",
       "      <td>33.243399</td>\n",
       "      <td>자연스러운식당</td>\n",
       "      <td>1</td>\n",
       "    </tr>\n",
       "  </tbody>\n",
       "</table>\n",
       "</div>"
      ],
      "text/plain": [
       "                    카카오 위치명          경도         위도      검색명  place\n",
       "0  제주특별자치도의회 의원회관(1층, 대회의실)  126.499502  33.490375   제주도 제주      5\n",
       "1                       낙지로  126.494396  33.488621      낙지로      1\n",
       "2                      용담밭담  126.510147  33.501170     용담밭담      1\n",
       "3        올레길 16코스(고내-광령 올레)  126.389796  33.466498  제주도 애월읍      1\n",
       "4                   자연스러운식당  126.532612  33.243399  자연스러운식당      1"
      ]
     },
     "execution_count": 20,
     "metadata": {},
     "output_type": "execute_result"
    }
   ],
   "source": [
    "location_data.head()"
   ]
  },
  {
   "cell_type": "code",
   "execution_count": 19,
   "id": "c04cbebd",
   "metadata": {},
   "outputs": [
    {
     "name": "stdout",
     "output_type": "stream",
     "text": [
      "<class 'pandas.core.frame.DataFrame'>\n",
      "RangeIndex: 27 entries, 0 to 26\n",
      "Data columns (total 5 columns):\n",
      " #   Column   Non-Null Count  Dtype  \n",
      "---  ------   --------------  -----  \n",
      " 0   카카오 위치명  27 non-null     object \n",
      " 1   경도       27 non-null     float64\n",
      " 2   위도       27 non-null     float64\n",
      " 3   검색명      27 non-null     object \n",
      " 4   place    27 non-null     int64  \n",
      "dtypes: float64(2), int64(1), object(2)\n",
      "memory usage: 1.2+ KB\n"
     ]
    }
   ],
   "source": [
    "location_data.info()"
   ]
  },
  {
   "cell_type": "code",
   "execution_count": 25,
   "id": "80a8d986",
   "metadata": {},
   "outputs": [],
   "source": [
    "# 맛집 정보들을 리스트에 넣기 \n",
    "from folium.plugins import MarkerCluster \n",
    "locations = [] \n",
    "names = []\n",
    "\n",
    "for i in range(len(location_data)):\n",
    "    data = location_data.iloc[i] #  한 레코드 씩 \n",
    "    locations.append((float(data['위도']),float(data['경도']))) # 리스트에 맛집 별 위도,경도 튜플로 추가 \n",
    "    names.append(data['검색명'])\n"
   ]
  },
  {
   "cell_type": "code",
   "execution_count": 27,
   "id": "a57eb900",
   "metadata": {},
   "outputs": [
    {
     "data": {
      "text/plain": [
       "[(33.4903746154992, 126.49950229128),\n",
       " (33.4886210266593, 126.494395960969),\n",
       " (33.5011695368784, 126.510146926148),\n",
       " (33.46649759191228, 126.3897956155709),\n",
       " (33.24339916063207, 126.5326117866329)]"
      ]
     },
     "execution_count": 27,
     "metadata": {},
     "output_type": "execute_result"
    }
   ],
   "source": [
    "locations[:5]"
   ]
  },
  {
   "cell_type": "code",
   "execution_count": 28,
   "id": "88a8067c",
   "metadata": {},
   "outputs": [
    {
     "data": {
      "text/plain": [
       "['제주도 제주', '낙지로', '용담밭담', '제주도 애월읍', '자연스러운식당']"
      ]
     },
     "execution_count": 28,
     "metadata": {},
     "output_type": "execute_result"
    }
   ],
   "source": [
    "names[:5]"
   ]
  },
  {
   "cell_type": "code",
   "execution_count": 29,
   "id": "c503b5e5",
   "metadata": {},
   "outputs": [
    {
     "data": {
      "text/html": [
       "<div style=\"width:100%;\"><div style=\"position:relative;width:100%;height:0;padding-bottom:60%;\"><span style=\"color:#565656\">Make this Notebook Trusted to load map: File -> Trust Notebook</span><iframe src=\"about:blank\" style=\"position:absolute;width:100%;height:100%;left:0;top:0;border:none !important;\" data-html=%3C%21DOCTYPE%20html%3E%0A%3Chead%3E%20%20%20%20%0A%20%20%20%20%3Cmeta%20http-equiv%3D%22content-type%22%20content%3D%22text/html%3B%20charset%3DUTF-8%22%20/%3E%0A%20%20%20%20%0A%20%20%20%20%20%20%20%20%3Cscript%3E%0A%20%20%20%20%20%20%20%20%20%20%20%20L_NO_TOUCH%20%3D%20false%3B%0A%20%20%20%20%20%20%20%20%20%20%20%20L_DISABLE_3D%20%3D%20false%3B%0A%20%20%20%20%20%20%20%20%3C/script%3E%0A%20%20%20%20%0A%20%20%20%20%3Cstyle%3Ehtml%2C%20body%20%7Bwidth%3A%20100%25%3Bheight%3A%20100%25%3Bmargin%3A%200%3Bpadding%3A%200%3B%7D%3C/style%3E%0A%20%20%20%20%3Cstyle%3E%23map%20%7Bposition%3Aabsolute%3Btop%3A0%3Bbottom%3A0%3Bright%3A0%3Bleft%3A0%3B%7D%3C/style%3E%0A%20%20%20%20%3Cscript%20src%3D%22https%3A//cdn.jsdelivr.net/npm/leaflet%401.6.0/dist/leaflet.js%22%3E%3C/script%3E%0A%20%20%20%20%3Cscript%20src%3D%22https%3A//code.jquery.com/jquery-1.12.4.min.js%22%3E%3C/script%3E%0A%20%20%20%20%3Cscript%20src%3D%22https%3A//maxcdn.bootstrapcdn.com/bootstrap/3.2.0/js/bootstrap.min.js%22%3E%3C/script%3E%0A%20%20%20%20%3Cscript%20src%3D%22https%3A//cdnjs.cloudflare.com/ajax/libs/Leaflet.awesome-markers/2.0.2/leaflet.awesome-markers.js%22%3E%3C/script%3E%0A%20%20%20%20%3Clink%20rel%3D%22stylesheet%22%20href%3D%22https%3A//cdn.jsdelivr.net/npm/leaflet%401.6.0/dist/leaflet.css%22/%3E%0A%20%20%20%20%3Clink%20rel%3D%22stylesheet%22%20href%3D%22https%3A//maxcdn.bootstrapcdn.com/bootstrap/3.2.0/css/bootstrap.min.css%22/%3E%0A%20%20%20%20%3Clink%20rel%3D%22stylesheet%22%20href%3D%22https%3A//maxcdn.bootstrapcdn.com/bootstrap/3.2.0/css/bootstrap-theme.min.css%22/%3E%0A%20%20%20%20%3Clink%20rel%3D%22stylesheet%22%20href%3D%22https%3A//maxcdn.bootstrapcdn.com/font-awesome/4.6.3/css/font-awesome.min.css%22/%3E%0A%20%20%20%20%3Clink%20rel%3D%22stylesheet%22%20href%3D%22https%3A//cdnjs.cloudflare.com/ajax/libs/Leaflet.awesome-markers/2.0.2/leaflet.awesome-markers.css%22/%3E%0A%20%20%20%20%3Clink%20rel%3D%22stylesheet%22%20href%3D%22https%3A//cdn.jsdelivr.net/gh/python-visualization/folium/folium/templates/leaflet.awesome.rotate.min.css%22/%3E%0A%20%20%20%20%0A%20%20%20%20%20%20%20%20%20%20%20%20%3Cmeta%20name%3D%22viewport%22%20content%3D%22width%3Ddevice-width%2C%0A%20%20%20%20%20%20%20%20%20%20%20%20%20%20%20%20initial-scale%3D1.0%2C%20maximum-scale%3D1.0%2C%20user-scalable%3Dno%22%20/%3E%0A%20%20%20%20%20%20%20%20%20%20%20%20%3Cstyle%3E%0A%20%20%20%20%20%20%20%20%20%20%20%20%20%20%20%20%23map_56b3ae7dec264abab249b5ccd9649cf4%20%7B%0A%20%20%20%20%20%20%20%20%20%20%20%20%20%20%20%20%20%20%20%20position%3A%20relative%3B%0A%20%20%20%20%20%20%20%20%20%20%20%20%20%20%20%20%20%20%20%20width%3A%20100.0%25%3B%0A%20%20%20%20%20%20%20%20%20%20%20%20%20%20%20%20%20%20%20%20height%3A%20100.0%25%3B%0A%20%20%20%20%20%20%20%20%20%20%20%20%20%20%20%20%20%20%20%20left%3A%200.0%25%3B%0A%20%20%20%20%20%20%20%20%20%20%20%20%20%20%20%20%20%20%20%20top%3A%200.0%25%3B%0A%20%20%20%20%20%20%20%20%20%20%20%20%20%20%20%20%7D%0A%20%20%20%20%20%20%20%20%20%20%20%20%3C/style%3E%0A%20%20%20%20%20%20%20%20%0A%20%20%20%20%3Cscript%20src%3D%22https%3A//cdnjs.cloudflare.com/ajax/libs/leaflet.markercluster/1.1.0/leaflet.markercluster.js%22%3E%3C/script%3E%0A%20%20%20%20%3Clink%20rel%3D%22stylesheet%22%20href%3D%22https%3A//cdnjs.cloudflare.com/ajax/libs/leaflet.markercluster/1.1.0/MarkerCluster.css%22/%3E%0A%20%20%20%20%3Clink%20rel%3D%22stylesheet%22%20href%3D%22https%3A//cdnjs.cloudflare.com/ajax/libs/leaflet.markercluster/1.1.0/MarkerCluster.Default.css%22/%3E%0A%3C/head%3E%0A%3Cbody%3E%20%20%20%20%0A%20%20%20%20%0A%20%20%20%20%20%20%20%20%20%20%20%20%3Cdiv%20class%3D%22folium-map%22%20id%3D%22map_56b3ae7dec264abab249b5ccd9649cf4%22%20%3E%3C/div%3E%0A%20%20%20%20%20%20%20%20%0A%3C/body%3E%0A%3Cscript%3E%20%20%20%20%0A%20%20%20%20%0A%20%20%20%20%20%20%20%20%20%20%20%20var%20map_56b3ae7dec264abab249b5ccd9649cf4%20%3D%20L.map%28%0A%20%20%20%20%20%20%20%20%20%20%20%20%20%20%20%20%22map_56b3ae7dec264abab249b5ccd9649cf4%22%2C%0A%20%20%20%20%20%20%20%20%20%20%20%20%20%20%20%20%7B%0A%20%20%20%20%20%20%20%20%20%20%20%20%20%20%20%20%20%20%20%20center%3A%20%5B33.3625%2C%20126.533694%5D%2C%0A%20%20%20%20%20%20%20%20%20%20%20%20%20%20%20%20%20%20%20%20crs%3A%20L.CRS.EPSG3857%2C%0A%20%20%20%20%20%20%20%20%20%20%20%20%20%20%20%20%20%20%20%20zoom%3A%2011%2C%0A%20%20%20%20%20%20%20%20%20%20%20%20%20%20%20%20%20%20%20%20zoomControl%3A%20true%2C%0A%20%20%20%20%20%20%20%20%20%20%20%20%20%20%20%20%20%20%20%20preferCanvas%3A%20false%2C%0A%20%20%20%20%20%20%20%20%20%20%20%20%20%20%20%20%7D%0A%20%20%20%20%20%20%20%20%20%20%20%20%29%3B%0A%0A%20%20%20%20%20%20%20%20%20%20%20%20%0A%0A%20%20%20%20%20%20%20%20%0A%20%20%20%20%0A%20%20%20%20%20%20%20%20%20%20%20%20var%20tile_layer_1cf1e774361748038e5fa3cc89c70e0e%20%3D%20L.tileLayer%28%0A%20%20%20%20%20%20%20%20%20%20%20%20%20%20%20%20%22https%3A//%7Bs%7D.tile.openstreetmap.org/%7Bz%7D/%7Bx%7D/%7By%7D.png%22%2C%0A%20%20%20%20%20%20%20%20%20%20%20%20%20%20%20%20%7B%22attribution%22%3A%20%22Data%20by%20%5Cu0026copy%3B%20%5Cu003ca%20href%3D%5C%22http%3A//openstreetmap.org%5C%22%5Cu003eOpenStreetMap%5Cu003c/a%5Cu003e%2C%20under%20%5Cu003ca%20href%3D%5C%22http%3A//www.openstreetmap.org/copyright%5C%22%5Cu003eODbL%5Cu003c/a%5Cu003e.%22%2C%20%22detectRetina%22%3A%20false%2C%20%22maxNativeZoom%22%3A%2018%2C%20%22maxZoom%22%3A%2018%2C%20%22minZoom%22%3A%200%2C%20%22noWrap%22%3A%20false%2C%20%22opacity%22%3A%201%2C%20%22subdomains%22%3A%20%22abc%22%2C%20%22tms%22%3A%20false%7D%0A%20%20%20%20%20%20%20%20%20%20%20%20%29.addTo%28map_56b3ae7dec264abab249b5ccd9649cf4%29%3B%0A%20%20%20%20%20%20%20%20%0A%20%20%20%20%0A%20%20%20%20%20%20%20%20%20%20%20%20var%20marker_cluster_c2aa38f7217447ae95cee905b025a652%20%3D%20L.markerClusterGroup%28%0A%20%20%20%20%20%20%20%20%20%20%20%20%20%20%20%20%7B%7D%0A%20%20%20%20%20%20%20%20%20%20%20%20%29%3B%0A%20%20%20%20%20%20%20%20%20%20%20%20marker_cluster_c2aa38f7217447ae95cee905b025a652.options.iconCreateFunction%20%3D%0A%20%20%20%20%20%20%20%20%20%20%20%20%20%20%20%20function%28cluster%29%20%7B%0A%20%20%20%20return%20L.divIcon%28%7B%0A%20%20%20%20html%20%3A%20%27%3Cb%3E%27%20%2B%20cluster.getChildCount%28%29%20%2B%20%27%3C/b%3E%27%2C%0A%20%20%20%20className%20%3A%20%27marker-cluster%20marker-cluster-large%27%2C%0A%20%20%20%20iconsize%20%3A%20new%20L.Point%2830%2C30%29%0A%20%20%20%20%7D%29%3B%20%0A%7D%3B%0A%20%20%20%20%20%20%20%20%20%20%20%20map_56b3ae7dec264abab249b5ccd9649cf4.addLayer%28marker_cluster_c2aa38f7217447ae95cee905b025a652%29%3B%0A%20%20%20%20%20%20%20%20%0A%20%20%20%20%0A%20%20%20%20%20%20%20%20%20%20%20%20var%20marker_bdda5bedd7394438a9a483914fd48338%20%3D%20L.marker%28%0A%20%20%20%20%20%20%20%20%20%20%20%20%20%20%20%20%5B33.4903746154992%2C%20126.49950229128%5D%2C%0A%20%20%20%20%20%20%20%20%20%20%20%20%20%20%20%20%7B%7D%0A%20%20%20%20%20%20%20%20%20%20%20%20%29.addTo%28marker_cluster_c2aa38f7217447ae95cee905b025a652%29%3B%0A%20%20%20%20%20%20%20%20%0A%20%20%20%20%0A%20%20%20%20%20%20%20%20var%20popup_1d9f3784d86c448a89ccae41ff3e1ae4%20%3D%20L.popup%28%7B%22maxWidth%22%3A%20%22100%25%22%7D%29%3B%0A%0A%20%20%20%20%20%20%20%20%0A%20%20%20%20%20%20%20%20%20%20%20%20var%20html_2ba217f5bebc4356bcc3f7a6a6b96250%20%3D%20%24%28%60%3Cdiv%20id%3D%22html_2ba217f5bebc4356bcc3f7a6a6b96250%22%20style%3D%22width%3A%20100.0%25%3B%20height%3A%20100.0%25%3B%22%3E%EC%A0%9C%EC%A3%BC%EB%8F%84%20%EC%A0%9C%EC%A3%BC%3C/div%3E%60%29%5B0%5D%3B%0A%20%20%20%20%20%20%20%20%20%20%20%20popup_1d9f3784d86c448a89ccae41ff3e1ae4.setContent%28html_2ba217f5bebc4356bcc3f7a6a6b96250%29%3B%0A%20%20%20%20%20%20%20%20%0A%0A%20%20%20%20%20%20%20%20marker_bdda5bedd7394438a9a483914fd48338.bindPopup%28popup_1d9f3784d86c448a89ccae41ff3e1ae4%29%0A%20%20%20%20%20%20%20%20%3B%0A%0A%20%20%20%20%20%20%20%20%0A%20%20%20%20%0A%20%20%20%20%0A%20%20%20%20%20%20%20%20%20%20%20%20var%20marker_cbfcc41e3625420da457c435ce3a7b2e%20%3D%20L.marker%28%0A%20%20%20%20%20%20%20%20%20%20%20%20%20%20%20%20%5B33.4886210266593%2C%20126.494395960969%5D%2C%0A%20%20%20%20%20%20%20%20%20%20%20%20%20%20%20%20%7B%7D%0A%20%20%20%20%20%20%20%20%20%20%20%20%29.addTo%28marker_cluster_c2aa38f7217447ae95cee905b025a652%29%3B%0A%20%20%20%20%20%20%20%20%0A%20%20%20%20%0A%20%20%20%20%20%20%20%20var%20popup_2bdd084820464bf997c96cf147f33210%20%3D%20L.popup%28%7B%22maxWidth%22%3A%20%22100%25%22%7D%29%3B%0A%0A%20%20%20%20%20%20%20%20%0A%20%20%20%20%20%20%20%20%20%20%20%20var%20html_479cff49f9b749a5a8a8b2b0f97e57f3%20%3D%20%24%28%60%3Cdiv%20id%3D%22html_479cff49f9b749a5a8a8b2b0f97e57f3%22%20style%3D%22width%3A%20100.0%25%3B%20height%3A%20100.0%25%3B%22%3E%EB%82%99%EC%A7%80%EB%A1%9C%3C/div%3E%60%29%5B0%5D%3B%0A%20%20%20%20%20%20%20%20%20%20%20%20popup_2bdd084820464bf997c96cf147f33210.setContent%28html_479cff49f9b749a5a8a8b2b0f97e57f3%29%3B%0A%20%20%20%20%20%20%20%20%0A%0A%20%20%20%20%20%20%20%20marker_cbfcc41e3625420da457c435ce3a7b2e.bindPopup%28popup_2bdd084820464bf997c96cf147f33210%29%0A%20%20%20%20%20%20%20%20%3B%0A%0A%20%20%20%20%20%20%20%20%0A%20%20%20%20%0A%20%20%20%20%0A%20%20%20%20%20%20%20%20%20%20%20%20var%20marker_5079df517b8848d8836018e5b5c606ca%20%3D%20L.marker%28%0A%20%20%20%20%20%20%20%20%20%20%20%20%20%20%20%20%5B33.5011695368784%2C%20126.510146926148%5D%2C%0A%20%20%20%20%20%20%20%20%20%20%20%20%20%20%20%20%7B%7D%0A%20%20%20%20%20%20%20%20%20%20%20%20%29.addTo%28marker_cluster_c2aa38f7217447ae95cee905b025a652%29%3B%0A%20%20%20%20%20%20%20%20%0A%20%20%20%20%0A%20%20%20%20%20%20%20%20var%20popup_b3edab4611134d2ea5e5169858e86f97%20%3D%20L.popup%28%7B%22maxWidth%22%3A%20%22100%25%22%7D%29%3B%0A%0A%20%20%20%20%20%20%20%20%0A%20%20%20%20%20%20%20%20%20%20%20%20var%20html_85efea8cb66d486f87eca00051905aed%20%3D%20%24%28%60%3Cdiv%20id%3D%22html_85efea8cb66d486f87eca00051905aed%22%20style%3D%22width%3A%20100.0%25%3B%20height%3A%20100.0%25%3B%22%3E%EC%9A%A9%EB%8B%B4%EB%B0%AD%EB%8B%B4%3C/div%3E%60%29%5B0%5D%3B%0A%20%20%20%20%20%20%20%20%20%20%20%20popup_b3edab4611134d2ea5e5169858e86f97.setContent%28html_85efea8cb66d486f87eca00051905aed%29%3B%0A%20%20%20%20%20%20%20%20%0A%0A%20%20%20%20%20%20%20%20marker_5079df517b8848d8836018e5b5c606ca.bindPopup%28popup_b3edab4611134d2ea5e5169858e86f97%29%0A%20%20%20%20%20%20%20%20%3B%0A%0A%20%20%20%20%20%20%20%20%0A%20%20%20%20%0A%20%20%20%20%0A%20%20%20%20%20%20%20%20%20%20%20%20var%20marker_06998305baf043a8a69784f04dcebd98%20%3D%20L.marker%28%0A%20%20%20%20%20%20%20%20%20%20%20%20%20%20%20%20%5B33.46649759191228%2C%20126.3897956155709%5D%2C%0A%20%20%20%20%20%20%20%20%20%20%20%20%20%20%20%20%7B%7D%0A%20%20%20%20%20%20%20%20%20%20%20%20%29.addTo%28marker_cluster_c2aa38f7217447ae95cee905b025a652%29%3B%0A%20%20%20%20%20%20%20%20%0A%20%20%20%20%0A%20%20%20%20%20%20%20%20var%20popup_d18a58a0a5474d71ac32d5d1ed4083d1%20%3D%20L.popup%28%7B%22maxWidth%22%3A%20%22100%25%22%7D%29%3B%0A%0A%20%20%20%20%20%20%20%20%0A%20%20%20%20%20%20%20%20%20%20%20%20var%20html_986125804d8643beadd8bb53f312cd5d%20%3D%20%24%28%60%3Cdiv%20id%3D%22html_986125804d8643beadd8bb53f312cd5d%22%20style%3D%22width%3A%20100.0%25%3B%20height%3A%20100.0%25%3B%22%3E%EC%A0%9C%EC%A3%BC%EB%8F%84%20%EC%95%A0%EC%9B%94%EC%9D%8D%3C/div%3E%60%29%5B0%5D%3B%0A%20%20%20%20%20%20%20%20%20%20%20%20popup_d18a58a0a5474d71ac32d5d1ed4083d1.setContent%28html_986125804d8643beadd8bb53f312cd5d%29%3B%0A%20%20%20%20%20%20%20%20%0A%0A%20%20%20%20%20%20%20%20marker_06998305baf043a8a69784f04dcebd98.bindPopup%28popup_d18a58a0a5474d71ac32d5d1ed4083d1%29%0A%20%20%20%20%20%20%20%20%3B%0A%0A%20%20%20%20%20%20%20%20%0A%20%20%20%20%0A%20%20%20%20%0A%20%20%20%20%20%20%20%20%20%20%20%20var%20marker_4adcaee5b8e240258df52343070fe6ea%20%3D%20L.marker%28%0A%20%20%20%20%20%20%20%20%20%20%20%20%20%20%20%20%5B33.24339916063207%2C%20126.5326117866329%5D%2C%0A%20%20%20%20%20%20%20%20%20%20%20%20%20%20%20%20%7B%7D%0A%20%20%20%20%20%20%20%20%20%20%20%20%29.addTo%28marker_cluster_c2aa38f7217447ae95cee905b025a652%29%3B%0A%20%20%20%20%20%20%20%20%0A%20%20%20%20%0A%20%20%20%20%20%20%20%20var%20popup_c8e303ca298b41bcb4042f147f075517%20%3D%20L.popup%28%7B%22maxWidth%22%3A%20%22100%25%22%7D%29%3B%0A%0A%20%20%20%20%20%20%20%20%0A%20%20%20%20%20%20%20%20%20%20%20%20var%20html_48bc2914a17742b4902c21c8dc546253%20%3D%20%24%28%60%3Cdiv%20id%3D%22html_48bc2914a17742b4902c21c8dc546253%22%20style%3D%22width%3A%20100.0%25%3B%20height%3A%20100.0%25%3B%22%3E%EC%9E%90%EC%97%B0%EC%8A%A4%EB%9F%AC%EC%9A%B4%EC%8B%9D%EB%8B%B9%3C/div%3E%60%29%5B0%5D%3B%0A%20%20%20%20%20%20%20%20%20%20%20%20popup_c8e303ca298b41bcb4042f147f075517.setContent%28html_48bc2914a17742b4902c21c8dc546253%29%3B%0A%20%20%20%20%20%20%20%20%0A%0A%20%20%20%20%20%20%20%20marker_4adcaee5b8e240258df52343070fe6ea.bindPopup%28popup_c8e303ca298b41bcb4042f147f075517%29%0A%20%20%20%20%20%20%20%20%3B%0A%0A%20%20%20%20%20%20%20%20%0A%20%20%20%20%0A%20%20%20%20%0A%20%20%20%20%20%20%20%20%20%20%20%20var%20marker_846d9227c9c54d688c1e861d1c450c47%20%3D%20L.marker%28%0A%20%20%20%20%20%20%20%20%20%20%20%20%20%20%20%20%5B33.4781232943703%2C%20126.36867872098%5D%2C%0A%20%20%20%20%20%20%20%20%20%20%20%20%20%20%20%20%7B%7D%0A%20%20%20%20%20%20%20%20%20%20%20%20%29.addTo%28marker_cluster_c2aa38f7217447ae95cee905b025a652%29%3B%0A%20%20%20%20%20%20%20%20%0A%20%20%20%20%0A%20%20%20%20%20%20%20%20var%20popup_ea15f055665445c584c8a5728cac37d6%20%3D%20L.popup%28%7B%22maxWidth%22%3A%20%22100%25%22%7D%29%3B%0A%0A%20%20%20%20%20%20%20%20%0A%20%20%20%20%20%20%20%20%20%20%20%20var%20html_7b40c2a92bef4783abbcdc3a66159572%20%3D%20%24%28%60%3Cdiv%20id%3D%22html_7b40c2a92bef4783abbcdc3a66159572%22%20style%3D%22width%3A%20100.0%25%3B%20height%3A%20100.0%25%3B%22%3E%EC%95%A0%EC%9B%94%ED%95%B4%EC%95%88%EB%8F%84%EB%A1%9C%3C/div%3E%60%29%5B0%5D%3B%0A%20%20%20%20%20%20%20%20%20%20%20%20popup_ea15f055665445c584c8a5728cac37d6.setContent%28html_7b40c2a92bef4783abbcdc3a66159572%29%3B%0A%20%20%20%20%20%20%20%20%0A%0A%20%20%20%20%20%20%20%20marker_846d9227c9c54d688c1e861d1c450c47.bindPopup%28popup_ea15f055665445c584c8a5728cac37d6%29%0A%20%20%20%20%20%20%20%20%3B%0A%0A%20%20%20%20%20%20%20%20%0A%20%20%20%20%0A%20%20%20%20%0A%20%20%20%20%20%20%20%20%20%20%20%20var%20marker_e7e14b8359c843bda28320ca8528a62f%20%3D%20L.marker%28%0A%20%20%20%20%20%20%20%20%20%20%20%20%20%20%20%20%5B33.41273972191753%2C%20126.8998588271188%5D%2C%0A%20%20%20%20%20%20%20%20%20%20%20%20%20%20%20%20%7B%7D%0A%20%20%20%20%20%20%20%20%20%20%20%20%29.addTo%28marker_cluster_c2aa38f7217447ae95cee905b025a652%29%3B%0A%20%20%20%20%20%20%20%20%0A%20%20%20%20%0A%20%20%20%20%20%20%20%20var%20popup_f0869cc8ee734cbbb27731d519d3f5f0%20%3D%20L.popup%28%7B%22maxWidth%22%3A%20%22100%25%22%7D%29%3B%0A%0A%20%20%20%20%20%20%20%20%0A%20%20%20%20%20%20%20%20%20%20%20%20var%20html_6e600a69b481473eba81f2dc5f3e27c0%20%3D%20%24%28%60%3Cdiv%20id%3D%22html_6e600a69b481473eba81f2dc5f3e27c0%22%20style%3D%22width%3A%20100.0%25%3B%20height%3A%20100.0%25%3B%22%3E%EC%A0%9C%EC%A3%BC%20%EB%B2%94%ED%95%98%EB%8B%A4%3C/div%3E%60%29%5B0%5D%3B%0A%20%20%20%20%20%20%20%20%20%20%20%20popup_f0869cc8ee734cbbb27731d519d3f5f0.setContent%28html_6e600a69b481473eba81f2dc5f3e27c0%29%3B%0A%20%20%20%20%20%20%20%20%0A%0A%20%20%20%20%20%20%20%20marker_e7e14b8359c843bda28320ca8528a62f.bindPopup%28popup_f0869cc8ee734cbbb27731d519d3f5f0%29%0A%20%20%20%20%20%20%20%20%3B%0A%0A%20%20%20%20%20%20%20%20%0A%20%20%20%20%0A%20%20%20%20%0A%20%20%20%20%20%20%20%20%20%20%20%20var%20marker_6331bdc0935c443ea5a1f7b21291d162%20%3D%20L.marker%28%0A%20%20%20%20%20%20%20%20%20%20%20%20%20%20%20%20%5B33.4617488070486%2C%20126.931908687227%5D%2C%0A%20%20%20%20%20%20%20%20%20%20%20%20%20%20%20%20%7B%7D%0A%20%20%20%20%20%20%20%20%20%20%20%20%29.addTo%28marker_cluster_c2aa38f7217447ae95cee905b025a652%29%3B%0A%20%20%20%20%20%20%20%20%0A%20%20%20%20%0A%20%20%20%20%20%20%20%20var%20popup_5f401ce4b8ff4849a3648d1968a9b7dc%20%3D%20L.popup%28%7B%22maxWidth%22%3A%20%22100%25%22%7D%29%3B%0A%0A%20%20%20%20%20%20%20%20%0A%20%20%20%20%20%20%20%20%20%20%20%20var%20html_b688034ca8cd46b3b7b0e70abaa99318%20%3D%20%24%28%60%3Cdiv%20id%3D%22html_b688034ca8cd46b3b7b0e70abaa99318%22%20style%3D%22width%3A%20100.0%25%3B%20height%3A%20100.0%25%3B%22%3E%EB%8B%A8%EB%B0%B1%3C/div%3E%60%29%5B0%5D%3B%0A%20%20%20%20%20%20%20%20%20%20%20%20popup_5f401ce4b8ff4849a3648d1968a9b7dc.setContent%28html_b688034ca8cd46b3b7b0e70abaa99318%29%3B%0A%20%20%20%20%20%20%20%20%0A%0A%20%20%20%20%20%20%20%20marker_6331bdc0935c443ea5a1f7b21291d162.bindPopup%28popup_5f401ce4b8ff4849a3648d1968a9b7dc%29%0A%20%20%20%20%20%20%20%20%3B%0A%0A%20%20%20%20%20%20%20%20%0A%20%20%20%20%0A%20%20%20%20%0A%20%20%20%20%20%20%20%20%20%20%20%20var%20marker_9ab220d6ad104266a2face7bf8caf4b4%20%3D%20L.marker%28%0A%20%20%20%20%20%20%20%20%20%20%20%20%20%20%20%20%5B33.37977781644616%2C%20126.5458735563004%5D%2C%0A%20%20%20%20%20%20%20%20%20%20%20%20%20%20%20%20%7B%7D%0A%20%20%20%20%20%20%20%20%20%20%20%20%29.addTo%28marker_cluster_c2aa38f7217447ae95cee905b025a652%29%3B%0A%20%20%20%20%20%20%20%20%0A%20%20%20%20%0A%20%20%20%20%20%20%20%20var%20popup_254becb6c5864da8962cdd047ca03730%20%3D%20L.popup%28%7B%22maxWidth%22%3A%20%22100%25%22%7D%29%3B%0A%0A%20%20%20%20%20%20%20%20%0A%20%20%20%20%20%20%20%20%20%20%20%20var%20html_bdafec265a6b4da4be77111c92c86329%20%3D%20%24%28%60%3Cdiv%20id%3D%22html_bdafec265a6b4da4be77111c92c86329%22%20style%3D%22width%3A%20100.0%25%3B%20height%3A%20100.0%25%3B%22%3E%EC%A0%9C%EC%A3%BC%EB%8F%84%3C/div%3E%60%29%5B0%5D%3B%0A%20%20%20%20%20%20%20%20%20%20%20%20popup_254becb6c5864da8962cdd047ca03730.setContent%28html_bdafec265a6b4da4be77111c92c86329%29%3B%0A%20%20%20%20%20%20%20%20%0A%0A%20%20%20%20%20%20%20%20marker_9ab220d6ad104266a2face7bf8caf4b4.bindPopup%28popup_254becb6c5864da8962cdd047ca03730%29%0A%20%20%20%20%20%20%20%20%3B%0A%0A%20%20%20%20%20%20%20%20%0A%20%20%20%20%0A%20%20%20%20%0A%20%20%20%20%20%20%20%20%20%20%20%20var%20marker_22b55aa070bc492e83cc13e570026e49%20%3D%20L.marker%28%0A%20%20%20%20%20%20%20%20%20%20%20%20%20%20%20%20%5B37.16783438705687%2C%20127.1045221046545%5D%2C%0A%20%20%20%20%20%20%20%20%20%20%20%20%20%20%20%20%7B%7D%0A%20%20%20%20%20%20%20%20%20%20%20%20%29.addTo%28marker_cluster_c2aa38f7217447ae95cee905b025a652%29%3B%0A%20%20%20%20%20%20%20%20%0A%20%20%20%20%0A%20%20%20%20%20%20%20%20var%20popup_5a380c9cd40742cb8402b282e25ed7e0%20%3D%20L.popup%28%7B%22maxWidth%22%3A%20%22100%25%22%7D%29%3B%0A%0A%20%20%20%20%20%20%20%20%0A%20%20%20%20%20%20%20%20%20%20%20%20var%20html_d8198ed70b844df5842f9193e0177f86%20%3D%20%24%28%60%3Cdiv%20id%3D%22html_d8198ed70b844df5842f9193e0177f86%22%20style%3D%22width%3A%20100.0%25%3B%20height%3A%20100.0%25%3B%22%3E%EB%8F%99%ED%83%84%ED%98%B8%EC%88%98%EA%B3%B5%EC%9B%90%3C/div%3E%60%29%5B0%5D%3B%0A%20%20%20%20%20%20%20%20%20%20%20%20popup_5a380c9cd40742cb8402b282e25ed7e0.setContent%28html_d8198ed70b844df5842f9193e0177f86%29%3B%0A%20%20%20%20%20%20%20%20%0A%0A%20%20%20%20%20%20%20%20marker_22b55aa070bc492e83cc13e570026e49.bindPopup%28popup_5a380c9cd40742cb8402b282e25ed7e0%29%0A%20%20%20%20%20%20%20%20%3B%0A%0A%20%20%20%20%20%20%20%20%0A%20%20%20%20%0A%20%20%20%20%0A%20%20%20%20%20%20%20%20%20%20%20%20var%20marker_40afbe4fd0504a2a816981e307775643%20%3D%20L.marker%28%0A%20%20%20%20%20%20%20%20%20%20%20%20%20%20%20%20%5B33.4989236665696%2C%20126.519586532616%5D%2C%0A%20%20%20%20%20%20%20%20%20%20%20%20%20%20%20%20%7B%7D%0A%20%20%20%20%20%20%20%20%20%20%20%20%29.addTo%28marker_cluster_c2aa38f7217447ae95cee905b025a652%29%3B%0A%20%20%20%20%20%20%20%20%0A%20%20%20%20%0A%20%20%20%20%20%20%20%20var%20popup_7b02aa6e50954d61bdda1866f1463bea%20%3D%20L.popup%28%7B%22maxWidth%22%3A%20%22100%25%22%7D%29%3B%0A%0A%20%20%20%20%20%20%20%20%0A%20%20%20%20%20%20%20%20%20%20%20%20var%20html_bf060f38c7fb4e77bad16e1f3751a682%20%3D%20%24%28%60%3Cdiv%20id%3D%22html_bf060f38c7fb4e77bad16e1f3751a682%22%20style%3D%22width%3A%20100.0%25%3B%20height%3A%20100.0%25%3B%22%3E%EB%8C%80%EC%9A%B0%EC%A0%95%EC%8B%9D%EB%8B%B9%3C/div%3E%60%29%5B0%5D%3B%0A%20%20%20%20%20%20%20%20%20%20%20%20popup_7b02aa6e50954d61bdda1866f1463bea.setContent%28html_bf060f38c7fb4e77bad16e1f3751a682%29%3B%0A%20%20%20%20%20%20%20%20%0A%0A%20%20%20%20%20%20%20%20marker_40afbe4fd0504a2a816981e307775643.bindPopup%28popup_7b02aa6e50954d61bdda1866f1463bea%29%0A%20%20%20%20%20%20%20%20%3B%0A%0A%20%20%20%20%20%20%20%20%0A%20%20%20%20%0A%20%20%20%20%0A%20%20%20%20%20%20%20%20%20%20%20%20var%20marker_bc65b837b6634a86a08b6acc3544ba76%20%3D%20L.marker%28%0A%20%20%20%20%20%20%20%20%20%20%20%20%20%20%20%20%5B33.4862281727332%2C%20126.486060276427%5D%2C%0A%20%20%20%20%20%20%20%20%20%20%20%20%20%20%20%20%7B%7D%0A%20%20%20%20%20%20%20%20%20%20%20%20%29.addTo%28marker_cluster_c2aa38f7217447ae95cee905b025a652%29%3B%0A%20%20%20%20%20%20%20%20%0A%20%20%20%20%0A%20%20%20%20%20%20%20%20var%20popup_4f4c8d664d83478b9929ba357e09b302%20%3D%20L.popup%28%7B%22maxWidth%22%3A%20%22100%25%22%7D%29%3B%0A%0A%20%20%20%20%20%20%20%20%0A%20%20%20%20%20%20%20%20%20%20%20%20var%20html_4c95f0689e8942888bf47cfc15b6bee3%20%3D%20%24%28%60%3Cdiv%20id%3D%22html_4c95f0689e8942888bf47cfc15b6bee3%22%20style%3D%22width%3A%20100.0%25%3B%20height%3A%20100.0%25%3B%22%3E%EA%B7%9C%ED%83%9C%EB%84%A4%20%EC%96%91%EA%B3%B1%EC%B0%BD%3C/div%3E%60%29%5B0%5D%3B%0A%20%20%20%20%20%20%20%20%20%20%20%20popup_4f4c8d664d83478b9929ba357e09b302.setContent%28html_4c95f0689e8942888bf47cfc15b6bee3%29%3B%0A%20%20%20%20%20%20%20%20%0A%0A%20%20%20%20%20%20%20%20marker_bc65b837b6634a86a08b6acc3544ba76.bindPopup%28popup_4f4c8d664d83478b9929ba357e09b302%29%0A%20%20%20%20%20%20%20%20%3B%0A%0A%20%20%20%20%20%20%20%20%0A%20%20%20%20%0A%20%20%20%20%0A%20%20%20%20%20%20%20%20%20%20%20%20var%20marker_11c835c186bb4e0aaae5e1d9aee46bf9%20%3D%20L.marker%28%0A%20%20%20%20%20%20%20%20%20%20%20%20%20%20%20%20%5B33.48472433169488%2C%20126.3927816382142%5D%2C%0A%20%20%20%20%20%20%20%20%20%20%20%20%20%20%20%20%7B%7D%0A%20%20%20%20%20%20%20%20%20%20%20%20%29.addTo%28marker_cluster_c2aa38f7217447ae95cee905b025a652%29%3B%0A%20%20%20%20%20%20%20%20%0A%20%20%20%20%0A%20%20%20%20%20%20%20%20var%20popup_811989250b334264840aee9ed515e286%20%3D%20L.popup%28%7B%22maxWidth%22%3A%20%22100%25%22%7D%29%3B%0A%0A%20%20%20%20%20%20%20%20%0A%20%20%20%20%20%20%20%20%20%20%20%20var%20html_9f46848924664e22a340afdb61c7c5bf%20%3D%20%24%28%60%3Cdiv%20id%3D%22html_9f46848924664e22a340afdb61c7c5bf%22%20style%3D%22width%3A%20100.0%25%3B%20height%3A%20100.0%25%3B%22%3E%EC%9D%B4%EC%9E%90%EC%B9%B4%EC%95%BC%EB%8B%AC%3C/div%3E%60%29%5B0%5D%3B%0A%20%20%20%20%20%20%20%20%20%20%20%20popup_811989250b334264840aee9ed515e286.setContent%28html_9f46848924664e22a340afdb61c7c5bf%29%3B%0A%20%20%20%20%20%20%20%20%0A%0A%20%20%20%20%20%20%20%20marker_11c835c186bb4e0aaae5e1d9aee46bf9.bindPopup%28popup_811989250b334264840aee9ed515e286%29%0A%20%20%20%20%20%20%20%20%3B%0A%0A%20%20%20%20%20%20%20%20%0A%20%20%20%20%0A%20%20%20%20%0A%20%20%20%20%20%20%20%20%20%20%20%20var%20marker_4f6e6089e4174de7913d430b25c21850%20%3D%20L.marker%28%0A%20%20%20%20%20%20%20%20%20%20%20%20%20%20%20%20%5B33.4506575078278%2C%20126.304673157235%5D%2C%0A%20%20%20%20%20%20%20%20%20%20%20%20%20%20%20%20%7B%7D%0A%20%20%20%20%20%20%20%20%20%20%20%20%29.addTo%28marker_cluster_c2aa38f7217447ae95cee905b025a652%29%3B%0A%20%20%20%20%20%20%20%20%0A%20%20%20%20%0A%20%20%20%20%20%20%20%20var%20popup_7ca29fabd598403e8dea061960c4cf3b%20%3D%20L.popup%28%7B%22maxWidth%22%3A%20%22100%25%22%7D%29%3B%0A%0A%20%20%20%20%20%20%20%20%0A%20%20%20%20%20%20%20%20%20%20%20%20var%20html_fe3fc1dfc9bf4a749ab981d497ee0ec5%20%3D%20%24%28%60%3Cdiv%20id%3D%22html_fe3fc1dfc9bf4a749ab981d497ee0ec5%22%20style%3D%22width%3A%20100.0%25%3B%20height%3A%20100.0%25%3B%22%3E%EC%A0%9C%EC%A3%BC%EB%8F%84%20%EA%B3%BD%EC%A7%80%ED%95%B4%EC%88%98%EC%9A%95%EC%9E%A5%3C/div%3E%60%29%5B0%5D%3B%0A%20%20%20%20%20%20%20%20%20%20%20%20popup_7ca29fabd598403e8dea061960c4cf3b.setContent%28html_fe3fc1dfc9bf4a749ab981d497ee0ec5%29%3B%0A%20%20%20%20%20%20%20%20%0A%0A%20%20%20%20%20%20%20%20marker_4f6e6089e4174de7913d430b25c21850.bindPopup%28popup_7ca29fabd598403e8dea061960c4cf3b%29%0A%20%20%20%20%20%20%20%20%3B%0A%0A%20%20%20%20%20%20%20%20%0A%20%20%20%20%0A%20%20%20%20%0A%20%20%20%20%20%20%20%20%20%20%20%20var%20marker_750b5562f83f484280814607999d5d75%20%3D%20L.marker%28%0A%20%20%20%20%20%20%20%20%20%20%20%20%20%20%20%20%5B37.1663085028355%2C%20127.0595311015628%5D%2C%0A%20%20%20%20%20%20%20%20%20%20%20%20%20%20%20%20%7B%7D%0A%20%20%20%20%20%20%20%20%20%20%20%20%29.addTo%28marker_cluster_c2aa38f7217447ae95cee905b025a652%29%3B%0A%20%20%20%20%20%20%20%20%0A%20%20%20%20%0A%20%20%20%20%20%20%20%20var%20popup_5a22041dfb2a4381994c93428c4cafe2%20%3D%20L.popup%28%7B%22maxWidth%22%3A%20%22100%25%22%7D%29%3B%0A%0A%20%20%20%20%20%20%20%20%0A%20%20%20%20%20%20%20%20%20%20%20%20var%20html_59f348b6e68249c7bad9d106f61afe52%20%3D%20%24%28%60%3Cdiv%20id%3D%22html_59f348b6e68249c7bad9d106f61afe52%22%20style%3D%22width%3A%20100.0%25%3B%20height%3A%20100.0%25%3B%22%3E%EA%B2%BD%EA%B8%B0%EB%8F%84%20%EC%98%A4%EC%82%B0%3C/div%3E%60%29%5B0%5D%3B%0A%20%20%20%20%20%20%20%20%20%20%20%20popup_5a22041dfb2a4381994c93428c4cafe2.setContent%28html_59f348b6e68249c7bad9d106f61afe52%29%3B%0A%20%20%20%20%20%20%20%20%0A%0A%20%20%20%20%20%20%20%20marker_750b5562f83f484280814607999d5d75.bindPopup%28popup_5a22041dfb2a4381994c93428c4cafe2%29%0A%20%20%20%20%20%20%20%20%3B%0A%0A%20%20%20%20%20%20%20%20%0A%20%20%20%20%0A%20%20%20%20%0A%20%20%20%20%20%20%20%20%20%20%20%20var%20marker_2186a5dcccc643c7b2a0aace85c06ded%20%3D%20L.marker%28%0A%20%20%20%20%20%20%20%20%20%20%20%20%20%20%20%20%5B33.4078617193203%2C%20126.258114483301%5D%2C%0A%20%20%20%20%20%20%20%20%20%20%20%20%20%20%20%20%7B%7D%0A%20%20%20%20%20%20%20%20%20%20%20%20%29.addTo%28marker_cluster_c2aa38f7217447ae95cee905b025a652%29%3B%0A%20%20%20%20%20%20%20%20%0A%20%20%20%20%0A%20%20%20%20%20%20%20%20var%20popup_602f739ed9d74d06ae1197571c566901%20%3D%20L.popup%28%7B%22maxWidth%22%3A%20%22100%25%22%7D%29%3B%0A%0A%20%20%20%20%20%20%20%20%0A%20%20%20%20%20%20%20%20%20%20%20%20var%20html_932530ba49ad4bcf9d7d89779eb240e5%20%3D%20%24%28%60%3Cdiv%20id%3D%22html_932530ba49ad4bcf9d7d89779eb240e5%22%20style%3D%22width%3A%20100.0%25%3B%20height%3A%20100.0%25%3B%22%3E%EC%96%B4%EB%B0%95%EC%82%AC%3C/div%3E%60%29%5B0%5D%3B%0A%20%20%20%20%20%20%20%20%20%20%20%20popup_602f739ed9d74d06ae1197571c566901.setContent%28html_932530ba49ad4bcf9d7d89779eb240e5%29%3B%0A%20%20%20%20%20%20%20%20%0A%0A%20%20%20%20%20%20%20%20marker_2186a5dcccc643c7b2a0aace85c06ded.bindPopup%28popup_602f739ed9d74d06ae1197571c566901%29%0A%20%20%20%20%20%20%20%20%3B%0A%0A%20%20%20%20%20%20%20%20%0A%20%20%20%20%0A%20%20%20%20%0A%20%20%20%20%20%20%20%20%20%20%20%20var%20marker_a31716bdab974f7cbb777f3d261d446f%20%3D%20L.marker%28%0A%20%20%20%20%20%20%20%20%20%20%20%20%20%20%20%20%5B33.37977781644616%2C%20126.5458735563004%5D%2C%0A%20%20%20%20%20%20%20%20%20%20%20%20%20%20%20%20%7B%7D%0A%20%20%20%20%20%20%20%20%20%20%20%20%29.addTo%28marker_cluster_c2aa38f7217447ae95cee905b025a652%29%3B%0A%20%20%20%20%20%20%20%20%0A%20%20%20%20%0A%20%20%20%20%20%20%20%20var%20popup_eedab2d99e01486ab59791107b51c6b8%20%3D%20L.popup%28%7B%22maxWidth%22%3A%20%22100%25%22%7D%29%3B%0A%0A%20%20%20%20%20%20%20%20%0A%20%20%20%20%20%20%20%20%20%20%20%20var%20html_2d2a3eec8b934d71be07343d241fc2a4%20%3D%20%24%28%60%3Cdiv%20id%3D%22html_2d2a3eec8b934d71be07343d241fc2a4%22%20style%3D%22width%3A%20100.0%25%3B%20height%3A%20100.0%25%3B%22%3EJeju%20Island%3C/div%3E%60%29%5B0%5D%3B%0A%20%20%20%20%20%20%20%20%20%20%20%20popup_eedab2d99e01486ab59791107b51c6b8.setContent%28html_2d2a3eec8b934d71be07343d241fc2a4%29%3B%0A%20%20%20%20%20%20%20%20%0A%0A%20%20%20%20%20%20%20%20marker_a31716bdab974f7cbb777f3d261d446f.bindPopup%28popup_eedab2d99e01486ab59791107b51c6b8%29%0A%20%20%20%20%20%20%20%20%3B%0A%0A%20%20%20%20%20%20%20%20%0A%20%20%20%20%0A%20%20%20%20%0A%20%20%20%20%20%20%20%20%20%20%20%20var%20marker_68dc31ad49f744bcbcae051fc3d27603%20%3D%20L.marker%28%0A%20%20%20%20%20%20%20%20%20%20%20%20%20%20%20%20%5B33.4984992561754%2C%20126.514328746288%5D%2C%0A%20%20%20%20%20%20%20%20%20%20%20%20%20%20%20%20%7B%7D%0A%20%20%20%20%20%20%20%20%20%20%20%20%29.addTo%28marker_cluster_c2aa38f7217447ae95cee905b025a652%29%3B%0A%20%20%20%20%20%20%20%20%0A%20%20%20%20%0A%20%20%20%20%20%20%20%20var%20popup_0638ece2966546a8964551c0390b950b%20%3D%20L.popup%28%7B%22maxWidth%22%3A%20%22100%25%22%7D%29%3B%0A%0A%20%20%20%20%20%20%20%20%0A%20%20%20%20%20%20%20%20%20%20%20%20var%20html_36d7056d7a34430daa241c2115f73d7a%20%3D%20%24%28%60%3Cdiv%20id%3D%22html_36d7056d7a34430daa241c2115f73d7a%22%20style%3D%22width%3A%20100.0%25%3B%20height%3A%20100.0%25%3B%22%3E%ED%98%84%EC%98%A5%EC%8B%9D%EB%8B%B9%3C/div%3E%60%29%5B0%5D%3B%0A%20%20%20%20%20%20%20%20%20%20%20%20popup_0638ece2966546a8964551c0390b950b.setContent%28html_36d7056d7a34430daa241c2115f73d7a%29%3B%0A%20%20%20%20%20%20%20%20%0A%0A%20%20%20%20%20%20%20%20marker_68dc31ad49f744bcbcae051fc3d27603.bindPopup%28popup_0638ece2966546a8964551c0390b950b%29%0A%20%20%20%20%20%20%20%20%3B%0A%0A%20%20%20%20%20%20%20%20%0A%20%20%20%20%0A%20%20%20%20%0A%20%20%20%20%20%20%20%20%20%20%20%20var%20marker_8ff4b07076b64905a063b7fc8654828c%20%3D%20L.marker%28%0A%20%20%20%20%20%20%20%20%20%20%20%20%20%20%20%20%5B33.5017582536497%2C%20126.543670685399%5D%2C%0A%20%20%20%20%20%20%20%20%20%20%20%20%20%20%20%20%7B%7D%0A%20%20%20%20%20%20%20%20%20%20%20%20%29.addTo%28marker_cluster_c2aa38f7217447ae95cee905b025a652%29%3B%0A%20%20%20%20%20%20%20%20%0A%20%20%20%20%0A%20%20%20%20%20%20%20%20var%20popup_b6cfc98f814c4fbfbb2cc2430ccc96a0%20%3D%20L.popup%28%7B%22maxWidth%22%3A%20%22100%25%22%7D%29%3B%0A%0A%20%20%20%20%20%20%20%20%0A%20%20%20%20%20%20%20%20%20%20%20%20var%20html_aad59b54ce4e487e8a432780405c329f%20%3D%20%24%28%60%3Cdiv%20id%3D%22html_aad59b54ce4e487e8a432780405c329f%22%20style%3D%22width%3A%20100.0%25%3B%20height%3A%20100.0%25%3B%22%3E%EA%B3%B5%EA%B3%B5%EC%8B%9C%3C/div%3E%60%29%5B0%5D%3B%0A%20%20%20%20%20%20%20%20%20%20%20%20popup_b6cfc98f814c4fbfbb2cc2430ccc96a0.setContent%28html_aad59b54ce4e487e8a432780405c329f%29%3B%0A%20%20%20%20%20%20%20%20%0A%0A%20%20%20%20%20%20%20%20marker_8ff4b07076b64905a063b7fc8654828c.bindPopup%28popup_b6cfc98f814c4fbfbb2cc2430ccc96a0%29%0A%20%20%20%20%20%20%20%20%3B%0A%0A%20%20%20%20%20%20%20%20%0A%20%20%20%20%0A%20%20%20%20%0A%20%20%20%20%20%20%20%20%20%20%20%20var%20marker_fd29200ec876442fb68c351cf8c1ed53%20%3D%20L.marker%28%0A%20%20%20%20%20%20%20%20%20%20%20%20%20%20%20%20%5B33.24305793998847%2C%20126.4214391879139%5D%2C%0A%20%20%20%20%20%20%20%20%20%20%20%20%20%20%20%20%7B%7D%0A%20%20%20%20%20%20%20%20%20%20%20%20%29.addTo%28marker_cluster_c2aa38f7217447ae95cee905b025a652%29%3B%0A%20%20%20%20%20%20%20%20%0A%20%20%20%20%0A%20%20%20%20%20%20%20%20var%20popup_9aaed3fa0592482c919cb91f750471e2%20%3D%20L.popup%28%7B%22maxWidth%22%3A%20%22100%25%22%7D%29%3B%0A%0A%20%20%20%20%20%20%20%20%0A%20%20%20%20%20%20%20%20%20%20%20%20var%20html_221c78fcafe64032a6cb7c78e5be6b5f%20%3D%20%24%28%60%3Cdiv%20id%3D%22html_221c78fcafe64032a6cb7c78e5be6b5f%22%20style%3D%22width%3A%20100.0%25%3B%20height%3A%20100.0%25%3B%22%3E%EC%A0%9C%EC%A3%BC%20%EC%94%A8%EC%97%90%EC%8A%A4%ED%98%B8%ED%85%94%3C/div%3E%60%29%5B0%5D%3B%0A%20%20%20%20%20%20%20%20%20%20%20%20popup_9aaed3fa0592482c919cb91f750471e2.setContent%28html_221c78fcafe64032a6cb7c78e5be6b5f%29%3B%0A%20%20%20%20%20%20%20%20%0A%0A%20%20%20%20%20%20%20%20marker_fd29200ec876442fb68c351cf8c1ed53.bindPopup%28popup_9aaed3fa0592482c919cb91f750471e2%29%0A%20%20%20%20%20%20%20%20%3B%0A%0A%20%20%20%20%20%20%20%20%0A%20%20%20%20%0A%20%20%20%20%0A%20%20%20%20%20%20%20%20%20%20%20%20var%20marker_9e3d008e15444afcab7bc298882f95fa%20%3D%20L.marker%28%0A%20%20%20%20%20%20%20%20%20%20%20%20%20%20%20%20%5B33.31653530642813%2C%20126.2674821978352%5D%2C%0A%20%20%20%20%20%20%20%20%20%20%20%20%20%20%20%20%7B%7D%0A%20%20%20%20%20%20%20%20%20%20%20%20%29.addTo%28marker_cluster_c2aa38f7217447ae95cee905b025a652%29%3B%0A%20%20%20%20%20%20%20%20%0A%20%20%20%20%0A%20%20%20%20%20%20%20%20var%20popup_9a085553dae146feb3c94d283dfb9ce4%20%3D%20L.popup%28%7B%22maxWidth%22%3A%20%22100%25%22%7D%29%3B%0A%0A%20%20%20%20%20%20%20%20%0A%20%20%20%20%20%20%20%20%20%20%20%20var%20html_ddef0d90c19f4fbdb4d36d1da2b7f990%20%3D%20%24%28%60%3Cdiv%20id%3D%22html_ddef0d90c19f4fbdb4d36d1da2b7f990%22%20style%3D%22width%3A%20100.0%25%3B%20height%3A%20100.0%25%3B%22%3E%EC%95%8C%EB%8F%99%EB%84%A4%EC%A7%91%3C/div%3E%60%29%5B0%5D%3B%0A%20%20%20%20%20%20%20%20%20%20%20%20popup_9a085553dae146feb3c94d283dfb9ce4.setContent%28html_ddef0d90c19f4fbdb4d36d1da2b7f990%29%3B%0A%20%20%20%20%20%20%20%20%0A%0A%20%20%20%20%20%20%20%20marker_9e3d008e15444afcab7bc298882f95fa.bindPopup%28popup_9a085553dae146feb3c94d283dfb9ce4%29%0A%20%20%20%20%20%20%20%20%3B%0A%0A%20%20%20%20%20%20%20%20%0A%20%20%20%20%0A%20%20%20%20%0A%20%20%20%20%20%20%20%20%20%20%20%20var%20marker_43e2681b4d4840839ef392147350c763%20%3D%20L.marker%28%0A%20%20%20%20%20%20%20%20%20%20%20%20%20%20%20%20%5B33.3047588776712%2C%20126.315282111642%5D%2C%0A%20%20%20%20%20%20%20%20%20%20%20%20%20%20%20%20%7B%7D%0A%20%20%20%20%20%20%20%20%20%20%20%20%29.addTo%28marker_cluster_c2aa38f7217447ae95cee905b025a652%29%3B%0A%20%20%20%20%20%20%20%20%0A%20%20%20%20%0A%20%20%20%20%20%20%20%20var%20popup_fe0fa520222b4552844ab38b2ac7d04d%20%3D%20L.popup%28%7B%22maxWidth%22%3A%20%22100%25%22%7D%29%3B%0A%0A%20%20%20%20%20%20%20%20%0A%20%20%20%20%20%20%20%20%20%20%20%20var%20html_c525250363c84bcc820daecb7c8f68b7%20%3D%20%24%28%60%3Cdiv%20id%3D%22html_c525250363c84bcc820daecb7c8f68b7%22%20style%3D%22width%3A%20100.0%25%3B%20height%3A%20100.0%25%3B%22%3E%EC%8B%A0%ED%99%94%ED%85%8C%EB%A7%88%ED%8C%8C%ED%81%AC%20Shinhwa%20Theme%20Park%3C/div%3E%60%29%5B0%5D%3B%0A%20%20%20%20%20%20%20%20%20%20%20%20popup_fe0fa520222b4552844ab38b2ac7d04d.setContent%28html_c525250363c84bcc820daecb7c8f68b7%29%3B%0A%20%20%20%20%20%20%20%20%0A%0A%20%20%20%20%20%20%20%20marker_43e2681b4d4840839ef392147350c763.bindPopup%28popup_fe0fa520222b4552844ab38b2ac7d04d%29%0A%20%20%20%20%20%20%20%20%3B%0A%0A%20%20%20%20%20%20%20%20%0A%20%20%20%20%0A%20%20%20%20%0A%20%20%20%20%20%20%20%20%20%20%20%20var%20marker_4c142252f94f438d99c09b9ab8d76c34%20%3D%20L.marker%28%0A%20%20%20%20%20%20%20%20%20%20%20%20%20%20%20%20%5B33.2489662572046%2C%20126.570229561458%5D%2C%0A%20%20%20%20%20%20%20%20%20%20%20%20%20%20%20%20%7B%7D%0A%20%20%20%20%20%20%20%20%20%20%20%20%29.addTo%28marker_cluster_c2aa38f7217447ae95cee905b025a652%29%3B%0A%20%20%20%20%20%20%20%20%0A%20%20%20%20%0A%20%20%20%20%20%20%20%20var%20popup_661d45e2f52c43ec83e122cfc4ca3a30%20%3D%20L.popup%28%7B%22maxWidth%22%3A%20%22100%25%22%7D%29%3B%0A%0A%20%20%20%20%20%20%20%20%0A%20%20%20%20%20%20%20%20%20%20%20%20var%20html_3eb784e21ba84a6f96c3cf6c8ee60a25%20%3D%20%24%28%60%3Cdiv%20id%3D%22html_3eb784e21ba84a6f96c3cf6c8ee60a25%22%20style%3D%22width%3A%20100.0%25%3B%20height%3A%20100.0%25%3B%22%3E%EC%9D%B4%EC%96%B4%EB%8F%84%EC%A0%84%EB%B3%B5%ED%95%B4%EB%AC%BC%EC%A0%84%EB%AC%B8%EC%A0%90%3C/div%3E%60%29%5B0%5D%3B%0A%20%20%20%20%20%20%20%20%20%20%20%20popup_661d45e2f52c43ec83e122cfc4ca3a30.setContent%28html_3eb784e21ba84a6f96c3cf6c8ee60a25%29%3B%0A%20%20%20%20%20%20%20%20%0A%0A%20%20%20%20%20%20%20%20marker_4c142252f94f438d99c09b9ab8d76c34.bindPopup%28popup_661d45e2f52c43ec83e122cfc4ca3a30%29%0A%20%20%20%20%20%20%20%20%3B%0A%0A%20%20%20%20%20%20%20%20%0A%20%20%20%20%0A%20%20%20%20%0A%20%20%20%20%20%20%20%20%20%20%20%20var%20marker_aecfcb8f87ed44f287cfdd55b3c8107e%20%3D%20L.marker%28%0A%20%20%20%20%20%20%20%20%20%20%20%20%20%20%20%20%5B33.23799399299591%2C%20126.4260174424538%5D%2C%0A%20%20%20%20%20%20%20%20%20%20%20%20%20%20%20%20%7B%7D%0A%20%20%20%20%20%20%20%20%20%20%20%20%29.addTo%28marker_cluster_c2aa38f7217447ae95cee905b025a652%29%3B%0A%20%20%20%20%20%20%20%20%0A%20%20%20%20%0A%20%20%20%20%20%20%20%20var%20popup_279fbf5d1aed47a29e0a3ab65d2bf361%20%3D%20L.popup%28%7B%22maxWidth%22%3A%20%22100%25%22%7D%29%3B%0A%0A%20%20%20%20%20%20%20%20%0A%20%20%20%20%20%20%20%20%20%20%20%20var%20html_e6e8a0d02cb44a3294d90eba5e28c107%20%3D%20%24%28%60%3Cdiv%20id%3D%22html_e6e8a0d02cb44a3294d90eba5e28c107%22%20style%3D%22width%3A%20100.0%25%3B%20height%3A%20100.0%25%3B%22%3E%EC%A0%9C%EC%A3%BC%EB%8F%84%20%EC%84%9C%EA%B7%80%ED%8F%AC%EC%8B%9C%20%EC%A4%91%EB%AC%B8%3C/div%3E%60%29%5B0%5D%3B%0A%20%20%20%20%20%20%20%20%20%20%20%20popup_279fbf5d1aed47a29e0a3ab65d2bf361.setContent%28html_e6e8a0d02cb44a3294d90eba5e28c107%29%3B%0A%20%20%20%20%20%20%20%20%0A%0A%20%20%20%20%20%20%20%20marker_aecfcb8f87ed44f287cfdd55b3c8107e.bindPopup%28popup_279fbf5d1aed47a29e0a3ab65d2bf361%29%0A%20%20%20%20%20%20%20%20%3B%0A%0A%20%20%20%20%20%20%20%20%0A%20%20%20%20%0A%20%20%20%20%0A%20%20%20%20%20%20%20%20%20%20%20%20var%20marker_a0e126713e02442aa4d53cf15bfe1d5d%20%3D%20L.marker%28%0A%20%20%20%20%20%20%20%20%20%20%20%20%20%20%20%20%5B33.5091180133618%2C%20126.471338444636%5D%2C%0A%20%20%20%20%20%20%20%20%20%20%20%20%20%20%20%20%7B%7D%0A%20%20%20%20%20%20%20%20%20%20%20%20%29.addTo%28marker_cluster_c2aa38f7217447ae95cee905b025a652%29%3B%0A%20%20%20%20%20%20%20%20%0A%20%20%20%20%0A%20%20%20%20%20%20%20%20var%20popup_e46dde0795514a319d0c90fa8d055c91%20%3D%20L.popup%28%7B%22maxWidth%22%3A%20%22100%25%22%7D%29%3B%0A%0A%20%20%20%20%20%20%20%20%0A%20%20%20%20%20%20%20%20%20%20%20%20var%20html_88669b5ce95243efa5809f7b02662596%20%3D%20%24%28%60%3Cdiv%20id%3D%22html_88669b5ce95243efa5809f7b02662596%22%20style%3D%22width%3A%20100.0%25%3B%20height%3A%20100.0%25%3B%22%3E%EB%8F%84%EB%91%90%EB%8F%99%20%EB%AC%B4%EC%A7%80%EA%B0%9C%20%ED%95%B4%EC%95%88%EB%8F%84%EB%A1%9C%3C/div%3E%60%29%5B0%5D%3B%0A%20%20%20%20%20%20%20%20%20%20%20%20popup_e46dde0795514a319d0c90fa8d055c91.setContent%28html_88669b5ce95243efa5809f7b02662596%29%3B%0A%20%20%20%20%20%20%20%20%0A%0A%20%20%20%20%20%20%20%20marker_a0e126713e02442aa4d53cf15bfe1d5d.bindPopup%28popup_e46dde0795514a319d0c90fa8d055c91%29%0A%20%20%20%20%20%20%20%20%3B%0A%0A%20%20%20%20%20%20%20%20%0A%20%20%20%20%0A%20%20%20%20%0A%20%20%20%20%20%20%20%20%20%20%20%20var%20marker_3e01f043f349494297f1f9cb7ad6f53e%20%3D%20L.marker%28%0A%20%20%20%20%20%20%20%20%20%20%20%20%20%20%20%20%5B33.47582581681852%2C%20126.5506168254931%5D%2C%0A%20%20%20%20%20%20%20%20%20%20%20%20%20%20%20%20%7B%7D%0A%20%20%20%20%20%20%20%20%20%20%20%20%29.addTo%28marker_cluster_c2aa38f7217447ae95cee905b025a652%29%3B%0A%20%20%20%20%20%20%20%20%0A%20%20%20%20%0A%20%20%20%20%20%20%20%20var%20popup_dc23c1223d394752bbc449719dd5f35f%20%3D%20L.popup%28%7B%22maxWidth%22%3A%20%22100%25%22%7D%29%3B%0A%0A%20%20%20%20%20%20%20%20%0A%20%20%20%20%20%20%20%20%20%20%20%20var%20html_d30866554cae4738946e63f7b2ed182e%20%3D%20%24%28%60%3Cdiv%20id%3D%22html_d30866554cae4738946e63f7b2ed182e%22%20style%3D%22width%3A%20100.0%25%3B%20height%3A%20100.0%25%3B%22%3E%EC%A0%9C%EC%A3%BC%20%EC%95%84%EB%9D%BC%20%EC%95%84%EC%9D%B4%ED%8C%8C%ED%81%AC%3C/div%3E%60%29%5B0%5D%3B%0A%20%20%20%20%20%20%20%20%20%20%20%20popup_dc23c1223d394752bbc449719dd5f35f.setContent%28html_d30866554cae4738946e63f7b2ed182e%29%3B%0A%20%20%20%20%20%20%20%20%0A%0A%20%20%20%20%20%20%20%20marker_3e01f043f349494297f1f9cb7ad6f53e.bindPopup%28popup_dc23c1223d394752bbc449719dd5f35f%29%0A%20%20%20%20%20%20%20%20%3B%0A%0A%20%20%20%20%20%20%20%20%0A%20%20%20%20%0A%20%20%20%20%0A%20%20%20%20%20%20%20%20%20%20%20%20var%20marker_a51fc44c6c8b4132bd9780b88f770841%20%3D%20L.marker%28%0A%20%20%20%20%20%20%20%20%20%20%20%20%20%20%20%20%5B33.47658430192365%2C%20126.3541573128746%5D%2C%0A%20%20%20%20%20%20%20%20%20%20%20%20%20%20%20%20%7B%7D%0A%20%20%20%20%20%20%20%20%20%20%20%20%29.addTo%28marker_cluster_c2aa38f7217447ae95cee905b025a652%29%3B%0A%20%20%20%20%20%20%20%20%0A%20%20%20%20%0A%20%20%20%20%20%20%20%20var%20popup_eaea830dca2f4f169d413cacacf3ad79%20%3D%20L.popup%28%7B%22maxWidth%22%3A%20%22100%25%22%7D%29%3B%0A%0A%20%20%20%20%20%20%20%20%0A%20%20%20%20%20%20%20%20%20%20%20%20var%20html_ef8d078f98934e45ae1f2ceff161b158%20%3D%20%24%28%60%3Cdiv%20id%3D%22html_ef8d078f98934e45ae1f2ceff161b158%22%20style%3D%22width%3A%20100.0%25%3B%20height%3A%20100.0%25%3B%22%3E%EC%95%A0%EC%9B%94%EC%B0%9C%3C/div%3E%60%29%5B0%5D%3B%0A%20%20%20%20%20%20%20%20%20%20%20%20popup_eaea830dca2f4f169d413cacacf3ad79.setContent%28html_ef8d078f98934e45ae1f2ceff161b158%29%3B%0A%20%20%20%20%20%20%20%20%0A%0A%20%20%20%20%20%20%20%20marker_a51fc44c6c8b4132bd9780b88f770841.bindPopup%28popup_eaea830dca2f4f169d413cacacf3ad79%29%0A%20%20%20%20%20%20%20%20%3B%0A%0A%20%20%20%20%20%20%20%20%0A%20%20%20%20%0A%20%20%20%20%0A%20%20%20%20%20%20%20%20%20%20%20%20var%20layer_control_0ae23fbda9d04a519feda032f8929e00%20%3D%20%7B%0A%20%20%20%20%20%20%20%20%20%20%20%20%20%20%20%20base_layers%20%3A%20%7B%0A%20%20%20%20%20%20%20%20%20%20%20%20%20%20%20%20%20%20%20%20%22openstreetmap%22%20%3A%20tile_layer_1cf1e774361748038e5fa3cc89c70e0e%2C%0A%20%20%20%20%20%20%20%20%20%20%20%20%20%20%20%20%7D%2C%0A%20%20%20%20%20%20%20%20%20%20%20%20%20%20%20%20overlays%20%3A%20%20%7B%0A%20%20%20%20%20%20%20%20%20%20%20%20%20%20%20%20%20%20%20%20%22Jeju%22%20%3A%20marker_cluster_c2aa38f7217447ae95cee905b025a652%2C%0A%20%20%20%20%20%20%20%20%20%20%20%20%20%20%20%20%7D%2C%0A%20%20%20%20%20%20%20%20%20%20%20%20%7D%3B%0A%20%20%20%20%20%20%20%20%20%20%20%20L.control.layers%28%0A%20%20%20%20%20%20%20%20%20%20%20%20%20%20%20%20layer_control_0ae23fbda9d04a519feda032f8929e00.base_layers%2C%0A%20%20%20%20%20%20%20%20%20%20%20%20%20%20%20%20layer_control_0ae23fbda9d04a519feda032f8929e00.overlays%2C%0A%20%20%20%20%20%20%20%20%20%20%20%20%20%20%20%20%7B%22autoZIndex%22%3A%20true%2C%20%22collapsed%22%3A%20true%2C%20%22position%22%3A%20%22topright%22%7D%0A%20%20%20%20%20%20%20%20%20%20%20%20%29.addTo%28map_56b3ae7dec264abab249b5ccd9649cf4%29%3B%0A%20%20%20%20%20%20%20%20%0A%3C/script%3E onload=\"this.contentDocument.open();this.contentDocument.write(    decodeURIComponent(this.getAttribute('data-html')));this.contentDocument.close();\" allowfullscreen webkitallowfullscreen mozallowfullscreen></iframe></div></div>"
      ],
      "text/plain": [
       "<folium.folium.Map at 0x28ac279f2b0>"
      ]
     },
     "execution_count": 29,
     "metadata": {},
     "output_type": "execute_result"
    }
   ],
   "source": [
    "icon_create_function = \"\"\"\\\n",
    "function(cluster) {\n",
    "    return L.divIcon({\n",
    "    html : '<b>' + cluster.getChildCount() + '</b>',\n",
    "    className : 'marker-cluster marker-cluster-large',\n",
    "    iconsize : new L.Point(30,30)\n",
    "    }); \n",
    "}\"\"\"\n",
    "\n",
    "Mt_Hanla =[33.362500, 126.533694]ㅃ\n",
    "map_jeju2 = folium.Map(location = Mt_Hanla, zoom_start = 11) # 지도데이터\n",
    "\n",
    "marker_cluster = MarkerCluster(\n",
    "    locations = locations , popups = names,\n",
    "    name = 'Jeju',\n",
    "    overlay = True,\n",
    "    control = True,\n",
    "    icon_create_function = icon_create_function)\n",
    "\n",
    "marker_cluster.add_to(map_jeju2)\n",
    "folium.LayerControl().add_to(map_jeju2)\n",
    "\n",
    "map_jeju2"
   ]
  },
  {
   "cell_type": "code",
   "execution_count": 30,
   "id": "6984a790",
   "metadata": {},
   "outputs": [],
   "source": [
    "# 지도 저장 \n",
    "map_jeju2.save('C:/Users/SAMSUNG/Desktop/파이썬 데이터 분석/데이터 분석 실무 파이썬/jeju.html2')"
   ]
  },
  {
   "cell_type": "code",
   "execution_count": null,
   "id": "b7a0bd33",
   "metadata": {},
   "outputs": [],
   "source": []
  }
 ],
 "metadata": {
  "kernelspec": {
   "display_name": "Python 3 (ipykernel)",
   "language": "python",
   "name": "python3"
  },
  "language_info": {
   "codemirror_mode": {
    "name": "ipython",
    "version": 3
   },
   "file_extension": ".py",
   "mimetype": "text/x-python",
   "name": "python",
   "nbconvert_exporter": "python",
   "pygments_lexer": "ipython3",
   "version": "3.9.7"
  }
 },
 "nbformat": 4,
 "nbformat_minor": 5
}
