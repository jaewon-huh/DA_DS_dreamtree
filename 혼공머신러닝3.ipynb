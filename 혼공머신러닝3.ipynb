{
  "nbformat": 4,
  "nbformat_minor": 0,
  "metadata": {
    "colab": {
      "name": "혼공머신러닝3",
      "provenance": [],
      "collapsed_sections": [
        "KMXZXBlkBvyn"
      ],
      "toc_visible": true,
      "authorship_tag": "ABX9TyP5TztfK75zy2Qec2ezC9za",
      "include_colab_link": true
    },
    "kernelspec": {
      "name": "python3",
      "display_name": "Python 3"
    },
    "language_info": {
      "name": "python"
    }
  },
  "cells": [
    {
      "cell_type": "markdown",
      "metadata": {
        "id": "view-in-github",
        "colab_type": "text"
      },
      "source": [
        "<a href=\"https://colab.research.google.com/github/jaewon-huh/DA_DS_dreamtree/blob/main/%ED%98%BC%EA%B3%B5%EB%A8%B8%EC%8B%A0%EB%9F%AC%EB%8B%9D3.ipynb\" target=\"_parent\"><img src=\"https://colab.research.google.com/assets/colab-badge.svg\" alt=\"Open In Colab\"/></a>"
      ]
    },
    {
      "cell_type": "markdown",
      "source": [
        "# 혼공머신러닝3"
      ],
      "metadata": {
        "id": "ulT9ji_UBsNo"
      }
    },
    {
      "cell_type": "markdown",
      "source": [
        "## 04 다양한 분류 알고리즘 "
      ],
      "metadata": {
        "id": "KMXZXBlkBvyn"
      }
    },
    {
      "cell_type": "markdown",
      "source": [
        "## 로지스틱 회귀 "
      ],
      "metadata": {
        "id": "BII21Vr5BzPs"
      }
    },
    {
      "cell_type": "markdown",
      "source": [
        "* 럭키박스의 확률 "
      ],
      "metadata": {
        "id": "FAOavXXBB4i1"
      }
    },
    {
      "cell_type": "markdown",
      "source": [
        "### k- 최근접 이웃d을 통해 계산 : 주변 샘플의 클래스를 확률로 삼아 샘플의 클래스 확률 계산"
      ],
      "metadata": {
        "id": "MDfC5wGgCYj3"
      }
    },
    {
      "cell_type": "code",
      "source": [
        "# 데이터 준비 \n",
        "import pandas as pd \n",
        "fish = pd.read_csv('https://bit.ly/fish_csv')\n",
        "fish.head()"
      ],
      "metadata": {
        "colab": {
          "base_uri": "https://localhost:8080/",
          "height": 206
        },
        "id": "4tW5phihCubB",
        "outputId": "08187af4-720b-44e4-8368-2559282674b6"
      },
      "execution_count": null,
      "outputs": [
        {
          "output_type": "execute_result",
          "data": {
            "text/html": [
              "\n",
              "  <div id=\"df-5588a329-7fc7-4286-a27b-5bb9c2013b66\">\n",
              "    <div class=\"colab-df-container\">\n",
              "      <div>\n",
              "<style scoped>\n",
              "    .dataframe tbody tr th:only-of-type {\n",
              "        vertical-align: middle;\n",
              "    }\n",
              "\n",
              "    .dataframe tbody tr th {\n",
              "        vertical-align: top;\n",
              "    }\n",
              "\n",
              "    .dataframe thead th {\n",
              "        text-align: right;\n",
              "    }\n",
              "</style>\n",
              "<table border=\"1\" class=\"dataframe\">\n",
              "  <thead>\n",
              "    <tr style=\"text-align: right;\">\n",
              "      <th></th>\n",
              "      <th>Species</th>\n",
              "      <th>Weight</th>\n",
              "      <th>Length</th>\n",
              "      <th>Diagonal</th>\n",
              "      <th>Height</th>\n",
              "      <th>Width</th>\n",
              "    </tr>\n",
              "  </thead>\n",
              "  <tbody>\n",
              "    <tr>\n",
              "      <th>0</th>\n",
              "      <td>Bream</td>\n",
              "      <td>242.0</td>\n",
              "      <td>25.4</td>\n",
              "      <td>30.0</td>\n",
              "      <td>11.5200</td>\n",
              "      <td>4.0200</td>\n",
              "    </tr>\n",
              "    <tr>\n",
              "      <th>1</th>\n",
              "      <td>Bream</td>\n",
              "      <td>290.0</td>\n",
              "      <td>26.3</td>\n",
              "      <td>31.2</td>\n",
              "      <td>12.4800</td>\n",
              "      <td>4.3056</td>\n",
              "    </tr>\n",
              "    <tr>\n",
              "      <th>2</th>\n",
              "      <td>Bream</td>\n",
              "      <td>340.0</td>\n",
              "      <td>26.5</td>\n",
              "      <td>31.1</td>\n",
              "      <td>12.3778</td>\n",
              "      <td>4.6961</td>\n",
              "    </tr>\n",
              "    <tr>\n",
              "      <th>3</th>\n",
              "      <td>Bream</td>\n",
              "      <td>363.0</td>\n",
              "      <td>29.0</td>\n",
              "      <td>33.5</td>\n",
              "      <td>12.7300</td>\n",
              "      <td>4.4555</td>\n",
              "    </tr>\n",
              "    <tr>\n",
              "      <th>4</th>\n",
              "      <td>Bream</td>\n",
              "      <td>430.0</td>\n",
              "      <td>29.0</td>\n",
              "      <td>34.0</td>\n",
              "      <td>12.4440</td>\n",
              "      <td>5.1340</td>\n",
              "    </tr>\n",
              "  </tbody>\n",
              "</table>\n",
              "</div>\n",
              "      <button class=\"colab-df-convert\" onclick=\"convertToInteractive('df-5588a329-7fc7-4286-a27b-5bb9c2013b66')\"\n",
              "              title=\"Convert this dataframe to an interactive table.\"\n",
              "              style=\"display:none;\">\n",
              "        \n",
              "  <svg xmlns=\"http://www.w3.org/2000/svg\" height=\"24px\"viewBox=\"0 0 24 24\"\n",
              "       width=\"24px\">\n",
              "    <path d=\"M0 0h24v24H0V0z\" fill=\"none\"/>\n",
              "    <path d=\"M18.56 5.44l.94 2.06.94-2.06 2.06-.94-2.06-.94-.94-2.06-.94 2.06-2.06.94zm-11 1L8.5 8.5l.94-2.06 2.06-.94-2.06-.94L8.5 2.5l-.94 2.06-2.06.94zm10 10l.94 2.06.94-2.06 2.06-.94-2.06-.94-.94-2.06-.94 2.06-2.06.94z\"/><path d=\"M17.41 7.96l-1.37-1.37c-.4-.4-.92-.59-1.43-.59-.52 0-1.04.2-1.43.59L10.3 9.45l-7.72 7.72c-.78.78-.78 2.05 0 2.83L4 21.41c.39.39.9.59 1.41.59.51 0 1.02-.2 1.41-.59l7.78-7.78 2.81-2.81c.8-.78.8-2.07 0-2.86zM5.41 20L4 18.59l7.72-7.72 1.47 1.35L5.41 20z\"/>\n",
              "  </svg>\n",
              "      </button>\n",
              "      \n",
              "  <style>\n",
              "    .colab-df-container {\n",
              "      display:flex;\n",
              "      flex-wrap:wrap;\n",
              "      gap: 12px;\n",
              "    }\n",
              "\n",
              "    .colab-df-convert {\n",
              "      background-color: #E8F0FE;\n",
              "      border: none;\n",
              "      border-radius: 50%;\n",
              "      cursor: pointer;\n",
              "      display: none;\n",
              "      fill: #1967D2;\n",
              "      height: 32px;\n",
              "      padding: 0 0 0 0;\n",
              "      width: 32px;\n",
              "    }\n",
              "\n",
              "    .colab-df-convert:hover {\n",
              "      background-color: #E2EBFA;\n",
              "      box-shadow: 0px 1px 2px rgba(60, 64, 67, 0.3), 0px 1px 3px 1px rgba(60, 64, 67, 0.15);\n",
              "      fill: #174EA6;\n",
              "    }\n",
              "\n",
              "    [theme=dark] .colab-df-convert {\n",
              "      background-color: #3B4455;\n",
              "      fill: #D2E3FC;\n",
              "    }\n",
              "\n",
              "    [theme=dark] .colab-df-convert:hover {\n",
              "      background-color: #434B5C;\n",
              "      box-shadow: 0px 1px 3px 1px rgba(0, 0, 0, 0.15);\n",
              "      filter: drop-shadow(0px 1px 2px rgba(0, 0, 0, 0.3));\n",
              "      fill: #FFFFFF;\n",
              "    }\n",
              "  </style>\n",
              "\n",
              "      <script>\n",
              "        const buttonEl =\n",
              "          document.querySelector('#df-5588a329-7fc7-4286-a27b-5bb9c2013b66 button.colab-df-convert');\n",
              "        buttonEl.style.display =\n",
              "          google.colab.kernel.accessAllowed ? 'block' : 'none';\n",
              "\n",
              "        async function convertToInteractive(key) {\n",
              "          const element = document.querySelector('#df-5588a329-7fc7-4286-a27b-5bb9c2013b66');\n",
              "          const dataTable =\n",
              "            await google.colab.kernel.invokeFunction('convertToInteractive',\n",
              "                                                     [key], {});\n",
              "          if (!dataTable) return;\n",
              "\n",
              "          const docLinkHtml = 'Like what you see? Visit the ' +\n",
              "            '<a target=\"_blank\" href=https://colab.research.google.com/notebooks/data_table.ipynb>data table notebook</a>'\n",
              "            + ' to learn more about interactive tables.';\n",
              "          element.innerHTML = '';\n",
              "          dataTable['output_type'] = 'display_data';\n",
              "          await google.colab.output.renderOutput(dataTable, element);\n",
              "          const docLink = document.createElement('div');\n",
              "          docLink.innerHTML = docLinkHtml;\n",
              "          element.appendChild(docLink);\n",
              "        }\n",
              "      </script>\n",
              "    </div>\n",
              "  </div>\n",
              "  "
            ],
            "text/plain": [
              "  Species  Weight  Length  Diagonal   Height   Width\n",
              "0   Bream   242.0    25.4      30.0  11.5200  4.0200\n",
              "1   Bream   290.0    26.3      31.2  12.4800  4.3056\n",
              "2   Bream   340.0    26.5      31.1  12.3778  4.6961\n",
              "3   Bream   363.0    29.0      33.5  12.7300  4.4555\n",
              "4   Bream   430.0    29.0      34.0  12.4440  5.1340"
            ]
          },
          "metadata": {},
          "execution_count": 2
        }
      ]
    },
    {
      "cell_type": "code",
      "source": [
        "fish.info()"
      ],
      "metadata": {
        "colab": {
          "base_uri": "https://localhost:8080/"
        },
        "id": "23J0S_asDA3B",
        "outputId": "d87e0acd-2349-4db3-97c0-776c8ceccd5d"
      },
      "execution_count": null,
      "outputs": [
        {
          "output_type": "stream",
          "name": "stdout",
          "text": [
            "<class 'pandas.core.frame.DataFrame'>\n",
            "RangeIndex: 159 entries, 0 to 158\n",
            "Data columns (total 6 columns):\n",
            " #   Column    Non-Null Count  Dtype  \n",
            "---  ------    --------------  -----  \n",
            " 0   Species   159 non-null    object \n",
            " 1   Weight    159 non-null    float64\n",
            " 2   Length    159 non-null    float64\n",
            " 3   Diagonal  159 non-null    float64\n",
            " 4   Height    159 non-null    float64\n",
            " 5   Width     159 non-null    float64\n",
            "dtypes: float64(5), object(1)\n",
            "memory usage: 7.6+ KB\n"
          ]
        }
      ]
    },
    {
      "cell_type": "code",
      "source": [
        "# 물고기 종류의 고유값 \n",
        "fish.Species.unique()"
      ],
      "metadata": {
        "colab": {
          "base_uri": "https://localhost:8080/"
        },
        "id": "3N4PHO0oDHF5",
        "outputId": "fb47047d-a3be-4099-ec06-53e3b44f40f5"
      },
      "execution_count": null,
      "outputs": [
        {
          "output_type": "execute_result",
          "data": {
            "text/plain": [
              "array(['Bream', 'Roach', 'Whitefish', 'Parkki', 'Perch', 'Pike', 'Smelt'],\n",
              "      dtype=object)"
            ]
          },
          "metadata": {},
          "execution_count": 4
        }
      ]
    },
    {
      "cell_type": "code",
      "source": [
        "# secies열을 타겟으로 설정 나머지 컬럼은 입력 데이터로 사용 \n",
        "fish_input = fish[['Weight'\t,'Length'\t,'Diagonal',\t'Height','Width']].to_numpy() # 넘파이 배열로 "
      ],
      "metadata": {
        "id": "X-L5pHiQDVcF"
      },
      "execution_count": null,
      "outputs": []
    },
    {
      "cell_type": "markdown",
      "source": [
        ""
      ],
      "metadata": {
        "id": "bqIDhLagNPe3"
      }
    },
    {
      "cell_type": "code",
      "source": [
        "fish_input[:5] # 5행"
      ],
      "metadata": {
        "colab": {
          "base_uri": "https://localhost:8080/"
        },
        "id": "USBS9zryD4TF",
        "outputId": "c0c5c47d-5fac-4e02-ff83-de3ae7a4ef70"
      },
      "execution_count": null,
      "outputs": [
        {
          "output_type": "execute_result",
          "data": {
            "text/plain": [
              "array([[242.    ,  25.4   ,  30.    ,  11.52  ,   4.02  ],\n",
              "       [290.    ,  26.3   ,  31.2   ,  12.48  ,   4.3056],\n",
              "       [340.    ,  26.5   ,  31.1   ,  12.3778,   4.6961],\n",
              "       [363.    ,  29.    ,  33.5   ,  12.73  ,   4.4555],\n",
              "       [430.    ,  29.    ,  34.    ,  12.444 ,   5.134 ]])"
            ]
          },
          "metadata": {},
          "execution_count": 6
        }
      ]
    },
    {
      "cell_type": "code",
      "source": [
        "# 타겟\n",
        "fish_target = fish['Species'].to_numpy()"
      ],
      "metadata": {
        "id": "xTS-U4dlD8VX"
      },
      "execution_count": null,
      "outputs": []
    },
    {
      "cell_type": "markdown",
      "source": [
        "* 훈련 데이터와 테스트 데이터 나누기 "
      ],
      "metadata": {
        "id": "fnZ2AzPmEDhs"
      }
    },
    {
      "cell_type": "code",
      "source": [
        "from sklearn.model_selection import train_test_split\n",
        "train_input , test_input, train_target, test_target = train_test_split(fish_input, fish_target,\n",
        "                                                                       random_state =42 )"
      ],
      "metadata": {
        "id": "REd4ChUxEK9u"
      },
      "execution_count": null,
      "outputs": []
    },
    {
      "cell_type": "code",
      "source": [
        "# 특성 정규화 하기 \n",
        "from sklearn.preprocessing import StandardScaler\n",
        "ss = StandardScaler()\n",
        "ss.fit(train_input) \n",
        "train_scaled = ss.transform(train_input) \n",
        "test_scaled = ss.transform(test_input)"
      ],
      "metadata": {
        "id": "86H5bHgEFBZj"
      },
      "execution_count": null,
      "outputs": []
    },
    {
      "cell_type": "markdown",
      "source": [
        "* K-최근접 이웃 분류기 확률 예측 "
      ],
      "metadata": {
        "id": "XwE_rINdGEbw"
      }
    },
    {
      "cell_type": "code",
      "source": [
        "from sklearn.neighbors import KNeighborsClassifier\n",
        "kn = KNeighborsClassifier(n_neighbors= 3) # 이웃 개수 3 \n",
        "# 훈련 \n",
        "kn.fit(train_scaled, train_target)\n",
        "# 점수 \n",
        "print('학습 셋 점수:',  kn.score(train_scaled ,train_target)) \n",
        "print('테스트 셋 점수:',  kn.score(test_scaled ,test_target)) "
      ],
      "metadata": {
        "colab": {
          "base_uri": "https://localhost:8080/"
        },
        "id": "LupNOWrmGgD0",
        "outputId": "9083d7c7-14e5-4662-aaae-b7fa135660e0"
      },
      "execution_count": null,
      "outputs": [
        {
          "output_type": "stream",
          "name": "stdout",
          "text": [
            "학습 셋 점수: 0.8907563025210085\n",
            "테스트 셋 점수: 0.85\n"
          ]
        }
      ]
    },
    {
      "cell_type": "markdown",
      "source": [
        "* 다중분류 : 타겟 데이터에 다양한 클래스   \n",
        "사이킷런 모델 타깃 알파벳 순으로 자동 정렬 "
      ],
      "metadata": {
        "id": "sITlHjFpHS_l"
      }
    },
    {
      "cell_type": "code",
      "source": [
        "print(kn.classes_) # 정렬된 타깃 값 "
      ],
      "metadata": {
        "colab": {
          "base_uri": "https://localhost:8080/"
        },
        "id": "YmisBZoeIgZE",
        "outputId": "6bc24137-49b8-4e66-c0f0-89aac9496ede"
      },
      "execution_count": null,
      "outputs": [
        {
          "output_type": "stream",
          "name": "stdout",
          "text": [
            "['Bream' 'Parkki' 'Perch' 'Pike' 'Roach' 'Smelt' 'Whitefish']\n"
          ]
        }
      ]
    },
    {
      "cell_type": "code",
      "source": [
        "# 테스트 세트에 처음 5개 샘플 타깃값 예측 \n",
        "kn.predict(test_scaled[:5]) "
      ],
      "metadata": {
        "colab": {
          "base_uri": "https://localhost:8080/"
        },
        "id": "m8E85yYLIjO5",
        "outputId": "3cb3ac89-9d94-46e7-9468-f1d2695a9a6f"
      },
      "execution_count": null,
      "outputs": [
        {
          "output_type": "execute_result",
          "data": {
            "text/plain": [
              "array(['Perch', 'Smelt', 'Pike', 'Perch', 'Perch'], dtype=object)"
            ]
          },
          "metadata": {},
          "execution_count": 12
        }
      ]
    },
    {
      "cell_type": "markdown",
      "source": [
        "* predict_proba() : 클래스별 확률값  반환 ,\n",
        "* round( decimals = 소수점 아래 자리수 지정 )"
      ],
      "metadata": {
        "id": "tdMPXQyCI1Vy"
      }
    },
    {
      "cell_type": "code",
      "source": [
        "import numpy as np \n",
        "proba = kn.predict_proba(test_scaled[:5])\n",
        "print(kn.classes_)\n",
        "print(np.round(proba, decimals =4))"
      ],
      "metadata": {
        "colab": {
          "base_uri": "https://localhost:8080/"
        },
        "id": "5J-SKmuoJNZv",
        "outputId": "cf05c34f-37ce-4a6f-cc20-ba1119773edd"
      },
      "execution_count": null,
      "outputs": [
        {
          "output_type": "stream",
          "name": "stdout",
          "text": [
            "['Bream' 'Parkki' 'Perch' 'Pike' 'Roach' 'Smelt' 'Whitefish']\n",
            "[[0.     0.     1.     0.     0.     0.     0.    ]\n",
            " [0.     0.     0.     0.     0.     1.     0.    ]\n",
            " [0.     0.     0.     1.     0.     0.     0.    ]\n",
            " [0.     0.     0.6667 0.     0.3333 0.     0.    ]\n",
            " [0.     0.     0.6667 0.     0.3333 0.     0.    ]]\n"
          ]
        }
      ]
    },
    {
      "cell_type": "code",
      "source": [
        "# 네번째 샘플의 최근접 이웃 클래스 확인 -> Perch 2/3 , Roach 1/3\n",
        "distances, indexes = kn.kneighbors(test_scaled[3:4]) \n",
        "print(train_target[indexes])"
      ],
      "metadata": {
        "colab": {
          "base_uri": "https://localhost:8080/"
        },
        "id": "_V5lYlrdJcgF",
        "outputId": "4f4c6ca9-c9cf-4369-fc8f-5d2d22ba80b1"
      },
      "execution_count": null,
      "outputs": [
        {
          "output_type": "stream",
          "name": "stdout",
          "text": [
            "[['Roach' 'Perch' 'Perch']]\n"
          ]
        }
      ]
    },
    {
      "cell_type": "markdown",
      "source": [
        "### 로지스틱 회귀 : 로지스틱 함수 이용해 확률 표현"
      ],
      "metadata": {
        "id": "yxTVyzWsKtRC"
      }
    },
    {
      "cell_type": "markdown",
      "source": [
        "z = a * 무게 + b * 길이 + c * 대각길이 + d * 높이...  \n",
        "z는 어떤 값도 가능- > 확률 되려면 z 범위가 0 ~1   \n",
        "z가 아주 큰 음수 -> 0 / 큰 양수 -> 1  z = 0 -> 0.5가 되도록"
      ],
      "metadata": {
        "id": "QmG4vErrLlcl"
      }
    },
    {
      "cell_type": "markdown",
      "source": [
        "![image.png](data:image/png;base64,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)"
      ],
      "metadata": {
        "id": "qnjuOiT0MWRz"
      }
    },
    {
      "cell_type": "markdown",
      "source": [
        "* 넘파이를 이용해 시그모이드 함수 그래프 표현 "
      ],
      "metadata": {
        "id": "qMZ59rk7MsE2"
      }
    },
    {
      "cell_type": "code",
      "source": [
        "import numpy as np\n",
        "import matplotlib.pyplot as plt\n",
        "z = np.arange(-5,5, 0.1) # -5 ~ +5, 0.1간격\n",
        "phi = 1/ (1+ np.exp(-z)) # 시그모이드 함수 \n",
        "plt.plot( z, phi) \n",
        "plt.xlabel('z') \n",
        "plt.ylabel('phi')"
      ],
      "metadata": {
        "colab": {
          "base_uri": "https://localhost:8080/",
          "height": 297
        },
        "id": "DE4qO6PCM3Qw",
        "outputId": "67a92e42-298b-447b-fce7-71c6860f9f1c"
      },
      "execution_count": null,
      "outputs": [
        {
          "output_type": "execute_result",
          "data": {
            "text/plain": [
              "Text(0, 0.5, 'phi')"
            ]
          },
          "metadata": {},
          "execution_count": 15
        },
        {
          "output_type": "display_data",
          "data": {
            "image/png": "[encoded data removed]",
            "text/plain": [
              "<Figure size 432x288 with 1 Axes>"
            ]
          },
          "metadata": {
            "needs_background": "light"
          }
        }
      ]
    },
    {
      "cell_type": "markdown",
      "source": [
        "#### 이진분류 수행\n",
        "도미와 빙어 구분 : 1. 도미 or 빙어 -> T / 나머지 - F"
      ],
      "metadata": {
        "id": "SnQ9IT4UNX6E"
      }
    },
    {
      "cell_type": "code",
      "source": [
        "# 도미or 빙어인 데이터만 가져옴\n",
        "bream_smelt_indexes = (train_target == 'Bream') | (train_target =='Smelt')\n",
        "train_bream_smelt = train_scaled[bream_smelt_indexes]\n",
        "target_bream_smelt = train_target[bream_smelt_indexes]"
      ],
      "metadata": {
        "id": "dklnrMU0OfWr"
      },
      "execution_count": null,
      "outputs": []
    },
    {
      "cell_type": "markdown",
      "source": [
        "* 로지스틱 회귀모델 훈련   \n",
        "sklearn.linear_model import LogisticRegression"
      ],
      "metadata": {
        "id": "8mwG0U8IP4GI"
      }
    },
    {
      "cell_type": "code",
      "source": [
        "from sklearn.linear_model import LogisticRegression\n",
        "lr = LogisticRegression()\n",
        "lr.fit(train_bream_smelt, target_bream_smelt)"
      ],
      "metadata": {
        "colab": {
          "base_uri": "https://localhost:8080/"
        },
        "id": "AKDG7iYO4vFZ",
        "outputId": "2f7f5fbb-cb4d-41cd-b75d-bbd3f0438ce6"
      },
      "execution_count": null,
      "outputs": [
        {
          "output_type": "execute_result",
          "data": {
            "text/plain": [
              "LogisticRegression()"
            ]
          },
          "metadata": {},
          "execution_count": 17
        }
      ]
    },
    {
      "cell_type": "code",
      "source": [
        "# train_bream_smelt의 첫 5개 샘플 예측 \n",
        "lr.predict(train_bream_smelt[:5])"
      ],
      "metadata": {
        "colab": {
          "base_uri": "https://localhost:8080/"
        },
        "id": "p4B5p_GG48CV",
        "outputId": "376da93f-4d0c-430d-b288-80f107ac24c1"
      },
      "execution_count": null,
      "outputs": [
        {
          "output_type": "execute_result",
          "data": {
            "text/plain": [
              "array(['Bream', 'Smelt', 'Bream', 'Bream', 'Bream'], dtype=object)"
            ]
          },
          "metadata": {},
          "execution_count": 18
        }
      ]
    },
    {
      "cell_type": "code",
      "source": [
        "# 클래스별 확률 값 \n",
        "lr.predict_proba(train_bream_smelt[:5])"
      ],
      "metadata": {
        "colab": {
          "base_uri": "https://localhost:8080/"
        },
        "id": "1rOQtGVs5G8_",
        "outputId": "ae2344fa-1d90-422f-cbd0-f5a7de47a0d2"
      },
      "execution_count": null,
      "outputs": [
        {
          "output_type": "execute_result",
          "data": {
            "text/plain": [
              "array([[0.99759855, 0.00240145],\n",
              "       [0.02735183, 0.97264817],\n",
              "       [0.99486072, 0.00513928],\n",
              "       [0.98584202, 0.01415798],\n",
              "       [0.99767269, 0.00232731]])"
            ]
          },
          "metadata": {},
          "execution_count": 19
        }
      ]
    },
    {
      "cell_type": "markdown",
      "source": [
        "도미 : 0 (음성 ) / 빙어 : 1 (양성) -> 알파벳순 B  S "
      ],
      "metadata": {
        "id": "1zzeuRTt5mHt"
      }
    },
    {
      "cell_type": "code",
      "source": [
        "lr.classes_"
      ],
      "metadata": {
        "colab": {
          "base_uri": "https://localhost:8080/"
        },
        "id": "hcCVQKxt6Jj2",
        "outputId": "fe861032-7e65-4542-f387-31b46861468c"
      },
      "execution_count": null,
      "outputs": [
        {
          "output_type": "execute_result",
          "data": {
            "text/plain": [
              "array(['Bream', 'Smelt'], dtype=object)"
            ]
          },
          "metadata": {},
          "execution_count": 20
        }
      ]
    },
    {
      "cell_type": "code",
      "source": [
        "# 로지스틱 회귀 학습 계수 확인 \n",
        "lr.coef_ , lr.intercept_"
      ],
      "metadata": {
        "colab": {
          "base_uri": "https://localhost:8080/"
        },
        "id": "APVsfZHk6N_i",
        "outputId": "062584b4-24f3-4ba9-c092-4f59c0bacde7"
      },
      "execution_count": null,
      "outputs": [
        {
          "output_type": "execute_result",
          "data": {
            "text/plain": [
              "(array([[-0.4037798 , -0.57620209, -0.66280298, -1.01290277, -0.73168947]]),\n",
              " array([-2.16155132]))"
            ]
          },
          "metadata": {},
          "execution_count": 21
        }
      ]
    },
    {
      "cell_type": "markdown",
      "source": [
        "로지스틱 회귀 모델이 학습한 방정식   \n",
        "z = -0.4 *'Weight' -0.57 *'Length' -0.66 *'Diagonal' -1.01 *\t'Height' * -0.73 'Width' - 2.16"
      ],
      "metadata": {
        "id": "VREHFd9h6sO-"
      }
    },
    {
      "cell_type": "markdown",
      "source": [
        "* z 값을 계산  : decision_function() 메서드 "
      ],
      "metadata": {
        "id": "s0TqS0dz7L98"
      }
    },
    {
      "cell_type": "code",
      "source": [
        "# 처음 5개 샘플의 z 값 \n",
        "decisions = lr.decision_function(train_bream_smelt[:5])\n",
        "decisions"
      ],
      "metadata": {
        "colab": {
          "base_uri": "https://localhost:8080/"
        },
        "id": "d_WMz46s7by4",
        "outputId": "e48ec418-d2dc-4ed4-d778-c8a552c79caa"
      },
      "execution_count": null,
      "outputs": [
        {
          "output_type": "execute_result",
          "data": {
            "text/plain": [
              "array([-6.02927744,  3.57123907, -5.26568906, -4.24321775, -6.0607117 ])"
            ]
          },
          "metadata": {},
          "execution_count": 22
        }
      ]
    },
    {
      "cell_type": "markdown",
      "source": [
        ": 위 z값들을 로지스틱 함수에 통과시키면 확률 얻음.   \n",
        "scipy의 expit() 함수 사용"
      ],
      "metadata": {
        "id": "cZvXUOPW7kai"
      }
    },
    {
      "cell_type": "code",
      "source": [
        "# z 값을 로지스틱 함수 확률로 변환\n",
        "from scipy.special import expit\n",
        "print(expit(decisions)) # : 양성 클래스 1(빙어)일 확률"
      ],
      "metadata": {
        "colab": {
          "base_uri": "https://localhost:8080/"
        },
        "id": "DKfh_Hin70pW",
        "outputId": "6898ad9b-6267-47b1-970c-805dc0551b90"
      },
      "execution_count": null,
      "outputs": [
        {
          "output_type": "stream",
          "name": "stdout",
          "text": [
            "[0.00240145 0.97264817 0.00513928 0.01415798 0.00232731]\n"
          ]
        }
      ]
    },
    {
      "cell_type": "markdown",
      "source": [
        "#### 로지스틱 회귀로 다중 분류 수행 : 7개의 생선 분류     \n",
        "\n",
        "##### LogisticRegression(C = 규제 정도 (alpha와 같은 기능, but C 작을수록 규제 큼) , max_iter = 반복 알고리즘 횟수 기본값 100)   \n",
        "\n",
        "* 계수의 제곱을 규제 : L2규제( 릿지 회귀, 로지스틱 회귀)"
      ],
      "metadata": {
        "id": "XBw-OaXB8FCG"
      }
    },
    {
      "cell_type": "code",
      "source": [
        "lr = LogisticRegression(C = 20 , max_iter =1000)\n",
        "lr.fit(train_scaled, train_target) # 7개 생선 훈련 셋\n",
        "print('훈련 점수:', lr.score(train_scaled, train_target))\n",
        "print('테스트 점수:', lr.score(test_scaled, test_target))"
      ],
      "metadata": {
        "colab": {
          "base_uri": "https://localhost:8080/"
        },
        "id": "bY7HMdAa8feQ",
        "outputId": "80c3c71f-f3df-479f-ead8-7c883a77d0ac"
      },
      "execution_count": null,
      "outputs": [
        {
          "output_type": "stream",
          "name": "stdout",
          "text": [
            "훈련 점수: 0.9327731092436975\n",
            "테스트 점수: 0.925\n"
          ]
        }
      ]
    },
    {
      "cell_type": "code",
      "source": [
        "# 테스트 세트 5개 샘플에 대한 예측 값 과 각각 예측 확률 \n",
        "print(lr.predict(test_scaled[:5]),'\\n') \n",
        "print(lr.classes_) # 생선 종류들 \n",
        "proba = lr.predict_proba(test_scaled[:5])\n",
        "print(np.round(proba , decimals = 3)) # 소수 3째자리까지 표현 "
      ],
      "metadata": {
        "colab": {
          "base_uri": "https://localhost:8080/"
        },
        "id": "MWKGBR399qjC",
        "outputId": "10ba6043-5d0e-4863-f1ce-bfbc9d9a742b"
      },
      "execution_count": null,
      "outputs": [
        {
          "output_type": "stream",
          "name": "stdout",
          "text": [
            "['Perch' 'Smelt' 'Pike' 'Roach' 'Perch'] \n",
            "\n",
            "['Bream' 'Parkki' 'Perch' 'Pike' 'Roach' 'Smelt' 'Whitefish']\n",
            "[[0.    0.014 0.841 0.    0.136 0.007 0.003]\n",
            " [0.    0.003 0.044 0.    0.007 0.946 0.   ]\n",
            " [0.    0.    0.034 0.935 0.015 0.016 0.   ]\n",
            " [0.011 0.034 0.306 0.007 0.567 0.    0.076]\n",
            " [0.    0.    0.904 0.002 0.089 0.002 0.001]]\n"
          ]
        }
      ]
    },
    {
      "cell_type": "markdown",
      "source": [
        ": 1 - perch ,0.841 / 2- smelt , 0.946 / 3 - pike , 0.935 / 4- Roach , 0.567 / 5- Perch , 0.904"
      ],
      "metadata": {
        "id": "2rgYjiwp93Ek"
      }
    },
    {
      "cell_type": "code",
      "source": [
        "# 다중분류 선형 방정식 모습\n",
        "lr.coef_.shape , lr.intercept_.shape"
      ],
      "metadata": {
        "colab": {
          "base_uri": "https://localhost:8080/"
        },
        "id": "ybfDSbu4_Bw1",
        "outputId": "35dfaa9d-b096-4fd7-d194-4a72410b31ee"
      },
      "execution_count": null,
      "outputs": [
        {
          "output_type": "execute_result",
          "data": {
            "text/plain": [
              "((7, 5), (7,))"
            ]
          },
          "metadata": {},
          "execution_count": 26
        }
      ]
    },
    {
      "cell_type": "markdown",
      "source": [
        ": coef_ 열 5개 = 5개의 특성을 사용 / 행 & intecept_ 7개 : z를 7개 계산 (클래스 개수만큼 방정식 훈련)   \n",
        "다중분류는 클래스마다 z 값을 하나씩 계산 , 가장 높은 z 값 출력 클래스가 예측  클래스   \n",
        "소프트맥스 softmax 함수 이용해 7개 z값을 확률로 변환 sum(z1~z7) -> 0 ~ 1 "
      ],
      "metadata": {
        "id": "SKEn0JfW_PSH"
      }
    },
    {
      "cell_type": "code",
      "source": [
        "# 다중 분류의 z 값들을 구하고 softmax함수 이용해 확률로 변환 \n",
        "# z1 ~ z7 값 구하기 decision_function\n",
        "decision = lr.decision_function(test_scaled[:5])\n",
        "print(np.round(decision, decimals =2)) "
      ],
      "metadata": {
        "colab": {
          "base_uri": "https://localhost:8080/"
        },
        "id": "T6oA938S_4-M",
        "outputId": "7c9fbd4d-749b-43ef-d434-065014c0d84e"
      },
      "execution_count": null,
      "outputs": [
        {
          "output_type": "stream",
          "name": "stdout",
          "text": [
            "[[ -6.5    1.03   5.16  -2.73   3.34   0.33  -0.63]\n",
            " [-10.86   1.93   4.77  -2.4    2.98   7.84  -4.26]\n",
            " [ -4.34  -6.23   3.17   6.49   2.36   2.42  -3.87]\n",
            " [ -0.68   0.45   2.65  -1.19   3.26  -5.75   1.26]\n",
            " [ -6.4   -1.99   5.82  -0.11   3.5   -0.11  -0.71]]\n"
          ]
        }
      ]
    },
    {
      "cell_type": "code",
      "source": [
        "# scipy softmax 함수 이용해 확률로 변환 \n",
        "from scipy.special import softmax\n",
        "proba = softmax(decision , axis = 1) # 각 행(샘플)에 대해 소프트 맥스 게산 \n",
        "print(np.round(proba, decimals =3))"
      ],
      "metadata": {
        "colab": {
          "base_uri": "https://localhost:8080/"
        },
        "id": "PhMI4XM0ApuS",
        "outputId": "75c6f877-9a72-414c-e99d-7d67714452fb"
      },
      "execution_count": null,
      "outputs": [
        {
          "output_type": "stream",
          "name": "stdout",
          "text": [
            "[[0.    0.014 0.841 0.    0.136 0.007 0.003]\n",
            " [0.    0.003 0.044 0.    0.007 0.946 0.   ]\n",
            " [0.    0.    0.034 0.935 0.015 0.016 0.   ]\n",
            " [0.011 0.034 0.306 0.007 0.567 0.    0.076]\n",
            " [0.    0.    0.904 0.002 0.089 0.002 0.001]]\n"
          ]
        }
      ]
    },
    {
      "cell_type": "markdown",
      "source": [
        "## 확률적 경사 하강법 "
      ],
      "metadata": {
        "id": "JM3pRRsxBMKm"
      }
    },
    {
      "cell_type": "markdown",
      "source": [
        ": 새로운 훈련데이터가 추가 됨에 따라 점진적 학습이 필요해짐  "
      ],
      "metadata": {
        "id": "qjAPvX7IXZC9"
      }
    },
    {
      "cell_type": "markdown",
      "source": [
        "* 확률적 경사 하강법을 사용한 분류모델 "
      ],
      "metadata": {
        "id": "G_mFYx0xXDm3"
      }
    },
    {
      "cell_type": "code",
      "source": [
        "# fish 데이터 준비 \n",
        "import pandas as pd \n",
        "fish = pd.read_csv('https://bit.ly/fish_csv')"
      ],
      "metadata": {
        "id": "-sNRNMQRXVyi"
      },
      "execution_count": null,
      "outputs": []
    },
    {
      "cell_type": "code",
      "source": [
        "fish.columns"
      ],
      "metadata": {
        "colab": {
          "base_uri": "https://localhost:8080/"
        },
        "id": "MNUggJO6X1Q7",
        "outputId": "3a3b5c27-bf59-416d-b952-5d7418b6c3d6"
      },
      "execution_count": null,
      "outputs": [
        {
          "output_type": "execute_result",
          "data": {
            "text/plain": [
              "Index(['Species', 'Weight', 'Length', 'Diagonal', 'Height', 'Width'], dtype='object')"
            ]
          },
          "metadata": {},
          "execution_count": 30
        }
      ]
    },
    {
      "cell_type": "code",
      "source": [
        "# 입력데이터와 타겟 데이터 분할 \n",
        "fish_input = fish[[ 'Weight', 'Length', 'Diagonal', 'Height', 'Width']].to_numpy()\n",
        "fish_target = fish['Species'].to_numpy()"
      ],
      "metadata": {
        "id": "9u-Bo76KXuDD"
      },
      "execution_count": null,
      "outputs": []
    },
    {
      "cell_type": "code",
      "source": [
        "# 학습 및 테스트 데이터 분할 \n",
        "from sklearn.model_selection import train_test_split\n",
        "train_input, test_input, train_target, test_target = train_test_split(fish_input, fish_target , random_state= 42)"
      ],
      "metadata": {
        "id": "25mdtuOYYI2b"
      },
      "execution_count": null,
      "outputs": []
    },
    {
      "cell_type": "code",
      "source": [
        "# 특성 스케일 전처리 \n",
        "from sklearn.preprocessing import StandardScaler \n",
        "ss= StandardScaler()\n",
        "# fit\n",
        "ss.fit(train_input)\n",
        "# transform - 훈련 / 테스트 \n",
        "train_scaled = ss.transform(train_input)\n",
        "test_scaled = ss.transform(test_input)"
      ],
      "metadata": {
        "id": "r5HLfgwwZCbP"
      },
      "execution_count": null,
      "outputs": []
    },
    {
      "cell_type": "markdown",
      "source": [
        "* 사이킷런 확률적 경사 하강법 : SGDClassifier 클래스   \n",
        "from sklearn.linear_model import SGDClassifier  \n",
        "SGDClassifier(loss = '손실함수 종류 지정' (log) , max_iter= 수행할 에포크 횟수) ) "
      ],
      "metadata": {
        "id": "Ck7_AfurZLZG"
      }
    },
    {
      "cell_type": "code",
      "source": [
        "from sklearn.linear_model import SGDClassifier"
      ],
      "metadata": {
        "id": "szg5bW9LZunG"
      },
      "execution_count": null,
      "outputs": []
    },
    {
      "cell_type": "code",
      "source": [
        "sc = SGDClassifier(loss ='log', max_iter =10 ,random_state= 42) # 손실함수 로그함수 , 에포크횟수 10회(전체 훈련셋 10회)\n",
        "# 학습\n",
        "sc.fit(train_scaled, train_target)\n",
        "# 점수 \n",
        "print('학습 셋 점수:', sc.score(train_scaled, train_target))\n",
        "print('테스트 셋 점수:', sc.score(test_scaled, test_target))"
      ],
      "metadata": {
        "colab": {
          "base_uri": "https://localhost:8080/"
        },
        "id": "BnmFHtreZz8j",
        "outputId": "8233fb8d-5164-4e4d-ce77-65cfc50a25ff"
      },
      "execution_count": null,
      "outputs": [
        {
          "output_type": "stream",
          "name": "stdout",
          "text": [
            "학습 셋 점수: 0.773109243697479\n",
            "테스트 셋 점수: 0.775\n"
          ]
        },
        {
          "output_type": "stream",
          "name": "stderr",
          "text": [
            "/usr/local/lib/python3.7/dist-packages/sklearn/linear_model/_stochastic_gradient.py:700: ConvergenceWarning: Maximum number of iteration reached before convergence. Consider increasing max_iter to improve the fit.\n",
            "  ConvergenceWarning,\n"
          ]
        }
      ]
    },
    {
      "cell_type": "markdown",
      "source": [
        ": 점수가 모두 낮음 (과소적합), max_iter 횟수가 부족 ConvergenceWarning"
      ],
      "metadata": {
        "id": "rlB3dCVueMcx"
      }
    },
    {
      "cell_type": "markdown",
      "source": [
        "* 점진적 학습 : 추가로 훈련,  \n",
        " partial_fit()- 호출 시마다 1에포크씩 이어서 훈련 \n"
      ],
      "metadata": {
        "id": "P0t7LCPZeLGs"
      }
    },
    {
      "cell_type": "code",
      "source": [
        "sc.partial_fit(train_scaled, train_target)\n",
        "print('학습 셋 점수:', sc.score(train_scaled, train_target))\n",
        "print('테스트 셋 점수:', sc.score(test_scaled, test_target))"
      ],
      "metadata": {
        "colab": {
          "base_uri": "https://localhost:8080/"
        },
        "id": "1gcm2ZskemP5",
        "outputId": "988335cb-93db-4401-f802-379c70d68cfa"
      },
      "execution_count": null,
      "outputs": [
        {
          "output_type": "stream",
          "name": "stdout",
          "text": [
            "학습 셋 점수: 0.8151260504201681\n",
            "테스트 셋 점수: 0.85\n"
          ]
        }
      ]
    },
    {
      "cell_type": "markdown",
      "source": [
        "* 얼마나 에포크를 수행( 적정 에포크 -> 과소 / 과대적합 해결)  \n",
        "partial_fit() 으로만 수행 - 훈련세트에 있는 전체 클래스 레이블을 partial_fit() 메서드에 전달 "
      ],
      "metadata": {
        "id": "XDC2mToaeuvZ"
      }
    },
    {
      "cell_type": "code",
      "source": [
        "import numpy as np \n",
        "sc= SGDClassifier(loss ='log', random_state =42)\n",
        "classes = np.unique(train_target) # 생선 목록 \n",
        "# 훈련 /테스트 세트 점수 기록 \n",
        "train_score = []\n",
        "test_score = []"
      ],
      "metadata": {
        "id": "RnPTCWcje1GW"
      },
      "execution_count": null,
      "outputs": []
    },
    {
      "cell_type": "code",
      "source": [
        "# 300번 에포크 수행 \n",
        "for _ in range(0,300):  # _ 전달할 인자가 필료 없음 그냥 300번 수행 \n",
        "  sc.partial_fit(train_scaled, train_target, classes = classes )\n",
        "  train_score.append(sc.score(train_scaled, train_target))\n",
        "  test_score.append(sc.score(test_scaled, test_target))"
      ],
      "metadata": {
        "id": "ZiXul21aynff"
      },
      "execution_count": null,
      "outputs": []
    },
    {
      "cell_type": "code",
      "source": [
        "# 300 번 에포크 동안 기록한 훈련  /테스트 점수  -> 그래프 \n",
        "import matplotlib.pyplot as plt\n",
        "\n",
        "plt.figure(figsize = (10,5))\n",
        "plt.plot(train_score) # 훈련 세트 점수 변화 \n",
        "plt.plot(test_score)  # 테스트 세트 점수 변화\n",
        "\n",
        "plt.xlabel('epoch')\n",
        "plt.ylabel('accuracy')\n",
        "plt.legend(labels =['train_score', 'test_score'], loc ='best')"
      ],
      "metadata": {
        "colab": {
          "base_uri": "https://localhost:8080/",
          "height": 352
        },
        "id": "pHZCqteNzZmh",
        "outputId": "e10d2b74-4d75-4d0a-aef4-041dfd54b4cb"
      },
      "execution_count": null,
      "outputs": [
        {
          "output_type": "execute_result",
          "data": {
            "text/plain": [
              "<matplotlib.legend.Legend at 0x7fd0b9589fd0>"
            ]
          },
          "metadata": {},
          "execution_count": 45
        },
        {
          "output_type": "display_data",
          "data": {
            "image/png": "[encoded data removed]",
            "text/plain": [
              "<Figure size 720x360 with 1 Axes>"
            ]
          },
          "metadata": {
            "needs_background": "light"
          }
        }
      ]
    },
    {
      "cell_type": "markdown",
      "source": [
        ": 에포크 초기 - 과소적합 , 에포크 100 이상 - 과대적합도 증가 "
      ],
      "metadata": {
        "id": "zdXXl7NW0FbQ"
      }
    },
    {
      "cell_type": "code",
      "source": [
        "# 에포크 100으로 지정하고 모델 훈련 \n",
        "sc = SGDClassifier(loss ='log', max_iter= 100, tol = None, random_state= 42) \n",
        "# tol =  향상될 최소값 , None : 멈추지 않고 max_iter 100만큼 반복 \n",
        "sc.fit(train_scaled, train_target)\n",
        "print('학습 셋 점수:', sc.score(train_scaled, train_target))\n",
        "print('테스트 셋 점수:', sc.score(test_scaled, test_target))\n"
      ],
      "metadata": {
        "colab": {
          "base_uri": "https://localhost:8080/"
        },
        "id": "-GXjIp8J0rvk",
        "outputId": "0d86546f-da40-4f70-fb8d-ac8259c6a939"
      },
      "execution_count": null,
      "outputs": [
        {
          "output_type": "stream",
          "name": "stdout",
          "text": [
            "학습 셋 점수: 0.957983193277311\n",
            "테스트 셋 점수: 0.925\n"
          ]
        }
      ]
    },
    {
      "cell_type": "markdown",
      "source": [
        "* SGDClassifier( loss = 디폴트 값 'hinge')   \n",
        "힌지 손실: 서포트 벡터 머신, 손실함수 "
      ],
      "metadata": {
        "id": "He-Xepj_1QDL"
      }
    },
    {
      "cell_type": "code",
      "source": [
        "# 힌지 손실 함수 적용 \n",
        "sc = SGDClassifier(loss = 'hinge', max_iter =100 , tol  =None , random_state =42 )\n",
        "sc.fit(train_scaled , train_target)\n",
        "print('학습 셋 점수:', sc.score(train_scaled, train_target))\n",
        "print('테스트 셋 점수:', sc.score(test_scaled, test_target))"
      ],
      "metadata": {
        "colab": {
          "base_uri": "https://localhost:8080/"
        },
        "id": "cqNBQKfd1krX",
        "outputId": "761de749-b274-4938-b2ed-136f25c0719b"
      },
      "execution_count": null,
      "outputs": [
        {
          "output_type": "stream",
          "name": "stdout",
          "text": [
            "학습 셋 점수: 0.9495798319327731\n",
            "테스트 셋 점수: 0.925\n"
          ]
        }
      ]
    },
    {
      "cell_type": "code",
      "source": [
        ""
      ],
      "metadata": {
        "id": "lY71Nr9x13MM"
      },
      "execution_count": null,
      "outputs": []
    }
  ]
}